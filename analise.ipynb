{
 "cells": [
  {
   "cell_type": "code",
   "execution_count": 188,
   "metadata": {},
   "outputs": [],
   "source": [
    "import pandas as pd\n",
    "import numpy as np"
   ]
  },
  {
   "cell_type": "code",
   "execution_count": 212,
   "metadata": {},
   "outputs": [],
   "source": [
    "dataframe = pd.read_excel('VALIDAÇÃO_CALIBRES_CAMPO_HISTORICO.xlsx')"
   ]
  },
  {
   "cell_type": "code",
   "execution_count": 213,
   "metadata": {},
   "outputs": [
    {
     "data": {
      "text/html": [
       "<div>\n",
       "<style scoped>\n",
       "    .dataframe tbody tr th:only-of-type {\n",
       "        vertical-align: middle;\n",
       "    }\n",
       "\n",
       "    .dataframe tbody tr th {\n",
       "        vertical-align: top;\n",
       "    }\n",
       "\n",
       "    .dataframe thead th {\n",
       "        text-align: right;\n",
       "    }\n",
       "</style>\n",
       "<table border=\"1\" class=\"dataframe\">\n",
       "  <thead>\n",
       "    <tr style=\"text-align: right;\">\n",
       "      <th></th>\n",
       "      <th>TALHAO_amos</th>\n",
       "      <th>ANO</th>\n",
       "      <th>VARIEDADE_amos</th>\n",
       "      <th>DIFF_CAL_4</th>\n",
       "      <th>DIFF_CAL_5</th>\n",
       "      <th>DIFF_CAL_6</th>\n",
       "      <th>DIFF_CAL_7</th>\n",
       "      <th>DIFF_CAL_8</th>\n",
       "      <th>DIFF_CAL_9</th>\n",
       "      <th>DIFF_CAL_10</th>\n",
       "      <th>...</th>\n",
       "      <th>CALIBRE_10</th>\n",
       "      <th>CALIBRE_11</th>\n",
       "      <th>CALIBRE_12</th>\n",
       "      <th>CALIBRE_13</th>\n",
       "      <th>CALIBRE_14</th>\n",
       "      <th>TOTAL_CALIBRES</th>\n",
       "      <th>TOTAL_CAIXA</th>\n",
       "      <th>MÊS</th>\n",
       "      <th>ano</th>\n",
       "      <th>ordem_control</th>\n",
       "    </tr>\n",
       "  </thead>\n",
       "  <tbody>\n",
       "    <tr>\n",
       "      <th>0</th>\n",
       "      <td>NaN</td>\n",
       "      <td>NaN</td>\n",
       "      <td>KEITT</td>\n",
       "      <td>NaN</td>\n",
       "      <td>NaN</td>\n",
       "      <td>NaN</td>\n",
       "      <td>NaN</td>\n",
       "      <td>NaN</td>\n",
       "      <td>NaN</td>\n",
       "      <td>NaN</td>\n",
       "      <td>...</td>\n",
       "      <td>0.000</td>\n",
       "      <td>0</td>\n",
       "      <td>0.000</td>\n",
       "      <td>0</td>\n",
       "      <td>0.000</td>\n",
       "      <td>1.000</td>\n",
       "      <td>1198.0</td>\n",
       "      <td>4</td>\n",
       "      <td>2017</td>\n",
       "      <td>1</td>\n",
       "    </tr>\n",
       "    <tr>\n",
       "      <th>1</th>\n",
       "      <td>NaN</td>\n",
       "      <td>NaN</td>\n",
       "      <td>KEITT</td>\n",
       "      <td>NaN</td>\n",
       "      <td>NaN</td>\n",
       "      <td>NaN</td>\n",
       "      <td>NaN</td>\n",
       "      <td>NaN</td>\n",
       "      <td>NaN</td>\n",
       "      <td>NaN</td>\n",
       "      <td>...</td>\n",
       "      <td>0.013</td>\n",
       "      <td>0</td>\n",
       "      <td>0.006</td>\n",
       "      <td>0</td>\n",
       "      <td>0.003</td>\n",
       "      <td>1.000</td>\n",
       "      <td>3188.5</td>\n",
       "      <td>4</td>\n",
       "      <td>2017</td>\n",
       "      <td>2</td>\n",
       "    </tr>\n",
       "    <tr>\n",
       "      <th>2</th>\n",
       "      <td>NaN</td>\n",
       "      <td>NaN</td>\n",
       "      <td>KEITT</td>\n",
       "      <td>NaN</td>\n",
       "      <td>NaN</td>\n",
       "      <td>NaN</td>\n",
       "      <td>NaN</td>\n",
       "      <td>NaN</td>\n",
       "      <td>NaN</td>\n",
       "      <td>NaN</td>\n",
       "      <td>...</td>\n",
       "      <td>0.000</td>\n",
       "      <td>0</td>\n",
       "      <td>0.000</td>\n",
       "      <td>0</td>\n",
       "      <td>0.000</td>\n",
       "      <td>1.001</td>\n",
       "      <td>619.5</td>\n",
       "      <td>4</td>\n",
       "      <td>2017</td>\n",
       "      <td>3</td>\n",
       "    </tr>\n",
       "    <tr>\n",
       "      <th>3</th>\n",
       "      <td>NaN</td>\n",
       "      <td>NaN</td>\n",
       "      <td>KEITT</td>\n",
       "      <td>NaN</td>\n",
       "      <td>NaN</td>\n",
       "      <td>NaN</td>\n",
       "      <td>NaN</td>\n",
       "      <td>NaN</td>\n",
       "      <td>NaN</td>\n",
       "      <td>NaN</td>\n",
       "      <td>...</td>\n",
       "      <td>0.047</td>\n",
       "      <td>0</td>\n",
       "      <td>0.020</td>\n",
       "      <td>0</td>\n",
       "      <td>0.003</td>\n",
       "      <td>0.999</td>\n",
       "      <td>2481.5</td>\n",
       "      <td>4</td>\n",
       "      <td>2017</td>\n",
       "      <td>4</td>\n",
       "    </tr>\n",
       "    <tr>\n",
       "      <th>4</th>\n",
       "      <td>NaN</td>\n",
       "      <td>NaN</td>\n",
       "      <td>KEITT</td>\n",
       "      <td>NaN</td>\n",
       "      <td>NaN</td>\n",
       "      <td>NaN</td>\n",
       "      <td>NaN</td>\n",
       "      <td>NaN</td>\n",
       "      <td>NaN</td>\n",
       "      <td>NaN</td>\n",
       "      <td>...</td>\n",
       "      <td>0.072</td>\n",
       "      <td>0</td>\n",
       "      <td>0.082</td>\n",
       "      <td>0</td>\n",
       "      <td>0.020</td>\n",
       "      <td>0.993</td>\n",
       "      <td>7488.0</td>\n",
       "      <td>4</td>\n",
       "      <td>2017</td>\n",
       "      <td>5</td>\n",
       "    </tr>\n",
       "    <tr>\n",
       "      <th>...</th>\n",
       "      <td>...</td>\n",
       "      <td>...</td>\n",
       "      <td>...</td>\n",
       "      <td>...</td>\n",
       "      <td>...</td>\n",
       "      <td>...</td>\n",
       "      <td>...</td>\n",
       "      <td>...</td>\n",
       "      <td>...</td>\n",
       "      <td>...</td>\n",
       "      <td>...</td>\n",
       "      <td>...</td>\n",
       "      <td>...</td>\n",
       "      <td>...</td>\n",
       "      <td>...</td>\n",
       "      <td>...</td>\n",
       "      <td>...</td>\n",
       "      <td>...</td>\n",
       "      <td>...</td>\n",
       "      <td>...</td>\n",
       "      <td>...</td>\n",
       "    </tr>\n",
       "    <tr>\n",
       "      <th>11877</th>\n",
       "      <td>FI-018</td>\n",
       "      <td>2022.0</td>\n",
       "      <td>TOMMY</td>\n",
       "      <td>0.0</td>\n",
       "      <td>0.0</td>\n",
       "      <td>0.046381</td>\n",
       "      <td>0.117072</td>\n",
       "      <td>0.088433</td>\n",
       "      <td>0.10266</td>\n",
       "      <td>0.188371</td>\n",
       "      <td>...</td>\n",
       "      <td>0.224</td>\n",
       "      <td>0</td>\n",
       "      <td>0.098</td>\n",
       "      <td>0</td>\n",
       "      <td>0.002</td>\n",
       "      <td>0.999</td>\n",
       "      <td>4063.0</td>\n",
       "      <td>6</td>\n",
       "      <td>2022</td>\n",
       "      <td>13</td>\n",
       "    </tr>\n",
       "    <tr>\n",
       "      <th>11878</th>\n",
       "      <td>FI-018</td>\n",
       "      <td>2022.0</td>\n",
       "      <td>TOMMY</td>\n",
       "      <td>0.0</td>\n",
       "      <td>0.0</td>\n",
       "      <td>0.052381</td>\n",
       "      <td>0.122072</td>\n",
       "      <td>0.104433</td>\n",
       "      <td>0.14566</td>\n",
       "      <td>0.190371</td>\n",
       "      <td>...</td>\n",
       "      <td>0.222</td>\n",
       "      <td>0</td>\n",
       "      <td>0.116</td>\n",
       "      <td>0</td>\n",
       "      <td>0.003</td>\n",
       "      <td>1.000</td>\n",
       "      <td>4299.0</td>\n",
       "      <td>6</td>\n",
       "      <td>2022</td>\n",
       "      <td>14</td>\n",
       "    </tr>\n",
       "    <tr>\n",
       "      <th>11879</th>\n",
       "      <td>NaN</td>\n",
       "      <td>NaN</td>\n",
       "      <td>TOMMY</td>\n",
       "      <td>NaN</td>\n",
       "      <td>NaN</td>\n",
       "      <td>NaN</td>\n",
       "      <td>NaN</td>\n",
       "      <td>NaN</td>\n",
       "      <td>NaN</td>\n",
       "      <td>NaN</td>\n",
       "      <td>...</td>\n",
       "      <td>0.239</td>\n",
       "      <td>0</td>\n",
       "      <td>0.065</td>\n",
       "      <td>0</td>\n",
       "      <td>0.000</td>\n",
       "      <td>0.999</td>\n",
       "      <td>2092.0</td>\n",
       "      <td>7</td>\n",
       "      <td>2022</td>\n",
       "      <td>1</td>\n",
       "    </tr>\n",
       "    <tr>\n",
       "      <th>11880</th>\n",
       "      <td>NaN</td>\n",
       "      <td>NaN</td>\n",
       "      <td>TOMMY</td>\n",
       "      <td>NaN</td>\n",
       "      <td>NaN</td>\n",
       "      <td>NaN</td>\n",
       "      <td>NaN</td>\n",
       "      <td>NaN</td>\n",
       "      <td>NaN</td>\n",
       "      <td>NaN</td>\n",
       "      <td>...</td>\n",
       "      <td>0.266</td>\n",
       "      <td>0</td>\n",
       "      <td>0.073</td>\n",
       "      <td>0</td>\n",
       "      <td>0.001</td>\n",
       "      <td>0.999</td>\n",
       "      <td>3618.0</td>\n",
       "      <td>7</td>\n",
       "      <td>2022</td>\n",
       "      <td>2</td>\n",
       "    </tr>\n",
       "    <tr>\n",
       "      <th>11881</th>\n",
       "      <td>NaN</td>\n",
       "      <td>NaN</td>\n",
       "      <td>TOMMY</td>\n",
       "      <td>NaN</td>\n",
       "      <td>NaN</td>\n",
       "      <td>NaN</td>\n",
       "      <td>NaN</td>\n",
       "      <td>NaN</td>\n",
       "      <td>NaN</td>\n",
       "      <td>NaN</td>\n",
       "      <td>...</td>\n",
       "      <td>0.255</td>\n",
       "      <td>0</td>\n",
       "      <td>0.092</td>\n",
       "      <td>0</td>\n",
       "      <td>0.001</td>\n",
       "      <td>1.001</td>\n",
       "      <td>1839.0</td>\n",
       "      <td>7</td>\n",
       "      <td>2022</td>\n",
       "      <td>3</td>\n",
       "    </tr>\n",
       "  </tbody>\n",
       "</table>\n",
       "<p>11882 rows × 33 columns</p>\n",
       "</div>"
      ],
      "text/plain": [
       "      TALHAO_amos     ANO VARIEDADE_amos  DIFF_CAL_4  DIFF_CAL_5  DIFF_CAL_6  \\\n",
       "0             NaN     NaN          KEITT         NaN         NaN         NaN   \n",
       "1             NaN     NaN          KEITT         NaN         NaN         NaN   \n",
       "2             NaN     NaN          KEITT         NaN         NaN         NaN   \n",
       "3             NaN     NaN          KEITT         NaN         NaN         NaN   \n",
       "4             NaN     NaN          KEITT         NaN         NaN         NaN   \n",
       "...           ...     ...            ...         ...         ...         ...   \n",
       "11877      FI-018  2022.0          TOMMY         0.0         0.0    0.046381   \n",
       "11878      FI-018  2022.0          TOMMY         0.0         0.0    0.052381   \n",
       "11879         NaN     NaN          TOMMY         NaN         NaN         NaN   \n",
       "11880         NaN     NaN          TOMMY         NaN         NaN         NaN   \n",
       "11881         NaN     NaN          TOMMY         NaN         NaN         NaN   \n",
       "\n",
       "       DIFF_CAL_7  DIFF_CAL_8  DIFF_CAL_9  DIFF_CAL_10  ...  CALIBRE_10  \\\n",
       "0             NaN         NaN         NaN          NaN  ...       0.000   \n",
       "1             NaN         NaN         NaN          NaN  ...       0.013   \n",
       "2             NaN         NaN         NaN          NaN  ...       0.000   \n",
       "3             NaN         NaN         NaN          NaN  ...       0.047   \n",
       "4             NaN         NaN         NaN          NaN  ...       0.072   \n",
       "...           ...         ...         ...          ...  ...         ...   \n",
       "11877    0.117072    0.088433     0.10266     0.188371  ...       0.224   \n",
       "11878    0.122072    0.104433     0.14566     0.190371  ...       0.222   \n",
       "11879         NaN         NaN         NaN          NaN  ...       0.239   \n",
       "11880         NaN         NaN         NaN          NaN  ...       0.266   \n",
       "11881         NaN         NaN         NaN          NaN  ...       0.255   \n",
       "\n",
       "       CALIBRE_11 CALIBRE_12 CALIBRE_13 CALIBRE_14  TOTAL_CALIBRES  \\\n",
       "0               0      0.000          0      0.000           1.000   \n",
       "1               0      0.006          0      0.003           1.000   \n",
       "2               0      0.000          0      0.000           1.001   \n",
       "3               0      0.020          0      0.003           0.999   \n",
       "4               0      0.082          0      0.020           0.993   \n",
       "...           ...        ...        ...        ...             ...   \n",
       "11877           0      0.098          0      0.002           0.999   \n",
       "11878           0      0.116          0      0.003           1.000   \n",
       "11879           0      0.065          0      0.000           0.999   \n",
       "11880           0      0.073          0      0.001           0.999   \n",
       "11881           0      0.092          0      0.001           1.001   \n",
       "\n",
       "      TOTAL_CAIXA  MÊS   ano  ordem_control  \n",
       "0          1198.0    4  2017              1  \n",
       "1          3188.5    4  2017              2  \n",
       "2           619.5    4  2017              3  \n",
       "3          2481.5    4  2017              4  \n",
       "4          7488.0    4  2017              5  \n",
       "...           ...  ...   ...            ...  \n",
       "11877      4063.0    6  2022             13  \n",
       "11878      4299.0    6  2022             14  \n",
       "11879      2092.0    7  2022              1  \n",
       "11880      3618.0    7  2022              2  \n",
       "11881      1839.0    7  2022              3  \n",
       "\n",
       "[11882 rows x 33 columns]"
      ]
     },
     "execution_count": 213,
     "metadata": {},
     "output_type": "execute_result"
    }
   ],
   "source": [
    "dataframe"
   ]
  },
  {
   "cell_type": "code",
   "execution_count": 214,
   "metadata": {},
   "outputs": [
    {
     "data": {
      "text/html": [
       "<div>\n",
       "<style scoped>\n",
       "    .dataframe tbody tr th:only-of-type {\n",
       "        vertical-align: middle;\n",
       "    }\n",
       "\n",
       "    .dataframe tbody tr th {\n",
       "        vertical-align: top;\n",
       "    }\n",
       "\n",
       "    .dataframe thead th {\n",
       "        text-align: right;\n",
       "    }\n",
       "</style>\n",
       "<table border=\"1\" class=\"dataframe\">\n",
       "  <thead>\n",
       "    <tr style=\"text-align: right;\">\n",
       "      <th></th>\n",
       "      <th>TALHAO_amos</th>\n",
       "      <th>ANO</th>\n",
       "      <th>VARIEDADE_amos</th>\n",
       "      <th>DIFF_CAL_4</th>\n",
       "      <th>DIFF_CAL_5</th>\n",
       "      <th>DIFF_CAL_6</th>\n",
       "      <th>DIFF_CAL_7</th>\n",
       "      <th>DIFF_CAL_8</th>\n",
       "      <th>DIFF_CAL_9</th>\n",
       "      <th>DIFF_CAL_10</th>\n",
       "      <th>...</th>\n",
       "      <th>CALIBRE_11</th>\n",
       "      <th>CALIBRE_12</th>\n",
       "      <th>CALIBRE_13</th>\n",
       "      <th>CALIBRE_14</th>\n",
       "      <th>TOTAL_CALIBRES</th>\n",
       "      <th>TOTAL_CAIXA</th>\n",
       "      <th>MÊS</th>\n",
       "      <th>ano</th>\n",
       "      <th>ordem_control</th>\n",
       "      <th>ANO_2</th>\n",
       "    </tr>\n",
       "  </thead>\n",
       "  <tbody>\n",
       "    <tr>\n",
       "      <th>0</th>\n",
       "      <td>NaN</td>\n",
       "      <td>NaN</td>\n",
       "      <td>KEITT</td>\n",
       "      <td>NaN</td>\n",
       "      <td>NaN</td>\n",
       "      <td>NaN</td>\n",
       "      <td>NaN</td>\n",
       "      <td>NaN</td>\n",
       "      <td>NaN</td>\n",
       "      <td>NaN</td>\n",
       "      <td>...</td>\n",
       "      <td>0</td>\n",
       "      <td>0.000</td>\n",
       "      <td>0</td>\n",
       "      <td>0.000</td>\n",
       "      <td>1.000</td>\n",
       "      <td>1198.0</td>\n",
       "      <td>4</td>\n",
       "      <td>2017</td>\n",
       "      <td>1</td>\n",
       "      <td>2017</td>\n",
       "    </tr>\n",
       "    <tr>\n",
       "      <th>1</th>\n",
       "      <td>NaN</td>\n",
       "      <td>NaN</td>\n",
       "      <td>KEITT</td>\n",
       "      <td>NaN</td>\n",
       "      <td>NaN</td>\n",
       "      <td>NaN</td>\n",
       "      <td>NaN</td>\n",
       "      <td>NaN</td>\n",
       "      <td>NaN</td>\n",
       "      <td>NaN</td>\n",
       "      <td>...</td>\n",
       "      <td>0</td>\n",
       "      <td>0.006</td>\n",
       "      <td>0</td>\n",
       "      <td>0.003</td>\n",
       "      <td>1.000</td>\n",
       "      <td>3188.5</td>\n",
       "      <td>4</td>\n",
       "      <td>2017</td>\n",
       "      <td>2</td>\n",
       "      <td>2017</td>\n",
       "    </tr>\n",
       "    <tr>\n",
       "      <th>2</th>\n",
       "      <td>NaN</td>\n",
       "      <td>NaN</td>\n",
       "      <td>KEITT</td>\n",
       "      <td>NaN</td>\n",
       "      <td>NaN</td>\n",
       "      <td>NaN</td>\n",
       "      <td>NaN</td>\n",
       "      <td>NaN</td>\n",
       "      <td>NaN</td>\n",
       "      <td>NaN</td>\n",
       "      <td>...</td>\n",
       "      <td>0</td>\n",
       "      <td>0.000</td>\n",
       "      <td>0</td>\n",
       "      <td>0.000</td>\n",
       "      <td>1.001</td>\n",
       "      <td>619.5</td>\n",
       "      <td>4</td>\n",
       "      <td>2017</td>\n",
       "      <td>3</td>\n",
       "      <td>2017</td>\n",
       "    </tr>\n",
       "    <tr>\n",
       "      <th>3</th>\n",
       "      <td>NaN</td>\n",
       "      <td>NaN</td>\n",
       "      <td>KEITT</td>\n",
       "      <td>NaN</td>\n",
       "      <td>NaN</td>\n",
       "      <td>NaN</td>\n",
       "      <td>NaN</td>\n",
       "      <td>NaN</td>\n",
       "      <td>NaN</td>\n",
       "      <td>NaN</td>\n",
       "      <td>...</td>\n",
       "      <td>0</td>\n",
       "      <td>0.020</td>\n",
       "      <td>0</td>\n",
       "      <td>0.003</td>\n",
       "      <td>0.999</td>\n",
       "      <td>2481.5</td>\n",
       "      <td>4</td>\n",
       "      <td>2017</td>\n",
       "      <td>4</td>\n",
       "      <td>2017</td>\n",
       "    </tr>\n",
       "    <tr>\n",
       "      <th>4</th>\n",
       "      <td>NaN</td>\n",
       "      <td>NaN</td>\n",
       "      <td>KEITT</td>\n",
       "      <td>NaN</td>\n",
       "      <td>NaN</td>\n",
       "      <td>NaN</td>\n",
       "      <td>NaN</td>\n",
       "      <td>NaN</td>\n",
       "      <td>NaN</td>\n",
       "      <td>NaN</td>\n",
       "      <td>...</td>\n",
       "      <td>0</td>\n",
       "      <td>0.082</td>\n",
       "      <td>0</td>\n",
       "      <td>0.020</td>\n",
       "      <td>0.993</td>\n",
       "      <td>7488.0</td>\n",
       "      <td>4</td>\n",
       "      <td>2017</td>\n",
       "      <td>5</td>\n",
       "      <td>2017</td>\n",
       "    </tr>\n",
       "    <tr>\n",
       "      <th>...</th>\n",
       "      <td>...</td>\n",
       "      <td>...</td>\n",
       "      <td>...</td>\n",
       "      <td>...</td>\n",
       "      <td>...</td>\n",
       "      <td>...</td>\n",
       "      <td>...</td>\n",
       "      <td>...</td>\n",
       "      <td>...</td>\n",
       "      <td>...</td>\n",
       "      <td>...</td>\n",
       "      <td>...</td>\n",
       "      <td>...</td>\n",
       "      <td>...</td>\n",
       "      <td>...</td>\n",
       "      <td>...</td>\n",
       "      <td>...</td>\n",
       "      <td>...</td>\n",
       "      <td>...</td>\n",
       "      <td>...</td>\n",
       "      <td>...</td>\n",
       "    </tr>\n",
       "    <tr>\n",
       "      <th>11877</th>\n",
       "      <td>FI-018</td>\n",
       "      <td>2022.0</td>\n",
       "      <td>TOMMY</td>\n",
       "      <td>0.0</td>\n",
       "      <td>0.0</td>\n",
       "      <td>0.046381</td>\n",
       "      <td>0.117072</td>\n",
       "      <td>0.088433</td>\n",
       "      <td>0.10266</td>\n",
       "      <td>0.188371</td>\n",
       "      <td>...</td>\n",
       "      <td>0</td>\n",
       "      <td>0.098</td>\n",
       "      <td>0</td>\n",
       "      <td>0.002</td>\n",
       "      <td>0.999</td>\n",
       "      <td>4063.0</td>\n",
       "      <td>6</td>\n",
       "      <td>2022</td>\n",
       "      <td>13</td>\n",
       "      <td>2022</td>\n",
       "    </tr>\n",
       "    <tr>\n",
       "      <th>11878</th>\n",
       "      <td>FI-018</td>\n",
       "      <td>2022.0</td>\n",
       "      <td>TOMMY</td>\n",
       "      <td>0.0</td>\n",
       "      <td>0.0</td>\n",
       "      <td>0.052381</td>\n",
       "      <td>0.122072</td>\n",
       "      <td>0.104433</td>\n",
       "      <td>0.14566</td>\n",
       "      <td>0.190371</td>\n",
       "      <td>...</td>\n",
       "      <td>0</td>\n",
       "      <td>0.116</td>\n",
       "      <td>0</td>\n",
       "      <td>0.003</td>\n",
       "      <td>1.000</td>\n",
       "      <td>4299.0</td>\n",
       "      <td>6</td>\n",
       "      <td>2022</td>\n",
       "      <td>14</td>\n",
       "      <td>2022</td>\n",
       "    </tr>\n",
       "    <tr>\n",
       "      <th>11879</th>\n",
       "      <td>NaN</td>\n",
       "      <td>NaN</td>\n",
       "      <td>TOMMY</td>\n",
       "      <td>NaN</td>\n",
       "      <td>NaN</td>\n",
       "      <td>NaN</td>\n",
       "      <td>NaN</td>\n",
       "      <td>NaN</td>\n",
       "      <td>NaN</td>\n",
       "      <td>NaN</td>\n",
       "      <td>...</td>\n",
       "      <td>0</td>\n",
       "      <td>0.065</td>\n",
       "      <td>0</td>\n",
       "      <td>0.000</td>\n",
       "      <td>0.999</td>\n",
       "      <td>2092.0</td>\n",
       "      <td>7</td>\n",
       "      <td>2022</td>\n",
       "      <td>1</td>\n",
       "      <td>2022</td>\n",
       "    </tr>\n",
       "    <tr>\n",
       "      <th>11880</th>\n",
       "      <td>NaN</td>\n",
       "      <td>NaN</td>\n",
       "      <td>TOMMY</td>\n",
       "      <td>NaN</td>\n",
       "      <td>NaN</td>\n",
       "      <td>NaN</td>\n",
       "      <td>NaN</td>\n",
       "      <td>NaN</td>\n",
       "      <td>NaN</td>\n",
       "      <td>NaN</td>\n",
       "      <td>...</td>\n",
       "      <td>0</td>\n",
       "      <td>0.073</td>\n",
       "      <td>0</td>\n",
       "      <td>0.001</td>\n",
       "      <td>0.999</td>\n",
       "      <td>3618.0</td>\n",
       "      <td>7</td>\n",
       "      <td>2022</td>\n",
       "      <td>2</td>\n",
       "      <td>2022</td>\n",
       "    </tr>\n",
       "    <tr>\n",
       "      <th>11881</th>\n",
       "      <td>NaN</td>\n",
       "      <td>NaN</td>\n",
       "      <td>TOMMY</td>\n",
       "      <td>NaN</td>\n",
       "      <td>NaN</td>\n",
       "      <td>NaN</td>\n",
       "      <td>NaN</td>\n",
       "      <td>NaN</td>\n",
       "      <td>NaN</td>\n",
       "      <td>NaN</td>\n",
       "      <td>...</td>\n",
       "      <td>0</td>\n",
       "      <td>0.092</td>\n",
       "      <td>0</td>\n",
       "      <td>0.001</td>\n",
       "      <td>1.001</td>\n",
       "      <td>1839.0</td>\n",
       "      <td>7</td>\n",
       "      <td>2022</td>\n",
       "      <td>3</td>\n",
       "      <td>2022</td>\n",
       "    </tr>\n",
       "  </tbody>\n",
       "</table>\n",
       "<p>11882 rows × 34 columns</p>\n",
       "</div>"
      ],
      "text/plain": [
       "      TALHAO_amos     ANO VARIEDADE_amos  DIFF_CAL_4  DIFF_CAL_5  DIFF_CAL_6  \\\n",
       "0             NaN     NaN          KEITT         NaN         NaN         NaN   \n",
       "1             NaN     NaN          KEITT         NaN         NaN         NaN   \n",
       "2             NaN     NaN          KEITT         NaN         NaN         NaN   \n",
       "3             NaN     NaN          KEITT         NaN         NaN         NaN   \n",
       "4             NaN     NaN          KEITT         NaN         NaN         NaN   \n",
       "...           ...     ...            ...         ...         ...         ...   \n",
       "11877      FI-018  2022.0          TOMMY         0.0         0.0    0.046381   \n",
       "11878      FI-018  2022.0          TOMMY         0.0         0.0    0.052381   \n",
       "11879         NaN     NaN          TOMMY         NaN         NaN         NaN   \n",
       "11880         NaN     NaN          TOMMY         NaN         NaN         NaN   \n",
       "11881         NaN     NaN          TOMMY         NaN         NaN         NaN   \n",
       "\n",
       "       DIFF_CAL_7  DIFF_CAL_8  DIFF_CAL_9  DIFF_CAL_10  ...  CALIBRE_11  \\\n",
       "0             NaN         NaN         NaN          NaN  ...           0   \n",
       "1             NaN         NaN         NaN          NaN  ...           0   \n",
       "2             NaN         NaN         NaN          NaN  ...           0   \n",
       "3             NaN         NaN         NaN          NaN  ...           0   \n",
       "4             NaN         NaN         NaN          NaN  ...           0   \n",
       "...           ...         ...         ...          ...  ...         ...   \n",
       "11877    0.117072    0.088433     0.10266     0.188371  ...           0   \n",
       "11878    0.122072    0.104433     0.14566     0.190371  ...           0   \n",
       "11879         NaN         NaN         NaN          NaN  ...           0   \n",
       "11880         NaN         NaN         NaN          NaN  ...           0   \n",
       "11881         NaN         NaN         NaN          NaN  ...           0   \n",
       "\n",
       "       CALIBRE_12 CALIBRE_13 CALIBRE_14 TOTAL_CALIBRES  TOTAL_CAIXA MÊS   ano  \\\n",
       "0           0.000          0      0.000          1.000       1198.0   4  2017   \n",
       "1           0.006          0      0.003          1.000       3188.5   4  2017   \n",
       "2           0.000          0      0.000          1.001        619.5   4  2017   \n",
       "3           0.020          0      0.003          0.999       2481.5   4  2017   \n",
       "4           0.082          0      0.020          0.993       7488.0   4  2017   \n",
       "...           ...        ...        ...            ...          ...  ..   ...   \n",
       "11877       0.098          0      0.002          0.999       4063.0   6  2022   \n",
       "11878       0.116          0      0.003          1.000       4299.0   6  2022   \n",
       "11879       0.065          0      0.000          0.999       2092.0   7  2022   \n",
       "11880       0.073          0      0.001          0.999       3618.0   7  2022   \n",
       "11881       0.092          0      0.001          1.001       1839.0   7  2022   \n",
       "\n",
       "       ordem_control  ANO_2  \n",
       "0                  1   2017  \n",
       "1                  2   2017  \n",
       "2                  3   2017  \n",
       "3                  4   2017  \n",
       "4                  5   2017  \n",
       "...              ...    ...  \n",
       "11877             13   2022  \n",
       "11878             14   2022  \n",
       "11879              1   2022  \n",
       "11880              2   2022  \n",
       "11881              3   2022  \n",
       "\n",
       "[11882 rows x 34 columns]"
      ]
     },
     "execution_count": 214,
     "metadata": {},
     "output_type": "execute_result"
    }
   ],
   "source": [
    "dataframe['ANO_2'] = dataframe['DATA_EMBALAGEM'].str.split('-').str[0]\n",
    "dataframe"
   ]
  },
  {
   "cell_type": "code",
   "execution_count": 215,
   "metadata": {},
   "outputs": [],
   "source": [
    "### para acuracia eu crio uma coluna dizendo se é erro ou nao, ou seja, se  diferneça for X é erro se nao, nao é e ai vai\n",
    "### e com isso crio a questão das analises de sensibilidades"
   ]
  },
  {
   "cell_type": "code",
   "execution_count": 216,
   "metadata": {},
   "outputs": [],
   "source": [
    "filtro_ano = dataframe['ANO_2'] == '2022'\n",
    "dataframe_2 = dataframe[filtro_ano]"
   ]
  },
  {
   "cell_type": "code",
   "execution_count": 217,
   "metadata": {},
   "outputs": [],
   "source": [
    "filtro_mes = dataframe_2['MÊS'] != 5\n",
    "dataframe_3 = dataframe_2[filtro_mes]\n",
    "\n",
    "filtro_mes2 = dataframe_3['MÊS'] != 4\n",
    "dataframe_4 = dataframe_3[filtro_mes2]\n",
    "\n",
    "filtro_mes2 = dataframe_4['MÊS'] != 3\n",
    "dataframe_4 = dataframe_4[filtro_mes2]\n",
    "\n",
    "filtro_mes2 = dataframe_4['MÊS'] != 2\n",
    "dataframe_4 = dataframe_4[filtro_mes2]\n",
    "\n",
    "filtro_mes2 = dataframe_4['MÊS'] != 1\n",
    "dataframe_4 = dataframe_4[filtro_mes2]"
   ]
  },
  {
   "cell_type": "code",
   "execution_count": 218,
   "metadata": {},
   "outputs": [
    {
     "data": {
      "text/plain": [
       "6    199\n",
       "7     56\n",
       "Name: MÊS, dtype: int64"
      ]
     },
     "execution_count": 218,
     "metadata": {},
     "output_type": "execute_result"
    }
   ],
   "source": [
    "dataframe_4['MÊS'].value_counts()"
   ]
  },
  {
   "cell_type": "code",
   "execution_count": 219,
   "metadata": {},
   "outputs": [
    {
     "data": {
      "text/html": [
       "<div>\n",
       "<style scoped>\n",
       "    .dataframe tbody tr th:only-of-type {\n",
       "        vertical-align: middle;\n",
       "    }\n",
       "\n",
       "    .dataframe tbody tr th {\n",
       "        vertical-align: top;\n",
       "    }\n",
       "\n",
       "    .dataframe thead th {\n",
       "        text-align: right;\n",
       "    }\n",
       "</style>\n",
       "<table border=\"1\" class=\"dataframe\">\n",
       "  <thead>\n",
       "    <tr style=\"text-align: right;\">\n",
       "      <th></th>\n",
       "      <th>TALHAO_amos</th>\n",
       "      <th>ANO</th>\n",
       "      <th>VARIEDADE_amos</th>\n",
       "      <th>DIFF_CAL_4</th>\n",
       "      <th>DIFF_CAL_5</th>\n",
       "      <th>DIFF_CAL_6</th>\n",
       "      <th>DIFF_CAL_7</th>\n",
       "      <th>DIFF_CAL_8</th>\n",
       "      <th>DIFF_CAL_9</th>\n",
       "      <th>DIFF_CAL_10</th>\n",
       "      <th>...</th>\n",
       "      <th>CALIBRE_11</th>\n",
       "      <th>CALIBRE_12</th>\n",
       "      <th>CALIBRE_13</th>\n",
       "      <th>CALIBRE_14</th>\n",
       "      <th>TOTAL_CALIBRES</th>\n",
       "      <th>TOTAL_CAIXA</th>\n",
       "      <th>MÊS</th>\n",
       "      <th>ano</th>\n",
       "      <th>ordem_control</th>\n",
       "      <th>ANO_2</th>\n",
       "    </tr>\n",
       "  </thead>\n",
       "  <tbody>\n",
       "    <tr>\n",
       "      <th>11144</th>\n",
       "      <td>NaN</td>\n",
       "      <td>NaN</td>\n",
       "      <td>KEITT</td>\n",
       "      <td>NaN</td>\n",
       "      <td>NaN</td>\n",
       "      <td>NaN</td>\n",
       "      <td>NaN</td>\n",
       "      <td>NaN</td>\n",
       "      <td>NaN</td>\n",
       "      <td>NaN</td>\n",
       "      <td>...</td>\n",
       "      <td>0</td>\n",
       "      <td>0.120</td>\n",
       "      <td>0</td>\n",
       "      <td>0.006</td>\n",
       "      <td>1.000</td>\n",
       "      <td>6486.5</td>\n",
       "      <td>6</td>\n",
       "      <td>2022</td>\n",
       "      <td>5</td>\n",
       "      <td>2022</td>\n",
       "    </tr>\n",
       "    <tr>\n",
       "      <th>11145</th>\n",
       "      <td>NaN</td>\n",
       "      <td>NaN</td>\n",
       "      <td>KEITT</td>\n",
       "      <td>NaN</td>\n",
       "      <td>NaN</td>\n",
       "      <td>NaN</td>\n",
       "      <td>NaN</td>\n",
       "      <td>NaN</td>\n",
       "      <td>NaN</td>\n",
       "      <td>NaN</td>\n",
       "      <td>...</td>\n",
       "      <td>0</td>\n",
       "      <td>0.116</td>\n",
       "      <td>0</td>\n",
       "      <td>0.000</td>\n",
       "      <td>0.999</td>\n",
       "      <td>5466.0</td>\n",
       "      <td>6</td>\n",
       "      <td>2022</td>\n",
       "      <td>6</td>\n",
       "      <td>2022</td>\n",
       "    </tr>\n",
       "    <tr>\n",
       "      <th>11146</th>\n",
       "      <td>NaN</td>\n",
       "      <td>NaN</td>\n",
       "      <td>KEITT</td>\n",
       "      <td>NaN</td>\n",
       "      <td>NaN</td>\n",
       "      <td>NaN</td>\n",
       "      <td>NaN</td>\n",
       "      <td>NaN</td>\n",
       "      <td>NaN</td>\n",
       "      <td>NaN</td>\n",
       "      <td>...</td>\n",
       "      <td>0</td>\n",
       "      <td>0.103</td>\n",
       "      <td>0</td>\n",
       "      <td>0.025</td>\n",
       "      <td>0.999</td>\n",
       "      <td>1210.0</td>\n",
       "      <td>6</td>\n",
       "      <td>2022</td>\n",
       "      <td>7</td>\n",
       "      <td>2022</td>\n",
       "    </tr>\n",
       "    <tr>\n",
       "      <th>11147</th>\n",
       "      <td>NaN</td>\n",
       "      <td>NaN</td>\n",
       "      <td>KEITT</td>\n",
       "      <td>NaN</td>\n",
       "      <td>NaN</td>\n",
       "      <td>NaN</td>\n",
       "      <td>NaN</td>\n",
       "      <td>NaN</td>\n",
       "      <td>NaN</td>\n",
       "      <td>NaN</td>\n",
       "      <td>...</td>\n",
       "      <td>0</td>\n",
       "      <td>0.139</td>\n",
       "      <td>0</td>\n",
       "      <td>0.006</td>\n",
       "      <td>1.000</td>\n",
       "      <td>2922.0</td>\n",
       "      <td>6</td>\n",
       "      <td>2022</td>\n",
       "      <td>8</td>\n",
       "      <td>2022</td>\n",
       "    </tr>\n",
       "    <tr>\n",
       "      <th>11185</th>\n",
       "      <td>NaN</td>\n",
       "      <td>NaN</td>\n",
       "      <td>KEITT</td>\n",
       "      <td>NaN</td>\n",
       "      <td>NaN</td>\n",
       "      <td>NaN</td>\n",
       "      <td>NaN</td>\n",
       "      <td>NaN</td>\n",
       "      <td>NaN</td>\n",
       "      <td>NaN</td>\n",
       "      <td>...</td>\n",
       "      <td>0</td>\n",
       "      <td>0.005</td>\n",
       "      <td>0</td>\n",
       "      <td>0.000</td>\n",
       "      <td>1.001</td>\n",
       "      <td>2320.0</td>\n",
       "      <td>6</td>\n",
       "      <td>2022</td>\n",
       "      <td>1</td>\n",
       "      <td>2022</td>\n",
       "    </tr>\n",
       "    <tr>\n",
       "      <th>...</th>\n",
       "      <td>...</td>\n",
       "      <td>...</td>\n",
       "      <td>...</td>\n",
       "      <td>...</td>\n",
       "      <td>...</td>\n",
       "      <td>...</td>\n",
       "      <td>...</td>\n",
       "      <td>...</td>\n",
       "      <td>...</td>\n",
       "      <td>...</td>\n",
       "      <td>...</td>\n",
       "      <td>...</td>\n",
       "      <td>...</td>\n",
       "      <td>...</td>\n",
       "      <td>...</td>\n",
       "      <td>...</td>\n",
       "      <td>...</td>\n",
       "      <td>...</td>\n",
       "      <td>...</td>\n",
       "      <td>...</td>\n",
       "      <td>...</td>\n",
       "    </tr>\n",
       "    <tr>\n",
       "      <th>11877</th>\n",
       "      <td>FI-018</td>\n",
       "      <td>2022.0</td>\n",
       "      <td>TOMMY</td>\n",
       "      <td>0.0</td>\n",
       "      <td>0.0</td>\n",
       "      <td>0.046381</td>\n",
       "      <td>0.117072</td>\n",
       "      <td>0.088433</td>\n",
       "      <td>0.10266</td>\n",
       "      <td>0.188371</td>\n",
       "      <td>...</td>\n",
       "      <td>0</td>\n",
       "      <td>0.098</td>\n",
       "      <td>0</td>\n",
       "      <td>0.002</td>\n",
       "      <td>0.999</td>\n",
       "      <td>4063.0</td>\n",
       "      <td>6</td>\n",
       "      <td>2022</td>\n",
       "      <td>13</td>\n",
       "      <td>2022</td>\n",
       "    </tr>\n",
       "    <tr>\n",
       "      <th>11878</th>\n",
       "      <td>FI-018</td>\n",
       "      <td>2022.0</td>\n",
       "      <td>TOMMY</td>\n",
       "      <td>0.0</td>\n",
       "      <td>0.0</td>\n",
       "      <td>0.052381</td>\n",
       "      <td>0.122072</td>\n",
       "      <td>0.104433</td>\n",
       "      <td>0.14566</td>\n",
       "      <td>0.190371</td>\n",
       "      <td>...</td>\n",
       "      <td>0</td>\n",
       "      <td>0.116</td>\n",
       "      <td>0</td>\n",
       "      <td>0.003</td>\n",
       "      <td>1.000</td>\n",
       "      <td>4299.0</td>\n",
       "      <td>6</td>\n",
       "      <td>2022</td>\n",
       "      <td>14</td>\n",
       "      <td>2022</td>\n",
       "    </tr>\n",
       "    <tr>\n",
       "      <th>11879</th>\n",
       "      <td>NaN</td>\n",
       "      <td>NaN</td>\n",
       "      <td>TOMMY</td>\n",
       "      <td>NaN</td>\n",
       "      <td>NaN</td>\n",
       "      <td>NaN</td>\n",
       "      <td>NaN</td>\n",
       "      <td>NaN</td>\n",
       "      <td>NaN</td>\n",
       "      <td>NaN</td>\n",
       "      <td>...</td>\n",
       "      <td>0</td>\n",
       "      <td>0.065</td>\n",
       "      <td>0</td>\n",
       "      <td>0.000</td>\n",
       "      <td>0.999</td>\n",
       "      <td>2092.0</td>\n",
       "      <td>7</td>\n",
       "      <td>2022</td>\n",
       "      <td>1</td>\n",
       "      <td>2022</td>\n",
       "    </tr>\n",
       "    <tr>\n",
       "      <th>11880</th>\n",
       "      <td>NaN</td>\n",
       "      <td>NaN</td>\n",
       "      <td>TOMMY</td>\n",
       "      <td>NaN</td>\n",
       "      <td>NaN</td>\n",
       "      <td>NaN</td>\n",
       "      <td>NaN</td>\n",
       "      <td>NaN</td>\n",
       "      <td>NaN</td>\n",
       "      <td>NaN</td>\n",
       "      <td>...</td>\n",
       "      <td>0</td>\n",
       "      <td>0.073</td>\n",
       "      <td>0</td>\n",
       "      <td>0.001</td>\n",
       "      <td>0.999</td>\n",
       "      <td>3618.0</td>\n",
       "      <td>7</td>\n",
       "      <td>2022</td>\n",
       "      <td>2</td>\n",
       "      <td>2022</td>\n",
       "    </tr>\n",
       "    <tr>\n",
       "      <th>11881</th>\n",
       "      <td>NaN</td>\n",
       "      <td>NaN</td>\n",
       "      <td>TOMMY</td>\n",
       "      <td>NaN</td>\n",
       "      <td>NaN</td>\n",
       "      <td>NaN</td>\n",
       "      <td>NaN</td>\n",
       "      <td>NaN</td>\n",
       "      <td>NaN</td>\n",
       "      <td>NaN</td>\n",
       "      <td>...</td>\n",
       "      <td>0</td>\n",
       "      <td>0.092</td>\n",
       "      <td>0</td>\n",
       "      <td>0.001</td>\n",
       "      <td>1.001</td>\n",
       "      <td>1839.0</td>\n",
       "      <td>7</td>\n",
       "      <td>2022</td>\n",
       "      <td>3</td>\n",
       "      <td>2022</td>\n",
       "    </tr>\n",
       "  </tbody>\n",
       "</table>\n",
       "<p>255 rows × 34 columns</p>\n",
       "</div>"
      ],
      "text/plain": [
       "      TALHAO_amos     ANO VARIEDADE_amos  DIFF_CAL_4  DIFF_CAL_5  DIFF_CAL_6  \\\n",
       "11144         NaN     NaN          KEITT         NaN         NaN         NaN   \n",
       "11145         NaN     NaN          KEITT         NaN         NaN         NaN   \n",
       "11146         NaN     NaN          KEITT         NaN         NaN         NaN   \n",
       "11147         NaN     NaN          KEITT         NaN         NaN         NaN   \n",
       "11185         NaN     NaN          KEITT         NaN         NaN         NaN   \n",
       "...           ...     ...            ...         ...         ...         ...   \n",
       "11877      FI-018  2022.0          TOMMY         0.0         0.0    0.046381   \n",
       "11878      FI-018  2022.0          TOMMY         0.0         0.0    0.052381   \n",
       "11879         NaN     NaN          TOMMY         NaN         NaN         NaN   \n",
       "11880         NaN     NaN          TOMMY         NaN         NaN         NaN   \n",
       "11881         NaN     NaN          TOMMY         NaN         NaN         NaN   \n",
       "\n",
       "       DIFF_CAL_7  DIFF_CAL_8  DIFF_CAL_9  DIFF_CAL_10  ...  CALIBRE_11  \\\n",
       "11144         NaN         NaN         NaN          NaN  ...           0   \n",
       "11145         NaN         NaN         NaN          NaN  ...           0   \n",
       "11146         NaN         NaN         NaN          NaN  ...           0   \n",
       "11147         NaN         NaN         NaN          NaN  ...           0   \n",
       "11185         NaN         NaN         NaN          NaN  ...           0   \n",
       "...           ...         ...         ...          ...  ...         ...   \n",
       "11877    0.117072    0.088433     0.10266     0.188371  ...           0   \n",
       "11878    0.122072    0.104433     0.14566     0.190371  ...           0   \n",
       "11879         NaN         NaN         NaN          NaN  ...           0   \n",
       "11880         NaN         NaN         NaN          NaN  ...           0   \n",
       "11881         NaN         NaN         NaN          NaN  ...           0   \n",
       "\n",
       "       CALIBRE_12 CALIBRE_13 CALIBRE_14 TOTAL_CALIBRES  TOTAL_CAIXA MÊS   ano  \\\n",
       "11144       0.120          0      0.006          1.000       6486.5   6  2022   \n",
       "11145       0.116          0      0.000          0.999       5466.0   6  2022   \n",
       "11146       0.103          0      0.025          0.999       1210.0   6  2022   \n",
       "11147       0.139          0      0.006          1.000       2922.0   6  2022   \n",
       "11185       0.005          0      0.000          1.001       2320.0   6  2022   \n",
       "...           ...        ...        ...            ...          ...  ..   ...   \n",
       "11877       0.098          0      0.002          0.999       4063.0   6  2022   \n",
       "11878       0.116          0      0.003          1.000       4299.0   6  2022   \n",
       "11879       0.065          0      0.000          0.999       2092.0   7  2022   \n",
       "11880       0.073          0      0.001          0.999       3618.0   7  2022   \n",
       "11881       0.092          0      0.001          1.001       1839.0   7  2022   \n",
       "\n",
       "       ordem_control  ANO_2  \n",
       "11144              5   2022  \n",
       "11145              6   2022  \n",
       "11146              7   2022  \n",
       "11147              8   2022  \n",
       "11185              1   2022  \n",
       "...              ...    ...  \n",
       "11877             13   2022  \n",
       "11878             14   2022  \n",
       "11879              1   2022  \n",
       "11880              2   2022  \n",
       "11881              3   2022  \n",
       "\n",
       "[255 rows x 34 columns]"
      ]
     },
     "execution_count": 219,
     "metadata": {},
     "output_type": "execute_result"
    }
   ],
   "source": [
    "dataframe_4"
   ]
  },
  {
   "cell_type": "code",
   "execution_count": 220,
   "metadata": {},
   "outputs": [
    {
     "data": {
      "text/plain": [
       "TALHAO_amos       65.098039\n",
       "ANO               65.098039\n",
       "VARIEDADE_amos     0.000000\n",
       "DIFF_CAL_4        65.098039\n",
       "DIFF_CAL_5        65.098039\n",
       "DIFF_CAL_6        65.098039\n",
       "DIFF_CAL_7        65.098039\n",
       "DIFF_CAL_8        65.098039\n",
       "DIFF_CAL_9        65.098039\n",
       "DIFF_CAL_10       65.098039\n",
       "DIFF_CAL_12       65.098039\n",
       "DIFF_CAL_14       65.098039\n",
       "SAFRA              0.000000\n",
       "VARIEDADE          0.000000\n",
       "TALHAO             0.000000\n",
       "CONTROLE           0.000000\n",
       "DATA_EMBALAGEM     0.000000\n",
       "CALIBRE_4          0.000000\n",
       "CALIBRE_5          0.000000\n",
       "CALIBRE_6          0.000000\n",
       "CALIBRE_7          0.000000\n",
       "CALIBRE_8          0.000000\n",
       "CALIBRE_9          0.000000\n",
       "CALIBRE_10         0.000000\n",
       "CALIBRE_11         0.000000\n",
       "CALIBRE_12         0.000000\n",
       "CALIBRE_13         0.000000\n",
       "CALIBRE_14         0.000000\n",
       "TOTAL_CALIBRES     0.000000\n",
       "TOTAL_CAIXA        0.000000\n",
       "MÊS                0.000000\n",
       "ano                0.000000\n",
       "ordem_control      0.000000\n",
       "ANO_2              0.000000\n",
       "dtype: float64"
      ]
     },
     "execution_count": 220,
     "metadata": {},
     "output_type": "execute_result"
    }
   ],
   "source": [
    "(dataframe_4.isnull().sum() / len(dataframe_4) )* 100"
   ]
  },
  {
   "cell_type": "code",
   "execution_count": 221,
   "metadata": {},
   "outputs": [],
   "source": [
    "## ENTAO POSSO CONSIDERAR QUE CADA LINHA DE DADO É UMA COLHEITA E SE ESTIVER VAZIO\n",
    "## QUER DIZER QUE N TEVE AMOSTRAGEM PARA ESSA COLHEITA"
   ]
  },
  {
   "cell_type": "code",
   "execution_count": 222,
   "metadata": {},
   "outputs": [],
   "source": [
    "### 65% dos controles sem amostragem\n",
    "### 35% dos controles foram amostrados"
   ]
  },
  {
   "cell_type": "code",
   "execution_count": 223,
   "metadata": {},
   "outputs": [],
   "source": [
    "## VAMOS TENTAR IDENTFICAR POR TALHAO"
   ]
  },
  {
   "cell_type": "code",
   "execution_count": 224,
   "metadata": {},
   "outputs": [],
   "source": [
    "total_talhao_amostrado = dataframe_4['TALHAO_amos'].value_counts()"
   ]
  },
  {
   "cell_type": "code",
   "execution_count": 225,
   "metadata": {},
   "outputs": [],
   "source": [
    "total_talhao_controles = dataframe_4['TALHAO'].value_counts()"
   ]
  },
  {
   "cell_type": "code",
   "execution_count": 226,
   "metadata": {},
   "outputs": [
    {
     "name": "stdout",
     "output_type": "stream",
     "text": [
      "14 54\n"
     ]
    }
   ],
   "source": [
    "print(len(total_talhao_amostrado),\n",
    "len(total_talhao_controles))"
   ]
  },
  {
   "cell_type": "code",
   "execution_count": 227,
   "metadata": {},
   "outputs": [
    {
     "data": {
      "text/plain": [
       "25.925925925925924"
      ]
     },
     "execution_count": 227,
     "metadata": {},
     "output_type": "execute_result"
    }
   ],
   "source": [
    "# porcentagem de talhoes amostrados \n",
    "len(total_talhao_amostrado)/len(total_talhao_controles) * 100"
   ]
  },
  {
   "cell_type": "code",
   "execution_count": 228,
   "metadata": {},
   "outputs": [],
   "source": [
    "## apenas 26% dos talhões com colheita foram amostrados"
   ]
  },
  {
   "cell_type": "code",
   "execution_count": 538,
   "metadata": {},
   "outputs": [],
   "source": [
    "dataframe_3 = dataframe_4.dropna()"
   ]
  },
  {
   "cell_type": "code",
   "execution_count": 539,
   "metadata": {},
   "outputs": [
    {
     "data": {
      "text/plain": [
       "TOMMY     44.943820\n",
       "KEITT     33.707865\n",
       "PALMER    19.101124\n",
       "KENT       2.247191\n",
       "Name: VARIEDADE_amos, dtype: float64"
      ]
     },
     "execution_count": 539,
     "metadata": {},
     "output_type": "execute_result"
    }
   ],
   "source": [
    "dataframe_3['VARIEDADE_amos'].value_counts() / len(dataframe_3) * 100"
   ]
  },
  {
   "cell_type": "code",
   "execution_count": 505,
   "metadata": {},
   "outputs": [],
   "source": [
    "#filtro_palmer = dataframe_3['VARIEDADE_amos'] != 'PALMER'\n",
    "#dataframe_3 = dataframe_3[filtro_palmer]\n",
    "\n",
    "#filtro_kent = dataframe_3['VARIEDADE_amos'] != 'KENT'\n",
    "#dataframe_3 = dataframe_3[filtro_kent]"
   ]
  },
  {
   "cell_type": "code",
   "execution_count": 540,
   "metadata": {},
   "outputs": [
    {
     "data": {
      "text/plain": [
       "TOMMY     44.943820\n",
       "KEITT     33.707865\n",
       "PALMER    19.101124\n",
       "KENT       2.247191\n",
       "Name: VARIEDADE_amos, dtype: float64"
      ]
     },
     "execution_count": 540,
     "metadata": {},
     "output_type": "execute_result"
    }
   ],
   "source": [
    "dataframe_3['VARIEDADE_amos'].value_counts() / len(dataframe_3) * 100"
   ]
  },
  {
   "cell_type": "code",
   "execution_count": 541,
   "metadata": {},
   "outputs": [
    {
     "data": {
      "text/plain": [
       "4     11\n",
       "1     10\n",
       "2     10\n",
       "3     10\n",
       "5     10\n",
       "7      9\n",
       "6      8\n",
       "8      7\n",
       "9      6\n",
       "10     4\n",
       "11     1\n",
       "12     1\n",
       "13     1\n",
       "14     1\n",
       "Name: ordem_control, dtype: int64"
      ]
     },
     "execution_count": 541,
     "metadata": {},
     "output_type": "execute_result"
    }
   ],
   "source": [
    "dataframe_3['ordem_control'].value_counts()"
   ]
  },
  {
   "cell_type": "code",
   "execution_count": 457,
   "metadata": {},
   "outputs": [],
   "source": [
    "filtro_palmer = dataframe_3['ordem_control'] != 5\n",
    "dataframe_3 = dataframe_3[filtro_palmer]\n",
    "\n",
    "filtro_palmer = dataframe_3['ordem_control'] != 6\n",
    "dataframe_3 = dataframe_3[filtro_palmer]\n",
    "\n",
    "filtro_palmer = dataframe_3['ordem_control'] != 7\n",
    "dataframe_3 = dataframe_3[filtro_palmer]\n",
    "\n",
    "filtro_palmer = dataframe_3['ordem_control'] != 8\n",
    "dataframe_3 = dataframe_3[filtro_palmer]\n",
    "\n",
    "filtro_palmer = dataframe_3['ordem_control'] != 9\n",
    "dataframe_3 = dataframe_3[filtro_palmer]\n",
    "\n",
    "filtro_palmer = dataframe_3['ordem_control'] != 10\n",
    "dataframe_3 = dataframe_3[filtro_palmer]\n",
    "\n",
    "filtro_palmer = dataframe_3['ordem_control'] != 12\n",
    "dataframe_3 = dataframe_3[filtro_palmer]\n",
    "\n",
    "filtro_palmer = dataframe_3['ordem_control'] != 14\n",
    "dataframe_3 = dataframe_3[filtro_palmer]\n",
    "\n",
    "filtro_palmer = dataframe_3['ordem_control'] != 11\n",
    "dataframe_3 = dataframe_3[filtro_palmer]\n",
    "\n",
    "\n",
    "filtro_palmer = dataframe_3['ordem_control'] != 13\n",
    "dataframe_3 = dataframe_3[filtro_palmer]\n"
   ]
  },
  {
   "cell_type": "code",
   "execution_count": 458,
   "metadata": {},
   "outputs": [],
   "source": [
    "## 44% dos controles foram de Tommy"
   ]
  },
  {
   "cell_type": "code",
   "execution_count": 542,
   "metadata": {},
   "outputs": [
    {
     "name": "stderr",
     "output_type": "stream",
     "text": [
      "C:\\Users\\BERNAR~1.COL\\AppData\\Local\\Temp/ipykernel_21264/4185096898.py:7: SettingWithCopyWarning:\n",
      "\n",
      "\n",
      "A value is trying to be set on a copy of a slice from a DataFrame.\n",
      "Try using .loc[row_indexer,col_indexer] = value instead\n",
      "\n",
      "See the caveats in the documentation: https://pandas.pydata.org/pandas-docs/stable/user_guide/indexing.html#returning-a-view-versus-a-copy\n",
      "\n",
      "C:\\Users\\BERNAR~1.COL\\AppData\\Local\\Temp/ipykernel_21264/4185096898.py:16: SettingWithCopyWarning:\n",
      "\n",
      "\n",
      "A value is trying to be set on a copy of a slice from a DataFrame.\n",
      "Try using .loc[row_indexer,col_indexer] = value instead\n",
      "\n",
      "See the caveats in the documentation: https://pandas.pydata.org/pandas-docs/stable/user_guide/indexing.html#returning-a-view-versus-a-copy\n",
      "\n",
      "C:\\Users\\BERNAR~1.COL\\AppData\\Local\\Temp/ipykernel_21264/4185096898.py:24: SettingWithCopyWarning:\n",
      "\n",
      "\n",
      "A value is trying to be set on a copy of a slice from a DataFrame.\n",
      "Try using .loc[row_indexer,col_indexer] = value instead\n",
      "\n",
      "See the caveats in the documentation: https://pandas.pydata.org/pandas-docs/stable/user_guide/indexing.html#returning-a-view-versus-a-copy\n",
      "\n",
      "C:\\Users\\BERNAR~1.COL\\AppData\\Local\\Temp/ipykernel_21264/4185096898.py:32: SettingWithCopyWarning:\n",
      "\n",
      "\n",
      "A value is trying to be set on a copy of a slice from a DataFrame.\n",
      "Try using .loc[row_indexer,col_indexer] = value instead\n",
      "\n",
      "See the caveats in the documentation: https://pandas.pydata.org/pandas-docs/stable/user_guide/indexing.html#returning-a-view-versus-a-copy\n",
      "\n",
      "C:\\Users\\BERNAR~1.COL\\AppData\\Local\\Temp/ipykernel_21264/4185096898.py:40: SettingWithCopyWarning:\n",
      "\n",
      "\n",
      "A value is trying to be set on a copy of a slice from a DataFrame.\n",
      "Try using .loc[row_indexer,col_indexer] = value instead\n",
      "\n",
      "See the caveats in the documentation: https://pandas.pydata.org/pandas-docs/stable/user_guide/indexing.html#returning-a-view-versus-a-copy\n",
      "\n",
      "C:\\Users\\BERNAR~1.COL\\AppData\\Local\\Temp/ipykernel_21264/4185096898.py:48: SettingWithCopyWarning:\n",
      "\n",
      "\n",
      "A value is trying to be set on a copy of a slice from a DataFrame.\n",
      "Try using .loc[row_indexer,col_indexer] = value instead\n",
      "\n",
      "See the caveats in the documentation: https://pandas.pydata.org/pandas-docs/stable/user_guide/indexing.html#returning-a-view-versus-a-copy\n",
      "\n",
      "C:\\Users\\BERNAR~1.COL\\AppData\\Local\\Temp/ipykernel_21264/4185096898.py:56: SettingWithCopyWarning:\n",
      "\n",
      "\n",
      "A value is trying to be set on a copy of a slice from a DataFrame.\n",
      "Try using .loc[row_indexer,col_indexer] = value instead\n",
      "\n",
      "See the caveats in the documentation: https://pandas.pydata.org/pandas-docs/stable/user_guide/indexing.html#returning-a-view-versus-a-copy\n",
      "\n",
      "C:\\Users\\BERNAR~1.COL\\AppData\\Local\\Temp/ipykernel_21264/4185096898.py:64: SettingWithCopyWarning:\n",
      "\n",
      "\n",
      "A value is trying to be set on a copy of a slice from a DataFrame.\n",
      "Try using .loc[row_indexer,col_indexer] = value instead\n",
      "\n",
      "See the caveats in the documentation: https://pandas.pydata.org/pandas-docs/stable/user_guide/indexing.html#returning-a-view-versus-a-copy\n",
      "\n",
      "C:\\Users\\BERNAR~1.COL\\AppData\\Local\\Temp/ipykernel_21264/4185096898.py:72: SettingWithCopyWarning:\n",
      "\n",
      "\n",
      "A value is trying to be set on a copy of a slice from a DataFrame.\n",
      "Try using .loc[row_indexer,col_indexer] = value instead\n",
      "\n",
      "See the caveats in the documentation: https://pandas.pydata.org/pandas-docs/stable/user_guide/indexing.html#returning-a-view-versus-a-copy\n",
      "\n"
     ]
    }
   ],
   "source": [
    "def criacao_metrica_cal4(dataframe_3):\n",
    "    if dataframe_3['DIFF_CAL_4'] > 0.11:\n",
    "        return 'Erro'\n",
    "    else:\n",
    "        return 'Acerto'\n",
    "\n",
    "dataframe_3['CAL4_sens1'] = dataframe_3.apply(criacao_metrica_cal4, axis = 1)\n",
    "\n",
    "\n",
    "def criacao_metrica_cal5(dataframe_3):\n",
    "    if dataframe_3['DIFF_CAL_5'] > 0.11:\n",
    "        return 'Erro'\n",
    "    else:\n",
    "        return 'Acerto'\n",
    "\n",
    "dataframe_3['CAL5_sens1'] = dataframe_3.apply(criacao_metrica_cal5, axis = 1)\n",
    "\n",
    "def criacao_metrica_cal6(dataframe_3):\n",
    "    if dataframe_3['DIFF_CAL_6'] > 0.11:\n",
    "        return 'Erro'\n",
    "    else:\n",
    "        return 'Acerto'\n",
    "\n",
    "dataframe_3['CAL6_sens1'] = dataframe_3.apply(criacao_metrica_cal6, axis = 1)\n",
    "\n",
    "def criacao_metrica_cal7(dataframe_3):\n",
    "    if dataframe_3['DIFF_CAL_7'] > 0.11:\n",
    "        return 'Erro'\n",
    "    else:\n",
    "        return 'Acerto'\n",
    "\n",
    "dataframe_3['CAL7_sens1'] = dataframe_3.apply(criacao_metrica_cal7, axis = 1)\n",
    "\n",
    "def criacao_metrica_cal8(dataframe_3):\n",
    "    if dataframe_3['DIFF_CAL_8'] > 0.11:\n",
    "        return 'Erro'\n",
    "    else:\n",
    "        return 'Acerto'\n",
    "\n",
    "dataframe_3['CAL8_sens1'] = dataframe_3.apply(criacao_metrica_cal8, axis = 1)\n",
    "\n",
    "def criacao_metrica_cal9(dataframe_3):\n",
    "    if dataframe_3['DIFF_CAL_9'] > 0.11:\n",
    "        return 'Erro'\n",
    "    else:\n",
    "        return 'Acerto'\n",
    "\n",
    "dataframe_3['CAL9_sens1'] = dataframe_3.apply(criacao_metrica_cal9, axis = 1)\n",
    "\n",
    "def criacao_metrica_cal10(dataframe_3):\n",
    "    if dataframe_3['DIFF_CAL_10'] > 0.11:\n",
    "        return 'Erro'\n",
    "    else:\n",
    "        return 'Acerto'\n",
    "\n",
    "dataframe_3['CAL10_sens1'] = dataframe_3.apply(criacao_metrica_cal10, axis = 1)\n",
    "\n",
    "def criacao_metrica_cal12(dataframe_3):\n",
    "    if dataframe_3['DIFF_CAL_12'] > 0.11:\n",
    "        return 'Erro'\n",
    "    else:\n",
    "        return 'Acerto'\n",
    "\n",
    "dataframe_3['CAL12_sens1'] = dataframe_3.apply(criacao_metrica_cal12, axis = 1)\n",
    "\n",
    "def criacao_metrica_cal14(dataframe_3):\n",
    "    if dataframe_3['DIFF_CAL_14'] > 0.11:\n",
    "        return 'Erro'\n",
    "    else:\n",
    "        return 'Acerto'\n",
    "\n",
    "dataframe_3['CAL14_sens1'] = dataframe_3.apply(criacao_metrica_cal14, axis = 1)"
   ]
  },
  {
   "cell_type": "code",
   "execution_count": 543,
   "metadata": {},
   "outputs": [
    {
     "data": {
      "text/html": [
       "<div>\n",
       "<style scoped>\n",
       "    .dataframe tbody tr th:only-of-type {\n",
       "        vertical-align: middle;\n",
       "    }\n",
       "\n",
       "    .dataframe tbody tr th {\n",
       "        vertical-align: top;\n",
       "    }\n",
       "\n",
       "    .dataframe thead th {\n",
       "        text-align: right;\n",
       "    }\n",
       "</style>\n",
       "<table border=\"1\" class=\"dataframe\">\n",
       "  <thead>\n",
       "    <tr style=\"text-align: right;\">\n",
       "      <th></th>\n",
       "      <th>TALHAO_amos</th>\n",
       "      <th>ANO</th>\n",
       "      <th>VARIEDADE_amos</th>\n",
       "      <th>DIFF_CAL_4</th>\n",
       "      <th>DIFF_CAL_5</th>\n",
       "      <th>DIFF_CAL_6</th>\n",
       "      <th>DIFF_CAL_7</th>\n",
       "      <th>DIFF_CAL_8</th>\n",
       "      <th>DIFF_CAL_9</th>\n",
       "      <th>DIFF_CAL_10</th>\n",
       "      <th>...</th>\n",
       "      <th>ANO_2</th>\n",
       "      <th>CAL4_sens1</th>\n",
       "      <th>CAL5_sens1</th>\n",
       "      <th>CAL6_sens1</th>\n",
       "      <th>CAL7_sens1</th>\n",
       "      <th>CAL8_sens1</th>\n",
       "      <th>CAL9_sens1</th>\n",
       "      <th>CAL10_sens1</th>\n",
       "      <th>CAL12_sens1</th>\n",
       "      <th>CAL14_sens1</th>\n",
       "    </tr>\n",
       "  </thead>\n",
       "  <tbody>\n",
       "    <tr>\n",
       "      <th>11219</th>\n",
       "      <td>AGD-013V1</td>\n",
       "      <td>2022.0</td>\n",
       "      <td>KEITT</td>\n",
       "      <td>0.0</td>\n",
       "      <td>0.177575</td>\n",
       "      <td>0.408836</td>\n",
       "      <td>0.039890</td>\n",
       "      <td>0.326466</td>\n",
       "      <td>0.046986</td>\n",
       "      <td>0.137411</td>\n",
       "      <td>...</td>\n",
       "      <td>2022</td>\n",
       "      <td>Acerto</td>\n",
       "      <td>Erro</td>\n",
       "      <td>Erro</td>\n",
       "      <td>Acerto</td>\n",
       "      <td>Erro</td>\n",
       "      <td>Acerto</td>\n",
       "      <td>Erro</td>\n",
       "      <td>Acerto</td>\n",
       "      <td>Acerto</td>\n",
       "    </tr>\n",
       "    <tr>\n",
       "      <th>11220</th>\n",
       "      <td>AGD-013V1</td>\n",
       "      <td>2022.0</td>\n",
       "      <td>KEITT</td>\n",
       "      <td>0.0</td>\n",
       "      <td>0.064575</td>\n",
       "      <td>0.335836</td>\n",
       "      <td>0.229890</td>\n",
       "      <td>0.259466</td>\n",
       "      <td>0.120986</td>\n",
       "      <td>0.133411</td>\n",
       "      <td>...</td>\n",
       "      <td>2022</td>\n",
       "      <td>Acerto</td>\n",
       "      <td>Acerto</td>\n",
       "      <td>Erro</td>\n",
       "      <td>Erro</td>\n",
       "      <td>Erro</td>\n",
       "      <td>Erro</td>\n",
       "      <td>Erro</td>\n",
       "      <td>Acerto</td>\n",
       "      <td>Acerto</td>\n",
       "    </tr>\n",
       "    <tr>\n",
       "      <th>11221</th>\n",
       "      <td>AGD-013V1</td>\n",
       "      <td>2022.0</td>\n",
       "      <td>KEITT</td>\n",
       "      <td>0.0</td>\n",
       "      <td>0.037575</td>\n",
       "      <td>0.222836</td>\n",
       "      <td>0.204890</td>\n",
       "      <td>0.156466</td>\n",
       "      <td>0.084986</td>\n",
       "      <td>0.110411</td>\n",
       "      <td>...</td>\n",
       "      <td>2022</td>\n",
       "      <td>Acerto</td>\n",
       "      <td>Acerto</td>\n",
       "      <td>Erro</td>\n",
       "      <td>Erro</td>\n",
       "      <td>Erro</td>\n",
       "      <td>Acerto</td>\n",
       "      <td>Erro</td>\n",
       "      <td>Acerto</td>\n",
       "      <td>Acerto</td>\n",
       "    </tr>\n",
       "    <tr>\n",
       "      <th>11222</th>\n",
       "      <td>AGD-013V1</td>\n",
       "      <td>2022.0</td>\n",
       "      <td>KEITT</td>\n",
       "      <td>0.0</td>\n",
       "      <td>0.028575</td>\n",
       "      <td>0.135836</td>\n",
       "      <td>0.203890</td>\n",
       "      <td>0.116466</td>\n",
       "      <td>0.049986</td>\n",
       "      <td>0.092411</td>\n",
       "      <td>...</td>\n",
       "      <td>2022</td>\n",
       "      <td>Acerto</td>\n",
       "      <td>Acerto</td>\n",
       "      <td>Erro</td>\n",
       "      <td>Erro</td>\n",
       "      <td>Erro</td>\n",
       "      <td>Acerto</td>\n",
       "      <td>Acerto</td>\n",
       "      <td>Acerto</td>\n",
       "      <td>Acerto</td>\n",
       "    </tr>\n",
       "    <tr>\n",
       "      <th>11223</th>\n",
       "      <td>AGD-013V1</td>\n",
       "      <td>2022.0</td>\n",
       "      <td>KEITT</td>\n",
       "      <td>0.0</td>\n",
       "      <td>0.020575</td>\n",
       "      <td>0.021836</td>\n",
       "      <td>0.074890</td>\n",
       "      <td>0.191466</td>\n",
       "      <td>0.023986</td>\n",
       "      <td>0.048589</td>\n",
       "      <td>...</td>\n",
       "      <td>2022</td>\n",
       "      <td>Acerto</td>\n",
       "      <td>Acerto</td>\n",
       "      <td>Acerto</td>\n",
       "      <td>Acerto</td>\n",
       "      <td>Erro</td>\n",
       "      <td>Acerto</td>\n",
       "      <td>Acerto</td>\n",
       "      <td>Acerto</td>\n",
       "      <td>Acerto</td>\n",
       "    </tr>\n",
       "    <tr>\n",
       "      <th>...</th>\n",
       "      <td>...</td>\n",
       "      <td>...</td>\n",
       "      <td>...</td>\n",
       "      <td>...</td>\n",
       "      <td>...</td>\n",
       "      <td>...</td>\n",
       "      <td>...</td>\n",
       "      <td>...</td>\n",
       "      <td>...</td>\n",
       "      <td>...</td>\n",
       "      <td>...</td>\n",
       "      <td>...</td>\n",
       "      <td>...</td>\n",
       "      <td>...</td>\n",
       "      <td>...</td>\n",
       "      <td>...</td>\n",
       "      <td>...</td>\n",
       "      <td>...</td>\n",
       "      <td>...</td>\n",
       "      <td>...</td>\n",
       "      <td>...</td>\n",
       "    </tr>\n",
       "    <tr>\n",
       "      <th>11874</th>\n",
       "      <td>FI-018</td>\n",
       "      <td>2022.0</td>\n",
       "      <td>TOMMY</td>\n",
       "      <td>0.0</td>\n",
       "      <td>0.000000</td>\n",
       "      <td>0.040381</td>\n",
       "      <td>0.157072</td>\n",
       "      <td>0.119433</td>\n",
       "      <td>0.099660</td>\n",
       "      <td>0.213371</td>\n",
       "      <td>...</td>\n",
       "      <td>2022</td>\n",
       "      <td>Acerto</td>\n",
       "      <td>Acerto</td>\n",
       "      <td>Acerto</td>\n",
       "      <td>Erro</td>\n",
       "      <td>Erro</td>\n",
       "      <td>Acerto</td>\n",
       "      <td>Erro</td>\n",
       "      <td>Acerto</td>\n",
       "      <td>Acerto</td>\n",
       "    </tr>\n",
       "    <tr>\n",
       "      <th>11875</th>\n",
       "      <td>FI-018</td>\n",
       "      <td>2022.0</td>\n",
       "      <td>TOMMY</td>\n",
       "      <td>0.0</td>\n",
       "      <td>0.000000</td>\n",
       "      <td>0.053381</td>\n",
       "      <td>0.162072</td>\n",
       "      <td>0.074433</td>\n",
       "      <td>0.064660</td>\n",
       "      <td>0.222371</td>\n",
       "      <td>...</td>\n",
       "      <td>2022</td>\n",
       "      <td>Acerto</td>\n",
       "      <td>Acerto</td>\n",
       "      <td>Acerto</td>\n",
       "      <td>Erro</td>\n",
       "      <td>Acerto</td>\n",
       "      <td>Acerto</td>\n",
       "      <td>Erro</td>\n",
       "      <td>Acerto</td>\n",
       "      <td>Acerto</td>\n",
       "    </tr>\n",
       "    <tr>\n",
       "      <th>11876</th>\n",
       "      <td>FI-018</td>\n",
       "      <td>2022.0</td>\n",
       "      <td>TOMMY</td>\n",
       "      <td>0.0</td>\n",
       "      <td>0.000000</td>\n",
       "      <td>0.039381</td>\n",
       "      <td>0.139072</td>\n",
       "      <td>0.128433</td>\n",
       "      <td>0.115660</td>\n",
       "      <td>0.212371</td>\n",
       "      <td>...</td>\n",
       "      <td>2022</td>\n",
       "      <td>Acerto</td>\n",
       "      <td>Acerto</td>\n",
       "      <td>Acerto</td>\n",
       "      <td>Erro</td>\n",
       "      <td>Erro</td>\n",
       "      <td>Erro</td>\n",
       "      <td>Erro</td>\n",
       "      <td>Acerto</td>\n",
       "      <td>Acerto</td>\n",
       "    </tr>\n",
       "    <tr>\n",
       "      <th>11877</th>\n",
       "      <td>FI-018</td>\n",
       "      <td>2022.0</td>\n",
       "      <td>TOMMY</td>\n",
       "      <td>0.0</td>\n",
       "      <td>0.000000</td>\n",
       "      <td>0.046381</td>\n",
       "      <td>0.117072</td>\n",
       "      <td>0.088433</td>\n",
       "      <td>0.102660</td>\n",
       "      <td>0.188371</td>\n",
       "      <td>...</td>\n",
       "      <td>2022</td>\n",
       "      <td>Acerto</td>\n",
       "      <td>Acerto</td>\n",
       "      <td>Acerto</td>\n",
       "      <td>Erro</td>\n",
       "      <td>Acerto</td>\n",
       "      <td>Acerto</td>\n",
       "      <td>Erro</td>\n",
       "      <td>Acerto</td>\n",
       "      <td>Acerto</td>\n",
       "    </tr>\n",
       "    <tr>\n",
       "      <th>11878</th>\n",
       "      <td>FI-018</td>\n",
       "      <td>2022.0</td>\n",
       "      <td>TOMMY</td>\n",
       "      <td>0.0</td>\n",
       "      <td>0.000000</td>\n",
       "      <td>0.052381</td>\n",
       "      <td>0.122072</td>\n",
       "      <td>0.104433</td>\n",
       "      <td>0.145660</td>\n",
       "      <td>0.190371</td>\n",
       "      <td>...</td>\n",
       "      <td>2022</td>\n",
       "      <td>Acerto</td>\n",
       "      <td>Acerto</td>\n",
       "      <td>Acerto</td>\n",
       "      <td>Erro</td>\n",
       "      <td>Acerto</td>\n",
       "      <td>Erro</td>\n",
       "      <td>Erro</td>\n",
       "      <td>Acerto</td>\n",
       "      <td>Acerto</td>\n",
       "    </tr>\n",
       "  </tbody>\n",
       "</table>\n",
       "<p>89 rows × 43 columns</p>\n",
       "</div>"
      ],
      "text/plain": [
       "      TALHAO_amos     ANO VARIEDADE_amos  DIFF_CAL_4  DIFF_CAL_5  DIFF_CAL_6  \\\n",
       "11219   AGD-013V1  2022.0          KEITT         0.0    0.177575    0.408836   \n",
       "11220   AGD-013V1  2022.0          KEITT         0.0    0.064575    0.335836   \n",
       "11221   AGD-013V1  2022.0          KEITT         0.0    0.037575    0.222836   \n",
       "11222   AGD-013V1  2022.0          KEITT         0.0    0.028575    0.135836   \n",
       "11223   AGD-013V1  2022.0          KEITT         0.0    0.020575    0.021836   \n",
       "...           ...     ...            ...         ...         ...         ...   \n",
       "11874      FI-018  2022.0          TOMMY         0.0    0.000000    0.040381   \n",
       "11875      FI-018  2022.0          TOMMY         0.0    0.000000    0.053381   \n",
       "11876      FI-018  2022.0          TOMMY         0.0    0.000000    0.039381   \n",
       "11877      FI-018  2022.0          TOMMY         0.0    0.000000    0.046381   \n",
       "11878      FI-018  2022.0          TOMMY         0.0    0.000000    0.052381   \n",
       "\n",
       "       DIFF_CAL_7  DIFF_CAL_8  DIFF_CAL_9  DIFF_CAL_10  ...  ANO_2  \\\n",
       "11219    0.039890    0.326466    0.046986     0.137411  ...   2022   \n",
       "11220    0.229890    0.259466    0.120986     0.133411  ...   2022   \n",
       "11221    0.204890    0.156466    0.084986     0.110411  ...   2022   \n",
       "11222    0.203890    0.116466    0.049986     0.092411  ...   2022   \n",
       "11223    0.074890    0.191466    0.023986     0.048589  ...   2022   \n",
       "...           ...         ...         ...          ...  ...    ...   \n",
       "11874    0.157072    0.119433    0.099660     0.213371  ...   2022   \n",
       "11875    0.162072    0.074433    0.064660     0.222371  ...   2022   \n",
       "11876    0.139072    0.128433    0.115660     0.212371  ...   2022   \n",
       "11877    0.117072    0.088433    0.102660     0.188371  ...   2022   \n",
       "11878    0.122072    0.104433    0.145660     0.190371  ...   2022   \n",
       "\n",
       "       CAL4_sens1 CAL5_sens1 CAL6_sens1 CAL7_sens1  CAL8_sens1 CAL9_sens1  \\\n",
       "11219      Acerto       Erro       Erro     Acerto        Erro     Acerto   \n",
       "11220      Acerto     Acerto       Erro       Erro        Erro       Erro   \n",
       "11221      Acerto     Acerto       Erro       Erro        Erro     Acerto   \n",
       "11222      Acerto     Acerto       Erro       Erro        Erro     Acerto   \n",
       "11223      Acerto     Acerto     Acerto     Acerto        Erro     Acerto   \n",
       "...           ...        ...        ...        ...         ...        ...   \n",
       "11874      Acerto     Acerto     Acerto       Erro        Erro     Acerto   \n",
       "11875      Acerto     Acerto     Acerto       Erro      Acerto     Acerto   \n",
       "11876      Acerto     Acerto     Acerto       Erro        Erro       Erro   \n",
       "11877      Acerto     Acerto     Acerto       Erro      Acerto     Acerto   \n",
       "11878      Acerto     Acerto     Acerto       Erro      Acerto       Erro   \n",
       "\n",
       "       CAL10_sens1  CAL12_sens1  CAL14_sens1  \n",
       "11219         Erro       Acerto       Acerto  \n",
       "11220         Erro       Acerto       Acerto  \n",
       "11221         Erro       Acerto       Acerto  \n",
       "11222       Acerto       Acerto       Acerto  \n",
       "11223       Acerto       Acerto       Acerto  \n",
       "...            ...          ...          ...  \n",
       "11874         Erro       Acerto       Acerto  \n",
       "11875         Erro       Acerto       Acerto  \n",
       "11876         Erro       Acerto       Acerto  \n",
       "11877         Erro       Acerto       Acerto  \n",
       "11878         Erro       Acerto       Acerto  \n",
       "\n",
       "[89 rows x 43 columns]"
      ]
     },
     "execution_count": 543,
     "metadata": {},
     "output_type": "execute_result"
    }
   ],
   "source": [
    "dataframe_3"
   ]
  },
  {
   "cell_type": "code",
   "execution_count": 544,
   "metadata": {},
   "outputs": [
    {
     "data": {
      "text/plain": [
       "91.01123595505618"
      ]
     },
     "execution_count": 544,
     "metadata": {},
     "output_type": "execute_result"
    }
   ],
   "source": [
    "acerto_5 = dataframe_3['CAL5_sens1'].value_counts() / len(dataframe_3) * 100\n",
    "acerto_5 = pd.DataFrame(acerto_5)\n",
    "acerto_5 = acerto_5['CAL5_sens1'][0]\n",
    "acerto_5\n"
   ]
  },
  {
   "cell_type": "code",
   "execution_count": 545,
   "metadata": {},
   "outputs": [
    {
     "data": {
      "text/plain": [
       "100.0"
      ]
     },
     "execution_count": 545,
     "metadata": {},
     "output_type": "execute_result"
    }
   ],
   "source": [
    "acerto_4 = dataframe_3['CAL4_sens1'].value_counts() / len(dataframe_3) * 100\n",
    "acerto_4 = pd.DataFrame(acerto_4)\n",
    "acerto_4 = acerto_4['CAL4_sens1'][0]\n",
    "acerto_4\n",
    "\n",
    "\n"
   ]
  },
  {
   "cell_type": "code",
   "execution_count": 546,
   "metadata": {},
   "outputs": [
    {
     "data": {
      "text/plain": [
       "56.17977528089888"
      ]
     },
     "execution_count": 546,
     "metadata": {},
     "output_type": "execute_result"
    }
   ],
   "source": [
    "acerto_6 = dataframe_3['CAL6_sens1'].value_counts() / len(dataframe_3) * 100\n",
    "acerto_6 = pd.DataFrame(acerto_6)\n",
    "acerto_6 = acerto_6['CAL6_sens1'][0]\n",
    "acerto_6\n",
    "\n",
    "\n",
    "\n"
   ]
  },
  {
   "cell_type": "code",
   "execution_count": 547,
   "metadata": {},
   "outputs": [
    {
     "data": {
      "text/plain": [
       "55.0561797752809"
      ]
     },
     "execution_count": 547,
     "metadata": {},
     "output_type": "execute_result"
    }
   ],
   "source": [
    "acerto_7 = dataframe_3['CAL7_sens1'].value_counts() / len(dataframe_3) * 100\n",
    "acerto_7 = pd.DataFrame(acerto_7)\n",
    "acerto_7 = acerto_7['CAL7_sens1'][0]\n",
    "acerto_7\n",
    "\n"
   ]
  },
  {
   "cell_type": "code",
   "execution_count": 548,
   "metadata": {},
   "outputs": [
    {
     "data": {
      "text/plain": [
       "44.9438202247191"
      ]
     },
     "execution_count": 548,
     "metadata": {},
     "output_type": "execute_result"
    }
   ],
   "source": [
    "acerto_8 = dataframe_3['CAL8_sens1'].value_counts() / len(dataframe_3) * 100\n",
    "acerto_8 = pd.DataFrame(acerto_8)\n",
    "acerto_8 = acerto_8['CAL8_sens1'][1]\n",
    "acerto_8\n",
    "\n"
   ]
  },
  {
   "cell_type": "code",
   "execution_count": 551,
   "metadata": {},
   "outputs": [
    {
     "data": {
      "text/plain": [
       "71.91011235955057"
      ]
     },
     "execution_count": 551,
     "metadata": {},
     "output_type": "execute_result"
    }
   ],
   "source": [
    "acerto_9 = dataframe_3['CAL9_sens1'].value_counts() / len(dataframe_3) * 100\n",
    "acerto_9 = pd.DataFrame(acerto_9)\n",
    "acerto_9 = acerto_9['CAL9_sens1'][0]\n",
    "acerto_9\n",
    "\n",
    "\n",
    "\n"
   ]
  },
  {
   "cell_type": "code",
   "execution_count": 553,
   "metadata": {},
   "outputs": [
    {
     "data": {
      "text/plain": [
       "56.17977528089888"
      ]
     },
     "execution_count": 553,
     "metadata": {},
     "output_type": "execute_result"
    }
   ],
   "source": [
    "acerto_10 = dataframe_3['CAL10_sens1'].value_counts() / len(dataframe_3) * 100\n",
    "acerto_10 = pd.DataFrame(acerto_10)\n",
    "acerto_10 = acerto_10['CAL10_sens1'][0]\n",
    "acerto_10\n",
    "\n",
    "\n"
   ]
  },
  {
   "cell_type": "code",
   "execution_count": 525,
   "metadata": {},
   "outputs": [
    {
     "data": {
      "text/plain": [
       "64.04494382022472"
      ]
     },
     "execution_count": 525,
     "metadata": {},
     "output_type": "execute_result"
    }
   ],
   "source": [
    "acerto_12 = dataframe_3['CAL12_sens1'].value_counts() / len(dataframe_3) * 100\n",
    "acerto_12 = pd.DataFrame(acerto_12)\n",
    "acerto_12 = acerto_12['CAL12_sens1'][0]\n",
    "acerto_12\n",
    "\n",
    "\n"
   ]
  },
  {
   "cell_type": "code",
   "execution_count": 527,
   "metadata": {},
   "outputs": [
    {
     "data": {
      "text/plain": [
       "100.0"
      ]
     },
     "execution_count": 527,
     "metadata": {},
     "output_type": "execute_result"
    }
   ],
   "source": [
    "acerto_14 = dataframe_3['CAL14_sens1'].value_counts() / len(dataframe_3) * 100\n",
    "acerto_14 = pd.DataFrame(acerto_14)\n",
    "acerto_14 = acerto_14['CAL14_sens1'][0]\n",
    "acerto_14\n",
    "\n",
    "\n",
    "\n",
    "\n"
   ]
  },
  {
   "cell_type": "code",
   "execution_count": 528,
   "metadata": {},
   "outputs": [
    {
     "data": {
      "text/html": [
       "<div>\n",
       "<style scoped>\n",
       "    .dataframe tbody tr th:only-of-type {\n",
       "        vertical-align: middle;\n",
       "    }\n",
       "\n",
       "    .dataframe tbody tr th {\n",
       "        vertical-align: top;\n",
       "    }\n",
       "\n",
       "    .dataframe thead th {\n",
       "        text-align: right;\n",
       "    }\n",
       "</style>\n",
       "<table border=\"1\" class=\"dataframe\">\n",
       "  <thead>\n",
       "    <tr style=\"text-align: right;\">\n",
       "      <th></th>\n",
       "      <th>Calibre</th>\n",
       "      <th>P_Acerto</th>\n",
       "    </tr>\n",
       "  </thead>\n",
       "  <tbody>\n",
       "    <tr>\n",
       "      <th>0</th>\n",
       "      <td>Calibre_4</td>\n",
       "      <td>100.000000</td>\n",
       "    </tr>\n",
       "    <tr>\n",
       "      <th>1</th>\n",
       "      <td>Calibre_5</td>\n",
       "      <td>91.011236</td>\n",
       "    </tr>\n",
       "    <tr>\n",
       "      <th>2</th>\n",
       "      <td>Calibre_6</td>\n",
       "      <td>56.179775</td>\n",
       "    </tr>\n",
       "    <tr>\n",
       "      <th>3</th>\n",
       "      <td>Calibre_7</td>\n",
       "      <td>55.056180</td>\n",
       "    </tr>\n",
       "    <tr>\n",
       "      <th>4</th>\n",
       "      <td>Calibre_8</td>\n",
       "      <td>44.943820</td>\n",
       "    </tr>\n",
       "    <tr>\n",
       "      <th>5</th>\n",
       "      <td>Calibre_9</td>\n",
       "      <td>71.910112</td>\n",
       "    </tr>\n",
       "    <tr>\n",
       "      <th>6</th>\n",
       "      <td>Calibre_10</td>\n",
       "      <td>56.179775</td>\n",
       "    </tr>\n",
       "    <tr>\n",
       "      <th>7</th>\n",
       "      <td>Calibre_12</td>\n",
       "      <td>64.044944</td>\n",
       "    </tr>\n",
       "    <tr>\n",
       "      <th>8</th>\n",
       "      <td>Calibre_14</td>\n",
       "      <td>100.000000</td>\n",
       "    </tr>\n",
       "  </tbody>\n",
       "</table>\n",
       "</div>"
      ],
      "text/plain": [
       "      Calibre    P_Acerto\n",
       "0   Calibre_4  100.000000\n",
       "1   Calibre_5   91.011236\n",
       "2   Calibre_6   56.179775\n",
       "3   Calibre_7   55.056180\n",
       "4   Calibre_8   44.943820\n",
       "5   Calibre_9   71.910112\n",
       "6  Calibre_10   56.179775\n",
       "7  Calibre_12   64.044944\n",
       "8  Calibre_14  100.000000"
      ]
     },
     "execution_count": 528,
     "metadata": {},
     "output_type": "execute_result"
    }
   ],
   "source": [
    "dict_canguras = {'Calibre':['Calibre_4','Calibre_5','Calibre_6','Calibre_7','Calibre_8','Calibre_9','Calibre_10','Calibre_12','Calibre_14'], 'P_Acerto':[acerto_4,acerto_5, acerto_6, acerto_7, acerto_8, acerto_9,acerto_10,acerto_12,acerto_14]}\n",
    "df_canguras = pd.DataFrame(dict_canguras)\n",
    "df_canguras\n"
   ]
  },
  {
   "cell_type": "code",
   "execution_count": 529,
   "metadata": {},
   "outputs": [],
   "source": [
    "def cor_cond(df_canguras):\n",
    "    if df_canguras['P_Acerto'] > 80:\n",
    "        return 'G'\n",
    "    else:\n",
    "        return 'B'\n",
    "df_canguras['Cond'] = df_canguras.apply(cor_cond, axis = 1)\n"
   ]
  },
  {
   "cell_type": "code",
   "execution_count": 530,
   "metadata": {},
   "outputs": [],
   "source": [
    "df_canguras['P_Acerto'] = round(df_canguras['P_Acerto'],2)"
   ]
  },
  {
   "cell_type": "code",
   "execution_count": 531,
   "metadata": {},
   "outputs": [
    {
     "data": {
      "application/vnd.plotly.v1+json": {
       "config": {
        "plotlyServerURL": "https://plot.ly"
       },
       "data": [
        {
         "alignmentgroup": "True",
         "cliponaxis": false,
         "hovertemplate": "Cond=G<br>Calibre=%{x}<br>P_Acerto=%{text}<extra></extra>",
         "legendgroup": "G",
         "marker": {
          "color": "#636efa",
          "line": {
           "color": "rgb(0,0,0)",
           "width": 1.5
          },
          "pattern": {
           "shape": ""
          }
         },
         "name": "G",
         "offsetgroup": "G",
         "orientation": "v",
         "showlegend": true,
         "text": [
          100,
          91.01,
          100
         ],
         "textangle": 0,
         "textfont": {
          "size": 14
         },
         "textposition": "outside",
         "type": "bar",
         "x": [
          "Calibre_4",
          "Calibre_5",
          "Calibre_14"
         ],
         "xaxis": "x",
         "y": [
          100,
          91.01,
          100
         ],
         "yaxis": "y"
        },
        {
         "alignmentgroup": "True",
         "cliponaxis": false,
         "hovertemplate": "Cond=B<br>Calibre=%{x}<br>P_Acerto=%{text}<extra></extra>",
         "legendgroup": "B",
         "marker": {
          "color": "#EF553B",
          "line": {
           "color": "rgb(0,0,0)",
           "width": 1.5
          },
          "pattern": {
           "shape": ""
          }
         },
         "name": "B",
         "offsetgroup": "B",
         "orientation": "v",
         "showlegend": true,
         "text": [
          56.18,
          55.06,
          44.94,
          71.91,
          56.18,
          64.04
         ],
         "textangle": 0,
         "textfont": {
          "size": 14
         },
         "textposition": "outside",
         "type": "bar",
         "x": [
          "Calibre_6",
          "Calibre_7",
          "Calibre_8",
          "Calibre_9",
          "Calibre_10",
          "Calibre_12"
         ],
         "xaxis": "x",
         "y": [
          56.18,
          55.06,
          44.94,
          71.91,
          56.18,
          64.04
         ],
         "yaxis": "y"
        }
       ],
       "layout": {
        "barmode": "relative",
        "height": 600,
        "legend": {
         "title": {
          "text": "Cond"
         },
         "tracegroupgap": 0
        },
        "template": {
         "data": {
          "bar": [
           {
            "error_x": {
             "color": "#2a3f5f"
            },
            "error_y": {
             "color": "#2a3f5f"
            },
            "marker": {
             "line": {
              "color": "#E5ECF6",
              "width": 0.5
             },
             "pattern": {
              "fillmode": "overlay",
              "size": 10,
              "solidity": 0.2
             }
            },
            "type": "bar"
           }
          ],
          "barpolar": [
           {
            "marker": {
             "line": {
              "color": "#E5ECF6",
              "width": 0.5
             },
             "pattern": {
              "fillmode": "overlay",
              "size": 10,
              "solidity": 0.2
             }
            },
            "type": "barpolar"
           }
          ],
          "carpet": [
           {
            "aaxis": {
             "endlinecolor": "#2a3f5f",
             "gridcolor": "white",
             "linecolor": "white",
             "minorgridcolor": "white",
             "startlinecolor": "#2a3f5f"
            },
            "baxis": {
             "endlinecolor": "#2a3f5f",
             "gridcolor": "white",
             "linecolor": "white",
             "minorgridcolor": "white",
             "startlinecolor": "#2a3f5f"
            },
            "type": "carpet"
           }
          ],
          "choropleth": [
           {
            "colorbar": {
             "outlinewidth": 0,
             "ticks": ""
            },
            "type": "choropleth"
           }
          ],
          "contour": [
           {
            "colorbar": {
             "outlinewidth": 0,
             "ticks": ""
            },
            "colorscale": [
             [
              0,
              "#0d0887"
             ],
             [
              0.1111111111111111,
              "#46039f"
             ],
             [
              0.2222222222222222,
              "#7201a8"
             ],
             [
              0.3333333333333333,
              "#9c179e"
             ],
             [
              0.4444444444444444,
              "#bd3786"
             ],
             [
              0.5555555555555556,
              "#d8576b"
             ],
             [
              0.6666666666666666,
              "#ed7953"
             ],
             [
              0.7777777777777778,
              "#fb9f3a"
             ],
             [
              0.8888888888888888,
              "#fdca26"
             ],
             [
              1,
              "#f0f921"
             ]
            ],
            "type": "contour"
           }
          ],
          "contourcarpet": [
           {
            "colorbar": {
             "outlinewidth": 0,
             "ticks": ""
            },
            "type": "contourcarpet"
           }
          ],
          "heatmap": [
           {
            "colorbar": {
             "outlinewidth": 0,
             "ticks": ""
            },
            "colorscale": [
             [
              0,
              "#0d0887"
             ],
             [
              0.1111111111111111,
              "#46039f"
             ],
             [
              0.2222222222222222,
              "#7201a8"
             ],
             [
              0.3333333333333333,
              "#9c179e"
             ],
             [
              0.4444444444444444,
              "#bd3786"
             ],
             [
              0.5555555555555556,
              "#d8576b"
             ],
             [
              0.6666666666666666,
              "#ed7953"
             ],
             [
              0.7777777777777778,
              "#fb9f3a"
             ],
             [
              0.8888888888888888,
              "#fdca26"
             ],
             [
              1,
              "#f0f921"
             ]
            ],
            "type": "heatmap"
           }
          ],
          "heatmapgl": [
           {
            "colorbar": {
             "outlinewidth": 0,
             "ticks": ""
            },
            "colorscale": [
             [
              0,
              "#0d0887"
             ],
             [
              0.1111111111111111,
              "#46039f"
             ],
             [
              0.2222222222222222,
              "#7201a8"
             ],
             [
              0.3333333333333333,
              "#9c179e"
             ],
             [
              0.4444444444444444,
              "#bd3786"
             ],
             [
              0.5555555555555556,
              "#d8576b"
             ],
             [
              0.6666666666666666,
              "#ed7953"
             ],
             [
              0.7777777777777778,
              "#fb9f3a"
             ],
             [
              0.8888888888888888,
              "#fdca26"
             ],
             [
              1,
              "#f0f921"
             ]
            ],
            "type": "heatmapgl"
           }
          ],
          "histogram": [
           {
            "marker": {
             "pattern": {
              "fillmode": "overlay",
              "size": 10,
              "solidity": 0.2
             }
            },
            "type": "histogram"
           }
          ],
          "histogram2d": [
           {
            "colorbar": {
             "outlinewidth": 0,
             "ticks": ""
            },
            "colorscale": [
             [
              0,
              "#0d0887"
             ],
             [
              0.1111111111111111,
              "#46039f"
             ],
             [
              0.2222222222222222,
              "#7201a8"
             ],
             [
              0.3333333333333333,
              "#9c179e"
             ],
             [
              0.4444444444444444,
              "#bd3786"
             ],
             [
              0.5555555555555556,
              "#d8576b"
             ],
             [
              0.6666666666666666,
              "#ed7953"
             ],
             [
              0.7777777777777778,
              "#fb9f3a"
             ],
             [
              0.8888888888888888,
              "#fdca26"
             ],
             [
              1,
              "#f0f921"
             ]
            ],
            "type": "histogram2d"
           }
          ],
          "histogram2dcontour": [
           {
            "colorbar": {
             "outlinewidth": 0,
             "ticks": ""
            },
            "colorscale": [
             [
              0,
              "#0d0887"
             ],
             [
              0.1111111111111111,
              "#46039f"
             ],
             [
              0.2222222222222222,
              "#7201a8"
             ],
             [
              0.3333333333333333,
              "#9c179e"
             ],
             [
              0.4444444444444444,
              "#bd3786"
             ],
             [
              0.5555555555555556,
              "#d8576b"
             ],
             [
              0.6666666666666666,
              "#ed7953"
             ],
             [
              0.7777777777777778,
              "#fb9f3a"
             ],
             [
              0.8888888888888888,
              "#fdca26"
             ],
             [
              1,
              "#f0f921"
             ]
            ],
            "type": "histogram2dcontour"
           }
          ],
          "mesh3d": [
           {
            "colorbar": {
             "outlinewidth": 0,
             "ticks": ""
            },
            "type": "mesh3d"
           }
          ],
          "parcoords": [
           {
            "line": {
             "colorbar": {
              "outlinewidth": 0,
              "ticks": ""
             }
            },
            "type": "parcoords"
           }
          ],
          "pie": [
           {
            "automargin": true,
            "type": "pie"
           }
          ],
          "scatter": [
           {
            "marker": {
             "colorbar": {
              "outlinewidth": 0,
              "ticks": ""
             }
            },
            "type": "scatter"
           }
          ],
          "scatter3d": [
           {
            "line": {
             "colorbar": {
              "outlinewidth": 0,
              "ticks": ""
             }
            },
            "marker": {
             "colorbar": {
              "outlinewidth": 0,
              "ticks": ""
             }
            },
            "type": "scatter3d"
           }
          ],
          "scattercarpet": [
           {
            "marker": {
             "colorbar": {
              "outlinewidth": 0,
              "ticks": ""
             }
            },
            "type": "scattercarpet"
           }
          ],
          "scattergeo": [
           {
            "marker": {
             "colorbar": {
              "outlinewidth": 0,
              "ticks": ""
             }
            },
            "type": "scattergeo"
           }
          ],
          "scattergl": [
           {
            "marker": {
             "colorbar": {
              "outlinewidth": 0,
              "ticks": ""
             }
            },
            "type": "scattergl"
           }
          ],
          "scattermapbox": [
           {
            "marker": {
             "colorbar": {
              "outlinewidth": 0,
              "ticks": ""
             }
            },
            "type": "scattermapbox"
           }
          ],
          "scatterpolar": [
           {
            "marker": {
             "colorbar": {
              "outlinewidth": 0,
              "ticks": ""
             }
            },
            "type": "scatterpolar"
           }
          ],
          "scatterpolargl": [
           {
            "marker": {
             "colorbar": {
              "outlinewidth": 0,
              "ticks": ""
             }
            },
            "type": "scatterpolargl"
           }
          ],
          "scatterternary": [
           {
            "marker": {
             "colorbar": {
              "outlinewidth": 0,
              "ticks": ""
             }
            },
            "type": "scatterternary"
           }
          ],
          "surface": [
           {
            "colorbar": {
             "outlinewidth": 0,
             "ticks": ""
            },
            "colorscale": [
             [
              0,
              "#0d0887"
             ],
             [
              0.1111111111111111,
              "#46039f"
             ],
             [
              0.2222222222222222,
              "#7201a8"
             ],
             [
              0.3333333333333333,
              "#9c179e"
             ],
             [
              0.4444444444444444,
              "#bd3786"
             ],
             [
              0.5555555555555556,
              "#d8576b"
             ],
             [
              0.6666666666666666,
              "#ed7953"
             ],
             [
              0.7777777777777778,
              "#fb9f3a"
             ],
             [
              0.8888888888888888,
              "#fdca26"
             ],
             [
              1,
              "#f0f921"
             ]
            ],
            "type": "surface"
           }
          ],
          "table": [
           {
            "cells": {
             "fill": {
              "color": "#EBF0F8"
             },
             "line": {
              "color": "white"
             }
            },
            "header": {
             "fill": {
              "color": "#C8D4E3"
             },
             "line": {
              "color": "white"
             }
            },
            "type": "table"
           }
          ]
         },
         "layout": {
          "annotationdefaults": {
           "arrowcolor": "#2a3f5f",
           "arrowhead": 0,
           "arrowwidth": 1
          },
          "autotypenumbers": "strict",
          "coloraxis": {
           "colorbar": {
            "outlinewidth": 0,
            "ticks": ""
           }
          },
          "colorscale": {
           "diverging": [
            [
             0,
             "#8e0152"
            ],
            [
             0.1,
             "#c51b7d"
            ],
            [
             0.2,
             "#de77ae"
            ],
            [
             0.3,
             "#f1b6da"
            ],
            [
             0.4,
             "#fde0ef"
            ],
            [
             0.5,
             "#f7f7f7"
            ],
            [
             0.6,
             "#e6f5d0"
            ],
            [
             0.7,
             "#b8e186"
            ],
            [
             0.8,
             "#7fbc41"
            ],
            [
             0.9,
             "#4d9221"
            ],
            [
             1,
             "#276419"
            ]
           ],
           "sequential": [
            [
             0,
             "#0d0887"
            ],
            [
             0.1111111111111111,
             "#46039f"
            ],
            [
             0.2222222222222222,
             "#7201a8"
            ],
            [
             0.3333333333333333,
             "#9c179e"
            ],
            [
             0.4444444444444444,
             "#bd3786"
            ],
            [
             0.5555555555555556,
             "#d8576b"
            ],
            [
             0.6666666666666666,
             "#ed7953"
            ],
            [
             0.7777777777777778,
             "#fb9f3a"
            ],
            [
             0.8888888888888888,
             "#fdca26"
            ],
            [
             1,
             "#f0f921"
            ]
           ],
           "sequentialminus": [
            [
             0,
             "#0d0887"
            ],
            [
             0.1111111111111111,
             "#46039f"
            ],
            [
             0.2222222222222222,
             "#7201a8"
            ],
            [
             0.3333333333333333,
             "#9c179e"
            ],
            [
             0.4444444444444444,
             "#bd3786"
            ],
            [
             0.5555555555555556,
             "#d8576b"
            ],
            [
             0.6666666666666666,
             "#ed7953"
            ],
            [
             0.7777777777777778,
             "#fb9f3a"
            ],
            [
             0.8888888888888888,
             "#fdca26"
            ],
            [
             1,
             "#f0f921"
            ]
           ]
          },
          "colorway": [
           "#636efa",
           "#EF553B",
           "#00cc96",
           "#ab63fa",
           "#FFA15A",
           "#19d3f3",
           "#FF6692",
           "#B6E880",
           "#FF97FF",
           "#FECB52"
          ],
          "font": {
           "color": "#2a3f5f"
          },
          "geo": {
           "bgcolor": "white",
           "lakecolor": "white",
           "landcolor": "#E5ECF6",
           "showlakes": true,
           "showland": true,
           "subunitcolor": "white"
          },
          "hoverlabel": {
           "align": "left"
          },
          "hovermode": "closest",
          "mapbox": {
           "style": "light"
          },
          "paper_bgcolor": "white",
          "plot_bgcolor": "#E5ECF6",
          "polar": {
           "angularaxis": {
            "gridcolor": "white",
            "linecolor": "white",
            "ticks": ""
           },
           "bgcolor": "#E5ECF6",
           "radialaxis": {
            "gridcolor": "white",
            "linecolor": "white",
            "ticks": ""
           }
          },
          "scene": {
           "xaxis": {
            "backgroundcolor": "#E5ECF6",
            "gridcolor": "white",
            "gridwidth": 2,
            "linecolor": "white",
            "showbackground": true,
            "ticks": "",
            "zerolinecolor": "white"
           },
           "yaxis": {
            "backgroundcolor": "#E5ECF6",
            "gridcolor": "white",
            "gridwidth": 2,
            "linecolor": "white",
            "showbackground": true,
            "ticks": "",
            "zerolinecolor": "white"
           },
           "zaxis": {
            "backgroundcolor": "#E5ECF6",
            "gridcolor": "white",
            "gridwidth": 2,
            "linecolor": "white",
            "showbackground": true,
            "ticks": "",
            "zerolinecolor": "white"
           }
          },
          "shapedefaults": {
           "line": {
            "color": "#2a3f5f"
           }
          },
          "ternary": {
           "aaxis": {
            "gridcolor": "white",
            "linecolor": "white",
            "ticks": ""
           },
           "baxis": {
            "gridcolor": "white",
            "linecolor": "white",
            "ticks": ""
           },
           "bgcolor": "#E5ECF6",
           "caxis": {
            "gridcolor": "white",
            "linecolor": "white",
            "ticks": ""
           }
          },
          "title": {
           "x": 0.05
          },
          "xaxis": {
           "automargin": true,
           "gridcolor": "white",
           "linecolor": "white",
           "ticks": "",
           "title": {
            "standoff": 15
           },
           "zerolinecolor": "white",
           "zerolinewidth": 2
          },
          "yaxis": {
           "automargin": true,
           "gridcolor": "white",
           "linecolor": "white",
           "ticks": "",
           "title": {
            "standoff": 15
           },
           "zerolinecolor": "white",
           "zerolinewidth": 2
          }
         }
        },
        "title": {
         "text": "Percentuais dos acertos das amostragens: Threshold 10% do valor real"
        },
        "width": 1200,
        "xaxis": {
         "anchor": "y",
         "categoryarray": [
          "Calibre_4",
          "Calibre_5",
          "Calibre_6",
          "Calibre_7",
          "Calibre_8",
          "Calibre_9",
          "Calibre_10",
          "Calibre_12",
          "Calibre_14"
         ],
         "categoryorder": "array",
         "domain": [
          0,
          1
         ],
         "title": {
          "text": "Calibre"
         }
        },
        "yaxis": {
         "anchor": "x",
         "domain": [
          0,
          1
         ],
         "title": {
          "text": "P_Acerto"
         }
        }
       }
      }
     },
     "metadata": {},
     "output_type": "display_data"
    }
   ],
   "source": [
    "import plotly.express as px\n",
    "\n",
    "fig = px.bar(df_canguras, x = 'Calibre', y = 'P_Acerto', color = 'Cond', category_orders = {'Calibre':['Calibre_4','Calibre_5','Calibre_6','Calibre_7','Calibre_8','Calibre_9','Calibre_10','Calibre_12','Calibre_14']},\n",
    "text = 'P_Acerto', title = 'Percentuais dos acertos das amostragens: Threshold 10% do valor real')\n",
    "fig.update_traces(textposition=\"outside\",textfont_size=14, cliponaxis=False,textangle=0, marker_line_color = 'rgb(0,0,0)',marker_line_width = 1.5)\n",
    "fig.update_layout(height = 600, width = 1200)\n",
    "fig\n",
    "\n"
   ]
  },
  {
   "cell_type": "code",
   "execution_count": 58,
   "metadata": {},
   "outputs": [
    {
     "data": {
      "application/vnd.plotly.v1+json": {
       "config": {
        "plotlyServerURL": "https://plot.ly"
       },
       "data": [
        {
         "name": "Calibre 4",
         "text": "100.0",
         "type": "bar",
         "y": [
          100
         ]
        },
        {
         "name": "Calibre 5",
         "text": "91.01",
         "type": "bar",
         "y": [
          91.01123595505618
         ]
        },
        {
         "name": "Calibre 6",
         "text": "55.06",
         "type": "bar",
         "y": [
          55.0561797752809
         ]
        },
        {
         "name": "Calibre 7",
         "text": "48.31",
         "type": "bar",
         "y": [
          48.31460674157304
         ]
        },
        {
         "name": "Calibre 8",
         "text": "40.45",
         "type": "bar",
         "y": [
          40.44943820224719
         ]
        },
        {
         "name": "Calibre 9",
         "text": "67.42",
         "type": "bar",
         "y": [
          67.41573033707866
         ]
        },
        {
         "name": "Calibre 10",
         "text": "44.94",
         "type": "bar",
         "y": [
          44.9438202247191
         ]
        },
        {
         "name": "Calibre 12",
         "text": "59.55",
         "type": "bar",
         "y": [
          59.55056179775281
         ]
        },
        {
         "name": "Calibre 14",
         "text": "100.0",
         "type": "bar",
         "y": [
          100
         ]
        }
       ],
       "layout": {
        "template": {
         "data": {
          "bar": [
           {
            "error_x": {
             "color": "#2a3f5f"
            },
            "error_y": {
             "color": "#2a3f5f"
            },
            "marker": {
             "line": {
              "color": "#E5ECF6",
              "width": 0.5
             },
             "pattern": {
              "fillmode": "overlay",
              "size": 10,
              "solidity": 0.2
             }
            },
            "type": "bar"
           }
          ],
          "barpolar": [
           {
            "marker": {
             "line": {
              "color": "#E5ECF6",
              "width": 0.5
             },
             "pattern": {
              "fillmode": "overlay",
              "size": 10,
              "solidity": 0.2
             }
            },
            "type": "barpolar"
           }
          ],
          "carpet": [
           {
            "aaxis": {
             "endlinecolor": "#2a3f5f",
             "gridcolor": "white",
             "linecolor": "white",
             "minorgridcolor": "white",
             "startlinecolor": "#2a3f5f"
            },
            "baxis": {
             "endlinecolor": "#2a3f5f",
             "gridcolor": "white",
             "linecolor": "white",
             "minorgridcolor": "white",
             "startlinecolor": "#2a3f5f"
            },
            "type": "carpet"
           }
          ],
          "choropleth": [
           {
            "colorbar": {
             "outlinewidth": 0,
             "ticks": ""
            },
            "type": "choropleth"
           }
          ],
          "contour": [
           {
            "colorbar": {
             "outlinewidth": 0,
             "ticks": ""
            },
            "colorscale": [
             [
              0,
              "#0d0887"
             ],
             [
              0.1111111111111111,
              "#46039f"
             ],
             [
              0.2222222222222222,
              "#7201a8"
             ],
             [
              0.3333333333333333,
              "#9c179e"
             ],
             [
              0.4444444444444444,
              "#bd3786"
             ],
             [
              0.5555555555555556,
              "#d8576b"
             ],
             [
              0.6666666666666666,
              "#ed7953"
             ],
             [
              0.7777777777777778,
              "#fb9f3a"
             ],
             [
              0.8888888888888888,
              "#fdca26"
             ],
             [
              1,
              "#f0f921"
             ]
            ],
            "type": "contour"
           }
          ],
          "contourcarpet": [
           {
            "colorbar": {
             "outlinewidth": 0,
             "ticks": ""
            },
            "type": "contourcarpet"
           }
          ],
          "heatmap": [
           {
            "colorbar": {
             "outlinewidth": 0,
             "ticks": ""
            },
            "colorscale": [
             [
              0,
              "#0d0887"
             ],
             [
              0.1111111111111111,
              "#46039f"
             ],
             [
              0.2222222222222222,
              "#7201a8"
             ],
             [
              0.3333333333333333,
              "#9c179e"
             ],
             [
              0.4444444444444444,
              "#bd3786"
             ],
             [
              0.5555555555555556,
              "#d8576b"
             ],
             [
              0.6666666666666666,
              "#ed7953"
             ],
             [
              0.7777777777777778,
              "#fb9f3a"
             ],
             [
              0.8888888888888888,
              "#fdca26"
             ],
             [
              1,
              "#f0f921"
             ]
            ],
            "type": "heatmap"
           }
          ],
          "heatmapgl": [
           {
            "colorbar": {
             "outlinewidth": 0,
             "ticks": ""
            },
            "colorscale": [
             [
              0,
              "#0d0887"
             ],
             [
              0.1111111111111111,
              "#46039f"
             ],
             [
              0.2222222222222222,
              "#7201a8"
             ],
             [
              0.3333333333333333,
              "#9c179e"
             ],
             [
              0.4444444444444444,
              "#bd3786"
             ],
             [
              0.5555555555555556,
              "#d8576b"
             ],
             [
              0.6666666666666666,
              "#ed7953"
             ],
             [
              0.7777777777777778,
              "#fb9f3a"
             ],
             [
              0.8888888888888888,
              "#fdca26"
             ],
             [
              1,
              "#f0f921"
             ]
            ],
            "type": "heatmapgl"
           }
          ],
          "histogram": [
           {
            "marker": {
             "pattern": {
              "fillmode": "overlay",
              "size": 10,
              "solidity": 0.2
             }
            },
            "type": "histogram"
           }
          ],
          "histogram2d": [
           {
            "colorbar": {
             "outlinewidth": 0,
             "ticks": ""
            },
            "colorscale": [
             [
              0,
              "#0d0887"
             ],
             [
              0.1111111111111111,
              "#46039f"
             ],
             [
              0.2222222222222222,
              "#7201a8"
             ],
             [
              0.3333333333333333,
              "#9c179e"
             ],
             [
              0.4444444444444444,
              "#bd3786"
             ],
             [
              0.5555555555555556,
              "#d8576b"
             ],
             [
              0.6666666666666666,
              "#ed7953"
             ],
             [
              0.7777777777777778,
              "#fb9f3a"
             ],
             [
              0.8888888888888888,
              "#fdca26"
             ],
             [
              1,
              "#f0f921"
             ]
            ],
            "type": "histogram2d"
           }
          ],
          "histogram2dcontour": [
           {
            "colorbar": {
             "outlinewidth": 0,
             "ticks": ""
            },
            "colorscale": [
             [
              0,
              "#0d0887"
             ],
             [
              0.1111111111111111,
              "#46039f"
             ],
             [
              0.2222222222222222,
              "#7201a8"
             ],
             [
              0.3333333333333333,
              "#9c179e"
             ],
             [
              0.4444444444444444,
              "#bd3786"
             ],
             [
              0.5555555555555556,
              "#d8576b"
             ],
             [
              0.6666666666666666,
              "#ed7953"
             ],
             [
              0.7777777777777778,
              "#fb9f3a"
             ],
             [
              0.8888888888888888,
              "#fdca26"
             ],
             [
              1,
              "#f0f921"
             ]
            ],
            "type": "histogram2dcontour"
           }
          ],
          "mesh3d": [
           {
            "colorbar": {
             "outlinewidth": 0,
             "ticks": ""
            },
            "type": "mesh3d"
           }
          ],
          "parcoords": [
           {
            "line": {
             "colorbar": {
              "outlinewidth": 0,
              "ticks": ""
             }
            },
            "type": "parcoords"
           }
          ],
          "pie": [
           {
            "automargin": true,
            "type": "pie"
           }
          ],
          "scatter": [
           {
            "marker": {
             "colorbar": {
              "outlinewidth": 0,
              "ticks": ""
             }
            },
            "type": "scatter"
           }
          ],
          "scatter3d": [
           {
            "line": {
             "colorbar": {
              "outlinewidth": 0,
              "ticks": ""
             }
            },
            "marker": {
             "colorbar": {
              "outlinewidth": 0,
              "ticks": ""
             }
            },
            "type": "scatter3d"
           }
          ],
          "scattercarpet": [
           {
            "marker": {
             "colorbar": {
              "outlinewidth": 0,
              "ticks": ""
             }
            },
            "type": "scattercarpet"
           }
          ],
          "scattergeo": [
           {
            "marker": {
             "colorbar": {
              "outlinewidth": 0,
              "ticks": ""
             }
            },
            "type": "scattergeo"
           }
          ],
          "scattergl": [
           {
            "marker": {
             "colorbar": {
              "outlinewidth": 0,
              "ticks": ""
             }
            },
            "type": "scattergl"
           }
          ],
          "scattermapbox": [
           {
            "marker": {
             "colorbar": {
              "outlinewidth": 0,
              "ticks": ""
             }
            },
            "type": "scattermapbox"
           }
          ],
          "scatterpolar": [
           {
            "marker": {
             "colorbar": {
              "outlinewidth": 0,
              "ticks": ""
             }
            },
            "type": "scatterpolar"
           }
          ],
          "scatterpolargl": [
           {
            "marker": {
             "colorbar": {
              "outlinewidth": 0,
              "ticks": ""
             }
            },
            "type": "scatterpolargl"
           }
          ],
          "scatterternary": [
           {
            "marker": {
             "colorbar": {
              "outlinewidth": 0,
              "ticks": ""
             }
            },
            "type": "scatterternary"
           }
          ],
          "surface": [
           {
            "colorbar": {
             "outlinewidth": 0,
             "ticks": ""
            },
            "colorscale": [
             [
              0,
              "#0d0887"
             ],
             [
              0.1111111111111111,
              "#46039f"
             ],
             [
              0.2222222222222222,
              "#7201a8"
             ],
             [
              0.3333333333333333,
              "#9c179e"
             ],
             [
              0.4444444444444444,
              "#bd3786"
             ],
             [
              0.5555555555555556,
              "#d8576b"
             ],
             [
              0.6666666666666666,
              "#ed7953"
             ],
             [
              0.7777777777777778,
              "#fb9f3a"
             ],
             [
              0.8888888888888888,
              "#fdca26"
             ],
             [
              1,
              "#f0f921"
             ]
            ],
            "type": "surface"
           }
          ],
          "table": [
           {
            "cells": {
             "fill": {
              "color": "#EBF0F8"
             },
             "line": {
              "color": "white"
             }
            },
            "header": {
             "fill": {
              "color": "#C8D4E3"
             },
             "line": {
              "color": "white"
             }
            },
            "type": "table"
           }
          ]
         },
         "layout": {
          "annotationdefaults": {
           "arrowcolor": "#2a3f5f",
           "arrowhead": 0,
           "arrowwidth": 1
          },
          "autotypenumbers": "strict",
          "coloraxis": {
           "colorbar": {
            "outlinewidth": 0,
            "ticks": ""
           }
          },
          "colorscale": {
           "diverging": [
            [
             0,
             "#8e0152"
            ],
            [
             0.1,
             "#c51b7d"
            ],
            [
             0.2,
             "#de77ae"
            ],
            [
             0.3,
             "#f1b6da"
            ],
            [
             0.4,
             "#fde0ef"
            ],
            [
             0.5,
             "#f7f7f7"
            ],
            [
             0.6,
             "#e6f5d0"
            ],
            [
             0.7,
             "#b8e186"
            ],
            [
             0.8,
             "#7fbc41"
            ],
            [
             0.9,
             "#4d9221"
            ],
            [
             1,
             "#276419"
            ]
           ],
           "sequential": [
            [
             0,
             "#0d0887"
            ],
            [
             0.1111111111111111,
             "#46039f"
            ],
            [
             0.2222222222222222,
             "#7201a8"
            ],
            [
             0.3333333333333333,
             "#9c179e"
            ],
            [
             0.4444444444444444,
             "#bd3786"
            ],
            [
             0.5555555555555556,
             "#d8576b"
            ],
            [
             0.6666666666666666,
             "#ed7953"
            ],
            [
             0.7777777777777778,
             "#fb9f3a"
            ],
            [
             0.8888888888888888,
             "#fdca26"
            ],
            [
             1,
             "#f0f921"
            ]
           ],
           "sequentialminus": [
            [
             0,
             "#0d0887"
            ],
            [
             0.1111111111111111,
             "#46039f"
            ],
            [
             0.2222222222222222,
             "#7201a8"
            ],
            [
             0.3333333333333333,
             "#9c179e"
            ],
            [
             0.4444444444444444,
             "#bd3786"
            ],
            [
             0.5555555555555556,
             "#d8576b"
            ],
            [
             0.6666666666666666,
             "#ed7953"
            ],
            [
             0.7777777777777778,
             "#fb9f3a"
            ],
            [
             0.8888888888888888,
             "#fdca26"
            ],
            [
             1,
             "#f0f921"
            ]
           ]
          },
          "colorway": [
           "#636efa",
           "#EF553B",
           "#00cc96",
           "#ab63fa",
           "#FFA15A",
           "#19d3f3",
           "#FF6692",
           "#B6E880",
           "#FF97FF",
           "#FECB52"
          ],
          "font": {
           "color": "#2a3f5f"
          },
          "geo": {
           "bgcolor": "white",
           "lakecolor": "white",
           "landcolor": "#E5ECF6",
           "showlakes": true,
           "showland": true,
           "subunitcolor": "white"
          },
          "hoverlabel": {
           "align": "left"
          },
          "hovermode": "closest",
          "mapbox": {
           "style": "light"
          },
          "paper_bgcolor": "white",
          "plot_bgcolor": "#E5ECF6",
          "polar": {
           "angularaxis": {
            "gridcolor": "white",
            "linecolor": "white",
            "ticks": ""
           },
           "bgcolor": "#E5ECF6",
           "radialaxis": {
            "gridcolor": "white",
            "linecolor": "white",
            "ticks": ""
           }
          },
          "scene": {
           "xaxis": {
            "backgroundcolor": "#E5ECF6",
            "gridcolor": "white",
            "gridwidth": 2,
            "linecolor": "white",
            "showbackground": true,
            "ticks": "",
            "zerolinecolor": "white"
           },
           "yaxis": {
            "backgroundcolor": "#E5ECF6",
            "gridcolor": "white",
            "gridwidth": 2,
            "linecolor": "white",
            "showbackground": true,
            "ticks": "",
            "zerolinecolor": "white"
           },
           "zaxis": {
            "backgroundcolor": "#E5ECF6",
            "gridcolor": "white",
            "gridwidth": 2,
            "linecolor": "white",
            "showbackground": true,
            "ticks": "",
            "zerolinecolor": "white"
           }
          },
          "shapedefaults": {
           "line": {
            "color": "#2a3f5f"
           }
          },
          "ternary": {
           "aaxis": {
            "gridcolor": "white",
            "linecolor": "white",
            "ticks": ""
           },
           "baxis": {
            "gridcolor": "white",
            "linecolor": "white",
            "ticks": ""
           },
           "bgcolor": "#E5ECF6",
           "caxis": {
            "gridcolor": "white",
            "linecolor": "white",
            "ticks": ""
           }
          },
          "title": {
           "x": 0.05
          },
          "xaxis": {
           "automargin": true,
           "gridcolor": "white",
           "linecolor": "white",
           "ticks": "",
           "title": {
            "standoff": 15
           },
           "zerolinecolor": "white",
           "zerolinewidth": 2
          },
          "yaxis": {
           "automargin": true,
           "gridcolor": "white",
           "linecolor": "white",
           "ticks": "",
           "title": {
            "standoff": 15
           },
           "zerolinecolor": "white",
           "zerolinewidth": 2
          }
         }
        }
       }
      }
     },
     "metadata": {},
     "output_type": "display_data"
    }
   ],
   "source": [
    "import plotly.express as px\n",
    "import plotly.graph_objects as go\n",
    "\n",
    "calibres = ['4','5','6','7','8','9','10','12','14']\n",
    "\n",
    "fig = go.Figure()\n",
    "fig.add_trace(go.Bar(y = [acerto_4],text = round(100 ,2),name = 'Calibre 4'))\n",
    "fig.add_trace(go.Bar(y = [acerto_5], text = round(91.01,2),name = 'Calibre 5'))\n",
    "fig.add_trace(go.Bar(y = [acerto_6], text = round(55.06,2) ,name = 'Calibre 6'))\n",
    "fig.add_trace(go.Bar(y = [acerto_7], text = round(48.31,2) ,name = 'Calibre 7'))\n",
    "fig.add_trace(go.Bar(y = [acerto_8], text = round(40.45,2) ,name = 'Calibre 8'))\n",
    "fig.add_trace(go.Bar(y = [acerto_9], text = round(67.42,2) ,name = 'Calibre 9'))\n",
    "fig.add_trace(go.Bar(y = [acerto_10], text = round(44.94,2) ,name = 'Calibre 10'))\n",
    "fig.add_trace(go.Bar(y = [acerto_12], text = round(59.55,2) ,name = 'Calibre 12'))\n",
    "fig.add_trace(go.Bar(y = [acerto_14], text = round(100,2) ,name = 'Calibre 14'))\n",
    "\n",
    "fig"
   ]
  },
  {
   "cell_type": "code",
   "execution_count": 59,
   "metadata": {},
   "outputs": [
    {
     "name": "stderr",
     "output_type": "stream",
     "text": [
      "C:\\Users\\BERNAR~1.COL\\AppData\\Local\\Temp/ipykernel_21264/3764584115.py:7: SettingWithCopyWarning:\n",
      "\n",
      "\n",
      "A value is trying to be set on a copy of a slice from a DataFrame.\n",
      "Try using .loc[row_indexer,col_indexer] = value instead\n",
      "\n",
      "See the caveats in the documentation: https://pandas.pydata.org/pandas-docs/stable/user_guide/indexing.html#returning-a-view-versus-a-copy\n",
      "\n",
      "C:\\Users\\BERNAR~1.COL\\AppData\\Local\\Temp/ipykernel_21264/3764584115.py:16: SettingWithCopyWarning:\n",
      "\n",
      "\n",
      "A value is trying to be set on a copy of a slice from a DataFrame.\n",
      "Try using .loc[row_indexer,col_indexer] = value instead\n",
      "\n",
      "See the caveats in the documentation: https://pandas.pydata.org/pandas-docs/stable/user_guide/indexing.html#returning-a-view-versus-a-copy\n",
      "\n",
      "C:\\Users\\BERNAR~1.COL\\AppData\\Local\\Temp/ipykernel_21264/3764584115.py:24: SettingWithCopyWarning:\n",
      "\n",
      "\n",
      "A value is trying to be set on a copy of a slice from a DataFrame.\n",
      "Try using .loc[row_indexer,col_indexer] = value instead\n",
      "\n",
      "See the caveats in the documentation: https://pandas.pydata.org/pandas-docs/stable/user_guide/indexing.html#returning-a-view-versus-a-copy\n",
      "\n",
      "C:\\Users\\BERNAR~1.COL\\AppData\\Local\\Temp/ipykernel_21264/3764584115.py:32: SettingWithCopyWarning:\n",
      "\n",
      "\n",
      "A value is trying to be set on a copy of a slice from a DataFrame.\n",
      "Try using .loc[row_indexer,col_indexer] = value instead\n",
      "\n",
      "See the caveats in the documentation: https://pandas.pydata.org/pandas-docs/stable/user_guide/indexing.html#returning-a-view-versus-a-copy\n",
      "\n",
      "C:\\Users\\BERNAR~1.COL\\AppData\\Local\\Temp/ipykernel_21264/3764584115.py:40: SettingWithCopyWarning:\n",
      "\n",
      "\n",
      "A value is trying to be set on a copy of a slice from a DataFrame.\n",
      "Try using .loc[row_indexer,col_indexer] = value instead\n",
      "\n",
      "See the caveats in the documentation: https://pandas.pydata.org/pandas-docs/stable/user_guide/indexing.html#returning-a-view-versus-a-copy\n",
      "\n",
      "C:\\Users\\BERNAR~1.COL\\AppData\\Local\\Temp/ipykernel_21264/3764584115.py:48: SettingWithCopyWarning:\n",
      "\n",
      "\n",
      "A value is trying to be set on a copy of a slice from a DataFrame.\n",
      "Try using .loc[row_indexer,col_indexer] = value instead\n",
      "\n",
      "See the caveats in the documentation: https://pandas.pydata.org/pandas-docs/stable/user_guide/indexing.html#returning-a-view-versus-a-copy\n",
      "\n",
      "C:\\Users\\BERNAR~1.COL\\AppData\\Local\\Temp/ipykernel_21264/3764584115.py:56: SettingWithCopyWarning:\n",
      "\n",
      "\n",
      "A value is trying to be set on a copy of a slice from a DataFrame.\n",
      "Try using .loc[row_indexer,col_indexer] = value instead\n",
      "\n",
      "See the caveats in the documentation: https://pandas.pydata.org/pandas-docs/stable/user_guide/indexing.html#returning-a-view-versus-a-copy\n",
      "\n",
      "C:\\Users\\BERNAR~1.COL\\AppData\\Local\\Temp/ipykernel_21264/3764584115.py:64: SettingWithCopyWarning:\n",
      "\n",
      "\n",
      "A value is trying to be set on a copy of a slice from a DataFrame.\n",
      "Try using .loc[row_indexer,col_indexer] = value instead\n",
      "\n",
      "See the caveats in the documentation: https://pandas.pydata.org/pandas-docs/stable/user_guide/indexing.html#returning-a-view-versus-a-copy\n",
      "\n",
      "C:\\Users\\BERNAR~1.COL\\AppData\\Local\\Temp/ipykernel_21264/3764584115.py:72: SettingWithCopyWarning:\n",
      "\n",
      "\n",
      "A value is trying to be set on a copy of a slice from a DataFrame.\n",
      "Try using .loc[row_indexer,col_indexer] = value instead\n",
      "\n",
      "See the caveats in the documentation: https://pandas.pydata.org/pandas-docs/stable/user_guide/indexing.html#returning-a-view-versus-a-copy\n",
      "\n"
     ]
    }
   ],
   "source": [
    "def criacao_metrica_cal4(dataframe_3):\n",
    "    if dataframe_3['DIFF_CAL_4'] > 0.2:\n",
    "        return 'Erro'\n",
    "    else:\n",
    "        return 'Acerto'\n",
    "\n",
    "dataframe_3['CAL4_sens1'] = dataframe_3.apply(criacao_metrica_cal4, axis = 1)\n",
    "\n",
    "\n",
    "def criacao_metrica_cal5(dataframe_3):\n",
    "    if dataframe_3['DIFF_CAL_5'] > 0.2:\n",
    "        return 'Erro'\n",
    "    else:\n",
    "        return 'Acerto'\n",
    "\n",
    "dataframe_3['CAL5_sens1'] = dataframe_3.apply(criacao_metrica_cal5, axis = 1)\n",
    "\n",
    "def criacao_metrica_cal6(dataframe_3):\n",
    "    if dataframe_3['DIFF_CAL_6'] > 0.2:\n",
    "        return 'Erro'\n",
    "    else:\n",
    "        return 'Acerto'\n",
    "\n",
    "dataframe_3['CAL6_sens1'] = dataframe_3.apply(criacao_metrica_cal6, axis = 1)\n",
    "\n",
    "def criacao_metrica_cal7(dataframe_3):\n",
    "    if dataframe_3['DIFF_CAL_7'] > 0.2:\n",
    "        return 'Erro'\n",
    "    else:\n",
    "        return 'Acerto'\n",
    "\n",
    "dataframe_3['CAL7_sens1'] = dataframe_3.apply(criacao_metrica_cal7, axis = 1)\n",
    "\n",
    "def criacao_metrica_cal8(dataframe_3):\n",
    "    if dataframe_3['DIFF_CAL_8'] > 0.2:\n",
    "        return 'Erro'\n",
    "    else:\n",
    "        return 'Acerto'\n",
    "\n",
    "dataframe_3['CAL8_sens1'] = dataframe_3.apply(criacao_metrica_cal8, axis = 1)\n",
    "\n",
    "def criacao_metrica_cal9(dataframe_3):\n",
    "    if dataframe_3['DIFF_CAL_9'] > 0.2:\n",
    "        return 'Erro'\n",
    "    else:\n",
    "        return 'Acerto'\n",
    "\n",
    "dataframe_3['CAL9_sens1'] = dataframe_3.apply(criacao_metrica_cal9, axis = 1)\n",
    "\n",
    "def criacao_metrica_cal10(dataframe_3):\n",
    "    if dataframe_3['DIFF_CAL_10'] > 0.2:\n",
    "        return 'Erro'\n",
    "    else:\n",
    "        return 'Acerto'\n",
    "\n",
    "dataframe_3['CAL10_sens1'] = dataframe_3.apply(criacao_metrica_cal10, axis = 1)\n",
    "\n",
    "def criacao_metrica_cal12(dataframe_3):\n",
    "    if dataframe_3['DIFF_CAL_12'] > 0.2:\n",
    "        return 'Erro'\n",
    "    else:\n",
    "        return 'Acerto'\n",
    "\n",
    "dataframe_3['CAL12_sens1'] = dataframe_3.apply(criacao_metrica_cal12, axis = 1)\n",
    "\n",
    "def criacao_metrica_cal14(dataframe_3):\n",
    "    if dataframe_3['DIFF_CAL_14'] > 0.2:\n",
    "        return 'Erro'\n",
    "    else:\n",
    "        return 'Acerto'\n",
    "\n",
    "dataframe_3['CAL14_sens1'] = dataframe_3.apply(criacao_metrica_cal14, axis = 1)"
   ]
  },
  {
   "cell_type": "code",
   "execution_count": 61,
   "metadata": {},
   "outputs": [
    {
     "data": {
      "text/plain": [
       "95.50561797752809"
      ]
     },
     "execution_count": 61,
     "metadata": {},
     "output_type": "execute_result"
    }
   ],
   "source": [
    "acerto_5 = dataframe_3['CAL5_sens1'].value_counts() / len(dataframe_3) * 100\n",
    "acerto_5 = pd.DataFrame(acerto_5)\n",
    "acerto_5 = acerto_5['CAL5_sens1'][0]\n",
    "acerto_5\n",
    "\n"
   ]
  },
  {
   "cell_type": "code",
   "execution_count": 63,
   "metadata": {},
   "outputs": [
    {
     "data": {
      "text/plain": [
       "100.0"
      ]
     },
     "execution_count": 63,
     "metadata": {},
     "output_type": "execute_result"
    }
   ],
   "source": [
    "acerto_4 = dataframe_3['CAL4_sens1'].value_counts() / len(dataframe_3) * 100\n",
    "acerto_4 = pd.DataFrame(acerto_4)\n",
    "acerto_4 = acerto_4['CAL4_sens1'][0]\n",
    "acerto_4\n",
    "\n"
   ]
  },
  {
   "cell_type": "code",
   "execution_count": 65,
   "metadata": {},
   "outputs": [
    {
     "data": {
      "text/plain": [
       "76.40449438202246"
      ]
     },
     "execution_count": 65,
     "metadata": {},
     "output_type": "execute_result"
    }
   ],
   "source": [
    "acerto_6 = dataframe_3['CAL6_sens1'].value_counts() / len(dataframe_3) * 100\n",
    "acerto_6 = pd.DataFrame(acerto_6)\n",
    "acerto_6 = acerto_6['CAL6_sens1'][0]\n",
    "acerto_6"
   ]
  },
  {
   "cell_type": "code",
   "execution_count": 67,
   "metadata": {},
   "outputs": [
    {
     "data": {
      "text/plain": [
       "83.14606741573034"
      ]
     },
     "execution_count": 67,
     "metadata": {},
     "output_type": "execute_result"
    }
   ],
   "source": [
    "acerto_7 = dataframe_3['CAL7_sens1'].value_counts() / len(dataframe_3) * 100\n",
    "acerto_7 = pd.DataFrame(acerto_7)\n",
    "acerto_7 = acerto_7['CAL7_sens1'][0]\n",
    "acerto_7\n"
   ]
  },
  {
   "cell_type": "code",
   "execution_count": 69,
   "metadata": {},
   "outputs": [
    {
     "data": {
      "text/plain": [
       "82.02247191011236"
      ]
     },
     "execution_count": 69,
     "metadata": {},
     "output_type": "execute_result"
    }
   ],
   "source": [
    "acerto_8 = dataframe_3['CAL8_sens1'].value_counts() / len(dataframe_3) * 100\n",
    "acerto_8 = pd.DataFrame(acerto_8)\n",
    "acerto_8 = acerto_8['CAL8_sens1'][0]\n",
    "acerto_8\n",
    "\n"
   ]
  },
  {
   "cell_type": "code",
   "execution_count": 81,
   "metadata": {},
   "outputs": [
    {
     "data": {
      "text/plain": [
       "98.87640449438202"
      ]
     },
     "execution_count": 81,
     "metadata": {},
     "output_type": "execute_result"
    }
   ],
   "source": [
    "acerto_9 = dataframe_3['CAL9_sens1'].value_counts() / len(dataframe_3) * 100\n",
    "acerto_9 = pd.DataFrame(acerto_9)\n",
    "acerto_9 = acerto_9['CAL9_sens1'][0]\n",
    "acerto_9\n",
    "\n"
   ]
  },
  {
   "cell_type": "code",
   "execution_count": 74,
   "metadata": {},
   "outputs": [
    {
     "data": {
      "text/plain": [
       "79.7752808988764"
      ]
     },
     "execution_count": 74,
     "metadata": {},
     "output_type": "execute_result"
    }
   ],
   "source": [
    "acerto_10 = dataframe_3['CAL10_sens1'].value_counts() / len(dataframe_3) * 100\n",
    "acerto_10 = pd.DataFrame(acerto_10)\n",
    "acerto_10 = acerto_10['CAL10_sens1'][0]\n",
    "acerto_10"
   ]
  },
  {
   "cell_type": "code",
   "execution_count": 76,
   "metadata": {},
   "outputs": [
    {
     "data": {
      "text/plain": [
       "86.51685393258427"
      ]
     },
     "execution_count": 76,
     "metadata": {},
     "output_type": "execute_result"
    }
   ],
   "source": [
    "acerto_12 = dataframe_3['CAL12_sens1'].value_counts() / len(dataframe_3) * 100\n",
    "acerto_12 = pd.DataFrame(acerto_12)\n",
    "acerto_12 = acerto_12['CAL12_sens1'][0]\n",
    "acerto_12\n",
    "\n"
   ]
  },
  {
   "cell_type": "code",
   "execution_count": 78,
   "metadata": {},
   "outputs": [
    {
     "data": {
      "text/plain": [
       "100.0"
      ]
     },
     "execution_count": 78,
     "metadata": {},
     "output_type": "execute_result"
    }
   ],
   "source": [
    "acerto_14 = dataframe_3['CAL14_sens1'].value_counts() / len(dataframe_3) * 100\n",
    "acerto_14 = pd.DataFrame(acerto_14)\n",
    "acerto_14 = acerto_14['CAL14_sens1'][0]\n",
    "acerto_14\n",
    "\n"
   ]
  },
  {
   "cell_type": "code",
   "execution_count": 79,
   "metadata": {},
   "outputs": [
    {
     "data": {
      "application/vnd.plotly.v1+json": {
       "config": {
        "plotlyServerURL": "https://plot.ly"
       },
       "data": [
        {
         "name": "Calibre 4",
         "text": "100.0",
         "type": "bar",
         "y": [
          100
         ]
        },
        {
         "name": "Calibre 5",
         "text": "95.51",
         "type": "bar",
         "y": [
          95.50561797752809
         ]
        },
        {
         "name": "Calibre 6",
         "text": "76.4",
         "type": "bar",
         "y": [
          76.40449438202246
         ]
        },
        {
         "name": "Calibre 7",
         "text": "83.15",
         "type": "bar",
         "y": [
          83.14606741573034
         ]
        },
        {
         "name": "Calibre 8",
         "text": "82.02",
         "type": "bar",
         "y": [
          82.02247191011236
         ]
        },
        {
         "name": "Calibre 9",
         "text": "98.88",
         "type": "bar",
         "y": [
          98.87640449438202
         ]
        },
        {
         "name": "Calibre 10",
         "text": "79.78",
         "type": "bar",
         "y": [
          79.7752808988764
         ]
        },
        {
         "name": "Calibre 12",
         "text": "86.52",
         "type": "bar",
         "y": [
          86.51685393258427
         ]
        },
        {
         "name": "Calibre 14",
         "text": "100.0",
         "type": "bar",
         "y": [
          100
         ]
        }
       ],
       "layout": {
        "template": {
         "data": {
          "bar": [
           {
            "error_x": {
             "color": "#2a3f5f"
            },
            "error_y": {
             "color": "#2a3f5f"
            },
            "marker": {
             "line": {
              "color": "#E5ECF6",
              "width": 0.5
             },
             "pattern": {
              "fillmode": "overlay",
              "size": 10,
              "solidity": 0.2
             }
            },
            "type": "bar"
           }
          ],
          "barpolar": [
           {
            "marker": {
             "line": {
              "color": "#E5ECF6",
              "width": 0.5
             },
             "pattern": {
              "fillmode": "overlay",
              "size": 10,
              "solidity": 0.2
             }
            },
            "type": "barpolar"
           }
          ],
          "carpet": [
           {
            "aaxis": {
             "endlinecolor": "#2a3f5f",
             "gridcolor": "white",
             "linecolor": "white",
             "minorgridcolor": "white",
             "startlinecolor": "#2a3f5f"
            },
            "baxis": {
             "endlinecolor": "#2a3f5f",
             "gridcolor": "white",
             "linecolor": "white",
             "minorgridcolor": "white",
             "startlinecolor": "#2a3f5f"
            },
            "type": "carpet"
           }
          ],
          "choropleth": [
           {
            "colorbar": {
             "outlinewidth": 0,
             "ticks": ""
            },
            "type": "choropleth"
           }
          ],
          "contour": [
           {
            "colorbar": {
             "outlinewidth": 0,
             "ticks": ""
            },
            "colorscale": [
             [
              0,
              "#0d0887"
             ],
             [
              0.1111111111111111,
              "#46039f"
             ],
             [
              0.2222222222222222,
              "#7201a8"
             ],
             [
              0.3333333333333333,
              "#9c179e"
             ],
             [
              0.4444444444444444,
              "#bd3786"
             ],
             [
              0.5555555555555556,
              "#d8576b"
             ],
             [
              0.6666666666666666,
              "#ed7953"
             ],
             [
              0.7777777777777778,
              "#fb9f3a"
             ],
             [
              0.8888888888888888,
              "#fdca26"
             ],
             [
              1,
              "#f0f921"
             ]
            ],
            "type": "contour"
           }
          ],
          "contourcarpet": [
           {
            "colorbar": {
             "outlinewidth": 0,
             "ticks": ""
            },
            "type": "contourcarpet"
           }
          ],
          "heatmap": [
           {
            "colorbar": {
             "outlinewidth": 0,
             "ticks": ""
            },
            "colorscale": [
             [
              0,
              "#0d0887"
             ],
             [
              0.1111111111111111,
              "#46039f"
             ],
             [
              0.2222222222222222,
              "#7201a8"
             ],
             [
              0.3333333333333333,
              "#9c179e"
             ],
             [
              0.4444444444444444,
              "#bd3786"
             ],
             [
              0.5555555555555556,
              "#d8576b"
             ],
             [
              0.6666666666666666,
              "#ed7953"
             ],
             [
              0.7777777777777778,
              "#fb9f3a"
             ],
             [
              0.8888888888888888,
              "#fdca26"
             ],
             [
              1,
              "#f0f921"
             ]
            ],
            "type": "heatmap"
           }
          ],
          "heatmapgl": [
           {
            "colorbar": {
             "outlinewidth": 0,
             "ticks": ""
            },
            "colorscale": [
             [
              0,
              "#0d0887"
             ],
             [
              0.1111111111111111,
              "#46039f"
             ],
             [
              0.2222222222222222,
              "#7201a8"
             ],
             [
              0.3333333333333333,
              "#9c179e"
             ],
             [
              0.4444444444444444,
              "#bd3786"
             ],
             [
              0.5555555555555556,
              "#d8576b"
             ],
             [
              0.6666666666666666,
              "#ed7953"
             ],
             [
              0.7777777777777778,
              "#fb9f3a"
             ],
             [
              0.8888888888888888,
              "#fdca26"
             ],
             [
              1,
              "#f0f921"
             ]
            ],
            "type": "heatmapgl"
           }
          ],
          "histogram": [
           {
            "marker": {
             "pattern": {
              "fillmode": "overlay",
              "size": 10,
              "solidity": 0.2
             }
            },
            "type": "histogram"
           }
          ],
          "histogram2d": [
           {
            "colorbar": {
             "outlinewidth": 0,
             "ticks": ""
            },
            "colorscale": [
             [
              0,
              "#0d0887"
             ],
             [
              0.1111111111111111,
              "#46039f"
             ],
             [
              0.2222222222222222,
              "#7201a8"
             ],
             [
              0.3333333333333333,
              "#9c179e"
             ],
             [
              0.4444444444444444,
              "#bd3786"
             ],
             [
              0.5555555555555556,
              "#d8576b"
             ],
             [
              0.6666666666666666,
              "#ed7953"
             ],
             [
              0.7777777777777778,
              "#fb9f3a"
             ],
             [
              0.8888888888888888,
              "#fdca26"
             ],
             [
              1,
              "#f0f921"
             ]
            ],
            "type": "histogram2d"
           }
          ],
          "histogram2dcontour": [
           {
            "colorbar": {
             "outlinewidth": 0,
             "ticks": ""
            },
            "colorscale": [
             [
              0,
              "#0d0887"
             ],
             [
              0.1111111111111111,
              "#46039f"
             ],
             [
              0.2222222222222222,
              "#7201a8"
             ],
             [
              0.3333333333333333,
              "#9c179e"
             ],
             [
              0.4444444444444444,
              "#bd3786"
             ],
             [
              0.5555555555555556,
              "#d8576b"
             ],
             [
              0.6666666666666666,
              "#ed7953"
             ],
             [
              0.7777777777777778,
              "#fb9f3a"
             ],
             [
              0.8888888888888888,
              "#fdca26"
             ],
             [
              1,
              "#f0f921"
             ]
            ],
            "type": "histogram2dcontour"
           }
          ],
          "mesh3d": [
           {
            "colorbar": {
             "outlinewidth": 0,
             "ticks": ""
            },
            "type": "mesh3d"
           }
          ],
          "parcoords": [
           {
            "line": {
             "colorbar": {
              "outlinewidth": 0,
              "ticks": ""
             }
            },
            "type": "parcoords"
           }
          ],
          "pie": [
           {
            "automargin": true,
            "type": "pie"
           }
          ],
          "scatter": [
           {
            "marker": {
             "colorbar": {
              "outlinewidth": 0,
              "ticks": ""
             }
            },
            "type": "scatter"
           }
          ],
          "scatter3d": [
           {
            "line": {
             "colorbar": {
              "outlinewidth": 0,
              "ticks": ""
             }
            },
            "marker": {
             "colorbar": {
              "outlinewidth": 0,
              "ticks": ""
             }
            },
            "type": "scatter3d"
           }
          ],
          "scattercarpet": [
           {
            "marker": {
             "colorbar": {
              "outlinewidth": 0,
              "ticks": ""
             }
            },
            "type": "scattercarpet"
           }
          ],
          "scattergeo": [
           {
            "marker": {
             "colorbar": {
              "outlinewidth": 0,
              "ticks": ""
             }
            },
            "type": "scattergeo"
           }
          ],
          "scattergl": [
           {
            "marker": {
             "colorbar": {
              "outlinewidth": 0,
              "ticks": ""
             }
            },
            "type": "scattergl"
           }
          ],
          "scattermapbox": [
           {
            "marker": {
             "colorbar": {
              "outlinewidth": 0,
              "ticks": ""
             }
            },
            "type": "scattermapbox"
           }
          ],
          "scatterpolar": [
           {
            "marker": {
             "colorbar": {
              "outlinewidth": 0,
              "ticks": ""
             }
            },
            "type": "scatterpolar"
           }
          ],
          "scatterpolargl": [
           {
            "marker": {
             "colorbar": {
              "outlinewidth": 0,
              "ticks": ""
             }
            },
            "type": "scatterpolargl"
           }
          ],
          "scatterternary": [
           {
            "marker": {
             "colorbar": {
              "outlinewidth": 0,
              "ticks": ""
             }
            },
            "type": "scatterternary"
           }
          ],
          "surface": [
           {
            "colorbar": {
             "outlinewidth": 0,
             "ticks": ""
            },
            "colorscale": [
             [
              0,
              "#0d0887"
             ],
             [
              0.1111111111111111,
              "#46039f"
             ],
             [
              0.2222222222222222,
              "#7201a8"
             ],
             [
              0.3333333333333333,
              "#9c179e"
             ],
             [
              0.4444444444444444,
              "#bd3786"
             ],
             [
              0.5555555555555556,
              "#d8576b"
             ],
             [
              0.6666666666666666,
              "#ed7953"
             ],
             [
              0.7777777777777778,
              "#fb9f3a"
             ],
             [
              0.8888888888888888,
              "#fdca26"
             ],
             [
              1,
              "#f0f921"
             ]
            ],
            "type": "surface"
           }
          ],
          "table": [
           {
            "cells": {
             "fill": {
              "color": "#EBF0F8"
             },
             "line": {
              "color": "white"
             }
            },
            "header": {
             "fill": {
              "color": "#C8D4E3"
             },
             "line": {
              "color": "white"
             }
            },
            "type": "table"
           }
          ]
         },
         "layout": {
          "annotationdefaults": {
           "arrowcolor": "#2a3f5f",
           "arrowhead": 0,
           "arrowwidth": 1
          },
          "autotypenumbers": "strict",
          "coloraxis": {
           "colorbar": {
            "outlinewidth": 0,
            "ticks": ""
           }
          },
          "colorscale": {
           "diverging": [
            [
             0,
             "#8e0152"
            ],
            [
             0.1,
             "#c51b7d"
            ],
            [
             0.2,
             "#de77ae"
            ],
            [
             0.3,
             "#f1b6da"
            ],
            [
             0.4,
             "#fde0ef"
            ],
            [
             0.5,
             "#f7f7f7"
            ],
            [
             0.6,
             "#e6f5d0"
            ],
            [
             0.7,
             "#b8e186"
            ],
            [
             0.8,
             "#7fbc41"
            ],
            [
             0.9,
             "#4d9221"
            ],
            [
             1,
             "#276419"
            ]
           ],
           "sequential": [
            [
             0,
             "#0d0887"
            ],
            [
             0.1111111111111111,
             "#46039f"
            ],
            [
             0.2222222222222222,
             "#7201a8"
            ],
            [
             0.3333333333333333,
             "#9c179e"
            ],
            [
             0.4444444444444444,
             "#bd3786"
            ],
            [
             0.5555555555555556,
             "#d8576b"
            ],
            [
             0.6666666666666666,
             "#ed7953"
            ],
            [
             0.7777777777777778,
             "#fb9f3a"
            ],
            [
             0.8888888888888888,
             "#fdca26"
            ],
            [
             1,
             "#f0f921"
            ]
           ],
           "sequentialminus": [
            [
             0,
             "#0d0887"
            ],
            [
             0.1111111111111111,
             "#46039f"
            ],
            [
             0.2222222222222222,
             "#7201a8"
            ],
            [
             0.3333333333333333,
             "#9c179e"
            ],
            [
             0.4444444444444444,
             "#bd3786"
            ],
            [
             0.5555555555555556,
             "#d8576b"
            ],
            [
             0.6666666666666666,
             "#ed7953"
            ],
            [
             0.7777777777777778,
             "#fb9f3a"
            ],
            [
             0.8888888888888888,
             "#fdca26"
            ],
            [
             1,
             "#f0f921"
            ]
           ]
          },
          "colorway": [
           "#636efa",
           "#EF553B",
           "#00cc96",
           "#ab63fa",
           "#FFA15A",
           "#19d3f3",
           "#FF6692",
           "#B6E880",
           "#FF97FF",
           "#FECB52"
          ],
          "font": {
           "color": "#2a3f5f"
          },
          "geo": {
           "bgcolor": "white",
           "lakecolor": "white",
           "landcolor": "#E5ECF6",
           "showlakes": true,
           "showland": true,
           "subunitcolor": "white"
          },
          "hoverlabel": {
           "align": "left"
          },
          "hovermode": "closest",
          "mapbox": {
           "style": "light"
          },
          "paper_bgcolor": "white",
          "plot_bgcolor": "#E5ECF6",
          "polar": {
           "angularaxis": {
            "gridcolor": "white",
            "linecolor": "white",
            "ticks": ""
           },
           "bgcolor": "#E5ECF6",
           "radialaxis": {
            "gridcolor": "white",
            "linecolor": "white",
            "ticks": ""
           }
          },
          "scene": {
           "xaxis": {
            "backgroundcolor": "#E5ECF6",
            "gridcolor": "white",
            "gridwidth": 2,
            "linecolor": "white",
            "showbackground": true,
            "ticks": "",
            "zerolinecolor": "white"
           },
           "yaxis": {
            "backgroundcolor": "#E5ECF6",
            "gridcolor": "white",
            "gridwidth": 2,
            "linecolor": "white",
            "showbackground": true,
            "ticks": "",
            "zerolinecolor": "white"
           },
           "zaxis": {
            "backgroundcolor": "#E5ECF6",
            "gridcolor": "white",
            "gridwidth": 2,
            "linecolor": "white",
            "showbackground": true,
            "ticks": "",
            "zerolinecolor": "white"
           }
          },
          "shapedefaults": {
           "line": {
            "color": "#2a3f5f"
           }
          },
          "ternary": {
           "aaxis": {
            "gridcolor": "white",
            "linecolor": "white",
            "ticks": ""
           },
           "baxis": {
            "gridcolor": "white",
            "linecolor": "white",
            "ticks": ""
           },
           "bgcolor": "#E5ECF6",
           "caxis": {
            "gridcolor": "white",
            "linecolor": "white",
            "ticks": ""
           }
          },
          "title": {
           "x": 0.05
          },
          "xaxis": {
           "automargin": true,
           "gridcolor": "white",
           "linecolor": "white",
           "ticks": "",
           "title": {
            "standoff": 15
           },
           "zerolinecolor": "white",
           "zerolinewidth": 2
          },
          "yaxis": {
           "automargin": true,
           "gridcolor": "white",
           "linecolor": "white",
           "ticks": "",
           "title": {
            "standoff": 15
           },
           "zerolinecolor": "white",
           "zerolinewidth": 2
          }
         }
        }
       }
      }
     },
     "metadata": {},
     "output_type": "display_data"
    }
   ],
   "source": [
    "import plotly.express as px\n",
    "import plotly.graph_objects as go\n",
    "\n",
    "calibres = ['4','5','6','7','8','9','10','12','14']\n",
    "\n",
    "fig = go.Figure()\n",
    "fig.add_trace(go.Bar(y = [acerto_4],text = round(acerto_4 ,2),name = 'Calibre 4'))\n",
    "fig.add_trace(go.Bar(y = [acerto_5], text = round(acerto_5,2),name = 'Calibre 5'))\n",
    "fig.add_trace(go.Bar(y = [acerto_6], text = round(acerto_6,2) ,name = 'Calibre 6'))\n",
    "fig.add_trace(go.Bar(y = [acerto_7], text = round(acerto_7,2) ,name = 'Calibre 7'))\n",
    "fig.add_trace(go.Bar(y = [acerto_8], text = round(acerto_8,2) ,name = 'Calibre 8'))\n",
    "fig.add_trace(go.Bar(y = [acerto_9], text = round(acerto_9,2) ,name = 'Calibre 9'))\n",
    "fig.add_trace(go.Bar(y = [acerto_10], text = round(acerto_10,2) ,name = 'Calibre 10'))\n",
    "fig.add_trace(go.Bar(y = [acerto_12], text = round(acerto_12,2) ,name = 'Calibre 12'))\n",
    "fig.add_trace(go.Bar(y = [acerto_14], text = round(acerto_14,2) ,name = 'Calibre 14'))\n",
    "fig"
   ]
  },
  {
   "cell_type": "code",
   "execution_count": 82,
   "metadata": {},
   "outputs": [],
   "source": [
    "############### AVALIANDO NOSSO METODO DE PREVISAO"
   ]
  },
  {
   "cell_type": "code",
   "execution_count": 87,
   "metadata": {},
   "outputs": [],
   "source": [
    "#dataframe_3.to_excel('inputs_modelo_pred.xlsx')"
   ]
  },
  {
   "cell_type": "code",
   "execution_count": 89,
   "metadata": {},
   "outputs": [],
   "source": [
    "#### FAZER PREVISAO PRO PRIMEIRO CONTROLE E APLICAR DEAIMENTO NO EXCEL ATE O QUARTO CONTROLE"
   ]
  },
  {
   "cell_type": "code",
   "execution_count": 265,
   "metadata": {},
   "outputs": [],
   "source": [
    "from sklearn.model_selection import train_test_split as tts\n",
    "from xgboost import XGBRegressor\n",
    "from sklearn.metrics import r2_score\n",
    "from category_encoders.ordinal import OrdinalEncoder\n",
    "\n",
    "\n",
    "\n",
    "################################ TREINAMENTO DO MODELO ################################\n",
    "\n",
    "df5 = pd.read_excel('Data_set_final_modelo_pred.xlsx')\n",
    "\n",
    "\n",
    "\n",
    "x = df5.drop(columns = ['Calibre','conca','Unnamed: 0','SAFRA','TALHAO'])\n",
    "y = df5['Calibre']\n",
    "\n",
    "xtrain, xtest, ytrain, ytest = tts(x,y, test_size = 0.2, random_state = 0)\n",
    "enc1 = OrdinalEncoder(cols=['VALOR_CALIBRE','VARIEDADE'])\n",
    "\n",
    "enc1.fit(xtrain)\n",
    "\n",
    "xtrain_enc = enc1.transform(xtrain)\n",
    "\n",
    "xtest_enc = enc1.transform(xtest)\n",
    "\n",
    "xgb = XGBRegressor(max_depth = 4, n_estimators = 12)\n",
    "xgb.fit(xtrain_enc, ytrain)\n",
    "\n",
    "\n",
    "pred = xgb.predict(xtest_enc)\n",
    "\n",
    "\n",
    "error = pred - ytest\n",
    "output2 = enc1.inverse_transform(xtest_enc)\n",
    "output2['Real'] = ytest\n",
    "output2['Pred'] = pred\n",
    "output2['Error'] =  output2['Pred'] - output2['Real']"
   ]
  },
  {
   "cell_type": "code",
   "execution_count": 268,
   "metadata": {},
   "outputs": [
    {
     "data": {
      "text/html": [
       "<div>\n",
       "<style scoped>\n",
       "    .dataframe tbody tr th:only-of-type {\n",
       "        vertical-align: middle;\n",
       "    }\n",
       "\n",
       "    .dataframe tbody tr th {\n",
       "        vertical-align: top;\n",
       "    }\n",
       "\n",
       "    .dataframe thead th {\n",
       "        text-align: right;\n",
       "    }\n",
       "</style>\n",
       "<table border=\"1\" class=\"dataframe\">\n",
       "  <thead>\n",
       "    <tr style=\"text-align: right;\">\n",
       "      <th></th>\n",
       "      <th>VARIEDADE</th>\n",
       "      <th>VALOR_CALIBRE</th>\n",
       "      <th>Historico_calibre</th>\n",
       "    </tr>\n",
       "  </thead>\n",
       "  <tbody>\n",
       "    <tr>\n",
       "      <th>893</th>\n",
       "      <td>KENT</td>\n",
       "      <td>CALIBRE_9</td>\n",
       "      <td>9.3125</td>\n",
       "    </tr>\n",
       "    <tr>\n",
       "      <th>997</th>\n",
       "      <td>KEITT</td>\n",
       "      <td>CALIBRE_8</td>\n",
       "      <td>13.9500</td>\n",
       "    </tr>\n",
       "    <tr>\n",
       "      <th>1343</th>\n",
       "      <td>TOMMY</td>\n",
       "      <td>CALIBRE_6</td>\n",
       "      <td>2.9000</td>\n",
       "    </tr>\n",
       "    <tr>\n",
       "      <th>2066</th>\n",
       "      <td>KEITT</td>\n",
       "      <td>CALIBRE_10</td>\n",
       "      <td>0.2500</td>\n",
       "    </tr>\n",
       "    <tr>\n",
       "      <th>300</th>\n",
       "      <td>KEITT</td>\n",
       "      <td>CALIBRE_14</td>\n",
       "      <td>0.2000</td>\n",
       "    </tr>\n",
       "    <tr>\n",
       "      <th>...</th>\n",
       "      <td>...</td>\n",
       "      <td>...</td>\n",
       "      <td>...</td>\n",
       "    </tr>\n",
       "    <tr>\n",
       "      <th>1033</th>\n",
       "      <td>KENT</td>\n",
       "      <td>CALIBRE_12</td>\n",
       "      <td>5.8500</td>\n",
       "    </tr>\n",
       "    <tr>\n",
       "      <th>1731</th>\n",
       "      <td>KEITT</td>\n",
       "      <td>CALIBRE_10</td>\n",
       "      <td>3.3500</td>\n",
       "    </tr>\n",
       "    <tr>\n",
       "      <th>763</th>\n",
       "      <td>TOMMY</td>\n",
       "      <td>CALIBRE_10</td>\n",
       "      <td>38.2000</td>\n",
       "    </tr>\n",
       "    <tr>\n",
       "      <th>835</th>\n",
       "      <td>TOMMY</td>\n",
       "      <td>CALIBRE_14</td>\n",
       "      <td>0.2000</td>\n",
       "    </tr>\n",
       "    <tr>\n",
       "      <th>1653</th>\n",
       "      <td>KEITT</td>\n",
       "      <td>CALIBRE_7</td>\n",
       "      <td>26.0500</td>\n",
       "    </tr>\n",
       "  </tbody>\n",
       "</table>\n",
       "<p>1940 rows × 3 columns</p>\n",
       "</div>"
      ],
      "text/plain": [
       "     VARIEDADE VALOR_CALIBRE  Historico_calibre\n",
       "893       KENT     CALIBRE_9             9.3125\n",
       "997      KEITT     CALIBRE_8            13.9500\n",
       "1343     TOMMY     CALIBRE_6             2.9000\n",
       "2066     KEITT    CALIBRE_10             0.2500\n",
       "300      KEITT    CALIBRE_14             0.2000\n",
       "...        ...           ...                ...\n",
       "1033      KENT    CALIBRE_12             5.8500\n",
       "1731     KEITT    CALIBRE_10             3.3500\n",
       "763      TOMMY    CALIBRE_10            38.2000\n",
       "835      TOMMY    CALIBRE_14             0.2000\n",
       "1653     KEITT     CALIBRE_7            26.0500\n",
       "\n",
       "[1940 rows x 3 columns]"
      ]
     },
     "execution_count": 268,
     "metadata": {},
     "output_type": "execute_result"
    }
   ],
   "source": [
    "xtrain"
   ]
  },
  {
   "cell_type": "code",
   "execution_count": 269,
   "metadata": {},
   "outputs": [
    {
     "data": {
      "text/plain": [
       "TOMMY     921\n",
       "KEITT     586\n",
       "KENT      350\n",
       "PALMER     83\n",
       "Name: VARIEDADE, dtype: int64"
      ]
     },
     "execution_count": 269,
     "metadata": {},
     "output_type": "execute_result"
    }
   ],
   "source": [
    "xtrain['VARIEDADE'].value_counts()"
   ]
  },
  {
   "cell_type": "code",
   "execution_count": 270,
   "metadata": {},
   "outputs": [
    {
     "data": {
      "text/plain": [
       "CALIBRE_14    342\n",
       "CALIBRE_5     303\n",
       "CALIBRE_12    263\n",
       "CALIBRE_9     233\n",
       "CALIBRE_6     230\n",
       "CALIBRE_10    219\n",
       "CALIBRE_7     197\n",
       "CALIBRE_8     153\n",
       "Name: VALOR_CALIBRE, dtype: int64"
      ]
     },
     "execution_count": 270,
     "metadata": {},
     "output_type": "execute_result"
    }
   ],
   "source": [
    "xtrain['VALOR_CALIBRE'].value_counts()"
   ]
  },
  {
   "cell_type": "code",
   "execution_count": null,
   "metadata": {},
   "outputs": [],
   "source": []
  },
  {
   "cell_type": "code",
   "execution_count": 271,
   "metadata": {},
   "outputs": [],
   "source": [
    "inputs = pd.read_excel('VALIDAÇÃO_CALIBRES_CAMPO_HISTORICO.xlsx', sheet_name = 'inputs_prontos')"
   ]
  },
  {
   "cell_type": "code",
   "execution_count": 272,
   "metadata": {},
   "outputs": [
    {
     "data": {
      "text/html": [
       "<div>\n",
       "<style scoped>\n",
       "    .dataframe tbody tr th:only-of-type {\n",
       "        vertical-align: middle;\n",
       "    }\n",
       "\n",
       "    .dataframe tbody tr th {\n",
       "        vertical-align: top;\n",
       "    }\n",
       "\n",
       "    .dataframe thead th {\n",
       "        text-align: right;\n",
       "    }\n",
       "</style>\n",
       "<table border=\"1\" class=\"dataframe\">\n",
       "  <thead>\n",
       "    <tr style=\"text-align: right;\">\n",
       "      <th></th>\n",
       "      <th>SAFRA</th>\n",
       "      <th>VARIEDADE</th>\n",
       "      <th>TALHAO</th>\n",
       "      <th>CONTROLE</th>\n",
       "      <th>DATA_EMBALAGEM</th>\n",
       "      <th>MÊS</th>\n",
       "      <th>TALHAO_AMOSTRAGEM</th>\n",
       "      <th>ordem_controle</th>\n",
       "      <th>historico_ou_nao</th>\n",
       "      <th>VALOR_CALIBRE</th>\n",
       "      <th>Historico_calibre</th>\n",
       "      <th>hist_100</th>\n",
       "      <th>TALHAO.1</th>\n",
       "    </tr>\n",
       "  </thead>\n",
       "  <tbody>\n",
       "    <tr>\n",
       "      <th>0</th>\n",
       "      <td>M21</td>\n",
       "      <td>KEITT</td>\n",
       "      <td>AGD-013V1</td>\n",
       "      <td>551</td>\n",
       "      <td>2021-05-25</td>\n",
       "      <td>5</td>\n",
       "      <td>AGD-013V1</td>\n",
       "      <td>1</td>\n",
       "      <td>hist</td>\n",
       "      <td>CALIBRE_4</td>\n",
       "      <td>0.0</td>\n",
       "      <td>0.0</td>\n",
       "      <td>AGD-013V1</td>\n",
       "    </tr>\n",
       "    <tr>\n",
       "      <th>1</th>\n",
       "      <td>M21</td>\n",
       "      <td>KEITT</td>\n",
       "      <td>AGD-013V1</td>\n",
       "      <td>551</td>\n",
       "      <td>2021-05-25</td>\n",
       "      <td>5</td>\n",
       "      <td>AGD-013V1</td>\n",
       "      <td>1</td>\n",
       "      <td>hist</td>\n",
       "      <td>CALIBRE_5</td>\n",
       "      <td>54.1</td>\n",
       "      <td>54.1</td>\n",
       "      <td>AGD-013V1</td>\n",
       "    </tr>\n",
       "    <tr>\n",
       "      <th>2</th>\n",
       "      <td>M21</td>\n",
       "      <td>KEITT</td>\n",
       "      <td>AGD-013V1</td>\n",
       "      <td>551</td>\n",
       "      <td>2021-05-25</td>\n",
       "      <td>5</td>\n",
       "      <td>AGD-013V1</td>\n",
       "      <td>1</td>\n",
       "      <td>hist</td>\n",
       "      <td>CALIBRE_6</td>\n",
       "      <td>38.7</td>\n",
       "      <td>38.7</td>\n",
       "      <td>AGD-013V1</td>\n",
       "    </tr>\n",
       "    <tr>\n",
       "      <th>3</th>\n",
       "      <td>M21</td>\n",
       "      <td>KEITT</td>\n",
       "      <td>AGD-013V1</td>\n",
       "      <td>551</td>\n",
       "      <td>2021-05-25</td>\n",
       "      <td>5</td>\n",
       "      <td>AGD-013V1</td>\n",
       "      <td>1</td>\n",
       "      <td>hist</td>\n",
       "      <td>CALIBRE_7</td>\n",
       "      <td>6.3</td>\n",
       "      <td>6.3</td>\n",
       "      <td>AGD-013V1</td>\n",
       "    </tr>\n",
       "    <tr>\n",
       "      <th>4</th>\n",
       "      <td>M21</td>\n",
       "      <td>KEITT</td>\n",
       "      <td>AGD-013V1</td>\n",
       "      <td>551</td>\n",
       "      <td>2021-05-25</td>\n",
       "      <td>5</td>\n",
       "      <td>AGD-013V1</td>\n",
       "      <td>1</td>\n",
       "      <td>hist</td>\n",
       "      <td>CALIBRE_8</td>\n",
       "      <td>0.9</td>\n",
       "      <td>0.9</td>\n",
       "      <td>AGD-013V1</td>\n",
       "    </tr>\n",
       "    <tr>\n",
       "      <th>...</th>\n",
       "      <td>...</td>\n",
       "      <td>...</td>\n",
       "      <td>...</td>\n",
       "      <td>...</td>\n",
       "      <td>...</td>\n",
       "      <td>...</td>\n",
       "      <td>...</td>\n",
       "      <td>...</td>\n",
       "      <td>...</td>\n",
       "      <td>...</td>\n",
       "      <td>...</td>\n",
       "      <td>...</td>\n",
       "      <td>...</td>\n",
       "    </tr>\n",
       "    <tr>\n",
       "      <th>270</th>\n",
       "      <td>M22</td>\n",
       "      <td>TOMMY</td>\n",
       "      <td>FI-018</td>\n",
       "      <td>405</td>\n",
       "      <td>2022-05-20</td>\n",
       "      <td>5</td>\n",
       "      <td>FI-018</td>\n",
       "      <td>1</td>\n",
       "      <td>new</td>\n",
       "      <td>CALIBRE_10</td>\n",
       "      <td>26.3</td>\n",
       "      <td>26.3</td>\n",
       "      <td>FI-018</td>\n",
       "    </tr>\n",
       "    <tr>\n",
       "      <th>271</th>\n",
       "      <td>M22</td>\n",
       "      <td>TOMMY</td>\n",
       "      <td>FI-018</td>\n",
       "      <td>405</td>\n",
       "      <td>2022-05-20</td>\n",
       "      <td>5</td>\n",
       "      <td>FI-018</td>\n",
       "      <td>1</td>\n",
       "      <td>new</td>\n",
       "      <td>CALIBRE_11</td>\n",
       "      <td>0.0</td>\n",
       "      <td>0.0</td>\n",
       "      <td>FI-018</td>\n",
       "    </tr>\n",
       "    <tr>\n",
       "      <th>272</th>\n",
       "      <td>M22</td>\n",
       "      <td>TOMMY</td>\n",
       "      <td>FI-018</td>\n",
       "      <td>405</td>\n",
       "      <td>2022-05-20</td>\n",
       "      <td>5</td>\n",
       "      <td>FI-018</td>\n",
       "      <td>1</td>\n",
       "      <td>new</td>\n",
       "      <td>CALIBRE_12</td>\n",
       "      <td>3.8</td>\n",
       "      <td>3.8</td>\n",
       "      <td>FI-018</td>\n",
       "    </tr>\n",
       "    <tr>\n",
       "      <th>273</th>\n",
       "      <td>M22</td>\n",
       "      <td>TOMMY</td>\n",
       "      <td>FI-018</td>\n",
       "      <td>405</td>\n",
       "      <td>2022-05-20</td>\n",
       "      <td>5</td>\n",
       "      <td>FI-018</td>\n",
       "      <td>1</td>\n",
       "      <td>new</td>\n",
       "      <td>CALIBRE_13</td>\n",
       "      <td>0.0</td>\n",
       "      <td>0.0</td>\n",
       "      <td>FI-018</td>\n",
       "    </tr>\n",
       "    <tr>\n",
       "      <th>274</th>\n",
       "      <td>M22</td>\n",
       "      <td>TOMMY</td>\n",
       "      <td>FI-018</td>\n",
       "      <td>405</td>\n",
       "      <td>2022-05-20</td>\n",
       "      <td>5</td>\n",
       "      <td>FI-018</td>\n",
       "      <td>1</td>\n",
       "      <td>new</td>\n",
       "      <td>CALIBRE_14</td>\n",
       "      <td>0.0</td>\n",
       "      <td>0.0</td>\n",
       "      <td>FI-018</td>\n",
       "    </tr>\n",
       "  </tbody>\n",
       "</table>\n",
       "<p>275 rows × 13 columns</p>\n",
       "</div>"
      ],
      "text/plain": [
       "    SAFRA VARIEDADE     TALHAO  CONTROLE DATA_EMBALAGEM  MÊS  \\\n",
       "0     M21     KEITT  AGD-013V1       551     2021-05-25    5   \n",
       "1     M21     KEITT  AGD-013V1       551     2021-05-25    5   \n",
       "2     M21     KEITT  AGD-013V1       551     2021-05-25    5   \n",
       "3     M21     KEITT  AGD-013V1       551     2021-05-25    5   \n",
       "4     M21     KEITT  AGD-013V1       551     2021-05-25    5   \n",
       "..    ...       ...        ...       ...            ...  ...   \n",
       "270   M22     TOMMY     FI-018       405     2022-05-20    5   \n",
       "271   M22     TOMMY     FI-018       405     2022-05-20    5   \n",
       "272   M22     TOMMY     FI-018       405     2022-05-20    5   \n",
       "273   M22     TOMMY     FI-018       405     2022-05-20    5   \n",
       "274   M22     TOMMY     FI-018       405     2022-05-20    5   \n",
       "\n",
       "    TALHAO_AMOSTRAGEM  ordem_controle historico_ou_nao VALOR_CALIBRE  \\\n",
       "0           AGD-013V1               1             hist     CALIBRE_4   \n",
       "1           AGD-013V1               1             hist     CALIBRE_5   \n",
       "2           AGD-013V1               1             hist     CALIBRE_6   \n",
       "3           AGD-013V1               1             hist     CALIBRE_7   \n",
       "4           AGD-013V1               1             hist     CALIBRE_8   \n",
       "..                ...             ...              ...           ...   \n",
       "270            FI-018               1              new    CALIBRE_10   \n",
       "271            FI-018               1              new    CALIBRE_11   \n",
       "272            FI-018               1              new    CALIBRE_12   \n",
       "273            FI-018               1              new    CALIBRE_13   \n",
       "274            FI-018               1              new    CALIBRE_14   \n",
       "\n",
       "     Historico_calibre  hist_100   TALHAO.1  \n",
       "0                  0.0       0.0  AGD-013V1  \n",
       "1                 54.1      54.1  AGD-013V1  \n",
       "2                 38.7      38.7  AGD-013V1  \n",
       "3                  6.3       6.3  AGD-013V1  \n",
       "4                  0.9       0.9  AGD-013V1  \n",
       "..                 ...       ...        ...  \n",
       "270               26.3      26.3     FI-018  \n",
       "271                0.0       0.0     FI-018  \n",
       "272                3.8       3.8     FI-018  \n",
       "273                0.0       0.0     FI-018  \n",
       "274                0.0       0.0     FI-018  \n",
       "\n",
       "[275 rows x 13 columns]"
      ]
     },
     "execution_count": 272,
     "metadata": {},
     "output_type": "execute_result"
    }
   ],
   "source": [
    "inputs['Historico_calibre'] = inputs['Historico_calibre'] * 100\n",
    "inputs"
   ]
  },
  {
   "cell_type": "code",
   "execution_count": 273,
   "metadata": {},
   "outputs": [
    {
     "data": {
      "text/html": [
       "<div>\n",
       "<style scoped>\n",
       "    .dataframe tbody tr th:only-of-type {\n",
       "        vertical-align: middle;\n",
       "    }\n",
       "\n",
       "    .dataframe tbody tr th {\n",
       "        vertical-align: top;\n",
       "    }\n",
       "\n",
       "    .dataframe thead th {\n",
       "        text-align: right;\n",
       "    }\n",
       "</style>\n",
       "<table border=\"1\" class=\"dataframe\">\n",
       "  <thead>\n",
       "    <tr style=\"text-align: right;\">\n",
       "      <th></th>\n",
       "      <th>SAFRA</th>\n",
       "      <th>VARIEDADE</th>\n",
       "      <th>TALHAO</th>\n",
       "      <th>CONTROLE</th>\n",
       "      <th>DATA_EMBALAGEM</th>\n",
       "      <th>MÊS</th>\n",
       "      <th>TALHAO_AMOSTRAGEM</th>\n",
       "      <th>ordem_controle</th>\n",
       "      <th>historico_ou_nao</th>\n",
       "      <th>VALOR_CALIBRE</th>\n",
       "      <th>Historico_calibre</th>\n",
       "      <th>hist_100</th>\n",
       "      <th>TALHAO.1</th>\n",
       "    </tr>\n",
       "  </thead>\n",
       "  <tbody>\n",
       "    <tr>\n",
       "      <th>0</th>\n",
       "      <td>M21</td>\n",
       "      <td>KEITT</td>\n",
       "      <td>AGD-013V1</td>\n",
       "      <td>551</td>\n",
       "      <td>2021-05-25</td>\n",
       "      <td>5</td>\n",
       "      <td>AGD-013V1</td>\n",
       "      <td>1</td>\n",
       "      <td>hist</td>\n",
       "      <td>CALIBRE_4</td>\n",
       "      <td>0.0</td>\n",
       "      <td>0.0</td>\n",
       "      <td>AGD-013V1</td>\n",
       "    </tr>\n",
       "    <tr>\n",
       "      <th>1</th>\n",
       "      <td>M21</td>\n",
       "      <td>KEITT</td>\n",
       "      <td>AGD-013V1</td>\n",
       "      <td>551</td>\n",
       "      <td>2021-05-25</td>\n",
       "      <td>5</td>\n",
       "      <td>AGD-013V1</td>\n",
       "      <td>1</td>\n",
       "      <td>hist</td>\n",
       "      <td>CALIBRE_5</td>\n",
       "      <td>54.1</td>\n",
       "      <td>54.1</td>\n",
       "      <td>AGD-013V1</td>\n",
       "    </tr>\n",
       "    <tr>\n",
       "      <th>2</th>\n",
       "      <td>M21</td>\n",
       "      <td>KEITT</td>\n",
       "      <td>AGD-013V1</td>\n",
       "      <td>551</td>\n",
       "      <td>2021-05-25</td>\n",
       "      <td>5</td>\n",
       "      <td>AGD-013V1</td>\n",
       "      <td>1</td>\n",
       "      <td>hist</td>\n",
       "      <td>CALIBRE_6</td>\n",
       "      <td>38.7</td>\n",
       "      <td>38.7</td>\n",
       "      <td>AGD-013V1</td>\n",
       "    </tr>\n",
       "    <tr>\n",
       "      <th>3</th>\n",
       "      <td>M21</td>\n",
       "      <td>KEITT</td>\n",
       "      <td>AGD-013V1</td>\n",
       "      <td>551</td>\n",
       "      <td>2021-05-25</td>\n",
       "      <td>5</td>\n",
       "      <td>AGD-013V1</td>\n",
       "      <td>1</td>\n",
       "      <td>hist</td>\n",
       "      <td>CALIBRE_7</td>\n",
       "      <td>6.3</td>\n",
       "      <td>6.3</td>\n",
       "      <td>AGD-013V1</td>\n",
       "    </tr>\n",
       "    <tr>\n",
       "      <th>4</th>\n",
       "      <td>M21</td>\n",
       "      <td>KEITT</td>\n",
       "      <td>AGD-013V1</td>\n",
       "      <td>551</td>\n",
       "      <td>2021-05-25</td>\n",
       "      <td>5</td>\n",
       "      <td>AGD-013V1</td>\n",
       "      <td>1</td>\n",
       "      <td>hist</td>\n",
       "      <td>CALIBRE_8</td>\n",
       "      <td>0.9</td>\n",
       "      <td>0.9</td>\n",
       "      <td>AGD-013V1</td>\n",
       "    </tr>\n",
       "    <tr>\n",
       "      <th>...</th>\n",
       "      <td>...</td>\n",
       "      <td>...</td>\n",
       "      <td>...</td>\n",
       "      <td>...</td>\n",
       "      <td>...</td>\n",
       "      <td>...</td>\n",
       "      <td>...</td>\n",
       "      <td>...</td>\n",
       "      <td>...</td>\n",
       "      <td>...</td>\n",
       "      <td>...</td>\n",
       "      <td>...</td>\n",
       "      <td>...</td>\n",
       "    </tr>\n",
       "    <tr>\n",
       "      <th>116</th>\n",
       "      <td>M21</td>\n",
       "      <td>TOMMY</td>\n",
       "      <td>FI-018</td>\n",
       "      <td>470</td>\n",
       "      <td>2021-05-12</td>\n",
       "      <td>5</td>\n",
       "      <td>FI-018</td>\n",
       "      <td>1</td>\n",
       "      <td>hist</td>\n",
       "      <td>CALIBRE_10</td>\n",
       "      <td>29.2</td>\n",
       "      <td>29.2</td>\n",
       "      <td>FI-018</td>\n",
       "    </tr>\n",
       "    <tr>\n",
       "      <th>117</th>\n",
       "      <td>M21</td>\n",
       "      <td>TOMMY</td>\n",
       "      <td>FI-018</td>\n",
       "      <td>470</td>\n",
       "      <td>2021-05-12</td>\n",
       "      <td>5</td>\n",
       "      <td>FI-018</td>\n",
       "      <td>1</td>\n",
       "      <td>hist</td>\n",
       "      <td>CALIBRE_11</td>\n",
       "      <td>0.0</td>\n",
       "      <td>0.0</td>\n",
       "      <td>FI-018</td>\n",
       "    </tr>\n",
       "    <tr>\n",
       "      <th>118</th>\n",
       "      <td>M21</td>\n",
       "      <td>TOMMY</td>\n",
       "      <td>FI-018</td>\n",
       "      <td>470</td>\n",
       "      <td>2021-05-12</td>\n",
       "      <td>5</td>\n",
       "      <td>FI-018</td>\n",
       "      <td>1</td>\n",
       "      <td>hist</td>\n",
       "      <td>CALIBRE_12</td>\n",
       "      <td>8.1</td>\n",
       "      <td>8.1</td>\n",
       "      <td>FI-018</td>\n",
       "    </tr>\n",
       "    <tr>\n",
       "      <th>119</th>\n",
       "      <td>M21</td>\n",
       "      <td>TOMMY</td>\n",
       "      <td>FI-018</td>\n",
       "      <td>470</td>\n",
       "      <td>2021-05-12</td>\n",
       "      <td>5</td>\n",
       "      <td>FI-018</td>\n",
       "      <td>1</td>\n",
       "      <td>hist</td>\n",
       "      <td>CALIBRE_13</td>\n",
       "      <td>0.0</td>\n",
       "      <td>0.0</td>\n",
       "      <td>FI-018</td>\n",
       "    </tr>\n",
       "    <tr>\n",
       "      <th>120</th>\n",
       "      <td>M21</td>\n",
       "      <td>TOMMY</td>\n",
       "      <td>FI-018</td>\n",
       "      <td>470</td>\n",
       "      <td>2021-05-12</td>\n",
       "      <td>5</td>\n",
       "      <td>FI-018</td>\n",
       "      <td>1</td>\n",
       "      <td>hist</td>\n",
       "      <td>CALIBRE_14</td>\n",
       "      <td>0.0</td>\n",
       "      <td>0.0</td>\n",
       "      <td>FI-018</td>\n",
       "    </tr>\n",
       "  </tbody>\n",
       "</table>\n",
       "<p>121 rows × 13 columns</p>\n",
       "</div>"
      ],
      "text/plain": [
       "    SAFRA VARIEDADE     TALHAO  CONTROLE DATA_EMBALAGEM  MÊS  \\\n",
       "0     M21     KEITT  AGD-013V1       551     2021-05-25    5   \n",
       "1     M21     KEITT  AGD-013V1       551     2021-05-25    5   \n",
       "2     M21     KEITT  AGD-013V1       551     2021-05-25    5   \n",
       "3     M21     KEITT  AGD-013V1       551     2021-05-25    5   \n",
       "4     M21     KEITT  AGD-013V1       551     2021-05-25    5   \n",
       "..    ...       ...        ...       ...            ...  ...   \n",
       "116   M21     TOMMY     FI-018       470     2021-05-12    5   \n",
       "117   M21     TOMMY     FI-018       470     2021-05-12    5   \n",
       "118   M21     TOMMY     FI-018       470     2021-05-12    5   \n",
       "119   M21     TOMMY     FI-018       470     2021-05-12    5   \n",
       "120   M21     TOMMY     FI-018       470     2021-05-12    5   \n",
       "\n",
       "    TALHAO_AMOSTRAGEM  ordem_controle historico_ou_nao VALOR_CALIBRE  \\\n",
       "0           AGD-013V1               1             hist     CALIBRE_4   \n",
       "1           AGD-013V1               1             hist     CALIBRE_5   \n",
       "2           AGD-013V1               1             hist     CALIBRE_6   \n",
       "3           AGD-013V1               1             hist     CALIBRE_7   \n",
       "4           AGD-013V1               1             hist     CALIBRE_8   \n",
       "..                ...             ...              ...           ...   \n",
       "116            FI-018               1             hist    CALIBRE_10   \n",
       "117            FI-018               1             hist    CALIBRE_11   \n",
       "118            FI-018               1             hist    CALIBRE_12   \n",
       "119            FI-018               1             hist    CALIBRE_13   \n",
       "120            FI-018               1             hist    CALIBRE_14   \n",
       "\n",
       "     Historico_calibre  hist_100   TALHAO.1  \n",
       "0                  0.0       0.0  AGD-013V1  \n",
       "1                 54.1      54.1  AGD-013V1  \n",
       "2                 38.7      38.7  AGD-013V1  \n",
       "3                  6.3       6.3  AGD-013V1  \n",
       "4                  0.9       0.9  AGD-013V1  \n",
       "..                 ...       ...        ...  \n",
       "116               29.2      29.2     FI-018  \n",
       "117                0.0       0.0     FI-018  \n",
       "118                8.1       8.1     FI-018  \n",
       "119                0.0       0.0     FI-018  \n",
       "120                0.0       0.0     FI-018  \n",
       "\n",
       "[121 rows x 13 columns]"
      ]
     },
     "execution_count": 273,
     "metadata": {},
     "output_type": "execute_result"
    }
   ],
   "source": [
    "filtro_inputs = inputs['historico_ou_nao'] == 'hist'\n",
    "inputs2 = inputs[filtro_inputs]\n",
    "inputs2"
   ]
  },
  {
   "cell_type": "code",
   "execution_count": 274,
   "metadata": {},
   "outputs": [],
   "source": [
    "x = inputs2[['VARIEDADE','VALOR_CALIBRE','Historico_calibre']]"
   ]
  },
  {
   "cell_type": "code",
   "execution_count": 275,
   "metadata": {},
   "outputs": [
    {
     "data": {
      "text/html": [
       "<div>\n",
       "<style scoped>\n",
       "    .dataframe tbody tr th:only-of-type {\n",
       "        vertical-align: middle;\n",
       "    }\n",
       "\n",
       "    .dataframe tbody tr th {\n",
       "        vertical-align: top;\n",
       "    }\n",
       "\n",
       "    .dataframe thead th {\n",
       "        text-align: right;\n",
       "    }\n",
       "</style>\n",
       "<table border=\"1\" class=\"dataframe\">\n",
       "  <thead>\n",
       "    <tr style=\"text-align: right;\">\n",
       "      <th></th>\n",
       "      <th>VARIEDADE</th>\n",
       "      <th>VALOR_CALIBRE</th>\n",
       "      <th>Historico_calibre</th>\n",
       "    </tr>\n",
       "  </thead>\n",
       "  <tbody>\n",
       "    <tr>\n",
       "      <th>0</th>\n",
       "      <td>KEITT</td>\n",
       "      <td>CALIBRE_4</td>\n",
       "      <td>0.0</td>\n",
       "    </tr>\n",
       "    <tr>\n",
       "      <th>1</th>\n",
       "      <td>KEITT</td>\n",
       "      <td>CALIBRE_5</td>\n",
       "      <td>54.1</td>\n",
       "    </tr>\n",
       "    <tr>\n",
       "      <th>2</th>\n",
       "      <td>KEITT</td>\n",
       "      <td>CALIBRE_6</td>\n",
       "      <td>38.7</td>\n",
       "    </tr>\n",
       "    <tr>\n",
       "      <th>3</th>\n",
       "      <td>KEITT</td>\n",
       "      <td>CALIBRE_7</td>\n",
       "      <td>6.3</td>\n",
       "    </tr>\n",
       "    <tr>\n",
       "      <th>4</th>\n",
       "      <td>KEITT</td>\n",
       "      <td>CALIBRE_8</td>\n",
       "      <td>0.9</td>\n",
       "    </tr>\n",
       "    <tr>\n",
       "      <th>...</th>\n",
       "      <td>...</td>\n",
       "      <td>...</td>\n",
       "      <td>...</td>\n",
       "    </tr>\n",
       "    <tr>\n",
       "      <th>116</th>\n",
       "      <td>TOMMY</td>\n",
       "      <td>CALIBRE_10</td>\n",
       "      <td>29.2</td>\n",
       "    </tr>\n",
       "    <tr>\n",
       "      <th>117</th>\n",
       "      <td>TOMMY</td>\n",
       "      <td>CALIBRE_11</td>\n",
       "      <td>0.0</td>\n",
       "    </tr>\n",
       "    <tr>\n",
       "      <th>118</th>\n",
       "      <td>TOMMY</td>\n",
       "      <td>CALIBRE_12</td>\n",
       "      <td>8.1</td>\n",
       "    </tr>\n",
       "    <tr>\n",
       "      <th>119</th>\n",
       "      <td>TOMMY</td>\n",
       "      <td>CALIBRE_13</td>\n",
       "      <td>0.0</td>\n",
       "    </tr>\n",
       "    <tr>\n",
       "      <th>120</th>\n",
       "      <td>TOMMY</td>\n",
       "      <td>CALIBRE_14</td>\n",
       "      <td>0.0</td>\n",
       "    </tr>\n",
       "  </tbody>\n",
       "</table>\n",
       "<p>121 rows × 3 columns</p>\n",
       "</div>"
      ],
      "text/plain": [
       "    VARIEDADE VALOR_CALIBRE  Historico_calibre\n",
       "0       KEITT     CALIBRE_4                0.0\n",
       "1       KEITT     CALIBRE_5               54.1\n",
       "2       KEITT     CALIBRE_6               38.7\n",
       "3       KEITT     CALIBRE_7                6.3\n",
       "4       KEITT     CALIBRE_8                0.9\n",
       "..        ...           ...                ...\n",
       "116     TOMMY    CALIBRE_10               29.2\n",
       "117     TOMMY    CALIBRE_11                0.0\n",
       "118     TOMMY    CALIBRE_12                8.1\n",
       "119     TOMMY    CALIBRE_13                0.0\n",
       "120     TOMMY    CALIBRE_14                0.0\n",
       "\n",
       "[121 rows x 3 columns]"
      ]
     },
     "execution_count": 275,
     "metadata": {},
     "output_type": "execute_result"
    }
   ],
   "source": [
    "x"
   ]
  },
  {
   "cell_type": "code",
   "execution_count": 276,
   "metadata": {},
   "outputs": [
    {
     "data": {
      "text/html": [
       "<div>\n",
       "<style scoped>\n",
       "    .dataframe tbody tr th:only-of-type {\n",
       "        vertical-align: middle;\n",
       "    }\n",
       "\n",
       "    .dataframe tbody tr th {\n",
       "        vertical-align: top;\n",
       "    }\n",
       "\n",
       "    .dataframe thead th {\n",
       "        text-align: right;\n",
       "    }\n",
       "</style>\n",
       "<table border=\"1\" class=\"dataframe\">\n",
       "  <thead>\n",
       "    <tr style=\"text-align: right;\">\n",
       "      <th></th>\n",
       "      <th>VARIEDADE</th>\n",
       "      <th>VALOR_CALIBRE</th>\n",
       "      <th>Historico_calibre</th>\n",
       "    </tr>\n",
       "  </thead>\n",
       "  <tbody>\n",
       "    <tr>\n",
       "      <th>893</th>\n",
       "      <td>1</td>\n",
       "      <td>1</td>\n",
       "      <td>9.3125</td>\n",
       "    </tr>\n",
       "    <tr>\n",
       "      <th>997</th>\n",
       "      <td>2</td>\n",
       "      <td>2</td>\n",
       "      <td>13.9500</td>\n",
       "    </tr>\n",
       "    <tr>\n",
       "      <th>1343</th>\n",
       "      <td>3</td>\n",
       "      <td>3</td>\n",
       "      <td>2.9000</td>\n",
       "    </tr>\n",
       "    <tr>\n",
       "      <th>2066</th>\n",
       "      <td>2</td>\n",
       "      <td>4</td>\n",
       "      <td>0.2500</td>\n",
       "    </tr>\n",
       "    <tr>\n",
       "      <th>300</th>\n",
       "      <td>2</td>\n",
       "      <td>5</td>\n",
       "      <td>0.2000</td>\n",
       "    </tr>\n",
       "    <tr>\n",
       "      <th>...</th>\n",
       "      <td>...</td>\n",
       "      <td>...</td>\n",
       "      <td>...</td>\n",
       "    </tr>\n",
       "    <tr>\n",
       "      <th>1033</th>\n",
       "      <td>1</td>\n",
       "      <td>7</td>\n",
       "      <td>5.8500</td>\n",
       "    </tr>\n",
       "    <tr>\n",
       "      <th>1731</th>\n",
       "      <td>2</td>\n",
       "      <td>4</td>\n",
       "      <td>3.3500</td>\n",
       "    </tr>\n",
       "    <tr>\n",
       "      <th>763</th>\n",
       "      <td>3</td>\n",
       "      <td>4</td>\n",
       "      <td>38.2000</td>\n",
       "    </tr>\n",
       "    <tr>\n",
       "      <th>835</th>\n",
       "      <td>3</td>\n",
       "      <td>5</td>\n",
       "      <td>0.2000</td>\n",
       "    </tr>\n",
       "    <tr>\n",
       "      <th>1653</th>\n",
       "      <td>2</td>\n",
       "      <td>8</td>\n",
       "      <td>26.0500</td>\n",
       "    </tr>\n",
       "  </tbody>\n",
       "</table>\n",
       "<p>1940 rows × 3 columns</p>\n",
       "</div>"
      ],
      "text/plain": [
       "      VARIEDADE  VALOR_CALIBRE  Historico_calibre\n",
       "893           1              1             9.3125\n",
       "997           2              2            13.9500\n",
       "1343          3              3             2.9000\n",
       "2066          2              4             0.2500\n",
       "300           2              5             0.2000\n",
       "...         ...            ...                ...\n",
       "1033          1              7             5.8500\n",
       "1731          2              4             3.3500\n",
       "763           3              4            38.2000\n",
       "835           3              5             0.2000\n",
       "1653          2              8            26.0500\n",
       "\n",
       "[1940 rows x 3 columns]"
      ]
     },
     "execution_count": 276,
     "metadata": {},
     "output_type": "execute_result"
    }
   ],
   "source": [
    "xtrain_enc"
   ]
  },
  {
   "cell_type": "code",
   "execution_count": 277,
   "metadata": {},
   "outputs": [
    {
     "data": {
      "text/html": [
       "<div>\n",
       "<style scoped>\n",
       "    .dataframe tbody tr th:only-of-type {\n",
       "        vertical-align: middle;\n",
       "    }\n",
       "\n",
       "    .dataframe tbody tr th {\n",
       "        vertical-align: top;\n",
       "    }\n",
       "\n",
       "    .dataframe thead th {\n",
       "        text-align: right;\n",
       "    }\n",
       "</style>\n",
       "<table border=\"1\" class=\"dataframe\">\n",
       "  <thead>\n",
       "    <tr style=\"text-align: right;\">\n",
       "      <th></th>\n",
       "      <th>VARIEDADE</th>\n",
       "      <th>VALOR_CALIBRE</th>\n",
       "      <th>Historico_calibre</th>\n",
       "    </tr>\n",
       "  </thead>\n",
       "  <tbody>\n",
       "    <tr>\n",
       "      <th>893</th>\n",
       "      <td>KENT</td>\n",
       "      <td>CALIBRE_9</td>\n",
       "      <td>9.3125</td>\n",
       "    </tr>\n",
       "    <tr>\n",
       "      <th>997</th>\n",
       "      <td>KEITT</td>\n",
       "      <td>CALIBRE_8</td>\n",
       "      <td>13.9500</td>\n",
       "    </tr>\n",
       "    <tr>\n",
       "      <th>1343</th>\n",
       "      <td>TOMMY</td>\n",
       "      <td>CALIBRE_6</td>\n",
       "      <td>2.9000</td>\n",
       "    </tr>\n",
       "    <tr>\n",
       "      <th>2066</th>\n",
       "      <td>KEITT</td>\n",
       "      <td>CALIBRE_10</td>\n",
       "      <td>0.2500</td>\n",
       "    </tr>\n",
       "    <tr>\n",
       "      <th>300</th>\n",
       "      <td>KEITT</td>\n",
       "      <td>CALIBRE_14</td>\n",
       "      <td>0.2000</td>\n",
       "    </tr>\n",
       "    <tr>\n",
       "      <th>...</th>\n",
       "      <td>...</td>\n",
       "      <td>...</td>\n",
       "      <td>...</td>\n",
       "    </tr>\n",
       "    <tr>\n",
       "      <th>1033</th>\n",
       "      <td>KENT</td>\n",
       "      <td>CALIBRE_12</td>\n",
       "      <td>5.8500</td>\n",
       "    </tr>\n",
       "    <tr>\n",
       "      <th>1731</th>\n",
       "      <td>KEITT</td>\n",
       "      <td>CALIBRE_10</td>\n",
       "      <td>3.3500</td>\n",
       "    </tr>\n",
       "    <tr>\n",
       "      <th>763</th>\n",
       "      <td>TOMMY</td>\n",
       "      <td>CALIBRE_10</td>\n",
       "      <td>38.2000</td>\n",
       "    </tr>\n",
       "    <tr>\n",
       "      <th>835</th>\n",
       "      <td>TOMMY</td>\n",
       "      <td>CALIBRE_14</td>\n",
       "      <td>0.2000</td>\n",
       "    </tr>\n",
       "    <tr>\n",
       "      <th>1653</th>\n",
       "      <td>KEITT</td>\n",
       "      <td>CALIBRE_7</td>\n",
       "      <td>26.0500</td>\n",
       "    </tr>\n",
       "  </tbody>\n",
       "</table>\n",
       "<p>1940 rows × 3 columns</p>\n",
       "</div>"
      ],
      "text/plain": [
       "     VARIEDADE VALOR_CALIBRE  Historico_calibre\n",
       "893       KENT     CALIBRE_9             9.3125\n",
       "997      KEITT     CALIBRE_8            13.9500\n",
       "1343     TOMMY     CALIBRE_6             2.9000\n",
       "2066     KEITT    CALIBRE_10             0.2500\n",
       "300      KEITT    CALIBRE_14             0.2000\n",
       "...        ...           ...                ...\n",
       "1033      KENT    CALIBRE_12             5.8500\n",
       "1731     KEITT    CALIBRE_10             3.3500\n",
       "763      TOMMY    CALIBRE_10            38.2000\n",
       "835      TOMMY    CALIBRE_14             0.2000\n",
       "1653     KEITT     CALIBRE_7            26.0500\n",
       "\n",
       "[1940 rows x 3 columns]"
      ]
     },
     "execution_count": 277,
     "metadata": {},
     "output_type": "execute_result"
    }
   ],
   "source": [
    "xtrain"
   ]
  },
  {
   "cell_type": "code",
   "execution_count": 278,
   "metadata": {},
   "outputs": [
    {
     "data": {
      "text/plain": [
       "3    921\n",
       "2    586\n",
       "1    350\n",
       "4     83\n",
       "Name: VARIEDADE, dtype: int64"
      ]
     },
     "execution_count": 278,
     "metadata": {},
     "output_type": "execute_result"
    }
   ],
   "source": [
    "xtrain_enc['VARIEDADE'].value_counts()"
   ]
  },
  {
   "cell_type": "code",
   "execution_count": 279,
   "metadata": {},
   "outputs": [
    {
     "data": {
      "text/plain": [
       "TOMMY     921\n",
       "KEITT     586\n",
       "KENT      350\n",
       "PALMER     83\n",
       "Name: VARIEDADE, dtype: int64"
      ]
     },
     "execution_count": 279,
     "metadata": {},
     "output_type": "execute_result"
    }
   ],
   "source": [
    "xtrain['VARIEDADE'].value_counts()"
   ]
  },
  {
   "cell_type": "code",
   "execution_count": 280,
   "metadata": {},
   "outputs": [
    {
     "name": "stderr",
     "output_type": "stream",
     "text": [
      "C:\\Users\\BERNAR~1.COL\\AppData\\Local\\Temp/ipykernel_21264/2393918060.py:11: SettingWithCopyWarning:\n",
      "\n",
      "\n",
      "A value is trying to be set on a copy of a slice from a DataFrame.\n",
      "Try using .loc[row_indexer,col_indexer] = value instead\n",
      "\n",
      "See the caveats in the documentation: https://pandas.pydata.org/pandas-docs/stable/user_guide/indexing.html#returning-a-view-versus-a-copy\n",
      "\n"
     ]
    }
   ],
   "source": [
    "def encode(x):\n",
    "    if x['VARIEDADE'] == 'TOMMY':\n",
    "        return 3\n",
    "    elif x['VARIEDADE'] == 'KEITT':\n",
    "        return 2\n",
    "    elif x['VARIEDADE'] == 'KENT':\n",
    "        return 1\n",
    "    elif x['VARIEDADE'] == 'PALMER':\n",
    "        return 4\n",
    "\n",
    "x['VARIEDADE'] = x.apply(encode, axis = 1)\n"
   ]
  },
  {
   "cell_type": "code",
   "execution_count": 281,
   "metadata": {},
   "outputs": [
    {
     "data": {
      "text/plain": [
       "5    342\n",
       "6    303\n",
       "7    263\n",
       "1    233\n",
       "3    230\n",
       "4    219\n",
       "8    197\n",
       "2    153\n",
       "Name: VALOR_CALIBRE, dtype: int64"
      ]
     },
     "execution_count": 281,
     "metadata": {},
     "output_type": "execute_result"
    }
   ],
   "source": [
    "xtrain_enc['VALOR_CALIBRE'].value_counts()"
   ]
  },
  {
   "cell_type": "code",
   "execution_count": 282,
   "metadata": {},
   "outputs": [
    {
     "data": {
      "text/plain": [
       "CALIBRE_14    342\n",
       "CALIBRE_5     303\n",
       "CALIBRE_12    263\n",
       "CALIBRE_9     233\n",
       "CALIBRE_6     230\n",
       "CALIBRE_10    219\n",
       "CALIBRE_7     197\n",
       "CALIBRE_8     153\n",
       "Name: VALOR_CALIBRE, dtype: int64"
      ]
     },
     "execution_count": 282,
     "metadata": {},
     "output_type": "execute_result"
    }
   ],
   "source": [
    "xtrain['VALOR_CALIBRE'].value_counts()"
   ]
  },
  {
   "cell_type": "code",
   "execution_count": 283,
   "metadata": {},
   "outputs": [
    {
     "name": "stderr",
     "output_type": "stream",
     "text": [
      "C:\\Users\\BERNAR~1.COL\\AppData\\Local\\Temp/ipykernel_21264/2039770860.py:19: SettingWithCopyWarning:\n",
      "\n",
      "\n",
      "A value is trying to be set on a copy of a slice from a DataFrame.\n",
      "Try using .loc[row_indexer,col_indexer] = value instead\n",
      "\n",
      "See the caveats in the documentation: https://pandas.pydata.org/pandas-docs/stable/user_guide/indexing.html#returning-a-view-versus-a-copy\n",
      "\n"
     ]
    }
   ],
   "source": [
    "def encode_cal(x):\n",
    "    if x['VALOR_CALIBRE'] == 'CALIBRE_14':\n",
    "        return 5\n",
    "    elif x['VALOR_CALIBRE'] == 'CALIBRE_5':\n",
    "        return 6\n",
    "    elif x['VALOR_CALIBRE'] == 'CALIBRE_12':\n",
    "        return 7\n",
    "    elif x['VALOR_CALIBRE'] == 'CALIBRE_9':\n",
    "        return 1\n",
    "    if x['VALOR_CALIBRE'] == 'CALIBRE_6':\n",
    "        return 3\n",
    "    elif x['VALOR_CALIBRE'] == 'CALIBRE_10':\n",
    "        return 4\n",
    "    elif x['VALOR_CALIBRE'] == 'CALIBRE_7':\n",
    "        return 8\n",
    "    elif x['VALOR_CALIBRE'] == 'CALIBRE_8':\n",
    "        return 2\n",
    "\n",
    "x['VALOR_CALIBRE'] = x.apply(encode_cal, axis = 1)"
   ]
  },
  {
   "cell_type": "code",
   "execution_count": 284,
   "metadata": {},
   "outputs": [],
   "source": [
    "x = x.dropna()"
   ]
  },
  {
   "cell_type": "code",
   "execution_count": 285,
   "metadata": {},
   "outputs": [
    {
     "data": {
      "text/html": [
       "<div>\n",
       "<style scoped>\n",
       "    .dataframe tbody tr th:only-of-type {\n",
       "        vertical-align: middle;\n",
       "    }\n",
       "\n",
       "    .dataframe tbody tr th {\n",
       "        vertical-align: top;\n",
       "    }\n",
       "\n",
       "    .dataframe thead th {\n",
       "        text-align: right;\n",
       "    }\n",
       "</style>\n",
       "<table border=\"1\" class=\"dataframe\">\n",
       "  <thead>\n",
       "    <tr style=\"text-align: right;\">\n",
       "      <th></th>\n",
       "      <th>VARIEDADE</th>\n",
       "      <th>VALOR_CALIBRE</th>\n",
       "      <th>Historico_calibre</th>\n",
       "    </tr>\n",
       "  </thead>\n",
       "  <tbody>\n",
       "    <tr>\n",
       "      <th>1</th>\n",
       "      <td>2</td>\n",
       "      <td>6.0</td>\n",
       "      <td>54.1</td>\n",
       "    </tr>\n",
       "    <tr>\n",
       "      <th>2</th>\n",
       "      <td>2</td>\n",
       "      <td>3.0</td>\n",
       "      <td>38.7</td>\n",
       "    </tr>\n",
       "    <tr>\n",
       "      <th>3</th>\n",
       "      <td>2</td>\n",
       "      <td>8.0</td>\n",
       "      <td>6.3</td>\n",
       "    </tr>\n",
       "    <tr>\n",
       "      <th>4</th>\n",
       "      <td>2</td>\n",
       "      <td>2.0</td>\n",
       "      <td>0.9</td>\n",
       "    </tr>\n",
       "    <tr>\n",
       "      <th>5</th>\n",
       "      <td>2</td>\n",
       "      <td>1.0</td>\n",
       "      <td>0.0</td>\n",
       "    </tr>\n",
       "    <tr>\n",
       "      <th>...</th>\n",
       "      <td>...</td>\n",
       "      <td>...</td>\n",
       "      <td>...</td>\n",
       "    </tr>\n",
       "    <tr>\n",
       "      <th>114</th>\n",
       "      <td>3</td>\n",
       "      <td>2.0</td>\n",
       "      <td>27.7</td>\n",
       "    </tr>\n",
       "    <tr>\n",
       "      <th>115</th>\n",
       "      <td>3</td>\n",
       "      <td>1.0</td>\n",
       "      <td>21.2</td>\n",
       "    </tr>\n",
       "    <tr>\n",
       "      <th>116</th>\n",
       "      <td>3</td>\n",
       "      <td>4.0</td>\n",
       "      <td>29.2</td>\n",
       "    </tr>\n",
       "    <tr>\n",
       "      <th>118</th>\n",
       "      <td>3</td>\n",
       "      <td>7.0</td>\n",
       "      <td>8.1</td>\n",
       "    </tr>\n",
       "    <tr>\n",
       "      <th>120</th>\n",
       "      <td>3</td>\n",
       "      <td>5.0</td>\n",
       "      <td>0.0</td>\n",
       "    </tr>\n",
       "  </tbody>\n",
       "</table>\n",
       "<p>88 rows × 3 columns</p>\n",
       "</div>"
      ],
      "text/plain": [
       "     VARIEDADE  VALOR_CALIBRE  Historico_calibre\n",
       "1            2            6.0               54.1\n",
       "2            2            3.0               38.7\n",
       "3            2            8.0                6.3\n",
       "4            2            2.0                0.9\n",
       "5            2            1.0                0.0\n",
       "..         ...            ...                ...\n",
       "114          3            2.0               27.7\n",
       "115          3            1.0               21.2\n",
       "116          3            4.0               29.2\n",
       "118          3            7.0                8.1\n",
       "120          3            5.0                0.0\n",
       "\n",
       "[88 rows x 3 columns]"
      ]
     },
     "execution_count": 285,
     "metadata": {},
     "output_type": "execute_result"
    }
   ],
   "source": [
    "x"
   ]
  },
  {
   "cell_type": "code",
   "execution_count": 286,
   "metadata": {},
   "outputs": [],
   "source": [
    "pred_2 = xgb.predict(x)"
   ]
  },
  {
   "cell_type": "code",
   "execution_count": 287,
   "metadata": {},
   "outputs": [
    {
     "name": "stderr",
     "output_type": "stream",
     "text": [
      "C:\\Users\\BERNAR~1.COL\\AppData\\Local\\Temp/ipykernel_21264/3273398984.py:1: SettingWithCopyWarning:\n",
      "\n",
      "\n",
      "A value is trying to be set on a copy of a slice from a DataFrame.\n",
      "Try using .loc[row_indexer,col_indexer] = value instead\n",
      "\n",
      "See the caveats in the documentation: https://pandas.pydata.org/pandas-docs/stable/user_guide/indexing.html#returning-a-view-versus-a-copy\n",
      "\n"
     ]
    }
   ],
   "source": [
    "x['Previsto'] = pred_2"
   ]
  },
  {
   "cell_type": "code",
   "execution_count": 288,
   "metadata": {},
   "outputs": [
    {
     "data": {
      "text/html": [
       "<div>\n",
       "<style scoped>\n",
       "    .dataframe tbody tr th:only-of-type {\n",
       "        vertical-align: middle;\n",
       "    }\n",
       "\n",
       "    .dataframe tbody tr th {\n",
       "        vertical-align: top;\n",
       "    }\n",
       "\n",
       "    .dataframe thead th {\n",
       "        text-align: right;\n",
       "    }\n",
       "</style>\n",
       "<table border=\"1\" class=\"dataframe\">\n",
       "  <thead>\n",
       "    <tr style=\"text-align: right;\">\n",
       "      <th></th>\n",
       "      <th>VARIEDADE</th>\n",
       "      <th>VALOR_CALIBRE</th>\n",
       "      <th>Historico_calibre</th>\n",
       "      <th>Previsto</th>\n",
       "    </tr>\n",
       "  </thead>\n",
       "  <tbody>\n",
       "    <tr>\n",
       "      <th>1</th>\n",
       "      <td>2</td>\n",
       "      <td>6.0</td>\n",
       "      <td>54.1</td>\n",
       "      <td>24.455887</td>\n",
       "    </tr>\n",
       "    <tr>\n",
       "      <th>2</th>\n",
       "      <td>2</td>\n",
       "      <td>3.0</td>\n",
       "      <td>38.7</td>\n",
       "      <td>32.162552</td>\n",
       "    </tr>\n",
       "    <tr>\n",
       "      <th>3</th>\n",
       "      <td>2</td>\n",
       "      <td>8.0</td>\n",
       "      <td>6.3</td>\n",
       "      <td>5.365142</td>\n",
       "    </tr>\n",
       "    <tr>\n",
       "      <th>4</th>\n",
       "      <td>2</td>\n",
       "      <td>2.0</td>\n",
       "      <td>0.9</td>\n",
       "      <td>2.630412</td>\n",
       "    </tr>\n",
       "    <tr>\n",
       "      <th>5</th>\n",
       "      <td>2</td>\n",
       "      <td>1.0</td>\n",
       "      <td>0.0</td>\n",
       "      <td>3.775126</td>\n",
       "    </tr>\n",
       "    <tr>\n",
       "      <th>...</th>\n",
       "      <td>...</td>\n",
       "      <td>...</td>\n",
       "      <td>...</td>\n",
       "      <td>...</td>\n",
       "    </tr>\n",
       "    <tr>\n",
       "      <th>114</th>\n",
       "      <td>3</td>\n",
       "      <td>2.0</td>\n",
       "      <td>27.7</td>\n",
       "      <td>24.159115</td>\n",
       "    </tr>\n",
       "    <tr>\n",
       "      <th>115</th>\n",
       "      <td>3</td>\n",
       "      <td>1.0</td>\n",
       "      <td>21.2</td>\n",
       "      <td>20.167391</td>\n",
       "    </tr>\n",
       "    <tr>\n",
       "      <th>116</th>\n",
       "      <td>3</td>\n",
       "      <td>4.0</td>\n",
       "      <td>29.2</td>\n",
       "      <td>27.739180</td>\n",
       "    </tr>\n",
       "    <tr>\n",
       "      <th>118</th>\n",
       "      <td>3</td>\n",
       "      <td>7.0</td>\n",
       "      <td>8.1</td>\n",
       "      <td>8.122472</td>\n",
       "    </tr>\n",
       "    <tr>\n",
       "      <th>120</th>\n",
       "      <td>3</td>\n",
       "      <td>5.0</td>\n",
       "      <td>0.0</td>\n",
       "      <td>0.131571</td>\n",
       "    </tr>\n",
       "  </tbody>\n",
       "</table>\n",
       "<p>88 rows × 4 columns</p>\n",
       "</div>"
      ],
      "text/plain": [
       "     VARIEDADE  VALOR_CALIBRE  Historico_calibre   Previsto\n",
       "1            2            6.0               54.1  24.455887\n",
       "2            2            3.0               38.7  32.162552\n",
       "3            2            8.0                6.3   5.365142\n",
       "4            2            2.0                0.9   2.630412\n",
       "5            2            1.0                0.0   3.775126\n",
       "..         ...            ...                ...        ...\n",
       "114          3            2.0               27.7  24.159115\n",
       "115          3            1.0               21.2  20.167391\n",
       "116          3            4.0               29.2  27.739180\n",
       "118          3            7.0                8.1   8.122472\n",
       "120          3            5.0                0.0   0.131571\n",
       "\n",
       "[88 rows x 4 columns]"
      ]
     },
     "execution_count": 288,
     "metadata": {},
     "output_type": "execute_result"
    }
   ],
   "source": [
    "x"
   ]
  },
  {
   "cell_type": "code",
   "execution_count": 129,
   "metadata": {},
   "outputs": [
    {
     "name": "stderr",
     "output_type": "stream",
     "text": [
      "C:\\Users\\BERNAR~1.COL\\AppData\\Local\\Temp/ipykernel_21264/1385320125.py:19: SettingWithCopyWarning:\n",
      "\n",
      "\n",
      "A value is trying to be set on a copy of a slice from a DataFrame.\n",
      "Try using .loc[row_indexer,col_indexer] = value instead\n",
      "\n",
      "See the caveats in the documentation: https://pandas.pydata.org/pandas-docs/stable/user_guide/indexing.html#returning-a-view-versus-a-copy\n",
      "\n"
     ]
    }
   ],
   "source": [
    "def encode_cal(x):\n",
    "    if x['VALOR_CALIBRE'] == 5:\n",
    "        return 'CALIBRE_14'\n",
    "    elif x['VALOR_CALIBRE'] == 6:\n",
    "        return 'CALIBRE_5'\n",
    "    elif x['VALOR_CALIBRE'] == 7:\n",
    "        return 'CALIBRE_12'\n",
    "    elif x['VALOR_CALIBRE'] == 1:\n",
    "        return 'CALIBRE_9'\n",
    "    if x['VALOR_CALIBRE'] == 3:\n",
    "        return 'CALIBRE_6'\n",
    "    elif x['VALOR_CALIBRE'] == 4:\n",
    "        return 'CALIBRE_10'\n",
    "    elif x['VALOR_CALIBRE'] == 8:\n",
    "        return 'CALIBRE_7'\n",
    "    elif x['VALOR_CALIBRE'] == 2:\n",
    "        return 'CALIBRE_8'\n",
    "\n",
    "x['VALOR_CALIBRE'] = x.apply(encode_cal, axis = 1)"
   ]
  },
  {
   "cell_type": "code",
   "execution_count": 130,
   "metadata": {},
   "outputs": [
    {
     "data": {
      "text/html": [
       "<div>\n",
       "<style scoped>\n",
       "    .dataframe tbody tr th:only-of-type {\n",
       "        vertical-align: middle;\n",
       "    }\n",
       "\n",
       "    .dataframe tbody tr th {\n",
       "        vertical-align: top;\n",
       "    }\n",
       "\n",
       "    .dataframe thead th {\n",
       "        text-align: right;\n",
       "    }\n",
       "</style>\n",
       "<table border=\"1\" class=\"dataframe\">\n",
       "  <thead>\n",
       "    <tr style=\"text-align: right;\">\n",
       "      <th></th>\n",
       "      <th>VARIEDADE</th>\n",
       "      <th>VALOR_CALIBRE</th>\n",
       "      <th>Historico_calibre</th>\n",
       "      <th>Previsto</th>\n",
       "    </tr>\n",
       "  </thead>\n",
       "  <tbody>\n",
       "    <tr>\n",
       "      <th>1</th>\n",
       "      <td>2</td>\n",
       "      <td>CALIBRE_5</td>\n",
       "      <td>54.1</td>\n",
       "      <td>24.455887</td>\n",
       "    </tr>\n",
       "    <tr>\n",
       "      <th>2</th>\n",
       "      <td>2</td>\n",
       "      <td>CALIBRE_6</td>\n",
       "      <td>38.7</td>\n",
       "      <td>32.162552</td>\n",
       "    </tr>\n",
       "    <tr>\n",
       "      <th>3</th>\n",
       "      <td>2</td>\n",
       "      <td>CALIBRE_7</td>\n",
       "      <td>6.3</td>\n",
       "      <td>5.365142</td>\n",
       "    </tr>\n",
       "    <tr>\n",
       "      <th>4</th>\n",
       "      <td>2</td>\n",
       "      <td>CALIBRE_8</td>\n",
       "      <td>0.9</td>\n",
       "      <td>2.630412</td>\n",
       "    </tr>\n",
       "    <tr>\n",
       "      <th>5</th>\n",
       "      <td>2</td>\n",
       "      <td>CALIBRE_9</td>\n",
       "      <td>0.0</td>\n",
       "      <td>3.775126</td>\n",
       "    </tr>\n",
       "    <tr>\n",
       "      <th>...</th>\n",
       "      <td>...</td>\n",
       "      <td>...</td>\n",
       "      <td>...</td>\n",
       "      <td>...</td>\n",
       "    </tr>\n",
       "    <tr>\n",
       "      <th>114</th>\n",
       "      <td>3</td>\n",
       "      <td>CALIBRE_8</td>\n",
       "      <td>27.7</td>\n",
       "      <td>24.159115</td>\n",
       "    </tr>\n",
       "    <tr>\n",
       "      <th>115</th>\n",
       "      <td>3</td>\n",
       "      <td>CALIBRE_9</td>\n",
       "      <td>21.2</td>\n",
       "      <td>20.167391</td>\n",
       "    </tr>\n",
       "    <tr>\n",
       "      <th>116</th>\n",
       "      <td>3</td>\n",
       "      <td>CALIBRE_10</td>\n",
       "      <td>29.2</td>\n",
       "      <td>27.739180</td>\n",
       "    </tr>\n",
       "    <tr>\n",
       "      <th>118</th>\n",
       "      <td>3</td>\n",
       "      <td>CALIBRE_12</td>\n",
       "      <td>8.1</td>\n",
       "      <td>8.122472</td>\n",
       "    </tr>\n",
       "    <tr>\n",
       "      <th>120</th>\n",
       "      <td>3</td>\n",
       "      <td>CALIBRE_14</td>\n",
       "      <td>0.0</td>\n",
       "      <td>0.131571</td>\n",
       "    </tr>\n",
       "  </tbody>\n",
       "</table>\n",
       "<p>88 rows × 4 columns</p>\n",
       "</div>"
      ],
      "text/plain": [
       "     VARIEDADE VALOR_CALIBRE  Historico_calibre   Previsto\n",
       "1            2     CALIBRE_5               54.1  24.455887\n",
       "2            2     CALIBRE_6               38.7  32.162552\n",
       "3            2     CALIBRE_7                6.3   5.365142\n",
       "4            2     CALIBRE_8                0.9   2.630412\n",
       "5            2     CALIBRE_9                0.0   3.775126\n",
       "..         ...           ...                ...        ...\n",
       "114          3     CALIBRE_8               27.7  24.159115\n",
       "115          3     CALIBRE_9               21.2  20.167391\n",
       "116          3    CALIBRE_10               29.2  27.739180\n",
       "118          3    CALIBRE_12                8.1   8.122472\n",
       "120          3    CALIBRE_14                0.0   0.131571\n",
       "\n",
       "[88 rows x 4 columns]"
      ]
     },
     "execution_count": 130,
     "metadata": {},
     "output_type": "execute_result"
    }
   ],
   "source": [
    "x"
   ]
  },
  {
   "cell_type": "code",
   "execution_count": 131,
   "metadata": {},
   "outputs": [
    {
     "name": "stderr",
     "output_type": "stream",
     "text": [
      "C:\\Users\\BERNAR~1.COL\\AppData\\Local\\Temp/ipykernel_21264/2052455384.py:11: SettingWithCopyWarning:\n",
      "\n",
      "\n",
      "A value is trying to be set on a copy of a slice from a DataFrame.\n",
      "Try using .loc[row_indexer,col_indexer] = value instead\n",
      "\n",
      "See the caveats in the documentation: https://pandas.pydata.org/pandas-docs/stable/user_guide/indexing.html#returning-a-view-versus-a-copy\n",
      "\n"
     ]
    }
   ],
   "source": [
    "def encode(x):\n",
    "    if x['VARIEDADE'] == 3:\n",
    "        return 'TOMMY'\n",
    "    elif x['VARIEDADE'] == 2:\n",
    "        return 'KEITT'\n",
    "    elif x['VARIEDADE'] == 1:\n",
    "        return 'KENT'\n",
    "    elif x['VARIEDADE'] == 4:\n",
    "        return 'PALMER'\n",
    "\n",
    "x['VARIEDADE'] = x.apply(encode, axis = 1)"
   ]
  },
  {
   "cell_type": "code",
   "execution_count": 133,
   "metadata": {},
   "outputs": [
    {
     "data": {
      "text/html": [
       "<div>\n",
       "<style scoped>\n",
       "    .dataframe tbody tr th:only-of-type {\n",
       "        vertical-align: middle;\n",
       "    }\n",
       "\n",
       "    .dataframe tbody tr th {\n",
       "        vertical-align: top;\n",
       "    }\n",
       "\n",
       "    .dataframe thead th {\n",
       "        text-align: right;\n",
       "    }\n",
       "</style>\n",
       "<table border=\"1\" class=\"dataframe\">\n",
       "  <thead>\n",
       "    <tr style=\"text-align: right;\">\n",
       "      <th></th>\n",
       "      <th>VARIEDADE</th>\n",
       "      <th>VALOR_CALIBRE</th>\n",
       "      <th>Historico_calibre</th>\n",
       "      <th>Previsto</th>\n",
       "    </tr>\n",
       "  </thead>\n",
       "  <tbody>\n",
       "    <tr>\n",
       "      <th>1</th>\n",
       "      <td>KEITT</td>\n",
       "      <td>CALIBRE_5</td>\n",
       "      <td>54.1</td>\n",
       "      <td>24.455887</td>\n",
       "    </tr>\n",
       "    <tr>\n",
       "      <th>2</th>\n",
       "      <td>KEITT</td>\n",
       "      <td>CALIBRE_6</td>\n",
       "      <td>38.7</td>\n",
       "      <td>32.162552</td>\n",
       "    </tr>\n",
       "    <tr>\n",
       "      <th>3</th>\n",
       "      <td>KEITT</td>\n",
       "      <td>CALIBRE_7</td>\n",
       "      <td>6.3</td>\n",
       "      <td>5.365142</td>\n",
       "    </tr>\n",
       "    <tr>\n",
       "      <th>4</th>\n",
       "      <td>KEITT</td>\n",
       "      <td>CALIBRE_8</td>\n",
       "      <td>0.9</td>\n",
       "      <td>2.630412</td>\n",
       "    </tr>\n",
       "    <tr>\n",
       "      <th>5</th>\n",
       "      <td>KEITT</td>\n",
       "      <td>CALIBRE_9</td>\n",
       "      <td>0.0</td>\n",
       "      <td>3.775126</td>\n",
       "    </tr>\n",
       "    <tr>\n",
       "      <th>...</th>\n",
       "      <td>...</td>\n",
       "      <td>...</td>\n",
       "      <td>...</td>\n",
       "      <td>...</td>\n",
       "    </tr>\n",
       "    <tr>\n",
       "      <th>114</th>\n",
       "      <td>TOMMY</td>\n",
       "      <td>CALIBRE_8</td>\n",
       "      <td>27.7</td>\n",
       "      <td>24.159115</td>\n",
       "    </tr>\n",
       "    <tr>\n",
       "      <th>115</th>\n",
       "      <td>TOMMY</td>\n",
       "      <td>CALIBRE_9</td>\n",
       "      <td>21.2</td>\n",
       "      <td>20.167391</td>\n",
       "    </tr>\n",
       "    <tr>\n",
       "      <th>116</th>\n",
       "      <td>TOMMY</td>\n",
       "      <td>CALIBRE_10</td>\n",
       "      <td>29.2</td>\n",
       "      <td>27.739180</td>\n",
       "    </tr>\n",
       "    <tr>\n",
       "      <th>118</th>\n",
       "      <td>TOMMY</td>\n",
       "      <td>CALIBRE_12</td>\n",
       "      <td>8.1</td>\n",
       "      <td>8.122472</td>\n",
       "    </tr>\n",
       "    <tr>\n",
       "      <th>120</th>\n",
       "      <td>TOMMY</td>\n",
       "      <td>CALIBRE_14</td>\n",
       "      <td>0.0</td>\n",
       "      <td>0.131571</td>\n",
       "    </tr>\n",
       "  </tbody>\n",
       "</table>\n",
       "<p>88 rows × 4 columns</p>\n",
       "</div>"
      ],
      "text/plain": [
       "    VARIEDADE VALOR_CALIBRE  Historico_calibre   Previsto\n",
       "1       KEITT     CALIBRE_5               54.1  24.455887\n",
       "2       KEITT     CALIBRE_6               38.7  32.162552\n",
       "3       KEITT     CALIBRE_7                6.3   5.365142\n",
       "4       KEITT     CALIBRE_8                0.9   2.630412\n",
       "5       KEITT     CALIBRE_9                0.0   3.775126\n",
       "..        ...           ...                ...        ...\n",
       "114     TOMMY     CALIBRE_8               27.7  24.159115\n",
       "115     TOMMY     CALIBRE_9               21.2  20.167391\n",
       "116     TOMMY    CALIBRE_10               29.2  27.739180\n",
       "118     TOMMY    CALIBRE_12                8.1   8.122472\n",
       "120     TOMMY    CALIBRE_14                0.0   0.131571\n",
       "\n",
       "[88 rows x 4 columns]"
      ]
     },
     "execution_count": 133,
     "metadata": {},
     "output_type": "execute_result"
    }
   ],
   "source": [
    "x"
   ]
  },
  {
   "cell_type": "code",
   "execution_count": 142,
   "metadata": {},
   "outputs": [
    {
     "name": "stderr",
     "output_type": "stream",
     "text": [
      "C:\\Users\\BERNAR~1.COL\\AppData\\Local\\Temp/ipykernel_21264/1229942527.py:56: SettingWithCopyWarning:\n",
      "\n",
      "\n",
      "A value is trying to be set on a copy of a slice from a DataFrame.\n",
      "Try using .loc[row_indexer,col_indexer] = value instead\n",
      "\n",
      "See the caveats in the documentation: https://pandas.pydata.org/pandas-docs/stable/user_guide/indexing.html#returning-a-view-versus-a-copy\n",
      "\n"
     ]
    }
   ],
   "source": [
    "def segundo_controle(x):\n",
    "    if x['VARIEDADE'] == 'TOMMY':\n",
    "        if x['VALOR_CALIBRE'] == 'CALIBRE_5':\n",
    "            return x['Previsto'] * 1.28\n",
    "        elif x['VALOR_CALIBRE'] == 'CALIBRE_6':\n",
    "            return x['Previsto'] * 1.09\n",
    "        elif x['VALOR_CALIBRE'] == 'CALIBRE_7':\n",
    "            return x['Previsto'] * 1.06\n",
    "        elif x['VALOR_CALIBRE'] == 'CALIBRE_8':\n",
    "            return x['Previsto'] * 0.97\n",
    "        elif x['VALOR_CALIBRE'] == 'CALIBRE_9':\n",
    "            return x['Previsto'] * 0.93\n",
    "        elif x['VALOR_CALIBRE'] == 'CALIBRE_10':\n",
    "            return x['Previsto'] * 0.91\n",
    "        elif x['VALOR_CALIBRE'] == 'CALIBRE_12':\n",
    "            return x['Previsto'] * 0.94\n",
    "        elif x['VALOR_CALIBRE'] == 'CALIBRE_14':\n",
    "           return  x['Previsto'] * 1.26\n",
    "\n",
    "    if x['VARIEDADE'] == 'KEITT':\n",
    "        if x['VALOR_CALIBRE'] == 'CALIBRE_5':\n",
    "            return x['Previsto'] * 0.83\n",
    "        elif x['VALOR_CALIBRE'] == 'CALIBRE_6':\n",
    "            return x['Previsto'] * 0.89\n",
    "        elif x['VALOR_CALIBRE'] == 'CALIBRE_7':\n",
    "            return x['Previsto'] * 0.96\n",
    "        elif x['VALOR_CALIBRE'] == 'CALIBRE_8':\n",
    "            return x['Previsto'] * 0.91\n",
    "        elif x['VALOR_CALIBRE'] == 'CALIBRE_9':\n",
    "            return x['Previsto'] * 1.01\n",
    "        elif x['VALOR_CALIBRE'] == 'CALIBRE_10':\n",
    "            return x['Previsto'] * 1.13\n",
    "        elif x['VALOR_CALIBRE'] == 'CALIBRE_12':\n",
    "            return x['Previsto'] * 2.02\n",
    "        elif x['VALOR_CALIBRE'] == 'CALIBRE_14':\n",
    "           return  x['Previsto'] * 1.79\n",
    "\n",
    "    if x['VARIEDADE'] == 'KENT':\n",
    "        if x['VALOR_CALIBRE'] == 'CALIBRE_5':\n",
    "            return x['Previsto'] * 1.01\n",
    "        elif x['VALOR_CALIBRE'] == 'CALIBRE_6':\n",
    "            return x['Previsto'] * 0.90\n",
    "        elif x['VALOR_CALIBRE'] == 'CALIBRE_7':\n",
    "            return x['Previsto'] * 0.87\n",
    "        elif x['VALOR_CALIBRE'] == 'CALIBRE_8':\n",
    "            return x['Previsto'] * 0.92\n",
    "        elif x['VALOR_CALIBRE'] == 'CALIBRE_9':\n",
    "            return x['Previsto'] * 0.97\n",
    "        elif x['VALOR_CALIBRE'] == 'CALIBRE_10':\n",
    "            return x['Previsto'] * 1.04\n",
    "        elif x['VALOR_CALIBRE'] == 'CALIBRE_12':\n",
    "            return x['Previsto'] * 1.07\n",
    "        elif x['VALOR_CALIBRE'] == 'CALIBRE_14':\n",
    "           return  x['Previsto'] * 0.99\n",
    "\n",
    "x['Percent_segundo_controle'] = x.apply(segundo_controle, axis = 1)\n",
    "\n"
   ]
  },
  {
   "cell_type": "code",
   "execution_count": 143,
   "metadata": {},
   "outputs": [
    {
     "data": {
      "text/html": [
       "<div>\n",
       "<style scoped>\n",
       "    .dataframe tbody tr th:only-of-type {\n",
       "        vertical-align: middle;\n",
       "    }\n",
       "\n",
       "    .dataframe tbody tr th {\n",
       "        vertical-align: top;\n",
       "    }\n",
       "\n",
       "    .dataframe thead th {\n",
       "        text-align: right;\n",
       "    }\n",
       "</style>\n",
       "<table border=\"1\" class=\"dataframe\">\n",
       "  <thead>\n",
       "    <tr style=\"text-align: right;\">\n",
       "      <th></th>\n",
       "      <th>VARIEDADE</th>\n",
       "      <th>VALOR_CALIBRE</th>\n",
       "      <th>Historico_calibre</th>\n",
       "      <th>Previsto</th>\n",
       "      <th>Percent_segundo_controle</th>\n",
       "    </tr>\n",
       "  </thead>\n",
       "  <tbody>\n",
       "    <tr>\n",
       "      <th>1</th>\n",
       "      <td>KEITT</td>\n",
       "      <td>CALIBRE_5</td>\n",
       "      <td>54.1</td>\n",
       "      <td>24.455887</td>\n",
       "      <td>20.298386</td>\n",
       "    </tr>\n",
       "    <tr>\n",
       "      <th>2</th>\n",
       "      <td>KEITT</td>\n",
       "      <td>CALIBRE_6</td>\n",
       "      <td>38.7</td>\n",
       "      <td>32.162552</td>\n",
       "      <td>28.624671</td>\n",
       "    </tr>\n",
       "    <tr>\n",
       "      <th>3</th>\n",
       "      <td>KEITT</td>\n",
       "      <td>CALIBRE_7</td>\n",
       "      <td>6.3</td>\n",
       "      <td>5.365142</td>\n",
       "      <td>5.150537</td>\n",
       "    </tr>\n",
       "    <tr>\n",
       "      <th>4</th>\n",
       "      <td>KEITT</td>\n",
       "      <td>CALIBRE_8</td>\n",
       "      <td>0.9</td>\n",
       "      <td>2.630412</td>\n",
       "      <td>2.393675</td>\n",
       "    </tr>\n",
       "    <tr>\n",
       "      <th>5</th>\n",
       "      <td>KEITT</td>\n",
       "      <td>CALIBRE_9</td>\n",
       "      <td>0.0</td>\n",
       "      <td>3.775126</td>\n",
       "      <td>3.812877</td>\n",
       "    </tr>\n",
       "    <tr>\n",
       "      <th>...</th>\n",
       "      <td>...</td>\n",
       "      <td>...</td>\n",
       "      <td>...</td>\n",
       "      <td>...</td>\n",
       "      <td>...</td>\n",
       "    </tr>\n",
       "    <tr>\n",
       "      <th>114</th>\n",
       "      <td>TOMMY</td>\n",
       "      <td>CALIBRE_8</td>\n",
       "      <td>27.7</td>\n",
       "      <td>24.159115</td>\n",
       "      <td>23.434341</td>\n",
       "    </tr>\n",
       "    <tr>\n",
       "      <th>115</th>\n",
       "      <td>TOMMY</td>\n",
       "      <td>CALIBRE_9</td>\n",
       "      <td>21.2</td>\n",
       "      <td>20.167391</td>\n",
       "      <td>18.755673</td>\n",
       "    </tr>\n",
       "    <tr>\n",
       "      <th>116</th>\n",
       "      <td>TOMMY</td>\n",
       "      <td>CALIBRE_10</td>\n",
       "      <td>29.2</td>\n",
       "      <td>27.739180</td>\n",
       "      <td>25.242653</td>\n",
       "    </tr>\n",
       "    <tr>\n",
       "      <th>118</th>\n",
       "      <td>TOMMY</td>\n",
       "      <td>CALIBRE_12</td>\n",
       "      <td>8.1</td>\n",
       "      <td>8.122472</td>\n",
       "      <td>7.635124</td>\n",
       "    </tr>\n",
       "    <tr>\n",
       "      <th>120</th>\n",
       "      <td>TOMMY</td>\n",
       "      <td>CALIBRE_14</td>\n",
       "      <td>0.0</td>\n",
       "      <td>0.131571</td>\n",
       "      <td>0.165780</td>\n",
       "    </tr>\n",
       "  </tbody>\n",
       "</table>\n",
       "<p>88 rows × 5 columns</p>\n",
       "</div>"
      ],
      "text/plain": [
       "    VARIEDADE VALOR_CALIBRE  Historico_calibre   Previsto  \\\n",
       "1       KEITT     CALIBRE_5               54.1  24.455887   \n",
       "2       KEITT     CALIBRE_6               38.7  32.162552   \n",
       "3       KEITT     CALIBRE_7                6.3   5.365142   \n",
       "4       KEITT     CALIBRE_8                0.9   2.630412   \n",
       "5       KEITT     CALIBRE_9                0.0   3.775126   \n",
       "..        ...           ...                ...        ...   \n",
       "114     TOMMY     CALIBRE_8               27.7  24.159115   \n",
       "115     TOMMY     CALIBRE_9               21.2  20.167391   \n",
       "116     TOMMY    CALIBRE_10               29.2  27.739180   \n",
       "118     TOMMY    CALIBRE_12                8.1   8.122472   \n",
       "120     TOMMY    CALIBRE_14                0.0   0.131571   \n",
       "\n",
       "     Percent_segundo_controle  \n",
       "1                   20.298386  \n",
       "2                   28.624671  \n",
       "3                    5.150537  \n",
       "4                    2.393675  \n",
       "5                    3.812877  \n",
       "..                        ...  \n",
       "114                 23.434341  \n",
       "115                 18.755673  \n",
       "116                 25.242653  \n",
       "118                  7.635124  \n",
       "120                  0.165780  \n",
       "\n",
       "[88 rows x 5 columns]"
      ]
     },
     "execution_count": 143,
     "metadata": {},
     "output_type": "execute_result"
    }
   ],
   "source": [
    "x"
   ]
  },
  {
   "cell_type": "code",
   "execution_count": 144,
   "metadata": {},
   "outputs": [
    {
     "name": "stderr",
     "output_type": "stream",
     "text": [
      "C:\\Users\\BERNAR~1.COL\\AppData\\Local\\Temp/ipykernel_21264/2663679263.py:56: SettingWithCopyWarning:\n",
      "\n",
      "\n",
      "A value is trying to be set on a copy of a slice from a DataFrame.\n",
      "Try using .loc[row_indexer,col_indexer] = value instead\n",
      "\n",
      "See the caveats in the documentation: https://pandas.pydata.org/pandas-docs/stable/user_guide/indexing.html#returning-a-view-versus-a-copy\n",
      "\n"
     ]
    }
   ],
   "source": [
    "def terceiro_controle(x):\n",
    "    if x['VARIEDADE'] == 'TOMMY':\n",
    "        if x['VALOR_CALIBRE'] == 'CALIBRE_5':\n",
    "            return x['Previsto'] * 1.24\n",
    "        elif x['VALOR_CALIBRE'] == 'CALIBRE_6':\n",
    "            return x['Previsto'] * 1.04\n",
    "        elif x['VALOR_CALIBRE'] == 'CALIBRE_7':\n",
    "            return x['Previsto'] * 1.00\n",
    "        elif x['VALOR_CALIBRE'] == 'CALIBRE_8':\n",
    "            return x['Previsto'] * 0.94\n",
    "        elif x['VALOR_CALIBRE'] == 'CALIBRE_9':\n",
    "            return x['Previsto'] * 0.89\n",
    "        elif x['VALOR_CALIBRE'] == 'CALIBRE_10':\n",
    "            return x['Previsto'] * 0.89\n",
    "        elif x['VALOR_CALIBRE'] == 'CALIBRE_12':\n",
    "            return x['Previsto'] * 1.08\n",
    "        elif x['VALOR_CALIBRE'] == 'CALIBRE_14':\n",
    "           return  x['Previsto'] * 1.58\n",
    "\n",
    "    if x['VARIEDADE'] == 'KEITT':\n",
    "        if x['VALOR_CALIBRE'] == 'CALIBRE_5':\n",
    "            return x['Previsto'] * 0.71\n",
    "        elif x['VALOR_CALIBRE'] == 'CALIBRE_6':\n",
    "            return x['Previsto'] * 0.75\n",
    "        elif x['VALOR_CALIBRE'] == 'CALIBRE_7':\n",
    "            return x['Previsto'] * 0.91\n",
    "        elif x['VALOR_CALIBRE'] == 'CALIBRE_8':\n",
    "            return x['Previsto'] * 1.01\n",
    "        elif x['VALOR_CALIBRE'] == 'CALIBRE_9':\n",
    "            return x['Previsto'] * 1.22\n",
    "        elif x['VALOR_CALIBRE'] == 'CALIBRE_10':\n",
    "            return x['Previsto'] * 1.52\n",
    "        elif x['VALOR_CALIBRE'] == 'CALIBRE_12':\n",
    "            return x['Previsto'] * 3.31\n",
    "        elif x['VALOR_CALIBRE'] == 'CALIBRE_14':\n",
    "           return  x['Previsto'] * 4.10\n",
    "\n",
    "    if x['VARIEDADE'] == 'KENT':\n",
    "        if x['VALOR_CALIBRE'] == 'CALIBRE_5':\n",
    "            return x['Previsto'] * 0.99\n",
    "        elif x['VALOR_CALIBRE'] == 'CALIBRE_6':\n",
    "            return x['Previsto'] * 0.84\n",
    "        elif x['VALOR_CALIBRE'] == 'CALIBRE_7':\n",
    "            return x['Previsto'] * 0.83\n",
    "        elif x['VALOR_CALIBRE'] == 'CALIBRE_8':\n",
    "            return x['Previsto'] * 0.94\n",
    "        elif x['VALOR_CALIBRE'] == 'CALIBRE_9':\n",
    "            return x['Previsto'] * 0.99\n",
    "        elif x['VALOR_CALIBRE'] == 'CALIBRE_10':\n",
    "            return x['Previsto'] * 1.18\n",
    "        elif x['VALOR_CALIBRE'] == 'CALIBRE_12':\n",
    "            return x['Previsto'] * 1.22\n",
    "        elif x['VALOR_CALIBRE'] == 'CALIBRE_14':\n",
    "           return  x['Previsto'] * 0.98\n",
    "\n",
    "x['Percent_terceiro_controle'] = x.apply(terceiro_controle, axis = 1)"
   ]
  },
  {
   "cell_type": "code",
   "execution_count": 145,
   "metadata": {},
   "outputs": [
    {
     "name": "stderr",
     "output_type": "stream",
     "text": [
      "C:\\Users\\BERNAR~1.COL\\AppData\\Local\\Temp/ipykernel_21264/4239297414.py:56: SettingWithCopyWarning:\n",
      "\n",
      "\n",
      "A value is trying to be set on a copy of a slice from a DataFrame.\n",
      "Try using .loc[row_indexer,col_indexer] = value instead\n",
      "\n",
      "See the caveats in the documentation: https://pandas.pydata.org/pandas-docs/stable/user_guide/indexing.html#returning-a-view-versus-a-copy\n",
      "\n"
     ]
    }
   ],
   "source": [
    "def quarto_controle(x):\n",
    "    if x['VARIEDADE'] == 'TOMMY':\n",
    "        if x['VALOR_CALIBRE'] == 'CALIBRE_5':\n",
    "            return x['Previsto'] * 1.33\n",
    "        elif x['VALOR_CALIBRE'] == 'CALIBRE_6':\n",
    "            return x['Previsto'] * 1.15\n",
    "        elif x['VALOR_CALIBRE'] == 'CALIBRE_7':\n",
    "            return x['Previsto'] * 1.04\n",
    "        elif x['VALOR_CALIBRE'] == 'CALIBRE_8':\n",
    "            return x['Previsto'] * 0.93\n",
    "        elif x['VALOR_CALIBRE'] == 'CALIBRE_9':\n",
    "            return x['Previsto'] * 0.87\n",
    "        elif x['VALOR_CALIBRE'] == 'CALIBRE_10':\n",
    "            return x['Previsto'] * 0.85\n",
    "        elif x['VALOR_CALIBRE'] == 'CALIBRE_12':\n",
    "            return x['Previsto'] * 1.09\n",
    "        elif x['VALOR_CALIBRE'] == 'CALIBRE_14':\n",
    "           return  x['Previsto'] * 1.78\n",
    "\n",
    "    if x['VARIEDADE'] == 'KEITT':\n",
    "        if x['VALOR_CALIBRE'] == 'CALIBRE_5':\n",
    "            return x['Previsto'] * 0.65\n",
    "        elif x['VALOR_CALIBRE'] == 'CALIBRE_6':\n",
    "            return x['Previsto'] * 0.67\n",
    "        elif x['VALOR_CALIBRE'] == 'CALIBRE_7':\n",
    "            return x['Previsto'] * 0.81\n",
    "        elif x['VALOR_CALIBRE'] == 'CALIBRE_8':\n",
    "            return x['Previsto'] * 0.93\n",
    "        elif x['VALOR_CALIBRE'] == 'CALIBRE_9':\n",
    "            return x['Previsto'] * 1.30\n",
    "        elif x['VALOR_CALIBRE'] == 'CALIBRE_10':\n",
    "            return x['Previsto'] * 1.82\n",
    "        elif x['VALOR_CALIBRE'] == 'CALIBRE_12':\n",
    "            return x['Previsto'] * 2.96\n",
    "        elif x['VALOR_CALIBRE'] == 'CALIBRE_14':\n",
    "           return  x['Previsto'] * 4.70\n",
    "\n",
    "    if x['VARIEDADE'] == 'KENT':\n",
    "        if x['VALOR_CALIBRE'] == 'CALIBRE_5':\n",
    "            return x['Previsto'] * 0.82\n",
    "        elif x['VALOR_CALIBRE'] == 'CALIBRE_6':\n",
    "            return x['Previsto'] * 0.77\n",
    "        elif x['VALOR_CALIBRE'] == 'CALIBRE_7':\n",
    "            return x['Previsto'] * 0.71\n",
    "        elif x['VALOR_CALIBRE'] == 'CALIBRE_8':\n",
    "            return x['Previsto'] * 0.85\n",
    "        elif x['VALOR_CALIBRE'] == 'CALIBRE_9':\n",
    "            return x['Previsto'] * 0.99\n",
    "        elif x['VALOR_CALIBRE'] == 'CALIBRE_10':\n",
    "            return x['Previsto'] * 1.34\n",
    "        elif x['VALOR_CALIBRE'] == 'CALIBRE_12':\n",
    "            return x['Previsto'] * 1.57\n",
    "        elif x['VALOR_CALIBRE'] == 'CALIBRE_14':\n",
    "           return  x['Previsto'] * 0.74\n",
    "\n",
    "x['Percent_quarto_controle'] = x.apply(quarto_controle, axis = 1)"
   ]
  },
  {
   "cell_type": "code",
   "execution_count": 146,
   "metadata": {},
   "outputs": [
    {
     "data": {
      "text/html": [
       "<div>\n",
       "<style scoped>\n",
       "    .dataframe tbody tr th:only-of-type {\n",
       "        vertical-align: middle;\n",
       "    }\n",
       "\n",
       "    .dataframe tbody tr th {\n",
       "        vertical-align: top;\n",
       "    }\n",
       "\n",
       "    .dataframe thead th {\n",
       "        text-align: right;\n",
       "    }\n",
       "</style>\n",
       "<table border=\"1\" class=\"dataframe\">\n",
       "  <thead>\n",
       "    <tr style=\"text-align: right;\">\n",
       "      <th></th>\n",
       "      <th>VARIEDADE</th>\n",
       "      <th>VALOR_CALIBRE</th>\n",
       "      <th>Historico_calibre</th>\n",
       "      <th>Previsto</th>\n",
       "      <th>Percent_segundo_controle</th>\n",
       "      <th>Percent_terceiro_controle</th>\n",
       "      <th>Percent_quarto_controle</th>\n",
       "    </tr>\n",
       "  </thead>\n",
       "  <tbody>\n",
       "    <tr>\n",
       "      <th>1</th>\n",
       "      <td>KEITT</td>\n",
       "      <td>CALIBRE_5</td>\n",
       "      <td>54.1</td>\n",
       "      <td>24.455887</td>\n",
       "      <td>20.298386</td>\n",
       "      <td>17.363680</td>\n",
       "      <td>15.896326</td>\n",
       "    </tr>\n",
       "    <tr>\n",
       "      <th>2</th>\n",
       "      <td>KEITT</td>\n",
       "      <td>CALIBRE_6</td>\n",
       "      <td>38.7</td>\n",
       "      <td>32.162552</td>\n",
       "      <td>28.624671</td>\n",
       "      <td>24.121914</td>\n",
       "      <td>21.548910</td>\n",
       "    </tr>\n",
       "    <tr>\n",
       "      <th>3</th>\n",
       "      <td>KEITT</td>\n",
       "      <td>CALIBRE_7</td>\n",
       "      <td>6.3</td>\n",
       "      <td>5.365142</td>\n",
       "      <td>5.150537</td>\n",
       "      <td>4.882280</td>\n",
       "      <td>4.345765</td>\n",
       "    </tr>\n",
       "    <tr>\n",
       "      <th>4</th>\n",
       "      <td>KEITT</td>\n",
       "      <td>CALIBRE_8</td>\n",
       "      <td>0.9</td>\n",
       "      <td>2.630412</td>\n",
       "      <td>2.393675</td>\n",
       "      <td>2.656716</td>\n",
       "      <td>2.446283</td>\n",
       "    </tr>\n",
       "    <tr>\n",
       "      <th>5</th>\n",
       "      <td>KEITT</td>\n",
       "      <td>CALIBRE_9</td>\n",
       "      <td>0.0</td>\n",
       "      <td>3.775126</td>\n",
       "      <td>3.812877</td>\n",
       "      <td>4.605654</td>\n",
       "      <td>4.907664</td>\n",
       "    </tr>\n",
       "    <tr>\n",
       "      <th>...</th>\n",
       "      <td>...</td>\n",
       "      <td>...</td>\n",
       "      <td>...</td>\n",
       "      <td>...</td>\n",
       "      <td>...</td>\n",
       "      <td>...</td>\n",
       "      <td>...</td>\n",
       "    </tr>\n",
       "    <tr>\n",
       "      <th>114</th>\n",
       "      <td>TOMMY</td>\n",
       "      <td>CALIBRE_8</td>\n",
       "      <td>27.7</td>\n",
       "      <td>24.159115</td>\n",
       "      <td>23.434341</td>\n",
       "      <td>22.709568</td>\n",
       "      <td>22.467977</td>\n",
       "    </tr>\n",
       "    <tr>\n",
       "      <th>115</th>\n",
       "      <td>TOMMY</td>\n",
       "      <td>CALIBRE_9</td>\n",
       "      <td>21.2</td>\n",
       "      <td>20.167391</td>\n",
       "      <td>18.755673</td>\n",
       "      <td>17.948978</td>\n",
       "      <td>17.545630</td>\n",
       "    </tr>\n",
       "    <tr>\n",
       "      <th>116</th>\n",
       "      <td>TOMMY</td>\n",
       "      <td>CALIBRE_10</td>\n",
       "      <td>29.2</td>\n",
       "      <td>27.739180</td>\n",
       "      <td>25.242653</td>\n",
       "      <td>24.687870</td>\n",
       "      <td>23.578303</td>\n",
       "    </tr>\n",
       "    <tr>\n",
       "      <th>118</th>\n",
       "      <td>TOMMY</td>\n",
       "      <td>CALIBRE_12</td>\n",
       "      <td>8.1</td>\n",
       "      <td>8.122472</td>\n",
       "      <td>7.635124</td>\n",
       "      <td>8.772270</td>\n",
       "      <td>8.853494</td>\n",
       "    </tr>\n",
       "    <tr>\n",
       "      <th>120</th>\n",
       "      <td>TOMMY</td>\n",
       "      <td>CALIBRE_14</td>\n",
       "      <td>0.0</td>\n",
       "      <td>0.131571</td>\n",
       "      <td>0.165780</td>\n",
       "      <td>0.207882</td>\n",
       "      <td>0.234197</td>\n",
       "    </tr>\n",
       "  </tbody>\n",
       "</table>\n",
       "<p>88 rows × 7 columns</p>\n",
       "</div>"
      ],
      "text/plain": [
       "    VARIEDADE VALOR_CALIBRE  Historico_calibre   Previsto  \\\n",
       "1       KEITT     CALIBRE_5               54.1  24.455887   \n",
       "2       KEITT     CALIBRE_6               38.7  32.162552   \n",
       "3       KEITT     CALIBRE_7                6.3   5.365142   \n",
       "4       KEITT     CALIBRE_8                0.9   2.630412   \n",
       "5       KEITT     CALIBRE_9                0.0   3.775126   \n",
       "..        ...           ...                ...        ...   \n",
       "114     TOMMY     CALIBRE_8               27.7  24.159115   \n",
       "115     TOMMY     CALIBRE_9               21.2  20.167391   \n",
       "116     TOMMY    CALIBRE_10               29.2  27.739180   \n",
       "118     TOMMY    CALIBRE_12                8.1   8.122472   \n",
       "120     TOMMY    CALIBRE_14                0.0   0.131571   \n",
       "\n",
       "     Percent_segundo_controle  Percent_terceiro_controle  \\\n",
       "1                   20.298386                  17.363680   \n",
       "2                   28.624671                  24.121914   \n",
       "3                    5.150537                   4.882280   \n",
       "4                    2.393675                   2.656716   \n",
       "5                    3.812877                   4.605654   \n",
       "..                        ...                        ...   \n",
       "114                 23.434341                  22.709568   \n",
       "115                 18.755673                  17.948978   \n",
       "116                 25.242653                  24.687870   \n",
       "118                  7.635124                   8.772270   \n",
       "120                  0.165780                   0.207882   \n",
       "\n",
       "     Percent_quarto_controle  \n",
       "1                  15.896326  \n",
       "2                  21.548910  \n",
       "3                   4.345765  \n",
       "4                   2.446283  \n",
       "5                   4.907664  \n",
       "..                       ...  \n",
       "114                22.467977  \n",
       "115                17.545630  \n",
       "116                23.578303  \n",
       "118                 8.853494  \n",
       "120                 0.234197  \n",
       "\n",
       "[88 rows x 7 columns]"
      ]
     },
     "execution_count": 146,
     "metadata": {},
     "output_type": "execute_result"
    }
   ],
   "source": [
    "x"
   ]
  },
  {
   "cell_type": "code",
   "execution_count": 149,
   "metadata": {},
   "outputs": [],
   "source": [
    "#x.to_excel('resultados_para_colocar_talhao.xlsx')"
   ]
  },
  {
   "cell_type": "code",
   "execution_count": 377,
   "metadata": {},
   "outputs": [],
   "source": [
    "dados_results = pd.read_excel('VALIDAÇÃO_CALIBRES_CAMPO_HISTORICO.xlsx', sheet_name = 'analise_pred')"
   ]
  },
  {
   "cell_type": "code",
   "execution_count": 378,
   "metadata": {},
   "outputs": [],
   "source": [
    "dados_results['p_CALIBRE_5'] = dados_results['p_CALIBRE_5'] / 100\n",
    "dados_results['p_CALIBRE_6'] = dados_results['p_CALIBRE_6'] / 100\n",
    "dados_results['p_CALIBRE_7'] = dados_results['p_CALIBRE_7'] / 100\n",
    "dados_results['p_CALIBRE_8'] = dados_results['p_CALIBRE_8'] / 100\n",
    "dados_results['p_CALIBRE_9'] = dados_results['p_CALIBRE_9'] / 100\n",
    "dados_results['p_CALIBRE_10'] = dados_results['p_CALIBRE_10'] / 100\n",
    "dados_results['p_CALIBRE_12'] = dados_results['p_CALIBRE_12'] / 100\n",
    "dados_results['p_CALIBRE_14'] = dados_results['p_CALIBRE_14'] / 100"
   ]
  },
  {
   "cell_type": "code",
   "execution_count": 379,
   "metadata": {},
   "outputs": [
    {
     "data": {
      "text/html": [
       "<div>\n",
       "<style scoped>\n",
       "    .dataframe tbody tr th:only-of-type {\n",
       "        vertical-align: middle;\n",
       "    }\n",
       "\n",
       "    .dataframe tbody tr th {\n",
       "        vertical-align: top;\n",
       "    }\n",
       "\n",
       "    .dataframe thead th {\n",
       "        text-align: right;\n",
       "    }\n",
       "</style>\n",
       "<table border=\"1\" class=\"dataframe\">\n",
       "  <thead>\n",
       "    <tr style=\"text-align: right;\">\n",
       "      <th></th>\n",
       "      <th>VARIEDADE</th>\n",
       "      <th>TALHAO</th>\n",
       "      <th>CONTROLE</th>\n",
       "      <th>CALIBRE_5</th>\n",
       "      <th>CALIBRE_6</th>\n",
       "      <th>CALIBRE_7</th>\n",
       "      <th>CALIBRE_8</th>\n",
       "      <th>CALIBRE_9</th>\n",
       "      <th>CALIBRE_10</th>\n",
       "      <th>CALIBRE_12</th>\n",
       "      <th>CALIBRE_14</th>\n",
       "      <th>p_CALIBRE_5</th>\n",
       "      <th>p_CALIBRE_6</th>\n",
       "      <th>p_CALIBRE_7</th>\n",
       "      <th>p_CALIBRE_8</th>\n",
       "      <th>p_CALIBRE_9</th>\n",
       "      <th>p_CALIBRE_10</th>\n",
       "      <th>p_CALIBRE_12</th>\n",
       "      <th>p_CALIBRE_14</th>\n",
       "    </tr>\n",
       "  </thead>\n",
       "  <tbody>\n",
       "    <tr>\n",
       "      <th>0</th>\n",
       "      <td>KEITT</td>\n",
       "      <td>AGD-049</td>\n",
       "      <td>669</td>\n",
       "      <td>0.106</td>\n",
       "      <td>0.597</td>\n",
       "      <td>0.245</td>\n",
       "      <td>0.035</td>\n",
       "      <td>0.002</td>\n",
       "      <td>0.004</td>\n",
       "      <td>0.010</td>\n",
       "      <td>0.001</td>\n",
       "      <td>0.037021</td>\n",
       "      <td>0.242613</td>\n",
       "      <td>0.301234</td>\n",
       "      <td>0.230553</td>\n",
       "      <td>0.056728</td>\n",
       "      <td>0.022293</td>\n",
       "      <td>0.000000</td>\n",
       "      <td>0.000000</td>\n",
       "    </tr>\n",
       "    <tr>\n",
       "      <th>1</th>\n",
       "      <td>KEITT</td>\n",
       "      <td>AGD-049</td>\n",
       "      <td>687</td>\n",
       "      <td>0.095</td>\n",
       "      <td>0.483</td>\n",
       "      <td>0.306</td>\n",
       "      <td>0.086</td>\n",
       "      <td>0.013</td>\n",
       "      <td>0.007</td>\n",
       "      <td>0.009</td>\n",
       "      <td>0.001</td>\n",
       "      <td>0.030727</td>\n",
       "      <td>0.215925</td>\n",
       "      <td>0.289184</td>\n",
       "      <td>0.209804</td>\n",
       "      <td>0.057295</td>\n",
       "      <td>0.025192</td>\n",
       "      <td>0.000000</td>\n",
       "      <td>0.000000</td>\n",
       "    </tr>\n",
       "    <tr>\n",
       "      <th>2</th>\n",
       "      <td>KEITT</td>\n",
       "      <td>AGD-049</td>\n",
       "      <td>688</td>\n",
       "      <td>0.080</td>\n",
       "      <td>0.403</td>\n",
       "      <td>0.363</td>\n",
       "      <td>0.122</td>\n",
       "      <td>0.022</td>\n",
       "      <td>0.007</td>\n",
       "      <td>0.002</td>\n",
       "      <td>0.000</td>\n",
       "      <td>0.026285</td>\n",
       "      <td>0.181960</td>\n",
       "      <td>0.274123</td>\n",
       "      <td>0.232859</td>\n",
       "      <td>0.069208</td>\n",
       "      <td>0.033886</td>\n",
       "      <td>0.000000</td>\n",
       "      <td>0.000000</td>\n",
       "    </tr>\n",
       "    <tr>\n",
       "      <th>3</th>\n",
       "      <td>KEITT</td>\n",
       "      <td>AGD-049</td>\n",
       "      <td>691</td>\n",
       "      <td>0.066</td>\n",
       "      <td>0.295</td>\n",
       "      <td>0.334</td>\n",
       "      <td>0.183</td>\n",
       "      <td>0.060</td>\n",
       "      <td>0.053</td>\n",
       "      <td>0.009</td>\n",
       "      <td>0.000</td>\n",
       "      <td>0.024063</td>\n",
       "      <td>0.162551</td>\n",
       "      <td>0.243999</td>\n",
       "      <td>0.214415</td>\n",
       "      <td>0.073746</td>\n",
       "      <td>0.040574</td>\n",
       "      <td>0.000000</td>\n",
       "      <td>0.000000</td>\n",
       "    </tr>\n",
       "    <tr>\n",
       "      <th>4</th>\n",
       "      <td>KEITT</td>\n",
       "      <td>AGD-048</td>\n",
       "      <td>495</td>\n",
       "      <td>0.019</td>\n",
       "      <td>0.133</td>\n",
       "      <td>0.169</td>\n",
       "      <td>0.164</td>\n",
       "      <td>0.114</td>\n",
       "      <td>0.202</td>\n",
       "      <td>0.199</td>\n",
       "      <td>0.000</td>\n",
       "      <td>0.049320</td>\n",
       "      <td>0.321626</td>\n",
       "      <td>0.260845</td>\n",
       "      <td>0.191550</td>\n",
       "      <td>0.045383</td>\n",
       "      <td>0.020996</td>\n",
       "      <td>0.115000</td>\n",
       "      <td>0.000000</td>\n",
       "    </tr>\n",
       "    <tr>\n",
       "      <th>5</th>\n",
       "      <td>KEITT</td>\n",
       "      <td>AGD-048</td>\n",
       "      <td>501</td>\n",
       "      <td>0.002</td>\n",
       "      <td>0.053</td>\n",
       "      <td>0.114</td>\n",
       "      <td>0.074</td>\n",
       "      <td>0.099</td>\n",
       "      <td>0.235</td>\n",
       "      <td>0.424</td>\n",
       "      <td>0.000</td>\n",
       "      <td>0.040935</td>\n",
       "      <td>0.286247</td>\n",
       "      <td>0.250411</td>\n",
       "      <td>0.174310</td>\n",
       "      <td>0.045836</td>\n",
       "      <td>0.023725</td>\n",
       "      <td>0.180000</td>\n",
       "      <td>0.000000</td>\n",
       "    </tr>\n",
       "    <tr>\n",
       "      <th>6</th>\n",
       "      <td>KEITT</td>\n",
       "      <td>AGD-048</td>\n",
       "      <td>501</td>\n",
       "      <td>0.038</td>\n",
       "      <td>0.110</td>\n",
       "      <td>0.171</td>\n",
       "      <td>0.185</td>\n",
       "      <td>0.148</td>\n",
       "      <td>0.156</td>\n",
       "      <td>0.111</td>\n",
       "      <td>0.081</td>\n",
       "      <td>0.035017</td>\n",
       "      <td>0.241219</td>\n",
       "      <td>0.237369</td>\n",
       "      <td>0.193465</td>\n",
       "      <td>0.055367</td>\n",
       "      <td>0.031914</td>\n",
       "      <td>0.117000</td>\n",
       "      <td>0.000000</td>\n",
       "    </tr>\n",
       "    <tr>\n",
       "      <th>7</th>\n",
       "      <td>KEITT</td>\n",
       "      <td>AGD-034</td>\n",
       "      <td>657</td>\n",
       "      <td>0.292</td>\n",
       "      <td>0.513</td>\n",
       "      <td>0.125</td>\n",
       "      <td>0.003</td>\n",
       "      <td>0.004</td>\n",
       "      <td>0.052</td>\n",
       "      <td>0.009</td>\n",
       "      <td>0.000</td>\n",
       "      <td>0.009226</td>\n",
       "      <td>0.057304</td>\n",
       "      <td>0.301234</td>\n",
       "      <td>0.237740</td>\n",
       "      <td>0.063569</td>\n",
       "      <td>0.000000</td>\n",
       "      <td>0.000000</td>\n",
       "      <td>0.003815</td>\n",
       "    </tr>\n",
       "    <tr>\n",
       "      <th>8</th>\n",
       "      <td>KEITT</td>\n",
       "      <td>AGD-034</td>\n",
       "      <td>657</td>\n",
       "      <td>0.108</td>\n",
       "      <td>0.458</td>\n",
       "      <td>0.315</td>\n",
       "      <td>0.086</td>\n",
       "      <td>0.025</td>\n",
       "      <td>0.007</td>\n",
       "      <td>0.002</td>\n",
       "      <td>0.000</td>\n",
       "      <td>0.007657</td>\n",
       "      <td>0.051000</td>\n",
       "      <td>0.289184</td>\n",
       "      <td>0.216343</td>\n",
       "      <td>0.064205</td>\n",
       "      <td>0.000000</td>\n",
       "      <td>0.000000</td>\n",
       "      <td>0.006828</td>\n",
       "    </tr>\n",
       "    <tr>\n",
       "      <th>9</th>\n",
       "      <td>KEITT</td>\n",
       "      <td>AGD-034</td>\n",
       "      <td>665</td>\n",
       "      <td>0.080</td>\n",
       "      <td>0.424</td>\n",
       "      <td>0.357</td>\n",
       "      <td>0.107</td>\n",
       "      <td>0.024</td>\n",
       "      <td>0.007</td>\n",
       "      <td>0.001</td>\n",
       "      <td>0.000</td>\n",
       "      <td>0.006550</td>\n",
       "      <td>0.042978</td>\n",
       "      <td>0.274123</td>\n",
       "      <td>0.240117</td>\n",
       "      <td>0.077555</td>\n",
       "      <td>0.000000</td>\n",
       "      <td>0.000000</td>\n",
       "      <td>0.015640</td>\n",
       "    </tr>\n",
       "    <tr>\n",
       "      <th>10</th>\n",
       "      <td>KEITT</td>\n",
       "      <td>AGD-025</td>\n",
       "      <td>557</td>\n",
       "      <td>0.339</td>\n",
       "      <td>0.422</td>\n",
       "      <td>0.101</td>\n",
       "      <td>0.026</td>\n",
       "      <td>0.009</td>\n",
       "      <td>0.056</td>\n",
       "      <td>0.011</td>\n",
       "      <td>0.000</td>\n",
       "      <td>0.048045</td>\n",
       "      <td>0.321626</td>\n",
       "      <td>0.262279</td>\n",
       "      <td>0.169495</td>\n",
       "      <td>0.048598</td>\n",
       "      <td>0.020996</td>\n",
       "      <td>0.008590</td>\n",
       "      <td>0.000000</td>\n",
       "    </tr>\n",
       "    <tr>\n",
       "      <th>11</th>\n",
       "      <td>KEITT</td>\n",
       "      <td>AGD-025</td>\n",
       "      <td>626</td>\n",
       "      <td>0.041</td>\n",
       "      <td>0.208</td>\n",
       "      <td>0.285</td>\n",
       "      <td>0.217</td>\n",
       "      <td>0.100</td>\n",
       "      <td>0.097</td>\n",
       "      <td>0.052</td>\n",
       "      <td>0.001</td>\n",
       "      <td>0.039878</td>\n",
       "      <td>0.286247</td>\n",
       "      <td>0.251788</td>\n",
       "      <td>0.154240</td>\n",
       "      <td>0.049084</td>\n",
       "      <td>0.023725</td>\n",
       "      <td>0.017352</td>\n",
       "      <td>0.000000</td>\n",
       "    </tr>\n",
       "    <tr>\n",
       "      <th>12</th>\n",
       "      <td>KEITT</td>\n",
       "      <td>AGD-025</td>\n",
       "      <td>637</td>\n",
       "      <td>0.062</td>\n",
       "      <td>0.308</td>\n",
       "      <td>0.356</td>\n",
       "      <td>0.206</td>\n",
       "      <td>0.050</td>\n",
       "      <td>0.017</td>\n",
       "      <td>0.001</td>\n",
       "      <td>0.000</td>\n",
       "      <td>0.034112</td>\n",
       "      <td>0.241219</td>\n",
       "      <td>0.238674</td>\n",
       "      <td>0.171190</td>\n",
       "      <td>0.059289</td>\n",
       "      <td>0.031914</td>\n",
       "      <td>0.028433</td>\n",
       "      <td>0.000000</td>\n",
       "    </tr>\n",
       "    <tr>\n",
       "      <th>13</th>\n",
       "      <td>KEITT</td>\n",
       "      <td>AGD-013V1</td>\n",
       "      <td>594</td>\n",
       "      <td>0.181</td>\n",
       "      <td>0.515</td>\n",
       "      <td>0.194</td>\n",
       "      <td>0.016</td>\n",
       "      <td>0.090</td>\n",
       "      <td>0.003</td>\n",
       "      <td>0.001</td>\n",
       "      <td>0.000</td>\n",
       "      <td>0.244559</td>\n",
       "      <td>0.321626</td>\n",
       "      <td>0.053651</td>\n",
       "      <td>0.026304</td>\n",
       "      <td>0.037751</td>\n",
       "      <td>0.020996</td>\n",
       "      <td>0.008590</td>\n",
       "      <td>0.003815</td>\n",
       "    </tr>\n",
       "    <tr>\n",
       "      <th>14</th>\n",
       "      <td>KEITT</td>\n",
       "      <td>AGD-013V1</td>\n",
       "      <td>631</td>\n",
       "      <td>0.068</td>\n",
       "      <td>0.442</td>\n",
       "      <td>0.384</td>\n",
       "      <td>0.083</td>\n",
       "      <td>0.016</td>\n",
       "      <td>0.007</td>\n",
       "      <td>0.001</td>\n",
       "      <td>0.000</td>\n",
       "      <td>0.202984</td>\n",
       "      <td>0.286247</td>\n",
       "      <td>0.051505</td>\n",
       "      <td>0.023937</td>\n",
       "      <td>0.038129</td>\n",
       "      <td>0.023725</td>\n",
       "      <td>0.017352</td>\n",
       "      <td>0.006828</td>\n",
       "    </tr>\n",
       "    <tr>\n",
       "      <th>15</th>\n",
       "      <td>KEITT</td>\n",
       "      <td>AGD-013V1</td>\n",
       "      <td>635</td>\n",
       "      <td>0.041</td>\n",
       "      <td>0.329</td>\n",
       "      <td>0.359</td>\n",
       "      <td>0.186</td>\n",
       "      <td>0.052</td>\n",
       "      <td>0.030</td>\n",
       "      <td>0.005</td>\n",
       "      <td>0.000</td>\n",
       "      <td>0.173637</td>\n",
       "      <td>0.241219</td>\n",
       "      <td>0.048823</td>\n",
       "      <td>0.026567</td>\n",
       "      <td>0.046057</td>\n",
       "      <td>0.031914</td>\n",
       "      <td>0.028433</td>\n",
       "      <td>0.015640</td>\n",
       "    </tr>\n",
       "    <tr>\n",
       "      <th>16</th>\n",
       "      <td>KEITT</td>\n",
       "      <td>AGD-013V1</td>\n",
       "      <td>643</td>\n",
       "      <td>0.032</td>\n",
       "      <td>0.242</td>\n",
       "      <td>0.358</td>\n",
       "      <td>0.226</td>\n",
       "      <td>0.087</td>\n",
       "      <td>0.048</td>\n",
       "      <td>0.006</td>\n",
       "      <td>0.001</td>\n",
       "      <td>0.158963</td>\n",
       "      <td>0.215489</td>\n",
       "      <td>0.043458</td>\n",
       "      <td>0.024463</td>\n",
       "      <td>0.049077</td>\n",
       "      <td>0.038213</td>\n",
       "      <td>0.025427</td>\n",
       "      <td>0.017929</td>\n",
       "    </tr>\n",
       "    <tr>\n",
       "      <th>17</th>\n",
       "      <td>KENT</td>\n",
       "      <td>AGD-061</td>\n",
       "      <td>606</td>\n",
       "      <td>0.000</td>\n",
       "      <td>0.344</td>\n",
       "      <td>0.332</td>\n",
       "      <td>0.193</td>\n",
       "      <td>0.072</td>\n",
       "      <td>0.050</td>\n",
       "      <td>0.009</td>\n",
       "      <td>0.000</td>\n",
       "      <td>0.045262</td>\n",
       "      <td>0.244915</td>\n",
       "      <td>0.260845</td>\n",
       "      <td>0.220761</td>\n",
       "      <td>0.068960</td>\n",
       "      <td>0.061165</td>\n",
       "      <td>0.029084</td>\n",
       "      <td>0.003466</td>\n",
       "    </tr>\n",
       "    <tr>\n",
       "      <th>18</th>\n",
       "      <td>KENT</td>\n",
       "      <td>AGD-061</td>\n",
       "      <td>651</td>\n",
       "      <td>0.000</td>\n",
       "      <td>0.068</td>\n",
       "      <td>0.158</td>\n",
       "      <td>0.190</td>\n",
       "      <td>0.154</td>\n",
       "      <td>0.216</td>\n",
       "      <td>0.205</td>\n",
       "      <td>0.008</td>\n",
       "      <td>0.045714</td>\n",
       "      <td>0.220424</td>\n",
       "      <td>0.226935</td>\n",
       "      <td>0.203100</td>\n",
       "      <td>0.066891</td>\n",
       "      <td>0.063611</td>\n",
       "      <td>0.031120</td>\n",
       "      <td>0.003431</td>\n",
       "    </tr>\n",
       "    <tr>\n",
       "      <th>19</th>\n",
       "      <td>TOMMY</td>\n",
       "      <td>AGD-090</td>\n",
       "      <td>571</td>\n",
       "      <td>0.000</td>\n",
       "      <td>0.188</td>\n",
       "      <td>0.289</td>\n",
       "      <td>0.217</td>\n",
       "      <td>0.094</td>\n",
       "      <td>0.168</td>\n",
       "      <td>0.043</td>\n",
       "      <td>0.000</td>\n",
       "      <td>0.003401</td>\n",
       "      <td>0.018497</td>\n",
       "      <td>0.081225</td>\n",
       "      <td>0.249347</td>\n",
       "      <td>0.216770</td>\n",
       "      <td>0.270574</td>\n",
       "      <td>0.058245</td>\n",
       "      <td>0.001316</td>\n",
       "    </tr>\n",
       "    <tr>\n",
       "      <th>20</th>\n",
       "      <td>TOMMY</td>\n",
       "      <td>AGD-090</td>\n",
       "      <td>579</td>\n",
       "      <td>0.000</td>\n",
       "      <td>0.147</td>\n",
       "      <td>0.255</td>\n",
       "      <td>0.307</td>\n",
       "      <td>0.090</td>\n",
       "      <td>0.100</td>\n",
       "      <td>0.099</td>\n",
       "      <td>0.001</td>\n",
       "      <td>0.004354</td>\n",
       "      <td>0.020162</td>\n",
       "      <td>0.086098</td>\n",
       "      <td>0.241867</td>\n",
       "      <td>0.201596</td>\n",
       "      <td>0.246222</td>\n",
       "      <td>0.054750</td>\n",
       "      <td>0.001658</td>\n",
       "    </tr>\n",
       "    <tr>\n",
       "      <th>21</th>\n",
       "      <td>TOMMY</td>\n",
       "      <td>AGD-090</td>\n",
       "      <td>584</td>\n",
       "      <td>0.000</td>\n",
       "      <td>0.169</td>\n",
       "      <td>0.258</td>\n",
       "      <td>0.275</td>\n",
       "      <td>0.107</td>\n",
       "      <td>0.138</td>\n",
       "      <td>0.050</td>\n",
       "      <td>0.003</td>\n",
       "      <td>0.004218</td>\n",
       "      <td>0.019237</td>\n",
       "      <td>0.081225</td>\n",
       "      <td>0.234387</td>\n",
       "      <td>0.192926</td>\n",
       "      <td>0.240811</td>\n",
       "      <td>0.062904</td>\n",
       "      <td>0.002079</td>\n",
       "    </tr>\n",
       "    <tr>\n",
       "      <th>22</th>\n",
       "      <td>TOMMY</td>\n",
       "      <td>AGD-090</td>\n",
       "      <td>532</td>\n",
       "      <td>0.000</td>\n",
       "      <td>0.116</td>\n",
       "      <td>0.278</td>\n",
       "      <td>0.356</td>\n",
       "      <td>0.125</td>\n",
       "      <td>0.095</td>\n",
       "      <td>0.029</td>\n",
       "      <td>0.000</td>\n",
       "      <td>0.004524</td>\n",
       "      <td>0.021272</td>\n",
       "      <td>0.084474</td>\n",
       "      <td>0.231893</td>\n",
       "      <td>0.188590</td>\n",
       "      <td>0.229988</td>\n",
       "      <td>0.063487</td>\n",
       "      <td>0.002342</td>\n",
       "    </tr>\n",
       "    <tr>\n",
       "      <th>23</th>\n",
       "      <td>TOMMY</td>\n",
       "      <td>AGD-101</td>\n",
       "      <td>679</td>\n",
       "      <td>0.000</td>\n",
       "      <td>0.107</td>\n",
       "      <td>0.256</td>\n",
       "      <td>0.354</td>\n",
       "      <td>0.154</td>\n",
       "      <td>0.114</td>\n",
       "      <td>0.014</td>\n",
       "      <td>0.000</td>\n",
       "      <td>0.000000</td>\n",
       "      <td>0.018497</td>\n",
       "      <td>0.013540</td>\n",
       "      <td>0.242161</td>\n",
       "      <td>0.216770</td>\n",
       "      <td>0.291009</td>\n",
       "      <td>0.081225</td>\n",
       "      <td>0.000000</td>\n",
       "    </tr>\n",
       "    <tr>\n",
       "      <th>24</th>\n",
       "      <td>TOMMY</td>\n",
       "      <td>AGD-101</td>\n",
       "      <td>686</td>\n",
       "      <td>0.000</td>\n",
       "      <td>0.151</td>\n",
       "      <td>0.204</td>\n",
       "      <td>0.428</td>\n",
       "      <td>0.051</td>\n",
       "      <td>0.147</td>\n",
       "      <td>0.019</td>\n",
       "      <td>0.000</td>\n",
       "      <td>0.000000</td>\n",
       "      <td>0.020162</td>\n",
       "      <td>0.014352</td>\n",
       "      <td>0.234896</td>\n",
       "      <td>0.201596</td>\n",
       "      <td>0.264818</td>\n",
       "      <td>0.076351</td>\n",
       "      <td>0.000000</td>\n",
       "    </tr>\n",
       "    <tr>\n",
       "      <th>25</th>\n",
       "      <td>TOMMY</td>\n",
       "      <td>AGD-101</td>\n",
       "      <td>686</td>\n",
       "      <td>0.000</td>\n",
       "      <td>0.069</td>\n",
       "      <td>0.291</td>\n",
       "      <td>0.310</td>\n",
       "      <td>0.209</td>\n",
       "      <td>0.096</td>\n",
       "      <td>0.025</td>\n",
       "      <td>0.000</td>\n",
       "      <td>0.000000</td>\n",
       "      <td>0.019237</td>\n",
       "      <td>0.013540</td>\n",
       "      <td>0.227631</td>\n",
       "      <td>0.192926</td>\n",
       "      <td>0.258998</td>\n",
       "      <td>0.087723</td>\n",
       "      <td>0.000000</td>\n",
       "    </tr>\n",
       "    <tr>\n",
       "      <th>26</th>\n",
       "      <td>TOMMY</td>\n",
       "      <td>AGD-101</td>\n",
       "      <td>695</td>\n",
       "      <td>0.000</td>\n",
       "      <td>0.078</td>\n",
       "      <td>0.222</td>\n",
       "      <td>0.400</td>\n",
       "      <td>0.141</td>\n",
       "      <td>0.135</td>\n",
       "      <td>0.023</td>\n",
       "      <td>0.000</td>\n",
       "      <td>0.000000</td>\n",
       "      <td>0.021272</td>\n",
       "      <td>0.014081</td>\n",
       "      <td>0.225210</td>\n",
       "      <td>0.188590</td>\n",
       "      <td>0.247357</td>\n",
       "      <td>0.088535</td>\n",
       "      <td>0.000000</td>\n",
       "    </tr>\n",
       "    <tr>\n",
       "      <th>27</th>\n",
       "      <td>TOMMY</td>\n",
       "      <td>FI-003</td>\n",
       "      <td>542</td>\n",
       "      <td>0.000</td>\n",
       "      <td>0.031</td>\n",
       "      <td>0.120</td>\n",
       "      <td>0.316</td>\n",
       "      <td>0.204</td>\n",
       "      <td>0.254</td>\n",
       "      <td>0.075</td>\n",
       "      <td>0.001</td>\n",
       "      <td>0.003401</td>\n",
       "      <td>0.041024</td>\n",
       "      <td>0.171292</td>\n",
       "      <td>0.284494</td>\n",
       "      <td>0.193808</td>\n",
       "      <td>0.230352</td>\n",
       "      <td>0.082818</td>\n",
       "      <td>0.000000</td>\n",
       "    </tr>\n",
       "    <tr>\n",
       "      <th>28</th>\n",
       "      <td>TOMMY</td>\n",
       "      <td>FI-003</td>\n",
       "      <td>548</td>\n",
       "      <td>0.000</td>\n",
       "      <td>0.031</td>\n",
       "      <td>0.150</td>\n",
       "      <td>0.316</td>\n",
       "      <td>0.198</td>\n",
       "      <td>0.246</td>\n",
       "      <td>0.059</td>\n",
       "      <td>0.000</td>\n",
       "      <td>0.004354</td>\n",
       "      <td>0.044716</td>\n",
       "      <td>0.181569</td>\n",
       "      <td>0.275959</td>\n",
       "      <td>0.180241</td>\n",
       "      <td>0.209621</td>\n",
       "      <td>0.077849</td>\n",
       "      <td>0.000000</td>\n",
       "    </tr>\n",
       "    <tr>\n",
       "      <th>29</th>\n",
       "      <td>TOMMY</td>\n",
       "      <td>FI-003</td>\n",
       "      <td>559</td>\n",
       "      <td>0.000</td>\n",
       "      <td>0.040</td>\n",
       "      <td>0.136</td>\n",
       "      <td>0.328</td>\n",
       "      <td>0.187</td>\n",
       "      <td>0.244</td>\n",
       "      <td>0.064</td>\n",
       "      <td>0.000</td>\n",
       "      <td>0.004218</td>\n",
       "      <td>0.042664</td>\n",
       "      <td>0.171292</td>\n",
       "      <td>0.267424</td>\n",
       "      <td>0.172489</td>\n",
       "      <td>0.205014</td>\n",
       "      <td>0.089443</td>\n",
       "      <td>0.000000</td>\n",
       "    </tr>\n",
       "    <tr>\n",
       "      <th>30</th>\n",
       "      <td>TOMMY</td>\n",
       "      <td>FI-003</td>\n",
       "      <td>574</td>\n",
       "      <td>0.000</td>\n",
       "      <td>0.030</td>\n",
       "      <td>0.110</td>\n",
       "      <td>0.440</td>\n",
       "      <td>0.201</td>\n",
       "      <td>0.178</td>\n",
       "      <td>0.041</td>\n",
       "      <td>0.000</td>\n",
       "      <td>0.004524</td>\n",
       "      <td>0.047177</td>\n",
       "      <td>0.178143</td>\n",
       "      <td>0.264579</td>\n",
       "      <td>0.168613</td>\n",
       "      <td>0.195799</td>\n",
       "      <td>0.090271</td>\n",
       "      <td>0.000000</td>\n",
       "    </tr>\n",
       "    <tr>\n",
       "      <th>31</th>\n",
       "      <td>TOMMY</td>\n",
       "      <td>FI-018</td>\n",
       "      <td>460</td>\n",
       "      <td>0.000</td>\n",
       "      <td>0.052</td>\n",
       "      <td>0.158</td>\n",
       "      <td>0.358</td>\n",
       "      <td>0.211</td>\n",
       "      <td>0.197</td>\n",
       "      <td>0.024</td>\n",
       "      <td>0.000</td>\n",
       "      <td>0.000000</td>\n",
       "      <td>0.041024</td>\n",
       "      <td>0.072763</td>\n",
       "      <td>0.241591</td>\n",
       "      <td>0.201674</td>\n",
       "      <td>0.277392</td>\n",
       "      <td>0.081225</td>\n",
       "      <td>0.000000</td>\n",
       "    </tr>\n",
       "    <tr>\n",
       "      <th>32</th>\n",
       "      <td>TOMMY</td>\n",
       "      <td>FI-018</td>\n",
       "      <td>473</td>\n",
       "      <td>0.000</td>\n",
       "      <td>0.068</td>\n",
       "      <td>0.183</td>\n",
       "      <td>0.260</td>\n",
       "      <td>0.198</td>\n",
       "      <td>0.200</td>\n",
       "      <td>0.033</td>\n",
       "      <td>0.000</td>\n",
       "      <td>0.000000</td>\n",
       "      <td>0.044716</td>\n",
       "      <td>0.077129</td>\n",
       "      <td>0.234343</td>\n",
       "      <td>0.187557</td>\n",
       "      <td>0.252427</td>\n",
       "      <td>0.076351</td>\n",
       "      <td>0.000000</td>\n",
       "    </tr>\n",
       "    <tr>\n",
       "      <th>33</th>\n",
       "      <td>TOMMY</td>\n",
       "      <td>FI-018</td>\n",
       "      <td>484</td>\n",
       "      <td>0.000</td>\n",
       "      <td>0.028</td>\n",
       "      <td>0.148</td>\n",
       "      <td>0.274</td>\n",
       "      <td>0.193</td>\n",
       "      <td>0.224</td>\n",
       "      <td>0.051</td>\n",
       "      <td>0.003</td>\n",
       "      <td>0.000000</td>\n",
       "      <td>0.042664</td>\n",
       "      <td>0.072763</td>\n",
       "      <td>0.227096</td>\n",
       "      <td>0.179490</td>\n",
       "      <td>0.246879</td>\n",
       "      <td>0.087723</td>\n",
       "      <td>0.000000</td>\n",
       "    </tr>\n",
       "    <tr>\n",
       "      <th>34</th>\n",
       "      <td>TOMMY</td>\n",
       "      <td>FI-018</td>\n",
       "      <td>489</td>\n",
       "      <td>0.000</td>\n",
       "      <td>0.048</td>\n",
       "      <td>0.153</td>\n",
       "      <td>0.290</td>\n",
       "      <td>0.215</td>\n",
       "      <td>0.222</td>\n",
       "      <td>0.021</td>\n",
       "      <td>0.000</td>\n",
       "      <td>0.000000</td>\n",
       "      <td>0.047177</td>\n",
       "      <td>0.075674</td>\n",
       "      <td>0.224680</td>\n",
       "      <td>0.175456</td>\n",
       "      <td>0.235783</td>\n",
       "      <td>0.088535</td>\n",
       "      <td>0.000000</td>\n",
       "    </tr>\n",
       "  </tbody>\n",
       "</table>\n",
       "</div>"
      ],
      "text/plain": [
       "   VARIEDADE     TALHAO  CONTROLE  CALIBRE_5  CALIBRE_6  CALIBRE_7  CALIBRE_8  \\\n",
       "0      KEITT    AGD-049       669      0.106      0.597      0.245      0.035   \n",
       "1      KEITT    AGD-049       687      0.095      0.483      0.306      0.086   \n",
       "2      KEITT    AGD-049       688      0.080      0.403      0.363      0.122   \n",
       "3      KEITT    AGD-049       691      0.066      0.295      0.334      0.183   \n",
       "4      KEITT    AGD-048       495      0.019      0.133      0.169      0.164   \n",
       "5      KEITT    AGD-048       501      0.002      0.053      0.114      0.074   \n",
       "6      KEITT    AGD-048       501      0.038      0.110      0.171      0.185   \n",
       "7      KEITT    AGD-034       657      0.292      0.513      0.125      0.003   \n",
       "8      KEITT    AGD-034       657      0.108      0.458      0.315      0.086   \n",
       "9      KEITT    AGD-034       665      0.080      0.424      0.357      0.107   \n",
       "10     KEITT    AGD-025       557      0.339      0.422      0.101      0.026   \n",
       "11     KEITT    AGD-025       626      0.041      0.208      0.285      0.217   \n",
       "12     KEITT    AGD-025       637      0.062      0.308      0.356      0.206   \n",
       "13     KEITT  AGD-013V1       594      0.181      0.515      0.194      0.016   \n",
       "14     KEITT  AGD-013V1       631      0.068      0.442      0.384      0.083   \n",
       "15     KEITT  AGD-013V1       635      0.041      0.329      0.359      0.186   \n",
       "16     KEITT  AGD-013V1       643      0.032      0.242      0.358      0.226   \n",
       "17      KENT    AGD-061       606      0.000      0.344      0.332      0.193   \n",
       "18      KENT    AGD-061       651      0.000      0.068      0.158      0.190   \n",
       "19     TOMMY    AGD-090       571      0.000      0.188      0.289      0.217   \n",
       "20     TOMMY    AGD-090       579      0.000      0.147      0.255      0.307   \n",
       "21     TOMMY    AGD-090       584      0.000      0.169      0.258      0.275   \n",
       "22     TOMMY    AGD-090       532      0.000      0.116      0.278      0.356   \n",
       "23     TOMMY    AGD-101       679      0.000      0.107      0.256      0.354   \n",
       "24     TOMMY    AGD-101       686      0.000      0.151      0.204      0.428   \n",
       "25     TOMMY    AGD-101       686      0.000      0.069      0.291      0.310   \n",
       "26     TOMMY    AGD-101       695      0.000      0.078      0.222      0.400   \n",
       "27     TOMMY     FI-003       542      0.000      0.031      0.120      0.316   \n",
       "28     TOMMY     FI-003       548      0.000      0.031      0.150      0.316   \n",
       "29     TOMMY     FI-003       559      0.000      0.040      0.136      0.328   \n",
       "30     TOMMY     FI-003       574      0.000      0.030      0.110      0.440   \n",
       "31     TOMMY     FI-018       460      0.000      0.052      0.158      0.358   \n",
       "32     TOMMY     FI-018       473      0.000      0.068      0.183      0.260   \n",
       "33     TOMMY     FI-018       484      0.000      0.028      0.148      0.274   \n",
       "34     TOMMY     FI-018       489      0.000      0.048      0.153      0.290   \n",
       "\n",
       "    CALIBRE_9  CALIBRE_10  CALIBRE_12  CALIBRE_14  p_CALIBRE_5  p_CALIBRE_6  \\\n",
       "0       0.002       0.004       0.010       0.001     0.037021     0.242613   \n",
       "1       0.013       0.007       0.009       0.001     0.030727     0.215925   \n",
       "2       0.022       0.007       0.002       0.000     0.026285     0.181960   \n",
       "3       0.060       0.053       0.009       0.000     0.024063     0.162551   \n",
       "4       0.114       0.202       0.199       0.000     0.049320     0.321626   \n",
       "5       0.099       0.235       0.424       0.000     0.040935     0.286247   \n",
       "6       0.148       0.156       0.111       0.081     0.035017     0.241219   \n",
       "7       0.004       0.052       0.009       0.000     0.009226     0.057304   \n",
       "8       0.025       0.007       0.002       0.000     0.007657     0.051000   \n",
       "9       0.024       0.007       0.001       0.000     0.006550     0.042978   \n",
       "10      0.009       0.056       0.011       0.000     0.048045     0.321626   \n",
       "11      0.100       0.097       0.052       0.001     0.039878     0.286247   \n",
       "12      0.050       0.017       0.001       0.000     0.034112     0.241219   \n",
       "13      0.090       0.003       0.001       0.000     0.244559     0.321626   \n",
       "14      0.016       0.007       0.001       0.000     0.202984     0.286247   \n",
       "15      0.052       0.030       0.005       0.000     0.173637     0.241219   \n",
       "16      0.087       0.048       0.006       0.001     0.158963     0.215489   \n",
       "17      0.072       0.050       0.009       0.000     0.045262     0.244915   \n",
       "18      0.154       0.216       0.205       0.008     0.045714     0.220424   \n",
       "19      0.094       0.168       0.043       0.000     0.003401     0.018497   \n",
       "20      0.090       0.100       0.099       0.001     0.004354     0.020162   \n",
       "21      0.107       0.138       0.050       0.003     0.004218     0.019237   \n",
       "22      0.125       0.095       0.029       0.000     0.004524     0.021272   \n",
       "23      0.154       0.114       0.014       0.000     0.000000     0.018497   \n",
       "24      0.051       0.147       0.019       0.000     0.000000     0.020162   \n",
       "25      0.209       0.096       0.025       0.000     0.000000     0.019237   \n",
       "26      0.141       0.135       0.023       0.000     0.000000     0.021272   \n",
       "27      0.204       0.254       0.075       0.001     0.003401     0.041024   \n",
       "28      0.198       0.246       0.059       0.000     0.004354     0.044716   \n",
       "29      0.187       0.244       0.064       0.000     0.004218     0.042664   \n",
       "30      0.201       0.178       0.041       0.000     0.004524     0.047177   \n",
       "31      0.211       0.197       0.024       0.000     0.000000     0.041024   \n",
       "32      0.198       0.200       0.033       0.000     0.000000     0.044716   \n",
       "33      0.193       0.224       0.051       0.003     0.000000     0.042664   \n",
       "34      0.215       0.222       0.021       0.000     0.000000     0.047177   \n",
       "\n",
       "    p_CALIBRE_7  p_CALIBRE_8  p_CALIBRE_9  p_CALIBRE_10  p_CALIBRE_12  \\\n",
       "0      0.301234     0.230553     0.056728      0.022293      0.000000   \n",
       "1      0.289184     0.209804     0.057295      0.025192      0.000000   \n",
       "2      0.274123     0.232859     0.069208      0.033886      0.000000   \n",
       "3      0.243999     0.214415     0.073746      0.040574      0.000000   \n",
       "4      0.260845     0.191550     0.045383      0.020996      0.115000   \n",
       "5      0.250411     0.174310     0.045836      0.023725      0.180000   \n",
       "6      0.237369     0.193465     0.055367      0.031914      0.117000   \n",
       "7      0.301234     0.237740     0.063569      0.000000      0.000000   \n",
       "8      0.289184     0.216343     0.064205      0.000000      0.000000   \n",
       "9      0.274123     0.240117     0.077555      0.000000      0.000000   \n",
       "10     0.262279     0.169495     0.048598      0.020996      0.008590   \n",
       "11     0.251788     0.154240     0.049084      0.023725      0.017352   \n",
       "12     0.238674     0.171190     0.059289      0.031914      0.028433   \n",
       "13     0.053651     0.026304     0.037751      0.020996      0.008590   \n",
       "14     0.051505     0.023937     0.038129      0.023725      0.017352   \n",
       "15     0.048823     0.026567     0.046057      0.031914      0.028433   \n",
       "16     0.043458     0.024463     0.049077      0.038213      0.025427   \n",
       "17     0.260845     0.220761     0.068960      0.061165      0.029084   \n",
       "18     0.226935     0.203100     0.066891      0.063611      0.031120   \n",
       "19     0.081225     0.249347     0.216770      0.270574      0.058245   \n",
       "20     0.086098     0.241867     0.201596      0.246222      0.054750   \n",
       "21     0.081225     0.234387     0.192926      0.240811      0.062904   \n",
       "22     0.084474     0.231893     0.188590      0.229988      0.063487   \n",
       "23     0.013540     0.242161     0.216770      0.291009      0.081225   \n",
       "24     0.014352     0.234896     0.201596      0.264818      0.076351   \n",
       "25     0.013540     0.227631     0.192926      0.258998      0.087723   \n",
       "26     0.014081     0.225210     0.188590      0.247357      0.088535   \n",
       "27     0.171292     0.284494     0.193808      0.230352      0.082818   \n",
       "28     0.181569     0.275959     0.180241      0.209621      0.077849   \n",
       "29     0.171292     0.267424     0.172489      0.205014      0.089443   \n",
       "30     0.178143     0.264579     0.168613      0.195799      0.090271   \n",
       "31     0.072763     0.241591     0.201674      0.277392      0.081225   \n",
       "32     0.077129     0.234343     0.187557      0.252427      0.076351   \n",
       "33     0.072763     0.227096     0.179490      0.246879      0.087723   \n",
       "34     0.075674     0.224680     0.175456      0.235783      0.088535   \n",
       "\n",
       "    p_CALIBRE_14  \n",
       "0       0.000000  \n",
       "1       0.000000  \n",
       "2       0.000000  \n",
       "3       0.000000  \n",
       "4       0.000000  \n",
       "5       0.000000  \n",
       "6       0.000000  \n",
       "7       0.003815  \n",
       "8       0.006828  \n",
       "9       0.015640  \n",
       "10      0.000000  \n",
       "11      0.000000  \n",
       "12      0.000000  \n",
       "13      0.003815  \n",
       "14      0.006828  \n",
       "15      0.015640  \n",
       "16      0.017929  \n",
       "17      0.003466  \n",
       "18      0.003431  \n",
       "19      0.001316  \n",
       "20      0.001658  \n",
       "21      0.002079  \n",
       "22      0.002342  \n",
       "23      0.000000  \n",
       "24      0.000000  \n",
       "25      0.000000  \n",
       "26      0.000000  \n",
       "27      0.000000  \n",
       "28      0.000000  \n",
       "29      0.000000  \n",
       "30      0.000000  \n",
       "31      0.000000  \n",
       "32      0.000000  \n",
       "33      0.000000  \n",
       "34      0.000000  "
      ]
     },
     "execution_count": 379,
     "metadata": {},
     "output_type": "execute_result"
    }
   ],
   "source": [
    "dados_results"
   ]
  },
  {
   "cell_type": "code",
   "execution_count": 380,
   "metadata": {},
   "outputs": [],
   "source": [
    "dados_results['dif_p_CALIBRE_5'] = abs(dados_results['p_CALIBRE_5'] - dados_results['CALIBRE_5'])\n",
    "dados_results['dif_p_CALIBRE_6'] = abs(dados_results['p_CALIBRE_6'] - dados_results['CALIBRE_6'])\n",
    "dados_results['dif_p_CALIBRE_7'] = abs(dados_results['p_CALIBRE_7'] - dados_results['CALIBRE_7'])\n",
    "dados_results['dif_p_CALIBRE_8'] = abs(dados_results['p_CALIBRE_8'] - dados_results['CALIBRE_8'])\n",
    "dados_results['dif_p_CALIBRE_9'] = abs(dados_results['p_CALIBRE_9'] - dados_results['CALIBRE_9'])\n",
    "dados_results['dif_p_CALIBRE_10'] = abs(dados_results['p_CALIBRE_10'] - dados_results['CALIBRE_10'])\n",
    "dados_results['dif_p_CALIBRE_12'] = abs(dados_results['p_CALIBRE_12'] - dados_results['CALIBRE_12'])\n",
    "dados_results['dif_p_CALIBRE_14'] = abs(dados_results['p_CALIBRE_14'] - dados_results['CALIBRE_14'])"
   ]
  },
  {
   "cell_type": "code",
   "execution_count": 381,
   "metadata": {},
   "outputs": [],
   "source": [
    "dataframe_3 = dados_results "
   ]
  },
  {
   "cell_type": "code",
   "execution_count": 382,
   "metadata": {},
   "outputs": [],
   "source": [
    "def criacao_metrica_cal4(dataframe_3):\n",
    "    if dataframe_3['dif_p_CALIBRE_5'] > 0.11:\n",
    "        return 'Erro'\n",
    "    else:\n",
    "        return 'Acerto'\n",
    "\n",
    "dataframe_3['CAL5_sens1'] = dataframe_3.apply(criacao_metrica_cal4, axis = 1)\n",
    "\n",
    "\n",
    "def criacao_metrica_cal5(dataframe_3):\n",
    "    if dataframe_3['dif_p_CALIBRE_6'] > 0.11:\n",
    "        return 'Erro'\n",
    "    else:\n",
    "        return 'Acerto'\n",
    "\n",
    "dataframe_3['CAL6_sens1'] = dataframe_3.apply(criacao_metrica_cal5, axis = 1)\n",
    "\n",
    "def criacao_metrica_cal6(dataframe_3):\n",
    "    if dataframe_3['dif_p_CALIBRE_7'] > 0.11:\n",
    "        return 'Erro'\n",
    "    else:\n",
    "        return 'Acerto'\n",
    "\n",
    "dataframe_3['CAL7_sens1'] = dataframe_3.apply(criacao_metrica_cal6, axis = 1)\n",
    "\n",
    "def criacao_metrica_cal7(dataframe_3):\n",
    "    if dataframe_3['dif_p_CALIBRE_8'] > 0.11:\n",
    "        return 'Erro'\n",
    "    else:\n",
    "        return 'Acerto'\n",
    "\n",
    "dataframe_3['CAL8_sens1'] = dataframe_3.apply(criacao_metrica_cal7, axis = 1)\n",
    "\n",
    "def criacao_metrica_cal8(dataframe_3):\n",
    "    if dataframe_3['dif_p_CALIBRE_9'] > 0.11:\n",
    "        return 'Erro'\n",
    "    else:\n",
    "        return 'Acerto'\n",
    "\n",
    "dataframe_3['CAL9_sens1'] = dataframe_3.apply(criacao_metrica_cal8, axis = 1)\n",
    "\n",
    "def criacao_metrica_cal9(dataframe_3):\n",
    "    if dataframe_3['dif_p_CALIBRE_10'] > 0.11:\n",
    "        return 'Erro'\n",
    "    else:\n",
    "        return 'Acerto'\n",
    "\n",
    "dataframe_3['CAL10_sens1'] = dataframe_3.apply(criacao_metrica_cal9, axis = 1)\n",
    "\n",
    "def criacao_metrica_cal10(dataframe_3):\n",
    "    if dataframe_3['dif_p_CALIBRE_12'] > 0.11:\n",
    "        return 'Erro'\n",
    "    else:\n",
    "        return 'Acerto'\n",
    "\n",
    "dataframe_3['CAL12_sens1'] = dataframe_3.apply(criacao_metrica_cal10, axis = 1)\n",
    "\n",
    "def criacao_metrica_cal12(dataframe_3):\n",
    "    if dataframe_3['dif_p_CALIBRE_14'] > 0.11:\n",
    "        return 'Erro'\n",
    "    else:\n",
    "        return 'Acerto'\n",
    "\n",
    "dataframe_3['CAL14_sens1'] = dataframe_3.apply(criacao_metrica_cal12, axis = 1)"
   ]
  },
  {
   "cell_type": "code",
   "execution_count": 383,
   "metadata": {},
   "outputs": [
    {
     "data": {
      "text/html": [
       "<div>\n",
       "<style scoped>\n",
       "    .dataframe tbody tr th:only-of-type {\n",
       "        vertical-align: middle;\n",
       "    }\n",
       "\n",
       "    .dataframe tbody tr th {\n",
       "        vertical-align: top;\n",
       "    }\n",
       "\n",
       "    .dataframe thead th {\n",
       "        text-align: right;\n",
       "    }\n",
       "</style>\n",
       "<table border=\"1\" class=\"dataframe\">\n",
       "  <thead>\n",
       "    <tr style=\"text-align: right;\">\n",
       "      <th></th>\n",
       "      <th>VARIEDADE</th>\n",
       "      <th>TALHAO</th>\n",
       "      <th>CONTROLE</th>\n",
       "      <th>CALIBRE_5</th>\n",
       "      <th>CALIBRE_6</th>\n",
       "      <th>CALIBRE_7</th>\n",
       "      <th>CALIBRE_8</th>\n",
       "      <th>CALIBRE_9</th>\n",
       "      <th>CALIBRE_10</th>\n",
       "      <th>CALIBRE_12</th>\n",
       "      <th>...</th>\n",
       "      <th>dif_p_CALIBRE_12</th>\n",
       "      <th>dif_p_CALIBRE_14</th>\n",
       "      <th>CAL5_sens1</th>\n",
       "      <th>CAL6_sens1</th>\n",
       "      <th>CAL7_sens1</th>\n",
       "      <th>CAL8_sens1</th>\n",
       "      <th>CAL9_sens1</th>\n",
       "      <th>CAL10_sens1</th>\n",
       "      <th>CAL12_sens1</th>\n",
       "      <th>CAL14_sens1</th>\n",
       "    </tr>\n",
       "  </thead>\n",
       "  <tbody>\n",
       "    <tr>\n",
       "      <th>0</th>\n",
       "      <td>KEITT</td>\n",
       "      <td>AGD-049</td>\n",
       "      <td>669</td>\n",
       "      <td>0.106</td>\n",
       "      <td>0.597</td>\n",
       "      <td>0.245</td>\n",
       "      <td>0.035</td>\n",
       "      <td>0.002</td>\n",
       "      <td>0.004</td>\n",
       "      <td>0.010</td>\n",
       "      <td>...</td>\n",
       "      <td>0.010000</td>\n",
       "      <td>0.001000</td>\n",
       "      <td>Acerto</td>\n",
       "      <td>Erro</td>\n",
       "      <td>Acerto</td>\n",
       "      <td>Erro</td>\n",
       "      <td>Acerto</td>\n",
       "      <td>Acerto</td>\n",
       "      <td>Acerto</td>\n",
       "      <td>Acerto</td>\n",
       "    </tr>\n",
       "    <tr>\n",
       "      <th>1</th>\n",
       "      <td>KEITT</td>\n",
       "      <td>AGD-049</td>\n",
       "      <td>687</td>\n",
       "      <td>0.095</td>\n",
       "      <td>0.483</td>\n",
       "      <td>0.306</td>\n",
       "      <td>0.086</td>\n",
       "      <td>0.013</td>\n",
       "      <td>0.007</td>\n",
       "      <td>0.009</td>\n",
       "      <td>...</td>\n",
       "      <td>0.009000</td>\n",
       "      <td>0.001000</td>\n",
       "      <td>Acerto</td>\n",
       "      <td>Erro</td>\n",
       "      <td>Acerto</td>\n",
       "      <td>Erro</td>\n",
       "      <td>Acerto</td>\n",
       "      <td>Acerto</td>\n",
       "      <td>Acerto</td>\n",
       "      <td>Acerto</td>\n",
       "    </tr>\n",
       "    <tr>\n",
       "      <th>2</th>\n",
       "      <td>KEITT</td>\n",
       "      <td>AGD-049</td>\n",
       "      <td>688</td>\n",
       "      <td>0.080</td>\n",
       "      <td>0.403</td>\n",
       "      <td>0.363</td>\n",
       "      <td>0.122</td>\n",
       "      <td>0.022</td>\n",
       "      <td>0.007</td>\n",
       "      <td>0.002</td>\n",
       "      <td>...</td>\n",
       "      <td>0.002000</td>\n",
       "      <td>0.000000</td>\n",
       "      <td>Acerto</td>\n",
       "      <td>Erro</td>\n",
       "      <td>Acerto</td>\n",
       "      <td>Erro</td>\n",
       "      <td>Acerto</td>\n",
       "      <td>Acerto</td>\n",
       "      <td>Acerto</td>\n",
       "      <td>Acerto</td>\n",
       "    </tr>\n",
       "    <tr>\n",
       "      <th>3</th>\n",
       "      <td>KEITT</td>\n",
       "      <td>AGD-049</td>\n",
       "      <td>691</td>\n",
       "      <td>0.066</td>\n",
       "      <td>0.295</td>\n",
       "      <td>0.334</td>\n",
       "      <td>0.183</td>\n",
       "      <td>0.060</td>\n",
       "      <td>0.053</td>\n",
       "      <td>0.009</td>\n",
       "      <td>...</td>\n",
       "      <td>0.009000</td>\n",
       "      <td>0.000000</td>\n",
       "      <td>Acerto</td>\n",
       "      <td>Erro</td>\n",
       "      <td>Acerto</td>\n",
       "      <td>Acerto</td>\n",
       "      <td>Acerto</td>\n",
       "      <td>Acerto</td>\n",
       "      <td>Acerto</td>\n",
       "      <td>Acerto</td>\n",
       "    </tr>\n",
       "    <tr>\n",
       "      <th>4</th>\n",
       "      <td>KEITT</td>\n",
       "      <td>AGD-048</td>\n",
       "      <td>495</td>\n",
       "      <td>0.019</td>\n",
       "      <td>0.133</td>\n",
       "      <td>0.169</td>\n",
       "      <td>0.164</td>\n",
       "      <td>0.114</td>\n",
       "      <td>0.202</td>\n",
       "      <td>0.199</td>\n",
       "      <td>...</td>\n",
       "      <td>0.084000</td>\n",
       "      <td>0.000000</td>\n",
       "      <td>Acerto</td>\n",
       "      <td>Erro</td>\n",
       "      <td>Acerto</td>\n",
       "      <td>Acerto</td>\n",
       "      <td>Acerto</td>\n",
       "      <td>Erro</td>\n",
       "      <td>Acerto</td>\n",
       "      <td>Acerto</td>\n",
       "    </tr>\n",
       "    <tr>\n",
       "      <th>5</th>\n",
       "      <td>KEITT</td>\n",
       "      <td>AGD-048</td>\n",
       "      <td>501</td>\n",
       "      <td>0.002</td>\n",
       "      <td>0.053</td>\n",
       "      <td>0.114</td>\n",
       "      <td>0.074</td>\n",
       "      <td>0.099</td>\n",
       "      <td>0.235</td>\n",
       "      <td>0.424</td>\n",
       "      <td>...</td>\n",
       "      <td>0.244000</td>\n",
       "      <td>0.000000</td>\n",
       "      <td>Acerto</td>\n",
       "      <td>Erro</td>\n",
       "      <td>Erro</td>\n",
       "      <td>Acerto</td>\n",
       "      <td>Acerto</td>\n",
       "      <td>Erro</td>\n",
       "      <td>Erro</td>\n",
       "      <td>Acerto</td>\n",
       "    </tr>\n",
       "    <tr>\n",
       "      <th>6</th>\n",
       "      <td>KEITT</td>\n",
       "      <td>AGD-048</td>\n",
       "      <td>501</td>\n",
       "      <td>0.038</td>\n",
       "      <td>0.110</td>\n",
       "      <td>0.171</td>\n",
       "      <td>0.185</td>\n",
       "      <td>0.148</td>\n",
       "      <td>0.156</td>\n",
       "      <td>0.111</td>\n",
       "      <td>...</td>\n",
       "      <td>0.006000</td>\n",
       "      <td>0.081000</td>\n",
       "      <td>Acerto</td>\n",
       "      <td>Erro</td>\n",
       "      <td>Acerto</td>\n",
       "      <td>Acerto</td>\n",
       "      <td>Acerto</td>\n",
       "      <td>Erro</td>\n",
       "      <td>Acerto</td>\n",
       "      <td>Acerto</td>\n",
       "    </tr>\n",
       "    <tr>\n",
       "      <th>7</th>\n",
       "      <td>KEITT</td>\n",
       "      <td>AGD-034</td>\n",
       "      <td>657</td>\n",
       "      <td>0.292</td>\n",
       "      <td>0.513</td>\n",
       "      <td>0.125</td>\n",
       "      <td>0.003</td>\n",
       "      <td>0.004</td>\n",
       "      <td>0.052</td>\n",
       "      <td>0.009</td>\n",
       "      <td>...</td>\n",
       "      <td>0.009000</td>\n",
       "      <td>0.003815</td>\n",
       "      <td>Erro</td>\n",
       "      <td>Erro</td>\n",
       "      <td>Erro</td>\n",
       "      <td>Erro</td>\n",
       "      <td>Acerto</td>\n",
       "      <td>Acerto</td>\n",
       "      <td>Acerto</td>\n",
       "      <td>Acerto</td>\n",
       "    </tr>\n",
       "    <tr>\n",
       "      <th>8</th>\n",
       "      <td>KEITT</td>\n",
       "      <td>AGD-034</td>\n",
       "      <td>657</td>\n",
       "      <td>0.108</td>\n",
       "      <td>0.458</td>\n",
       "      <td>0.315</td>\n",
       "      <td>0.086</td>\n",
       "      <td>0.025</td>\n",
       "      <td>0.007</td>\n",
       "      <td>0.002</td>\n",
       "      <td>...</td>\n",
       "      <td>0.002000</td>\n",
       "      <td>0.006828</td>\n",
       "      <td>Acerto</td>\n",
       "      <td>Erro</td>\n",
       "      <td>Acerto</td>\n",
       "      <td>Erro</td>\n",
       "      <td>Acerto</td>\n",
       "      <td>Acerto</td>\n",
       "      <td>Acerto</td>\n",
       "      <td>Acerto</td>\n",
       "    </tr>\n",
       "    <tr>\n",
       "      <th>9</th>\n",
       "      <td>KEITT</td>\n",
       "      <td>AGD-034</td>\n",
       "      <td>665</td>\n",
       "      <td>0.080</td>\n",
       "      <td>0.424</td>\n",
       "      <td>0.357</td>\n",
       "      <td>0.107</td>\n",
       "      <td>0.024</td>\n",
       "      <td>0.007</td>\n",
       "      <td>0.001</td>\n",
       "      <td>...</td>\n",
       "      <td>0.001000</td>\n",
       "      <td>0.015640</td>\n",
       "      <td>Acerto</td>\n",
       "      <td>Erro</td>\n",
       "      <td>Acerto</td>\n",
       "      <td>Erro</td>\n",
       "      <td>Acerto</td>\n",
       "      <td>Acerto</td>\n",
       "      <td>Acerto</td>\n",
       "      <td>Acerto</td>\n",
       "    </tr>\n",
       "    <tr>\n",
       "      <th>10</th>\n",
       "      <td>KEITT</td>\n",
       "      <td>AGD-025</td>\n",
       "      <td>557</td>\n",
       "      <td>0.339</td>\n",
       "      <td>0.422</td>\n",
       "      <td>0.101</td>\n",
       "      <td>0.026</td>\n",
       "      <td>0.009</td>\n",
       "      <td>0.056</td>\n",
       "      <td>0.011</td>\n",
       "      <td>...</td>\n",
       "      <td>0.002410</td>\n",
       "      <td>0.000000</td>\n",
       "      <td>Erro</td>\n",
       "      <td>Acerto</td>\n",
       "      <td>Erro</td>\n",
       "      <td>Erro</td>\n",
       "      <td>Acerto</td>\n",
       "      <td>Acerto</td>\n",
       "      <td>Acerto</td>\n",
       "      <td>Acerto</td>\n",
       "    </tr>\n",
       "    <tr>\n",
       "      <th>11</th>\n",
       "      <td>KEITT</td>\n",
       "      <td>AGD-025</td>\n",
       "      <td>626</td>\n",
       "      <td>0.041</td>\n",
       "      <td>0.208</td>\n",
       "      <td>0.285</td>\n",
       "      <td>0.217</td>\n",
       "      <td>0.100</td>\n",
       "      <td>0.097</td>\n",
       "      <td>0.052</td>\n",
       "      <td>...</td>\n",
       "      <td>0.034648</td>\n",
       "      <td>0.001000</td>\n",
       "      <td>Acerto</td>\n",
       "      <td>Acerto</td>\n",
       "      <td>Acerto</td>\n",
       "      <td>Acerto</td>\n",
       "      <td>Acerto</td>\n",
       "      <td>Acerto</td>\n",
       "      <td>Acerto</td>\n",
       "      <td>Acerto</td>\n",
       "    </tr>\n",
       "    <tr>\n",
       "      <th>12</th>\n",
       "      <td>KEITT</td>\n",
       "      <td>AGD-025</td>\n",
       "      <td>637</td>\n",
       "      <td>0.062</td>\n",
       "      <td>0.308</td>\n",
       "      <td>0.356</td>\n",
       "      <td>0.206</td>\n",
       "      <td>0.050</td>\n",
       "      <td>0.017</td>\n",
       "      <td>0.001</td>\n",
       "      <td>...</td>\n",
       "      <td>0.027433</td>\n",
       "      <td>0.000000</td>\n",
       "      <td>Acerto</td>\n",
       "      <td>Acerto</td>\n",
       "      <td>Erro</td>\n",
       "      <td>Acerto</td>\n",
       "      <td>Acerto</td>\n",
       "      <td>Acerto</td>\n",
       "      <td>Acerto</td>\n",
       "      <td>Acerto</td>\n",
       "    </tr>\n",
       "    <tr>\n",
       "      <th>13</th>\n",
       "      <td>KEITT</td>\n",
       "      <td>AGD-013V1</td>\n",
       "      <td>594</td>\n",
       "      <td>0.181</td>\n",
       "      <td>0.515</td>\n",
       "      <td>0.194</td>\n",
       "      <td>0.016</td>\n",
       "      <td>0.090</td>\n",
       "      <td>0.003</td>\n",
       "      <td>0.001</td>\n",
       "      <td>...</td>\n",
       "      <td>0.007590</td>\n",
       "      <td>0.003815</td>\n",
       "      <td>Acerto</td>\n",
       "      <td>Erro</td>\n",
       "      <td>Erro</td>\n",
       "      <td>Acerto</td>\n",
       "      <td>Acerto</td>\n",
       "      <td>Acerto</td>\n",
       "      <td>Acerto</td>\n",
       "      <td>Acerto</td>\n",
       "    </tr>\n",
       "    <tr>\n",
       "      <th>14</th>\n",
       "      <td>KEITT</td>\n",
       "      <td>AGD-013V1</td>\n",
       "      <td>631</td>\n",
       "      <td>0.068</td>\n",
       "      <td>0.442</td>\n",
       "      <td>0.384</td>\n",
       "      <td>0.083</td>\n",
       "      <td>0.016</td>\n",
       "      <td>0.007</td>\n",
       "      <td>0.001</td>\n",
       "      <td>...</td>\n",
       "      <td>0.016352</td>\n",
       "      <td>0.006828</td>\n",
       "      <td>Erro</td>\n",
       "      <td>Erro</td>\n",
       "      <td>Erro</td>\n",
       "      <td>Acerto</td>\n",
       "      <td>Acerto</td>\n",
       "      <td>Acerto</td>\n",
       "      <td>Acerto</td>\n",
       "      <td>Acerto</td>\n",
       "    </tr>\n",
       "    <tr>\n",
       "      <th>15</th>\n",
       "      <td>KEITT</td>\n",
       "      <td>AGD-013V1</td>\n",
       "      <td>635</td>\n",
       "      <td>0.041</td>\n",
       "      <td>0.329</td>\n",
       "      <td>0.359</td>\n",
       "      <td>0.186</td>\n",
       "      <td>0.052</td>\n",
       "      <td>0.030</td>\n",
       "      <td>0.005</td>\n",
       "      <td>...</td>\n",
       "      <td>0.023433</td>\n",
       "      <td>0.015640</td>\n",
       "      <td>Erro</td>\n",
       "      <td>Acerto</td>\n",
       "      <td>Erro</td>\n",
       "      <td>Erro</td>\n",
       "      <td>Acerto</td>\n",
       "      <td>Acerto</td>\n",
       "      <td>Acerto</td>\n",
       "      <td>Acerto</td>\n",
       "    </tr>\n",
       "    <tr>\n",
       "      <th>16</th>\n",
       "      <td>KEITT</td>\n",
       "      <td>AGD-013V1</td>\n",
       "      <td>643</td>\n",
       "      <td>0.032</td>\n",
       "      <td>0.242</td>\n",
       "      <td>0.358</td>\n",
       "      <td>0.226</td>\n",
       "      <td>0.087</td>\n",
       "      <td>0.048</td>\n",
       "      <td>0.006</td>\n",
       "      <td>...</td>\n",
       "      <td>0.019427</td>\n",
       "      <td>0.016929</td>\n",
       "      <td>Erro</td>\n",
       "      <td>Acerto</td>\n",
       "      <td>Erro</td>\n",
       "      <td>Erro</td>\n",
       "      <td>Acerto</td>\n",
       "      <td>Acerto</td>\n",
       "      <td>Acerto</td>\n",
       "      <td>Acerto</td>\n",
       "    </tr>\n",
       "    <tr>\n",
       "      <th>17</th>\n",
       "      <td>KENT</td>\n",
       "      <td>AGD-061</td>\n",
       "      <td>606</td>\n",
       "      <td>0.000</td>\n",
       "      <td>0.344</td>\n",
       "      <td>0.332</td>\n",
       "      <td>0.193</td>\n",
       "      <td>0.072</td>\n",
       "      <td>0.050</td>\n",
       "      <td>0.009</td>\n",
       "      <td>...</td>\n",
       "      <td>0.020084</td>\n",
       "      <td>0.003466</td>\n",
       "      <td>Acerto</td>\n",
       "      <td>Acerto</td>\n",
       "      <td>Acerto</td>\n",
       "      <td>Acerto</td>\n",
       "      <td>Acerto</td>\n",
       "      <td>Acerto</td>\n",
       "      <td>Acerto</td>\n",
       "      <td>Acerto</td>\n",
       "    </tr>\n",
       "    <tr>\n",
       "      <th>18</th>\n",
       "      <td>KENT</td>\n",
       "      <td>AGD-061</td>\n",
       "      <td>651</td>\n",
       "      <td>0.000</td>\n",
       "      <td>0.068</td>\n",
       "      <td>0.158</td>\n",
       "      <td>0.190</td>\n",
       "      <td>0.154</td>\n",
       "      <td>0.216</td>\n",
       "      <td>0.205</td>\n",
       "      <td>...</td>\n",
       "      <td>0.173880</td>\n",
       "      <td>0.004569</td>\n",
       "      <td>Acerto</td>\n",
       "      <td>Erro</td>\n",
       "      <td>Acerto</td>\n",
       "      <td>Acerto</td>\n",
       "      <td>Acerto</td>\n",
       "      <td>Erro</td>\n",
       "      <td>Erro</td>\n",
       "      <td>Acerto</td>\n",
       "    </tr>\n",
       "    <tr>\n",
       "      <th>19</th>\n",
       "      <td>TOMMY</td>\n",
       "      <td>AGD-090</td>\n",
       "      <td>571</td>\n",
       "      <td>0.000</td>\n",
       "      <td>0.188</td>\n",
       "      <td>0.289</td>\n",
       "      <td>0.217</td>\n",
       "      <td>0.094</td>\n",
       "      <td>0.168</td>\n",
       "      <td>0.043</td>\n",
       "      <td>...</td>\n",
       "      <td>0.015245</td>\n",
       "      <td>0.001316</td>\n",
       "      <td>Acerto</td>\n",
       "      <td>Erro</td>\n",
       "      <td>Erro</td>\n",
       "      <td>Acerto</td>\n",
       "      <td>Erro</td>\n",
       "      <td>Acerto</td>\n",
       "      <td>Acerto</td>\n",
       "      <td>Acerto</td>\n",
       "    </tr>\n",
       "    <tr>\n",
       "      <th>20</th>\n",
       "      <td>TOMMY</td>\n",
       "      <td>AGD-090</td>\n",
       "      <td>579</td>\n",
       "      <td>0.000</td>\n",
       "      <td>0.147</td>\n",
       "      <td>0.255</td>\n",
       "      <td>0.307</td>\n",
       "      <td>0.090</td>\n",
       "      <td>0.100</td>\n",
       "      <td>0.099</td>\n",
       "      <td>...</td>\n",
       "      <td>0.044250</td>\n",
       "      <td>0.000658</td>\n",
       "      <td>Acerto</td>\n",
       "      <td>Erro</td>\n",
       "      <td>Erro</td>\n",
       "      <td>Acerto</td>\n",
       "      <td>Erro</td>\n",
       "      <td>Erro</td>\n",
       "      <td>Acerto</td>\n",
       "      <td>Acerto</td>\n",
       "    </tr>\n",
       "    <tr>\n",
       "      <th>21</th>\n",
       "      <td>TOMMY</td>\n",
       "      <td>AGD-090</td>\n",
       "      <td>584</td>\n",
       "      <td>0.000</td>\n",
       "      <td>0.169</td>\n",
       "      <td>0.258</td>\n",
       "      <td>0.275</td>\n",
       "      <td>0.107</td>\n",
       "      <td>0.138</td>\n",
       "      <td>0.050</td>\n",
       "      <td>...</td>\n",
       "      <td>0.012904</td>\n",
       "      <td>0.000921</td>\n",
       "      <td>Acerto</td>\n",
       "      <td>Erro</td>\n",
       "      <td>Erro</td>\n",
       "      <td>Acerto</td>\n",
       "      <td>Acerto</td>\n",
       "      <td>Acerto</td>\n",
       "      <td>Acerto</td>\n",
       "      <td>Acerto</td>\n",
       "    </tr>\n",
       "    <tr>\n",
       "      <th>22</th>\n",
       "      <td>TOMMY</td>\n",
       "      <td>AGD-090</td>\n",
       "      <td>532</td>\n",
       "      <td>0.000</td>\n",
       "      <td>0.116</td>\n",
       "      <td>0.278</td>\n",
       "      <td>0.356</td>\n",
       "      <td>0.125</td>\n",
       "      <td>0.095</td>\n",
       "      <td>0.029</td>\n",
       "      <td>...</td>\n",
       "      <td>0.034487</td>\n",
       "      <td>0.002342</td>\n",
       "      <td>Acerto</td>\n",
       "      <td>Acerto</td>\n",
       "      <td>Erro</td>\n",
       "      <td>Erro</td>\n",
       "      <td>Acerto</td>\n",
       "      <td>Erro</td>\n",
       "      <td>Acerto</td>\n",
       "      <td>Acerto</td>\n",
       "    </tr>\n",
       "    <tr>\n",
       "      <th>23</th>\n",
       "      <td>TOMMY</td>\n",
       "      <td>AGD-101</td>\n",
       "      <td>679</td>\n",
       "      <td>0.000</td>\n",
       "      <td>0.107</td>\n",
       "      <td>0.256</td>\n",
       "      <td>0.354</td>\n",
       "      <td>0.154</td>\n",
       "      <td>0.114</td>\n",
       "      <td>0.014</td>\n",
       "      <td>...</td>\n",
       "      <td>0.067225</td>\n",
       "      <td>0.000000</td>\n",
       "      <td>Acerto</td>\n",
       "      <td>Acerto</td>\n",
       "      <td>Erro</td>\n",
       "      <td>Erro</td>\n",
       "      <td>Acerto</td>\n",
       "      <td>Erro</td>\n",
       "      <td>Acerto</td>\n",
       "      <td>Acerto</td>\n",
       "    </tr>\n",
       "    <tr>\n",
       "      <th>24</th>\n",
       "      <td>TOMMY</td>\n",
       "      <td>AGD-101</td>\n",
       "      <td>686</td>\n",
       "      <td>0.000</td>\n",
       "      <td>0.151</td>\n",
       "      <td>0.204</td>\n",
       "      <td>0.428</td>\n",
       "      <td>0.051</td>\n",
       "      <td>0.147</td>\n",
       "      <td>0.019</td>\n",
       "      <td>...</td>\n",
       "      <td>0.057351</td>\n",
       "      <td>0.000000</td>\n",
       "      <td>Acerto</td>\n",
       "      <td>Erro</td>\n",
       "      <td>Erro</td>\n",
       "      <td>Erro</td>\n",
       "      <td>Erro</td>\n",
       "      <td>Erro</td>\n",
       "      <td>Acerto</td>\n",
       "      <td>Acerto</td>\n",
       "    </tr>\n",
       "    <tr>\n",
       "      <th>25</th>\n",
       "      <td>TOMMY</td>\n",
       "      <td>AGD-101</td>\n",
       "      <td>686</td>\n",
       "      <td>0.000</td>\n",
       "      <td>0.069</td>\n",
       "      <td>0.291</td>\n",
       "      <td>0.310</td>\n",
       "      <td>0.209</td>\n",
       "      <td>0.096</td>\n",
       "      <td>0.025</td>\n",
       "      <td>...</td>\n",
       "      <td>0.062723</td>\n",
       "      <td>0.000000</td>\n",
       "      <td>Acerto</td>\n",
       "      <td>Acerto</td>\n",
       "      <td>Erro</td>\n",
       "      <td>Acerto</td>\n",
       "      <td>Acerto</td>\n",
       "      <td>Erro</td>\n",
       "      <td>Acerto</td>\n",
       "      <td>Acerto</td>\n",
       "    </tr>\n",
       "    <tr>\n",
       "      <th>26</th>\n",
       "      <td>TOMMY</td>\n",
       "      <td>AGD-101</td>\n",
       "      <td>695</td>\n",
       "      <td>0.000</td>\n",
       "      <td>0.078</td>\n",
       "      <td>0.222</td>\n",
       "      <td>0.400</td>\n",
       "      <td>0.141</td>\n",
       "      <td>0.135</td>\n",
       "      <td>0.023</td>\n",
       "      <td>...</td>\n",
       "      <td>0.065535</td>\n",
       "      <td>0.000000</td>\n",
       "      <td>Acerto</td>\n",
       "      <td>Acerto</td>\n",
       "      <td>Erro</td>\n",
       "      <td>Erro</td>\n",
       "      <td>Acerto</td>\n",
       "      <td>Erro</td>\n",
       "      <td>Acerto</td>\n",
       "      <td>Acerto</td>\n",
       "    </tr>\n",
       "    <tr>\n",
       "      <th>27</th>\n",
       "      <td>TOMMY</td>\n",
       "      <td>FI-003</td>\n",
       "      <td>542</td>\n",
       "      <td>0.000</td>\n",
       "      <td>0.031</td>\n",
       "      <td>0.120</td>\n",
       "      <td>0.316</td>\n",
       "      <td>0.204</td>\n",
       "      <td>0.254</td>\n",
       "      <td>0.075</td>\n",
       "      <td>...</td>\n",
       "      <td>0.007818</td>\n",
       "      <td>0.001000</td>\n",
       "      <td>Acerto</td>\n",
       "      <td>Acerto</td>\n",
       "      <td>Acerto</td>\n",
       "      <td>Acerto</td>\n",
       "      <td>Acerto</td>\n",
       "      <td>Acerto</td>\n",
       "      <td>Acerto</td>\n",
       "      <td>Acerto</td>\n",
       "    </tr>\n",
       "    <tr>\n",
       "      <th>28</th>\n",
       "      <td>TOMMY</td>\n",
       "      <td>FI-003</td>\n",
       "      <td>548</td>\n",
       "      <td>0.000</td>\n",
       "      <td>0.031</td>\n",
       "      <td>0.150</td>\n",
       "      <td>0.316</td>\n",
       "      <td>0.198</td>\n",
       "      <td>0.246</td>\n",
       "      <td>0.059</td>\n",
       "      <td>...</td>\n",
       "      <td>0.018849</td>\n",
       "      <td>0.000000</td>\n",
       "      <td>Acerto</td>\n",
       "      <td>Acerto</td>\n",
       "      <td>Acerto</td>\n",
       "      <td>Acerto</td>\n",
       "      <td>Acerto</td>\n",
       "      <td>Acerto</td>\n",
       "      <td>Acerto</td>\n",
       "      <td>Acerto</td>\n",
       "    </tr>\n",
       "    <tr>\n",
       "      <th>29</th>\n",
       "      <td>TOMMY</td>\n",
       "      <td>FI-003</td>\n",
       "      <td>559</td>\n",
       "      <td>0.000</td>\n",
       "      <td>0.040</td>\n",
       "      <td>0.136</td>\n",
       "      <td>0.328</td>\n",
       "      <td>0.187</td>\n",
       "      <td>0.244</td>\n",
       "      <td>0.064</td>\n",
       "      <td>...</td>\n",
       "      <td>0.025443</td>\n",
       "      <td>0.000000</td>\n",
       "      <td>Acerto</td>\n",
       "      <td>Acerto</td>\n",
       "      <td>Acerto</td>\n",
       "      <td>Acerto</td>\n",
       "      <td>Acerto</td>\n",
       "      <td>Acerto</td>\n",
       "      <td>Acerto</td>\n",
       "      <td>Acerto</td>\n",
       "    </tr>\n",
       "    <tr>\n",
       "      <th>30</th>\n",
       "      <td>TOMMY</td>\n",
       "      <td>FI-003</td>\n",
       "      <td>574</td>\n",
       "      <td>0.000</td>\n",
       "      <td>0.030</td>\n",
       "      <td>0.110</td>\n",
       "      <td>0.440</td>\n",
       "      <td>0.201</td>\n",
       "      <td>0.178</td>\n",
       "      <td>0.041</td>\n",
       "      <td>...</td>\n",
       "      <td>0.049271</td>\n",
       "      <td>0.000000</td>\n",
       "      <td>Acerto</td>\n",
       "      <td>Acerto</td>\n",
       "      <td>Acerto</td>\n",
       "      <td>Erro</td>\n",
       "      <td>Acerto</td>\n",
       "      <td>Acerto</td>\n",
       "      <td>Acerto</td>\n",
       "      <td>Acerto</td>\n",
       "    </tr>\n",
       "    <tr>\n",
       "      <th>31</th>\n",
       "      <td>TOMMY</td>\n",
       "      <td>FI-018</td>\n",
       "      <td>460</td>\n",
       "      <td>0.000</td>\n",
       "      <td>0.052</td>\n",
       "      <td>0.158</td>\n",
       "      <td>0.358</td>\n",
       "      <td>0.211</td>\n",
       "      <td>0.197</td>\n",
       "      <td>0.024</td>\n",
       "      <td>...</td>\n",
       "      <td>0.057225</td>\n",
       "      <td>0.000000</td>\n",
       "      <td>Acerto</td>\n",
       "      <td>Acerto</td>\n",
       "      <td>Acerto</td>\n",
       "      <td>Erro</td>\n",
       "      <td>Acerto</td>\n",
       "      <td>Acerto</td>\n",
       "      <td>Acerto</td>\n",
       "      <td>Acerto</td>\n",
       "    </tr>\n",
       "    <tr>\n",
       "      <th>32</th>\n",
       "      <td>TOMMY</td>\n",
       "      <td>FI-018</td>\n",
       "      <td>473</td>\n",
       "      <td>0.000</td>\n",
       "      <td>0.068</td>\n",
       "      <td>0.183</td>\n",
       "      <td>0.260</td>\n",
       "      <td>0.198</td>\n",
       "      <td>0.200</td>\n",
       "      <td>0.033</td>\n",
       "      <td>...</td>\n",
       "      <td>0.043351</td>\n",
       "      <td>0.000000</td>\n",
       "      <td>Acerto</td>\n",
       "      <td>Acerto</td>\n",
       "      <td>Acerto</td>\n",
       "      <td>Acerto</td>\n",
       "      <td>Acerto</td>\n",
       "      <td>Acerto</td>\n",
       "      <td>Acerto</td>\n",
       "      <td>Acerto</td>\n",
       "    </tr>\n",
       "    <tr>\n",
       "      <th>33</th>\n",
       "      <td>TOMMY</td>\n",
       "      <td>FI-018</td>\n",
       "      <td>484</td>\n",
       "      <td>0.000</td>\n",
       "      <td>0.028</td>\n",
       "      <td>0.148</td>\n",
       "      <td>0.274</td>\n",
       "      <td>0.193</td>\n",
       "      <td>0.224</td>\n",
       "      <td>0.051</td>\n",
       "      <td>...</td>\n",
       "      <td>0.036723</td>\n",
       "      <td>0.003000</td>\n",
       "      <td>Acerto</td>\n",
       "      <td>Acerto</td>\n",
       "      <td>Acerto</td>\n",
       "      <td>Acerto</td>\n",
       "      <td>Acerto</td>\n",
       "      <td>Acerto</td>\n",
       "      <td>Acerto</td>\n",
       "      <td>Acerto</td>\n",
       "    </tr>\n",
       "    <tr>\n",
       "      <th>34</th>\n",
       "      <td>TOMMY</td>\n",
       "      <td>FI-018</td>\n",
       "      <td>489</td>\n",
       "      <td>0.000</td>\n",
       "      <td>0.048</td>\n",
       "      <td>0.153</td>\n",
       "      <td>0.290</td>\n",
       "      <td>0.215</td>\n",
       "      <td>0.222</td>\n",
       "      <td>0.021</td>\n",
       "      <td>...</td>\n",
       "      <td>0.067535</td>\n",
       "      <td>0.000000</td>\n",
       "      <td>Acerto</td>\n",
       "      <td>Acerto</td>\n",
       "      <td>Acerto</td>\n",
       "      <td>Acerto</td>\n",
       "      <td>Acerto</td>\n",
       "      <td>Acerto</td>\n",
       "      <td>Acerto</td>\n",
       "      <td>Acerto</td>\n",
       "    </tr>\n",
       "  </tbody>\n",
       "</table>\n",
       "<p>35 rows × 35 columns</p>\n",
       "</div>"
      ],
      "text/plain": [
       "   VARIEDADE     TALHAO  CONTROLE  CALIBRE_5  CALIBRE_6  CALIBRE_7  CALIBRE_8  \\\n",
       "0      KEITT    AGD-049       669      0.106      0.597      0.245      0.035   \n",
       "1      KEITT    AGD-049       687      0.095      0.483      0.306      0.086   \n",
       "2      KEITT    AGD-049       688      0.080      0.403      0.363      0.122   \n",
       "3      KEITT    AGD-049       691      0.066      0.295      0.334      0.183   \n",
       "4      KEITT    AGD-048       495      0.019      0.133      0.169      0.164   \n",
       "5      KEITT    AGD-048       501      0.002      0.053      0.114      0.074   \n",
       "6      KEITT    AGD-048       501      0.038      0.110      0.171      0.185   \n",
       "7      KEITT    AGD-034       657      0.292      0.513      0.125      0.003   \n",
       "8      KEITT    AGD-034       657      0.108      0.458      0.315      0.086   \n",
       "9      KEITT    AGD-034       665      0.080      0.424      0.357      0.107   \n",
       "10     KEITT    AGD-025       557      0.339      0.422      0.101      0.026   \n",
       "11     KEITT    AGD-025       626      0.041      0.208      0.285      0.217   \n",
       "12     KEITT    AGD-025       637      0.062      0.308      0.356      0.206   \n",
       "13     KEITT  AGD-013V1       594      0.181      0.515      0.194      0.016   \n",
       "14     KEITT  AGD-013V1       631      0.068      0.442      0.384      0.083   \n",
       "15     KEITT  AGD-013V1       635      0.041      0.329      0.359      0.186   \n",
       "16     KEITT  AGD-013V1       643      0.032      0.242      0.358      0.226   \n",
       "17      KENT    AGD-061       606      0.000      0.344      0.332      0.193   \n",
       "18      KENT    AGD-061       651      0.000      0.068      0.158      0.190   \n",
       "19     TOMMY    AGD-090       571      0.000      0.188      0.289      0.217   \n",
       "20     TOMMY    AGD-090       579      0.000      0.147      0.255      0.307   \n",
       "21     TOMMY    AGD-090       584      0.000      0.169      0.258      0.275   \n",
       "22     TOMMY    AGD-090       532      0.000      0.116      0.278      0.356   \n",
       "23     TOMMY    AGD-101       679      0.000      0.107      0.256      0.354   \n",
       "24     TOMMY    AGD-101       686      0.000      0.151      0.204      0.428   \n",
       "25     TOMMY    AGD-101       686      0.000      0.069      0.291      0.310   \n",
       "26     TOMMY    AGD-101       695      0.000      0.078      0.222      0.400   \n",
       "27     TOMMY     FI-003       542      0.000      0.031      0.120      0.316   \n",
       "28     TOMMY     FI-003       548      0.000      0.031      0.150      0.316   \n",
       "29     TOMMY     FI-003       559      0.000      0.040      0.136      0.328   \n",
       "30     TOMMY     FI-003       574      0.000      0.030      0.110      0.440   \n",
       "31     TOMMY     FI-018       460      0.000      0.052      0.158      0.358   \n",
       "32     TOMMY     FI-018       473      0.000      0.068      0.183      0.260   \n",
       "33     TOMMY     FI-018       484      0.000      0.028      0.148      0.274   \n",
       "34     TOMMY     FI-018       489      0.000      0.048      0.153      0.290   \n",
       "\n",
       "    CALIBRE_9  CALIBRE_10  CALIBRE_12  ...  dif_p_CALIBRE_12  \\\n",
       "0       0.002       0.004       0.010  ...          0.010000   \n",
       "1       0.013       0.007       0.009  ...          0.009000   \n",
       "2       0.022       0.007       0.002  ...          0.002000   \n",
       "3       0.060       0.053       0.009  ...          0.009000   \n",
       "4       0.114       0.202       0.199  ...          0.084000   \n",
       "5       0.099       0.235       0.424  ...          0.244000   \n",
       "6       0.148       0.156       0.111  ...          0.006000   \n",
       "7       0.004       0.052       0.009  ...          0.009000   \n",
       "8       0.025       0.007       0.002  ...          0.002000   \n",
       "9       0.024       0.007       0.001  ...          0.001000   \n",
       "10      0.009       0.056       0.011  ...          0.002410   \n",
       "11      0.100       0.097       0.052  ...          0.034648   \n",
       "12      0.050       0.017       0.001  ...          0.027433   \n",
       "13      0.090       0.003       0.001  ...          0.007590   \n",
       "14      0.016       0.007       0.001  ...          0.016352   \n",
       "15      0.052       0.030       0.005  ...          0.023433   \n",
       "16      0.087       0.048       0.006  ...          0.019427   \n",
       "17      0.072       0.050       0.009  ...          0.020084   \n",
       "18      0.154       0.216       0.205  ...          0.173880   \n",
       "19      0.094       0.168       0.043  ...          0.015245   \n",
       "20      0.090       0.100       0.099  ...          0.044250   \n",
       "21      0.107       0.138       0.050  ...          0.012904   \n",
       "22      0.125       0.095       0.029  ...          0.034487   \n",
       "23      0.154       0.114       0.014  ...          0.067225   \n",
       "24      0.051       0.147       0.019  ...          0.057351   \n",
       "25      0.209       0.096       0.025  ...          0.062723   \n",
       "26      0.141       0.135       0.023  ...          0.065535   \n",
       "27      0.204       0.254       0.075  ...          0.007818   \n",
       "28      0.198       0.246       0.059  ...          0.018849   \n",
       "29      0.187       0.244       0.064  ...          0.025443   \n",
       "30      0.201       0.178       0.041  ...          0.049271   \n",
       "31      0.211       0.197       0.024  ...          0.057225   \n",
       "32      0.198       0.200       0.033  ...          0.043351   \n",
       "33      0.193       0.224       0.051  ...          0.036723   \n",
       "34      0.215       0.222       0.021  ...          0.067535   \n",
       "\n",
       "    dif_p_CALIBRE_14  CAL5_sens1  CAL6_sens1  CAL7_sens1  CAL8_sens1  \\\n",
       "0           0.001000      Acerto        Erro      Acerto        Erro   \n",
       "1           0.001000      Acerto        Erro      Acerto        Erro   \n",
       "2           0.000000      Acerto        Erro      Acerto        Erro   \n",
       "3           0.000000      Acerto        Erro      Acerto      Acerto   \n",
       "4           0.000000      Acerto        Erro      Acerto      Acerto   \n",
       "5           0.000000      Acerto        Erro        Erro      Acerto   \n",
       "6           0.081000      Acerto        Erro      Acerto      Acerto   \n",
       "7           0.003815        Erro        Erro        Erro        Erro   \n",
       "8           0.006828      Acerto        Erro      Acerto        Erro   \n",
       "9           0.015640      Acerto        Erro      Acerto        Erro   \n",
       "10          0.000000        Erro      Acerto        Erro        Erro   \n",
       "11          0.001000      Acerto      Acerto      Acerto      Acerto   \n",
       "12          0.000000      Acerto      Acerto        Erro      Acerto   \n",
       "13          0.003815      Acerto        Erro        Erro      Acerto   \n",
       "14          0.006828        Erro        Erro        Erro      Acerto   \n",
       "15          0.015640        Erro      Acerto        Erro        Erro   \n",
       "16          0.016929        Erro      Acerto        Erro        Erro   \n",
       "17          0.003466      Acerto      Acerto      Acerto      Acerto   \n",
       "18          0.004569      Acerto        Erro      Acerto      Acerto   \n",
       "19          0.001316      Acerto        Erro        Erro      Acerto   \n",
       "20          0.000658      Acerto        Erro        Erro      Acerto   \n",
       "21          0.000921      Acerto        Erro        Erro      Acerto   \n",
       "22          0.002342      Acerto      Acerto        Erro        Erro   \n",
       "23          0.000000      Acerto      Acerto        Erro        Erro   \n",
       "24          0.000000      Acerto        Erro        Erro        Erro   \n",
       "25          0.000000      Acerto      Acerto        Erro      Acerto   \n",
       "26          0.000000      Acerto      Acerto        Erro        Erro   \n",
       "27          0.001000      Acerto      Acerto      Acerto      Acerto   \n",
       "28          0.000000      Acerto      Acerto      Acerto      Acerto   \n",
       "29          0.000000      Acerto      Acerto      Acerto      Acerto   \n",
       "30          0.000000      Acerto      Acerto      Acerto        Erro   \n",
       "31          0.000000      Acerto      Acerto      Acerto        Erro   \n",
       "32          0.000000      Acerto      Acerto      Acerto      Acerto   \n",
       "33          0.003000      Acerto      Acerto      Acerto      Acerto   \n",
       "34          0.000000      Acerto      Acerto      Acerto      Acerto   \n",
       "\n",
       "    CAL9_sens1  CAL10_sens1  CAL12_sens1  CAL14_sens1  \n",
       "0       Acerto       Acerto       Acerto       Acerto  \n",
       "1       Acerto       Acerto       Acerto       Acerto  \n",
       "2       Acerto       Acerto       Acerto       Acerto  \n",
       "3       Acerto       Acerto       Acerto       Acerto  \n",
       "4       Acerto         Erro       Acerto       Acerto  \n",
       "5       Acerto         Erro         Erro       Acerto  \n",
       "6       Acerto         Erro       Acerto       Acerto  \n",
       "7       Acerto       Acerto       Acerto       Acerto  \n",
       "8       Acerto       Acerto       Acerto       Acerto  \n",
       "9       Acerto       Acerto       Acerto       Acerto  \n",
       "10      Acerto       Acerto       Acerto       Acerto  \n",
       "11      Acerto       Acerto       Acerto       Acerto  \n",
       "12      Acerto       Acerto       Acerto       Acerto  \n",
       "13      Acerto       Acerto       Acerto       Acerto  \n",
       "14      Acerto       Acerto       Acerto       Acerto  \n",
       "15      Acerto       Acerto       Acerto       Acerto  \n",
       "16      Acerto       Acerto       Acerto       Acerto  \n",
       "17      Acerto       Acerto       Acerto       Acerto  \n",
       "18      Acerto         Erro         Erro       Acerto  \n",
       "19        Erro       Acerto       Acerto       Acerto  \n",
       "20        Erro         Erro       Acerto       Acerto  \n",
       "21      Acerto       Acerto       Acerto       Acerto  \n",
       "22      Acerto         Erro       Acerto       Acerto  \n",
       "23      Acerto         Erro       Acerto       Acerto  \n",
       "24        Erro         Erro       Acerto       Acerto  \n",
       "25      Acerto         Erro       Acerto       Acerto  \n",
       "26      Acerto         Erro       Acerto       Acerto  \n",
       "27      Acerto       Acerto       Acerto       Acerto  \n",
       "28      Acerto       Acerto       Acerto       Acerto  \n",
       "29      Acerto       Acerto       Acerto       Acerto  \n",
       "30      Acerto       Acerto       Acerto       Acerto  \n",
       "31      Acerto       Acerto       Acerto       Acerto  \n",
       "32      Acerto       Acerto       Acerto       Acerto  \n",
       "33      Acerto       Acerto       Acerto       Acerto  \n",
       "34      Acerto       Acerto       Acerto       Acerto  \n",
       "\n",
       "[35 rows x 35 columns]"
      ]
     },
     "execution_count": 383,
     "metadata": {},
     "output_type": "execute_result"
    }
   ],
   "source": [
    "dataframe_3"
   ]
  },
  {
   "cell_type": "code",
   "execution_count": 386,
   "metadata": {},
   "outputs": [
    {
     "data": {
      "text/plain": [
       "85.71428571428571"
      ]
     },
     "execution_count": 386,
     "metadata": {},
     "output_type": "execute_result"
    }
   ],
   "source": [
    "acerto_55 = dataframe_3['CAL5_sens1'].value_counts() / len(dataframe_3) * 100\n",
    "acerto_55 = pd.DataFrame(acerto_55)\n",
    "acerto_55 = acerto_55['CAL5_sens1'][0]\n",
    "acerto_55\n"
   ]
  },
  {
   "cell_type": "code",
   "execution_count": 387,
   "metadata": {},
   "outputs": [
    {
     "data": {
      "text/plain": [
       "51.42857142857142"
      ]
     },
     "execution_count": 387,
     "metadata": {},
     "output_type": "execute_result"
    }
   ],
   "source": [
    "acerto_66 = dataframe_3['CAL6_sens1'].value_counts() / len(dataframe_3) * 100\n",
    "acerto_66 = pd.DataFrame(acerto_66)\n",
    "acerto_66 = acerto_66['CAL6_sens1'][0]\n",
    "acerto_66\n"
   ]
  },
  {
   "cell_type": "code",
   "execution_count": 388,
   "metadata": {},
   "outputs": [
    {
     "data": {
      "text/plain": [
       "54.285714285714285"
      ]
     },
     "execution_count": 388,
     "metadata": {},
     "output_type": "execute_result"
    }
   ],
   "source": [
    "acerto_77 = dataframe_3['CAL7_sens1'].value_counts() / len(dataframe_3) * 100\n",
    "acerto_77 = pd.DataFrame(acerto_77)\n",
    "acerto_77 = acerto_77['CAL7_sens1'][0]\n",
    "acerto_77\n",
    "\n"
   ]
  },
  {
   "cell_type": "code",
   "execution_count": 389,
   "metadata": {},
   "outputs": [
    {
     "data": {
      "text/plain": [
       "57.14285714285714"
      ]
     },
     "execution_count": 389,
     "metadata": {},
     "output_type": "execute_result"
    }
   ],
   "source": [
    "acerto_88 = dataframe_3['CAL8_sens1'].value_counts() / len(dataframe_3) * 100\n",
    "acerto_88 = pd.DataFrame(acerto_88)\n",
    "acerto_88 = acerto_88['CAL8_sens1'][0]\n",
    "acerto_88"
   ]
  },
  {
   "cell_type": "code",
   "execution_count": 390,
   "metadata": {},
   "outputs": [
    {
     "data": {
      "text/plain": [
       "91.42857142857143"
      ]
     },
     "execution_count": 390,
     "metadata": {},
     "output_type": "execute_result"
    }
   ],
   "source": [
    "acerto_99 = dataframe_3['CAL9_sens1'].value_counts() / len(dataframe_3) * 100\n",
    "acerto_99 = pd.DataFrame(acerto_99)\n",
    "acerto_99 = acerto_99['CAL9_sens1'][0]\n",
    "acerto_99"
   ]
  },
  {
   "cell_type": "code",
   "execution_count": 391,
   "metadata": {},
   "outputs": [
    {
     "data": {
      "text/plain": [
       "71.42857142857143"
      ]
     },
     "execution_count": 391,
     "metadata": {},
     "output_type": "execute_result"
    }
   ],
   "source": [
    "acerto_1010 = dataframe_3['CAL10_sens1'].value_counts() / len(dataframe_3) * 100\n",
    "acerto_1010 = pd.DataFrame(acerto_1010)\n",
    "acerto_1010 = acerto_1010['CAL10_sens1'][0]\n",
    "acerto_1010\n",
    "\n"
   ]
  },
  {
   "cell_type": "code",
   "execution_count": 392,
   "metadata": {},
   "outputs": [
    {
     "data": {
      "text/plain": [
       "94.28571428571428"
      ]
     },
     "execution_count": 392,
     "metadata": {},
     "output_type": "execute_result"
    }
   ],
   "source": [
    "acerto_1212 = dataframe_3['CAL12_sens1'].value_counts() / len(dataframe_3) * 100\n",
    "acerto_1212 = pd.DataFrame(acerto_1212)\n",
    "acerto_1212 = acerto_1212['CAL12_sens1'][0]\n",
    "acerto_1212"
   ]
  },
  {
   "cell_type": "code",
   "execution_count": 393,
   "metadata": {},
   "outputs": [
    {
     "data": {
      "text/plain": [
       "100.0"
      ]
     },
     "execution_count": 393,
     "metadata": {},
     "output_type": "execute_result"
    }
   ],
   "source": [
    "acerto_1414 = dataframe_3['CAL14_sens1'].value_counts() / len(dataframe_3) * 100\n",
    "acerto_1414 = pd.DataFrame(acerto_1414)\n",
    "acerto_1414 = acerto_1414['CAL14_sens1'][0]\n",
    "acerto_1414\n"
   ]
  },
  {
   "cell_type": "code",
   "execution_count": 478,
   "metadata": {},
   "outputs": [
    {
     "data": {
      "text/html": [
       "<div>\n",
       "<style scoped>\n",
       "    .dataframe tbody tr th:only-of-type {\n",
       "        vertical-align: middle;\n",
       "    }\n",
       "\n",
       "    .dataframe tbody tr th {\n",
       "        vertical-align: top;\n",
       "    }\n",
       "\n",
       "    .dataframe thead th {\n",
       "        text-align: right;\n",
       "    }\n",
       "</style>\n",
       "<table border=\"1\" class=\"dataframe\">\n",
       "  <thead>\n",
       "    <tr style=\"text-align: right;\">\n",
       "      <th></th>\n",
       "      <th>Calibre</th>\n",
       "      <th>Amostragem</th>\n",
       "      <th>Modelo</th>\n",
       "    </tr>\n",
       "  </thead>\n",
       "  <tbody>\n",
       "    <tr>\n",
       "      <th>0</th>\n",
       "      <td>Calibre_4</td>\n",
       "      <td>100.000000</td>\n",
       "      <td>100.000000</td>\n",
       "    </tr>\n",
       "    <tr>\n",
       "      <th>1</th>\n",
       "      <td>Calibre_5</td>\n",
       "      <td>75.757576</td>\n",
       "      <td>85.714286</td>\n",
       "    </tr>\n",
       "    <tr>\n",
       "      <th>2</th>\n",
       "      <td>Calibre_6</td>\n",
       "      <td>45.454545</td>\n",
       "      <td>51.428571</td>\n",
       "    </tr>\n",
       "    <tr>\n",
       "      <th>3</th>\n",
       "      <td>Calibre_7</td>\n",
       "      <td>54.545455</td>\n",
       "      <td>54.285714</td>\n",
       "    </tr>\n",
       "    <tr>\n",
       "      <th>4</th>\n",
       "      <td>Calibre_8</td>\n",
       "      <td>30.303030</td>\n",
       "      <td>57.142857</td>\n",
       "    </tr>\n",
       "    <tr>\n",
       "      <th>5</th>\n",
       "      <td>Calibre_9</td>\n",
       "      <td>54.545455</td>\n",
       "      <td>91.428571</td>\n",
       "    </tr>\n",
       "    <tr>\n",
       "      <th>6</th>\n",
       "      <td>Calibre_10</td>\n",
       "      <td>60.606061</td>\n",
       "      <td>71.428571</td>\n",
       "    </tr>\n",
       "    <tr>\n",
       "      <th>7</th>\n",
       "      <td>Calibre_12</td>\n",
       "      <td>60.606061</td>\n",
       "      <td>94.285714</td>\n",
       "    </tr>\n",
       "    <tr>\n",
       "      <th>8</th>\n",
       "      <td>Calibre_14</td>\n",
       "      <td>100.000000</td>\n",
       "      <td>100.000000</td>\n",
       "    </tr>\n",
       "  </tbody>\n",
       "</table>\n",
       "</div>"
      ],
      "text/plain": [
       "      Calibre  Amostragem      Modelo\n",
       "0   Calibre_4  100.000000  100.000000\n",
       "1   Calibre_5   75.757576   85.714286\n",
       "2   Calibre_6   45.454545   51.428571\n",
       "3   Calibre_7   54.545455   54.285714\n",
       "4   Calibre_8   30.303030   57.142857\n",
       "5   Calibre_9   54.545455   91.428571\n",
       "6  Calibre_10   60.606061   71.428571\n",
       "7  Calibre_12   60.606061   94.285714\n",
       "8  Calibre_14  100.000000  100.000000"
      ]
     },
     "execution_count": 478,
     "metadata": {},
     "output_type": "execute_result"
    }
   ],
   "source": [
    "dict_compara = {'Calibre':['Calibre_4','Calibre_5','Calibre_6','Calibre_7','Calibre_8','Calibre_9','Calibre_10','Calibre_12','Calibre_14'],\n",
    "'Amostragem':[100,acerto_5,acerto_6 ,acerto_7 ,acerto_8 ,acerto_9 , acerto_10,acerto_12 ,acerto_14],\n",
    "'Modelo':[100, acerto_55,acerto_66 ,acerto_77 , acerto_88,acerto_99 ,acerto_1010,acerto_1212,acerto_1414]}\n",
    "\n",
    "df_compara = pd.DataFrame(dict_compara)\n",
    "df_compara"
   ]
  },
  {
   "cell_type": "code",
   "execution_count": 480,
   "metadata": {},
   "outputs": [],
   "source": [
    "def cor_cond(df_compara):\n",
    "    if df_compara['Amostragem'] > 80:\n",
    "        return 'G'\n",
    "    else:\n",
    "        return 'B'\n",
    "df_compara['Cond_amostra'] = df_compara.apply(cor_cond, axis = 1)"
   ]
  },
  {
   "cell_type": "code",
   "execution_count": 481,
   "metadata": {},
   "outputs": [],
   "source": [
    "def cor_cond_(df_compara):\n",
    "    if df_compara['Modelo'] > 80:\n",
    "        return 'G'\n",
    "    else:\n",
    "        return 'B'\n",
    "df_compara['Cond_modelo'] = df_compara.apply(cor_cond_, axis = 1)"
   ]
  },
  {
   "cell_type": "code",
   "execution_count": 482,
   "metadata": {},
   "outputs": [
    {
     "data": {
      "text/html": [
       "<div>\n",
       "<style scoped>\n",
       "    .dataframe tbody tr th:only-of-type {\n",
       "        vertical-align: middle;\n",
       "    }\n",
       "\n",
       "    .dataframe tbody tr th {\n",
       "        vertical-align: top;\n",
       "    }\n",
       "\n",
       "    .dataframe thead th {\n",
       "        text-align: right;\n",
       "    }\n",
       "</style>\n",
       "<table border=\"1\" class=\"dataframe\">\n",
       "  <thead>\n",
       "    <tr style=\"text-align: right;\">\n",
       "      <th></th>\n",
       "      <th>Calibre</th>\n",
       "      <th>Amostragem</th>\n",
       "      <th>Modelo</th>\n",
       "      <th>Cond_amostra</th>\n",
       "      <th>Cond_modelo</th>\n",
       "    </tr>\n",
       "  </thead>\n",
       "  <tbody>\n",
       "    <tr>\n",
       "      <th>0</th>\n",
       "      <td>Calibre_4</td>\n",
       "      <td>100.000000</td>\n",
       "      <td>100.000000</td>\n",
       "      <td>G</td>\n",
       "      <td>G</td>\n",
       "    </tr>\n",
       "    <tr>\n",
       "      <th>1</th>\n",
       "      <td>Calibre_5</td>\n",
       "      <td>75.757576</td>\n",
       "      <td>85.714286</td>\n",
       "      <td>B</td>\n",
       "      <td>G</td>\n",
       "    </tr>\n",
       "    <tr>\n",
       "      <th>2</th>\n",
       "      <td>Calibre_6</td>\n",
       "      <td>45.454545</td>\n",
       "      <td>51.428571</td>\n",
       "      <td>B</td>\n",
       "      <td>B</td>\n",
       "    </tr>\n",
       "    <tr>\n",
       "      <th>3</th>\n",
       "      <td>Calibre_7</td>\n",
       "      <td>54.545455</td>\n",
       "      <td>54.285714</td>\n",
       "      <td>B</td>\n",
       "      <td>B</td>\n",
       "    </tr>\n",
       "    <tr>\n",
       "      <th>4</th>\n",
       "      <td>Calibre_8</td>\n",
       "      <td>30.303030</td>\n",
       "      <td>57.142857</td>\n",
       "      <td>B</td>\n",
       "      <td>B</td>\n",
       "    </tr>\n",
       "    <tr>\n",
       "      <th>5</th>\n",
       "      <td>Calibre_9</td>\n",
       "      <td>54.545455</td>\n",
       "      <td>91.428571</td>\n",
       "      <td>B</td>\n",
       "      <td>G</td>\n",
       "    </tr>\n",
       "    <tr>\n",
       "      <th>6</th>\n",
       "      <td>Calibre_10</td>\n",
       "      <td>60.606061</td>\n",
       "      <td>71.428571</td>\n",
       "      <td>B</td>\n",
       "      <td>B</td>\n",
       "    </tr>\n",
       "    <tr>\n",
       "      <th>7</th>\n",
       "      <td>Calibre_12</td>\n",
       "      <td>60.606061</td>\n",
       "      <td>94.285714</td>\n",
       "      <td>B</td>\n",
       "      <td>G</td>\n",
       "    </tr>\n",
       "    <tr>\n",
       "      <th>8</th>\n",
       "      <td>Calibre_14</td>\n",
       "      <td>100.000000</td>\n",
       "      <td>100.000000</td>\n",
       "      <td>G</td>\n",
       "      <td>G</td>\n",
       "    </tr>\n",
       "  </tbody>\n",
       "</table>\n",
       "</div>"
      ],
      "text/plain": [
       "      Calibre  Amostragem      Modelo Cond_amostra Cond_modelo\n",
       "0   Calibre_4  100.000000  100.000000            G           G\n",
       "1   Calibre_5   75.757576   85.714286            B           G\n",
       "2   Calibre_6   45.454545   51.428571            B           B\n",
       "3   Calibre_7   54.545455   54.285714            B           B\n",
       "4   Calibre_8   30.303030   57.142857            B           B\n",
       "5   Calibre_9   54.545455   91.428571            B           G\n",
       "6  Calibre_10   60.606061   71.428571            B           B\n",
       "7  Calibre_12   60.606061   94.285714            B           G\n",
       "8  Calibre_14  100.000000  100.000000            G           G"
      ]
     },
     "execution_count": 482,
     "metadata": {},
     "output_type": "execute_result"
    }
   ],
   "source": [
    "df_compara"
   ]
  },
  {
   "cell_type": "code",
   "execution_count": 535,
   "metadata": {},
   "outputs": [
    {
     "data": {
      "application/vnd.plotly.v1+json": {
       "config": {
        "plotlyServerURL": "https://plot.ly"
       },
       "data": [
        {
         "cliponaxis": false,
         "marker": {
          "color": "skyblue",
          "line": {
           "color": "rgb(0,0,0)",
           "width": 1.5
          }
         },
         "name": "Amostragem",
         "text": [
          100,
          75.76,
          45.45,
          54.55,
          30.3,
          54.55,
          60.61,
          60.61,
          100
         ],
         "textangle": 0,
         "textfont": {
          "size": 14
         },
         "textposition": "outside",
         "type": "bar",
         "x": [
          "Calibre_4",
          "Calibre_5",
          "Calibre_6",
          "Calibre_7",
          "Calibre_8",
          "Calibre_9",
          "Calibre_10",
          "Calibre_12",
          "Calibre_14"
         ],
         "y": [
          100,
          75.75757575757575,
          45.45454545454545,
          54.54545454545454,
          30.303030303030305,
          54.54545454545454,
          60.60606060606061,
          60.60606060606061,
          100
         ]
        },
        {
         "cliponaxis": false,
         "marker": {
          "color": "royalblue",
          "line": {
           "color": "rgb(0,0,0)",
           "width": 1.5
          }
         },
         "name": "Modelo",
         "text": [
          100,
          85.71,
          51.43,
          54.29,
          57.14,
          91.43,
          71.43,
          94.29,
          100
         ],
         "textangle": 0,
         "textfont": {
          "size": 14
         },
         "textposition": "outside",
         "type": "bar",
         "x": [
          "Calibre_4",
          "Calibre_5",
          "Calibre_6",
          "Calibre_7",
          "Calibre_8",
          "Calibre_9",
          "Calibre_10",
          "Calibre_12",
          "Calibre_14"
         ],
         "y": [
          100,
          85.71428571428571,
          51.42857142857142,
          54.285714285714285,
          57.14285714285714,
          91.42857142857143,
          71.42857142857143,
          94.28571428571428,
          100
         ]
        }
       ],
       "layout": {
        "annotations": [
         {
          "font": {
           "color": "darkblue"
          },
          "showarrow": false,
          "text": "80%",
          "x": 1,
          "xanchor": "right",
          "xref": "x domain",
          "y": 80,
          "yanchor": "bottom",
          "yref": "y"
         }
        ],
        "height": 600,
        "shapes": [
         {
          "line": {
           "color": "darkblue",
           "dash": "dot"
          },
          "type": "line",
          "x0": 0,
          "x1": 1,
          "xref": "x domain",
          "y0": 80,
          "y1": 80,
          "yref": "y"
         }
        ],
        "template": {
         "data": {
          "bar": [
           {
            "error_x": {
             "color": "#2a3f5f"
            },
            "error_y": {
             "color": "#2a3f5f"
            },
            "marker": {
             "line": {
              "color": "#E5ECF6",
              "width": 0.5
             },
             "pattern": {
              "fillmode": "overlay",
              "size": 10,
              "solidity": 0.2
             }
            },
            "type": "bar"
           }
          ],
          "barpolar": [
           {
            "marker": {
             "line": {
              "color": "#E5ECF6",
              "width": 0.5
             },
             "pattern": {
              "fillmode": "overlay",
              "size": 10,
              "solidity": 0.2
             }
            },
            "type": "barpolar"
           }
          ],
          "carpet": [
           {
            "aaxis": {
             "endlinecolor": "#2a3f5f",
             "gridcolor": "white",
             "linecolor": "white",
             "minorgridcolor": "white",
             "startlinecolor": "#2a3f5f"
            },
            "baxis": {
             "endlinecolor": "#2a3f5f",
             "gridcolor": "white",
             "linecolor": "white",
             "minorgridcolor": "white",
             "startlinecolor": "#2a3f5f"
            },
            "type": "carpet"
           }
          ],
          "choropleth": [
           {
            "colorbar": {
             "outlinewidth": 0,
             "ticks": ""
            },
            "type": "choropleth"
           }
          ],
          "contour": [
           {
            "colorbar": {
             "outlinewidth": 0,
             "ticks": ""
            },
            "colorscale": [
             [
              0,
              "#0d0887"
             ],
             [
              0.1111111111111111,
              "#46039f"
             ],
             [
              0.2222222222222222,
              "#7201a8"
             ],
             [
              0.3333333333333333,
              "#9c179e"
             ],
             [
              0.4444444444444444,
              "#bd3786"
             ],
             [
              0.5555555555555556,
              "#d8576b"
             ],
             [
              0.6666666666666666,
              "#ed7953"
             ],
             [
              0.7777777777777778,
              "#fb9f3a"
             ],
             [
              0.8888888888888888,
              "#fdca26"
             ],
             [
              1,
              "#f0f921"
             ]
            ],
            "type": "contour"
           }
          ],
          "contourcarpet": [
           {
            "colorbar": {
             "outlinewidth": 0,
             "ticks": ""
            },
            "type": "contourcarpet"
           }
          ],
          "heatmap": [
           {
            "colorbar": {
             "outlinewidth": 0,
             "ticks": ""
            },
            "colorscale": [
             [
              0,
              "#0d0887"
             ],
             [
              0.1111111111111111,
              "#46039f"
             ],
             [
              0.2222222222222222,
              "#7201a8"
             ],
             [
              0.3333333333333333,
              "#9c179e"
             ],
             [
              0.4444444444444444,
              "#bd3786"
             ],
             [
              0.5555555555555556,
              "#d8576b"
             ],
             [
              0.6666666666666666,
              "#ed7953"
             ],
             [
              0.7777777777777778,
              "#fb9f3a"
             ],
             [
              0.8888888888888888,
              "#fdca26"
             ],
             [
              1,
              "#f0f921"
             ]
            ],
            "type": "heatmap"
           }
          ],
          "heatmapgl": [
           {
            "colorbar": {
             "outlinewidth": 0,
             "ticks": ""
            },
            "colorscale": [
             [
              0,
              "#0d0887"
             ],
             [
              0.1111111111111111,
              "#46039f"
             ],
             [
              0.2222222222222222,
              "#7201a8"
             ],
             [
              0.3333333333333333,
              "#9c179e"
             ],
             [
              0.4444444444444444,
              "#bd3786"
             ],
             [
              0.5555555555555556,
              "#d8576b"
             ],
             [
              0.6666666666666666,
              "#ed7953"
             ],
             [
              0.7777777777777778,
              "#fb9f3a"
             ],
             [
              0.8888888888888888,
              "#fdca26"
             ],
             [
              1,
              "#f0f921"
             ]
            ],
            "type": "heatmapgl"
           }
          ],
          "histogram": [
           {
            "marker": {
             "pattern": {
              "fillmode": "overlay",
              "size": 10,
              "solidity": 0.2
             }
            },
            "type": "histogram"
           }
          ],
          "histogram2d": [
           {
            "colorbar": {
             "outlinewidth": 0,
             "ticks": ""
            },
            "colorscale": [
             [
              0,
              "#0d0887"
             ],
             [
              0.1111111111111111,
              "#46039f"
             ],
             [
              0.2222222222222222,
              "#7201a8"
             ],
             [
              0.3333333333333333,
              "#9c179e"
             ],
             [
              0.4444444444444444,
              "#bd3786"
             ],
             [
              0.5555555555555556,
              "#d8576b"
             ],
             [
              0.6666666666666666,
              "#ed7953"
             ],
             [
              0.7777777777777778,
              "#fb9f3a"
             ],
             [
              0.8888888888888888,
              "#fdca26"
             ],
             [
              1,
              "#f0f921"
             ]
            ],
            "type": "histogram2d"
           }
          ],
          "histogram2dcontour": [
           {
            "colorbar": {
             "outlinewidth": 0,
             "ticks": ""
            },
            "colorscale": [
             [
              0,
              "#0d0887"
             ],
             [
              0.1111111111111111,
              "#46039f"
             ],
             [
              0.2222222222222222,
              "#7201a8"
             ],
             [
              0.3333333333333333,
              "#9c179e"
             ],
             [
              0.4444444444444444,
              "#bd3786"
             ],
             [
              0.5555555555555556,
              "#d8576b"
             ],
             [
              0.6666666666666666,
              "#ed7953"
             ],
             [
              0.7777777777777778,
              "#fb9f3a"
             ],
             [
              0.8888888888888888,
              "#fdca26"
             ],
             [
              1,
              "#f0f921"
             ]
            ],
            "type": "histogram2dcontour"
           }
          ],
          "mesh3d": [
           {
            "colorbar": {
             "outlinewidth": 0,
             "ticks": ""
            },
            "type": "mesh3d"
           }
          ],
          "parcoords": [
           {
            "line": {
             "colorbar": {
              "outlinewidth": 0,
              "ticks": ""
             }
            },
            "type": "parcoords"
           }
          ],
          "pie": [
           {
            "automargin": true,
            "type": "pie"
           }
          ],
          "scatter": [
           {
            "marker": {
             "colorbar": {
              "outlinewidth": 0,
              "ticks": ""
             }
            },
            "type": "scatter"
           }
          ],
          "scatter3d": [
           {
            "line": {
             "colorbar": {
              "outlinewidth": 0,
              "ticks": ""
             }
            },
            "marker": {
             "colorbar": {
              "outlinewidth": 0,
              "ticks": ""
             }
            },
            "type": "scatter3d"
           }
          ],
          "scattercarpet": [
           {
            "marker": {
             "colorbar": {
              "outlinewidth": 0,
              "ticks": ""
             }
            },
            "type": "scattercarpet"
           }
          ],
          "scattergeo": [
           {
            "marker": {
             "colorbar": {
              "outlinewidth": 0,
              "ticks": ""
             }
            },
            "type": "scattergeo"
           }
          ],
          "scattergl": [
           {
            "marker": {
             "colorbar": {
              "outlinewidth": 0,
              "ticks": ""
             }
            },
            "type": "scattergl"
           }
          ],
          "scattermapbox": [
           {
            "marker": {
             "colorbar": {
              "outlinewidth": 0,
              "ticks": ""
             }
            },
            "type": "scattermapbox"
           }
          ],
          "scatterpolar": [
           {
            "marker": {
             "colorbar": {
              "outlinewidth": 0,
              "ticks": ""
             }
            },
            "type": "scatterpolar"
           }
          ],
          "scatterpolargl": [
           {
            "marker": {
             "colorbar": {
              "outlinewidth": 0,
              "ticks": ""
             }
            },
            "type": "scatterpolargl"
           }
          ],
          "scatterternary": [
           {
            "marker": {
             "colorbar": {
              "outlinewidth": 0,
              "ticks": ""
             }
            },
            "type": "scatterternary"
           }
          ],
          "surface": [
           {
            "colorbar": {
             "outlinewidth": 0,
             "ticks": ""
            },
            "colorscale": [
             [
              0,
              "#0d0887"
             ],
             [
              0.1111111111111111,
              "#46039f"
             ],
             [
              0.2222222222222222,
              "#7201a8"
             ],
             [
              0.3333333333333333,
              "#9c179e"
             ],
             [
              0.4444444444444444,
              "#bd3786"
             ],
             [
              0.5555555555555556,
              "#d8576b"
             ],
             [
              0.6666666666666666,
              "#ed7953"
             ],
             [
              0.7777777777777778,
              "#fb9f3a"
             ],
             [
              0.8888888888888888,
              "#fdca26"
             ],
             [
              1,
              "#f0f921"
             ]
            ],
            "type": "surface"
           }
          ],
          "table": [
           {
            "cells": {
             "fill": {
              "color": "#EBF0F8"
             },
             "line": {
              "color": "white"
             }
            },
            "header": {
             "fill": {
              "color": "#C8D4E3"
             },
             "line": {
              "color": "white"
             }
            },
            "type": "table"
           }
          ]
         },
         "layout": {
          "annotationdefaults": {
           "arrowcolor": "#2a3f5f",
           "arrowhead": 0,
           "arrowwidth": 1
          },
          "autotypenumbers": "strict",
          "coloraxis": {
           "colorbar": {
            "outlinewidth": 0,
            "ticks": ""
           }
          },
          "colorscale": {
           "diverging": [
            [
             0,
             "#8e0152"
            ],
            [
             0.1,
             "#c51b7d"
            ],
            [
             0.2,
             "#de77ae"
            ],
            [
             0.3,
             "#f1b6da"
            ],
            [
             0.4,
             "#fde0ef"
            ],
            [
             0.5,
             "#f7f7f7"
            ],
            [
             0.6,
             "#e6f5d0"
            ],
            [
             0.7,
             "#b8e186"
            ],
            [
             0.8,
             "#7fbc41"
            ],
            [
             0.9,
             "#4d9221"
            ],
            [
             1,
             "#276419"
            ]
           ],
           "sequential": [
            [
             0,
             "#0d0887"
            ],
            [
             0.1111111111111111,
             "#46039f"
            ],
            [
             0.2222222222222222,
             "#7201a8"
            ],
            [
             0.3333333333333333,
             "#9c179e"
            ],
            [
             0.4444444444444444,
             "#bd3786"
            ],
            [
             0.5555555555555556,
             "#d8576b"
            ],
            [
             0.6666666666666666,
             "#ed7953"
            ],
            [
             0.7777777777777778,
             "#fb9f3a"
            ],
            [
             0.8888888888888888,
             "#fdca26"
            ],
            [
             1,
             "#f0f921"
            ]
           ],
           "sequentialminus": [
            [
             0,
             "#0d0887"
            ],
            [
             0.1111111111111111,
             "#46039f"
            ],
            [
             0.2222222222222222,
             "#7201a8"
            ],
            [
             0.3333333333333333,
             "#9c179e"
            ],
            [
             0.4444444444444444,
             "#bd3786"
            ],
            [
             0.5555555555555556,
             "#d8576b"
            ],
            [
             0.6666666666666666,
             "#ed7953"
            ],
            [
             0.7777777777777778,
             "#fb9f3a"
            ],
            [
             0.8888888888888888,
             "#fdca26"
            ],
            [
             1,
             "#f0f921"
            ]
           ]
          },
          "colorway": [
           "#636efa",
           "#EF553B",
           "#00cc96",
           "#ab63fa",
           "#FFA15A",
           "#19d3f3",
           "#FF6692",
           "#B6E880",
           "#FF97FF",
           "#FECB52"
          ],
          "font": {
           "color": "#2a3f5f"
          },
          "geo": {
           "bgcolor": "white",
           "lakecolor": "white",
           "landcolor": "#E5ECF6",
           "showlakes": true,
           "showland": true,
           "subunitcolor": "white"
          },
          "hoverlabel": {
           "align": "left"
          },
          "hovermode": "closest",
          "mapbox": {
           "style": "light"
          },
          "paper_bgcolor": "white",
          "plot_bgcolor": "#E5ECF6",
          "polar": {
           "angularaxis": {
            "gridcolor": "white",
            "linecolor": "white",
            "ticks": ""
           },
           "bgcolor": "#E5ECF6",
           "radialaxis": {
            "gridcolor": "white",
            "linecolor": "white",
            "ticks": ""
           }
          },
          "scene": {
           "xaxis": {
            "backgroundcolor": "#E5ECF6",
            "gridcolor": "white",
            "gridwidth": 2,
            "linecolor": "white",
            "showbackground": true,
            "ticks": "",
            "zerolinecolor": "white"
           },
           "yaxis": {
            "backgroundcolor": "#E5ECF6",
            "gridcolor": "white",
            "gridwidth": 2,
            "linecolor": "white",
            "showbackground": true,
            "ticks": "",
            "zerolinecolor": "white"
           },
           "zaxis": {
            "backgroundcolor": "#E5ECF6",
            "gridcolor": "white",
            "gridwidth": 2,
            "linecolor": "white",
            "showbackground": true,
            "ticks": "",
            "zerolinecolor": "white"
           }
          },
          "shapedefaults": {
           "line": {
            "color": "#2a3f5f"
           }
          },
          "ternary": {
           "aaxis": {
            "gridcolor": "white",
            "linecolor": "white",
            "ticks": ""
           },
           "baxis": {
            "gridcolor": "white",
            "linecolor": "white",
            "ticks": ""
           },
           "bgcolor": "#E5ECF6",
           "caxis": {
            "gridcolor": "white",
            "linecolor": "white",
            "ticks": ""
           }
          },
          "title": {
           "x": 0.05
          },
          "xaxis": {
           "automargin": true,
           "gridcolor": "white",
           "linecolor": "white",
           "ticks": "",
           "title": {
            "standoff": 15
           },
           "zerolinecolor": "white",
           "zerolinewidth": 2
          },
          "yaxis": {
           "automargin": true,
           "gridcolor": "white",
           "linecolor": "white",
           "ticks": "",
           "title": {
            "standoff": 15
           },
           "zerolinecolor": "white",
           "zerolinewidth": 2
          }
         }
        },
        "title": {
         "text": "Comparativo de previsões: Threshold 10% com talhões até o 4º controle"
        },
        "width": 1200
       }
      }
     },
     "metadata": {},
     "output_type": "display_data"
    }
   ],
   "source": [
    "fig = go.Figure()\n",
    "fig.add_trace(go.Bar(x = df_compara['Calibre'], y = df_compara['Amostragem'], name = 'Amostragem', marker_color='skyblue', text = round(df_compara['Amostragem'],2)))\n",
    "fig.add_trace(go.Bar(x = df_compara['Calibre'], y = df_compara['Modelo'], name = 'Modelo', marker_color='royalblue', text = round(df_compara['Modelo'],2)))\n",
    "fig.update_traces(textposition=\"outside\",textfont_size=14, cliponaxis=False,textangle=0, marker_line_color = 'rgb(0,0,0)',marker_line_width = 1.5)\n",
    "fig.update_layout(height = 600, width = 1200, title = 'Comparativo de previsões: Threshold 10% com talhões até o 4º controle')\n",
    "fig.add_hline(80, line_color = 'darkblue', line_dash=\"dot\",  annotation_text=\"80%\", annotation_font_color=\"darkblue\")\n",
    "fig"
   ]
  },
  {
   "cell_type": "code",
   "execution_count": null,
   "metadata": {},
   "outputs": [],
   "source": []
  },
  {
   "cell_type": "code",
   "execution_count": null,
   "metadata": {},
   "outputs": [],
   "source": []
  },
  {
   "cell_type": "code",
   "execution_count": null,
   "metadata": {},
   "outputs": [],
   "source": []
  },
  {
   "cell_type": "code",
   "execution_count": 477,
   "metadata": {},
   "outputs": [
    {
     "data": {
      "application/vnd.plotly.v1+json": {
       "config": {
        "plotlyServerURL": "https://plot.ly"
       },
       "data": [
        {
         "marker": {
          "color": "red",
          "line": {
           "color": "rgb(0,0,0)",
           "width": 1.5
          }
         },
         "name": "Calibre 5",
         "text": "75.76",
         "type": "bar",
         "y": [
          75.75757575757575
         ]
        },
        {
         "marker": {
          "color": "blue",
          "line": {
           "color": "rgb(0,0,0)",
           "width": 1.5
          }
         },
         "name": "Calibre 5",
         "text": "85.71",
         "type": "bar",
         "y": [
          85.71428571428571
         ]
        },
        {
         "marker": {
          "color": "red",
          "line": {
           "color": "rgb(0,0,0)",
           "width": 1.5
          }
         },
         "name": "Calibre 6",
         "text": "45.45",
         "type": "bar",
         "y": [
          45.45454545454545
         ]
        },
        {
         "marker": {
          "color": "blue",
          "line": {
           "color": "rgb(0,0,0)",
           "width": 1.5
          }
         },
         "name": "Calibre 6",
         "text": "51.43",
         "type": "bar",
         "y": [
          51.42857142857142
         ]
        },
        {
         "marker": {
          "color": "red",
          "line": {
           "color": "rgb(0,0,0)",
           "width": 1.5
          }
         },
         "name": "Calibre 7",
         "text": "54.55",
         "type": "bar",
         "y": [
          54.54545454545454
         ]
        },
        {
         "marker": {
          "color": "blue",
          "line": {
           "color": "rgb(0,0,0)",
           "width": 1.5
          }
         },
         "name": "Calibre 7",
         "text": "54.29",
         "type": "bar",
         "y": [
          54.285714285714285
         ]
        },
        {
         "marker": {
          "color": "red",
          "line": {
           "color": "rgb(0,0,0)",
           "width": 1.5
          }
         },
         "name": "Calibre 8",
         "text": "30.3",
         "type": "bar",
         "y": [
          30.303030303030305
         ]
        },
        {
         "marker": {
          "color": "blue",
          "line": {
           "color": "rgb(0,0,0)",
           "width": 1.5
          }
         },
         "name": "Calibre 8",
         "text": "57.14",
         "type": "bar",
         "y": [
          57.14285714285714
         ]
        },
        {
         "marker": {
          "color": "red",
          "line": {
           "color": "rgb(0,0,0)",
           "width": 1.5
          }
         },
         "name": "Calibre 9",
         "text": "54.55",
         "type": "bar",
         "y": [
          54.54545454545454
         ]
        },
        {
         "marker": {
          "color": "blue",
          "line": {
           "color": "rgb(0,0,0)",
           "width": 1.5
          }
         },
         "name": "Calibre 9",
         "text": "91.43",
         "type": "bar",
         "y": [
          91.42857142857143
         ]
        },
        {
         "marker": {
          "color": "red",
          "line": {
           "color": "rgb(0,0,0)",
           "width": 1.5
          }
         },
         "name": "Calibre 10",
         "text": "60.61",
         "type": "bar",
         "y": [
          60.60606060606061
         ]
        },
        {
         "marker": {
          "color": "blue",
          "line": {
           "color": "rgb(0,0,0)",
           "width": 1.5
          }
         },
         "name": "Calibre 10",
         "text": "71.43",
         "type": "bar",
         "y": [
          71.42857142857143
         ]
        },
        {
         "marker": {
          "color": "red",
          "line": {
           "color": "rgb(0,0,0)",
           "width": 1.5
          }
         },
         "name": "Calibre 12",
         "text": "60.61",
         "type": "bar",
         "y": [
          60.60606060606061
         ]
        },
        {
         "marker": {
          "color": "blue",
          "line": {
           "color": "rgb(0,0,0)",
           "width": 1.5
          }
         },
         "name": "Calibre 12",
         "text": "94.29",
         "type": "bar",
         "y": [
          94.28571428571428
         ]
        },
        {
         "marker": {
          "color": "red",
          "line": {
           "color": "rgb(0,0,0)",
           "width": 1.5
          }
         },
         "name": "Calibre 14",
         "text": "100.0",
         "type": "bar",
         "y": [
          100
         ]
        },
        {
         "marker": {
          "color": "blue",
          "line": {
           "color": "rgb(0,0,0)",
           "width": 1.5
          }
         },
         "name": "Calibre 14",
         "text": "100.0",
         "type": "bar",
         "y": [
          100
         ]
        }
       ],
       "layout": {
        "height": 600,
        "template": {
         "data": {
          "bar": [
           {
            "error_x": {
             "color": "#2a3f5f"
            },
            "error_y": {
             "color": "#2a3f5f"
            },
            "marker": {
             "line": {
              "color": "#E5ECF6",
              "width": 0.5
             },
             "pattern": {
              "fillmode": "overlay",
              "size": 10,
              "solidity": 0.2
             }
            },
            "type": "bar"
           }
          ],
          "barpolar": [
           {
            "marker": {
             "line": {
              "color": "#E5ECF6",
              "width": 0.5
             },
             "pattern": {
              "fillmode": "overlay",
              "size": 10,
              "solidity": 0.2
             }
            },
            "type": "barpolar"
           }
          ],
          "carpet": [
           {
            "aaxis": {
             "endlinecolor": "#2a3f5f",
             "gridcolor": "white",
             "linecolor": "white",
             "minorgridcolor": "white",
             "startlinecolor": "#2a3f5f"
            },
            "baxis": {
             "endlinecolor": "#2a3f5f",
             "gridcolor": "white",
             "linecolor": "white",
             "minorgridcolor": "white",
             "startlinecolor": "#2a3f5f"
            },
            "type": "carpet"
           }
          ],
          "choropleth": [
           {
            "colorbar": {
             "outlinewidth": 0,
             "ticks": ""
            },
            "type": "choropleth"
           }
          ],
          "contour": [
           {
            "colorbar": {
             "outlinewidth": 0,
             "ticks": ""
            },
            "colorscale": [
             [
              0,
              "#0d0887"
             ],
             [
              0.1111111111111111,
              "#46039f"
             ],
             [
              0.2222222222222222,
              "#7201a8"
             ],
             [
              0.3333333333333333,
              "#9c179e"
             ],
             [
              0.4444444444444444,
              "#bd3786"
             ],
             [
              0.5555555555555556,
              "#d8576b"
             ],
             [
              0.6666666666666666,
              "#ed7953"
             ],
             [
              0.7777777777777778,
              "#fb9f3a"
             ],
             [
              0.8888888888888888,
              "#fdca26"
             ],
             [
              1,
              "#f0f921"
             ]
            ],
            "type": "contour"
           }
          ],
          "contourcarpet": [
           {
            "colorbar": {
             "outlinewidth": 0,
             "ticks": ""
            },
            "type": "contourcarpet"
           }
          ],
          "heatmap": [
           {
            "colorbar": {
             "outlinewidth": 0,
             "ticks": ""
            },
            "colorscale": [
             [
              0,
              "#0d0887"
             ],
             [
              0.1111111111111111,
              "#46039f"
             ],
             [
              0.2222222222222222,
              "#7201a8"
             ],
             [
              0.3333333333333333,
              "#9c179e"
             ],
             [
              0.4444444444444444,
              "#bd3786"
             ],
             [
              0.5555555555555556,
              "#d8576b"
             ],
             [
              0.6666666666666666,
              "#ed7953"
             ],
             [
              0.7777777777777778,
              "#fb9f3a"
             ],
             [
              0.8888888888888888,
              "#fdca26"
             ],
             [
              1,
              "#f0f921"
             ]
            ],
            "type": "heatmap"
           }
          ],
          "heatmapgl": [
           {
            "colorbar": {
             "outlinewidth": 0,
             "ticks": ""
            },
            "colorscale": [
             [
              0,
              "#0d0887"
             ],
             [
              0.1111111111111111,
              "#46039f"
             ],
             [
              0.2222222222222222,
              "#7201a8"
             ],
             [
              0.3333333333333333,
              "#9c179e"
             ],
             [
              0.4444444444444444,
              "#bd3786"
             ],
             [
              0.5555555555555556,
              "#d8576b"
             ],
             [
              0.6666666666666666,
              "#ed7953"
             ],
             [
              0.7777777777777778,
              "#fb9f3a"
             ],
             [
              0.8888888888888888,
              "#fdca26"
             ],
             [
              1,
              "#f0f921"
             ]
            ],
            "type": "heatmapgl"
           }
          ],
          "histogram": [
           {
            "marker": {
             "pattern": {
              "fillmode": "overlay",
              "size": 10,
              "solidity": 0.2
             }
            },
            "type": "histogram"
           }
          ],
          "histogram2d": [
           {
            "colorbar": {
             "outlinewidth": 0,
             "ticks": ""
            },
            "colorscale": [
             [
              0,
              "#0d0887"
             ],
             [
              0.1111111111111111,
              "#46039f"
             ],
             [
              0.2222222222222222,
              "#7201a8"
             ],
             [
              0.3333333333333333,
              "#9c179e"
             ],
             [
              0.4444444444444444,
              "#bd3786"
             ],
             [
              0.5555555555555556,
              "#d8576b"
             ],
             [
              0.6666666666666666,
              "#ed7953"
             ],
             [
              0.7777777777777778,
              "#fb9f3a"
             ],
             [
              0.8888888888888888,
              "#fdca26"
             ],
             [
              1,
              "#f0f921"
             ]
            ],
            "type": "histogram2d"
           }
          ],
          "histogram2dcontour": [
           {
            "colorbar": {
             "outlinewidth": 0,
             "ticks": ""
            },
            "colorscale": [
             [
              0,
              "#0d0887"
             ],
             [
              0.1111111111111111,
              "#46039f"
             ],
             [
              0.2222222222222222,
              "#7201a8"
             ],
             [
              0.3333333333333333,
              "#9c179e"
             ],
             [
              0.4444444444444444,
              "#bd3786"
             ],
             [
              0.5555555555555556,
              "#d8576b"
             ],
             [
              0.6666666666666666,
              "#ed7953"
             ],
             [
              0.7777777777777778,
              "#fb9f3a"
             ],
             [
              0.8888888888888888,
              "#fdca26"
             ],
             [
              1,
              "#f0f921"
             ]
            ],
            "type": "histogram2dcontour"
           }
          ],
          "mesh3d": [
           {
            "colorbar": {
             "outlinewidth": 0,
             "ticks": ""
            },
            "type": "mesh3d"
           }
          ],
          "parcoords": [
           {
            "line": {
             "colorbar": {
              "outlinewidth": 0,
              "ticks": ""
             }
            },
            "type": "parcoords"
           }
          ],
          "pie": [
           {
            "automargin": true,
            "type": "pie"
           }
          ],
          "scatter": [
           {
            "marker": {
             "colorbar": {
              "outlinewidth": 0,
              "ticks": ""
             }
            },
            "type": "scatter"
           }
          ],
          "scatter3d": [
           {
            "line": {
             "colorbar": {
              "outlinewidth": 0,
              "ticks": ""
             }
            },
            "marker": {
             "colorbar": {
              "outlinewidth": 0,
              "ticks": ""
             }
            },
            "type": "scatter3d"
           }
          ],
          "scattercarpet": [
           {
            "marker": {
             "colorbar": {
              "outlinewidth": 0,
              "ticks": ""
             }
            },
            "type": "scattercarpet"
           }
          ],
          "scattergeo": [
           {
            "marker": {
             "colorbar": {
              "outlinewidth": 0,
              "ticks": ""
             }
            },
            "type": "scattergeo"
           }
          ],
          "scattergl": [
           {
            "marker": {
             "colorbar": {
              "outlinewidth": 0,
              "ticks": ""
             }
            },
            "type": "scattergl"
           }
          ],
          "scattermapbox": [
           {
            "marker": {
             "colorbar": {
              "outlinewidth": 0,
              "ticks": ""
             }
            },
            "type": "scattermapbox"
           }
          ],
          "scatterpolar": [
           {
            "marker": {
             "colorbar": {
              "outlinewidth": 0,
              "ticks": ""
             }
            },
            "type": "scatterpolar"
           }
          ],
          "scatterpolargl": [
           {
            "marker": {
             "colorbar": {
              "outlinewidth": 0,
              "ticks": ""
             }
            },
            "type": "scatterpolargl"
           }
          ],
          "scatterternary": [
           {
            "marker": {
             "colorbar": {
              "outlinewidth": 0,
              "ticks": ""
             }
            },
            "type": "scatterternary"
           }
          ],
          "surface": [
           {
            "colorbar": {
             "outlinewidth": 0,
             "ticks": ""
            },
            "colorscale": [
             [
              0,
              "#0d0887"
             ],
             [
              0.1111111111111111,
              "#46039f"
             ],
             [
              0.2222222222222222,
              "#7201a8"
             ],
             [
              0.3333333333333333,
              "#9c179e"
             ],
             [
              0.4444444444444444,
              "#bd3786"
             ],
             [
              0.5555555555555556,
              "#d8576b"
             ],
             [
              0.6666666666666666,
              "#ed7953"
             ],
             [
              0.7777777777777778,
              "#fb9f3a"
             ],
             [
              0.8888888888888888,
              "#fdca26"
             ],
             [
              1,
              "#f0f921"
             ]
            ],
            "type": "surface"
           }
          ],
          "table": [
           {
            "cells": {
             "fill": {
              "color": "#EBF0F8"
             },
             "line": {
              "color": "white"
             }
            },
            "header": {
             "fill": {
              "color": "#C8D4E3"
             },
             "line": {
              "color": "white"
             }
            },
            "type": "table"
           }
          ]
         },
         "layout": {
          "annotationdefaults": {
           "arrowcolor": "#2a3f5f",
           "arrowhead": 0,
           "arrowwidth": 1
          },
          "autotypenumbers": "strict",
          "coloraxis": {
           "colorbar": {
            "outlinewidth": 0,
            "ticks": ""
           }
          },
          "colorscale": {
           "diverging": [
            [
             0,
             "#8e0152"
            ],
            [
             0.1,
             "#c51b7d"
            ],
            [
             0.2,
             "#de77ae"
            ],
            [
             0.3,
             "#f1b6da"
            ],
            [
             0.4,
             "#fde0ef"
            ],
            [
             0.5,
             "#f7f7f7"
            ],
            [
             0.6,
             "#e6f5d0"
            ],
            [
             0.7,
             "#b8e186"
            ],
            [
             0.8,
             "#7fbc41"
            ],
            [
             0.9,
             "#4d9221"
            ],
            [
             1,
             "#276419"
            ]
           ],
           "sequential": [
            [
             0,
             "#0d0887"
            ],
            [
             0.1111111111111111,
             "#46039f"
            ],
            [
             0.2222222222222222,
             "#7201a8"
            ],
            [
             0.3333333333333333,
             "#9c179e"
            ],
            [
             0.4444444444444444,
             "#bd3786"
            ],
            [
             0.5555555555555556,
             "#d8576b"
            ],
            [
             0.6666666666666666,
             "#ed7953"
            ],
            [
             0.7777777777777778,
             "#fb9f3a"
            ],
            [
             0.8888888888888888,
             "#fdca26"
            ],
            [
             1,
             "#f0f921"
            ]
           ],
           "sequentialminus": [
            [
             0,
             "#0d0887"
            ],
            [
             0.1111111111111111,
             "#46039f"
            ],
            [
             0.2222222222222222,
             "#7201a8"
            ],
            [
             0.3333333333333333,
             "#9c179e"
            ],
            [
             0.4444444444444444,
             "#bd3786"
            ],
            [
             0.5555555555555556,
             "#d8576b"
            ],
            [
             0.6666666666666666,
             "#ed7953"
            ],
            [
             0.7777777777777778,
             "#fb9f3a"
            ],
            [
             0.8888888888888888,
             "#fdca26"
            ],
            [
             1,
             "#f0f921"
            ]
           ]
          },
          "colorway": [
           "#636efa",
           "#EF553B",
           "#00cc96",
           "#ab63fa",
           "#FFA15A",
           "#19d3f3",
           "#FF6692",
           "#B6E880",
           "#FF97FF",
           "#FECB52"
          ],
          "font": {
           "color": "#2a3f5f"
          },
          "geo": {
           "bgcolor": "white",
           "lakecolor": "white",
           "landcolor": "#E5ECF6",
           "showlakes": true,
           "showland": true,
           "subunitcolor": "white"
          },
          "hoverlabel": {
           "align": "left"
          },
          "hovermode": "closest",
          "mapbox": {
           "style": "light"
          },
          "paper_bgcolor": "white",
          "plot_bgcolor": "#E5ECF6",
          "polar": {
           "angularaxis": {
            "gridcolor": "white",
            "linecolor": "white",
            "ticks": ""
           },
           "bgcolor": "#E5ECF6",
           "radialaxis": {
            "gridcolor": "white",
            "linecolor": "white",
            "ticks": ""
           }
          },
          "scene": {
           "xaxis": {
            "backgroundcolor": "#E5ECF6",
            "gridcolor": "white",
            "gridwidth": 2,
            "linecolor": "white",
            "showbackground": true,
            "ticks": "",
            "zerolinecolor": "white"
           },
           "yaxis": {
            "backgroundcolor": "#E5ECF6",
            "gridcolor": "white",
            "gridwidth": 2,
            "linecolor": "white",
            "showbackground": true,
            "ticks": "",
            "zerolinecolor": "white"
           },
           "zaxis": {
            "backgroundcolor": "#E5ECF6",
            "gridcolor": "white",
            "gridwidth": 2,
            "linecolor": "white",
            "showbackground": true,
            "ticks": "",
            "zerolinecolor": "white"
           }
          },
          "shapedefaults": {
           "line": {
            "color": "#2a3f5f"
           }
          },
          "ternary": {
           "aaxis": {
            "gridcolor": "white",
            "linecolor": "white",
            "ticks": ""
           },
           "baxis": {
            "gridcolor": "white",
            "linecolor": "white",
            "ticks": ""
           },
           "bgcolor": "#E5ECF6",
           "caxis": {
            "gridcolor": "white",
            "linecolor": "white",
            "ticks": ""
           }
          },
          "title": {
           "x": 0.05
          },
          "xaxis": {
           "automargin": true,
           "gridcolor": "white",
           "linecolor": "white",
           "ticks": "",
           "title": {
            "standoff": 15
           },
           "zerolinecolor": "white",
           "zerolinewidth": 2
          },
          "yaxis": {
           "automargin": true,
           "gridcolor": "white",
           "linecolor": "white",
           "ticks": "",
           "title": {
            "standoff": 15
           },
           "zerolinecolor": "white",
           "zerolinewidth": 2
          }
         }
        },
        "width": 1200,
        "xaxis": {
         "ticks": "inside"
        }
       }
      }
     },
     "metadata": {},
     "output_type": "display_data"
    }
   ],
   "source": [
    "\n",
    "calibres = ['4','5','6','7','8','9','10','12','14']\n",
    "\n",
    "fig = go.Figure()\n",
    "#fig.add_trace(go.Bar(y = [acerto_4],text = round(acerto_4 ,2),name = 'Calibre 4',\n",
    "    #marker_color='indianred'))\n",
    "fig.add_trace(go.Bar(y = [acerto_5], text = round(acerto_5,2), name = 'Calibre 5', marker_color='red'))\n",
    "fig.add_trace(go.Bar(y = [acerto_55], text = round(acerto_55,2), name = 'Calibre 5', marker_color='blue'))\n",
    "\n",
    "\n",
    "fig.add_trace(go.Bar(y = [acerto_6], text = round(acerto_6,2), name = 'Calibre 6', marker_color='red'))\n",
    "fig.add_trace(go.Bar(y = [acerto_66], text = round(acerto_66,2), name = 'Calibre 6', marker_color='blue'))\n",
    "\n",
    "fig.add_trace(go.Bar(y = [acerto_7], text = round(acerto_7,2), name = 'Calibre 7', marker_color='red'))\n",
    "fig.add_trace(go.Bar(y = [acerto_77], text = round(acerto_77,2), name = 'Calibre 7',marker_color='blue'))\n",
    "\n",
    "\n",
    "fig.add_trace(go.Bar(y = [acerto_8], text = round(acerto_8,2) ,name = 'Calibre 8',marker_color='red'))\n",
    "fig.add_trace(go.Bar(y = [acerto_88], text = round(acerto_88,2) ,name = 'Calibre 8', marker_color='blue'))\n",
    "\n",
    "fig.add_trace(go.Bar(y = [acerto_9], text = round(acerto_9,2) ,name = 'Calibre 9', marker_color='red'))\n",
    "fig.add_trace(go.Bar(y = [acerto_99], text = round(acerto_99,2) ,name = 'Calibre 9', marker_color='blue'))\n",
    "\n",
    "fig.add_trace(go.Bar(y = [acerto_10], text = round(acerto_10,2) ,name = 'Calibre 10', marker_color='red'))\n",
    "fig.add_trace(go.Bar(y = [acerto_1010], text = round(acerto_1010,2) ,name = 'Calibre 10', marker_color='blue'))\n",
    "\n",
    "fig.add_trace(go.Bar(y = [acerto_12], text = round(acerto_12,2) ,name = 'Calibre 12', marker_color='red'))\n",
    "fig.add_trace(go.Bar(y = [acerto_1212], text = round(acerto_1212,2) ,name = 'Calibre 12', marker_color='blue'))\n",
    "\n",
    "fig.add_trace(go.Bar(y = [acerto_14], text = round(acerto_14,2) ,name = 'Calibre 14', marker_color='red'))\n",
    "fig.add_trace(go.Bar(y = [acerto_1414], text = round(acerto_1414,2) ,name = 'Calibre 14', marker_color='blue'))\n",
    "\n",
    "\n",
    "fig.update_traces(marker_line_color = 'rgb(0,0,0)',marker_line_width = 1.5)\n",
    "fig.update_layout(height = 600, width = 1200)\n",
    "fig.update_xaxes(ticks=\"inside\")\n",
    "fig"
   ]
  },
  {
   "cell_type": "code",
   "execution_count": 407,
   "metadata": {},
   "outputs": [
    {
     "data": {
      "application/vnd.plotly.v1+json": {
       "config": {
        "plotlyServerURL": "https://plot.ly"
       },
       "data": [
        {
         "marker": {
          "line": {
           "color": "rgb(0,0,0)",
           "width": 1.5
          }
         },
         "name": "Calibre 4",
         "text": "100.0",
         "type": "bar",
         "y": [
          100
         ]
        },
        {
         "marker": {
          "line": {
           "color": "rgb(0,0,0)",
           "width": 1.5
          }
         },
         "name": "Calibre 5",
         "text": "85.71",
         "type": "bar",
         "y": [
          85.71428571428571
         ]
        },
        {
         "marker": {
          "line": {
           "color": "rgb(0,0,0)",
           "width": 1.5
          }
         },
         "name": "Calibre 6",
         "text": "51.43",
         "type": "bar",
         "y": [
          51.42857142857142
         ]
        },
        {
         "marker": {
          "line": {
           "color": "rgb(0,0,0)",
           "width": 1.5
          }
         },
         "name": "Calibre 7",
         "text": "54.29",
         "type": "bar",
         "y": [
          54.285714285714285
         ]
        },
        {
         "marker": {
          "line": {
           "color": "rgb(0,0,0)",
           "width": 1.5
          }
         },
         "name": "Calibre 8",
         "text": "57.14",
         "type": "bar",
         "y": [
          57.14285714285714
         ]
        },
        {
         "marker": {
          "line": {
           "color": "rgb(0,0,0)",
           "width": 1.5
          }
         },
         "name": "Calibre 9",
         "text": "91.43",
         "type": "bar",
         "y": [
          91.42857142857143
         ]
        },
        {
         "marker": {
          "line": {
           "color": "rgb(0,0,0)",
           "width": 1.5
          }
         },
         "name": "Calibre 10",
         "text": "71.43",
         "type": "bar",
         "y": [
          71.42857142857143
         ]
        },
        {
         "marker": {
          "line": {
           "color": "rgb(0,0,0)",
           "width": 1.5
          }
         },
         "name": "Calibre 12",
         "text": "94.29",
         "type": "bar",
         "y": [
          94.28571428571428
         ]
        },
        {
         "marker": {
          "line": {
           "color": "rgb(0,0,0)",
           "width": 1.5
          }
         },
         "name": "Calibre 14",
         "text": "100.0",
         "type": "bar",
         "y": [
          100
         ]
        }
       ],
       "layout": {
        "height": 500,
        "template": {
         "data": {
          "bar": [
           {
            "error_x": {
             "color": "#2a3f5f"
            },
            "error_y": {
             "color": "#2a3f5f"
            },
            "marker": {
             "line": {
              "color": "#E5ECF6",
              "width": 0.5
             },
             "pattern": {
              "fillmode": "overlay",
              "size": 10,
              "solidity": 0.2
             }
            },
            "type": "bar"
           }
          ],
          "barpolar": [
           {
            "marker": {
             "line": {
              "color": "#E5ECF6",
              "width": 0.5
             },
             "pattern": {
              "fillmode": "overlay",
              "size": 10,
              "solidity": 0.2
             }
            },
            "type": "barpolar"
           }
          ],
          "carpet": [
           {
            "aaxis": {
             "endlinecolor": "#2a3f5f",
             "gridcolor": "white",
             "linecolor": "white",
             "minorgridcolor": "white",
             "startlinecolor": "#2a3f5f"
            },
            "baxis": {
             "endlinecolor": "#2a3f5f",
             "gridcolor": "white",
             "linecolor": "white",
             "minorgridcolor": "white",
             "startlinecolor": "#2a3f5f"
            },
            "type": "carpet"
           }
          ],
          "choropleth": [
           {
            "colorbar": {
             "outlinewidth": 0,
             "ticks": ""
            },
            "type": "choropleth"
           }
          ],
          "contour": [
           {
            "colorbar": {
             "outlinewidth": 0,
             "ticks": ""
            },
            "colorscale": [
             [
              0,
              "#0d0887"
             ],
             [
              0.1111111111111111,
              "#46039f"
             ],
             [
              0.2222222222222222,
              "#7201a8"
             ],
             [
              0.3333333333333333,
              "#9c179e"
             ],
             [
              0.4444444444444444,
              "#bd3786"
             ],
             [
              0.5555555555555556,
              "#d8576b"
             ],
             [
              0.6666666666666666,
              "#ed7953"
             ],
             [
              0.7777777777777778,
              "#fb9f3a"
             ],
             [
              0.8888888888888888,
              "#fdca26"
             ],
             [
              1,
              "#f0f921"
             ]
            ],
            "type": "contour"
           }
          ],
          "contourcarpet": [
           {
            "colorbar": {
             "outlinewidth": 0,
             "ticks": ""
            },
            "type": "contourcarpet"
           }
          ],
          "heatmap": [
           {
            "colorbar": {
             "outlinewidth": 0,
             "ticks": ""
            },
            "colorscale": [
             [
              0,
              "#0d0887"
             ],
             [
              0.1111111111111111,
              "#46039f"
             ],
             [
              0.2222222222222222,
              "#7201a8"
             ],
             [
              0.3333333333333333,
              "#9c179e"
             ],
             [
              0.4444444444444444,
              "#bd3786"
             ],
             [
              0.5555555555555556,
              "#d8576b"
             ],
             [
              0.6666666666666666,
              "#ed7953"
             ],
             [
              0.7777777777777778,
              "#fb9f3a"
             ],
             [
              0.8888888888888888,
              "#fdca26"
             ],
             [
              1,
              "#f0f921"
             ]
            ],
            "type": "heatmap"
           }
          ],
          "heatmapgl": [
           {
            "colorbar": {
             "outlinewidth": 0,
             "ticks": ""
            },
            "colorscale": [
             [
              0,
              "#0d0887"
             ],
             [
              0.1111111111111111,
              "#46039f"
             ],
             [
              0.2222222222222222,
              "#7201a8"
             ],
             [
              0.3333333333333333,
              "#9c179e"
             ],
             [
              0.4444444444444444,
              "#bd3786"
             ],
             [
              0.5555555555555556,
              "#d8576b"
             ],
             [
              0.6666666666666666,
              "#ed7953"
             ],
             [
              0.7777777777777778,
              "#fb9f3a"
             ],
             [
              0.8888888888888888,
              "#fdca26"
             ],
             [
              1,
              "#f0f921"
             ]
            ],
            "type": "heatmapgl"
           }
          ],
          "histogram": [
           {
            "marker": {
             "pattern": {
              "fillmode": "overlay",
              "size": 10,
              "solidity": 0.2
             }
            },
            "type": "histogram"
           }
          ],
          "histogram2d": [
           {
            "colorbar": {
             "outlinewidth": 0,
             "ticks": ""
            },
            "colorscale": [
             [
              0,
              "#0d0887"
             ],
             [
              0.1111111111111111,
              "#46039f"
             ],
             [
              0.2222222222222222,
              "#7201a8"
             ],
             [
              0.3333333333333333,
              "#9c179e"
             ],
             [
              0.4444444444444444,
              "#bd3786"
             ],
             [
              0.5555555555555556,
              "#d8576b"
             ],
             [
              0.6666666666666666,
              "#ed7953"
             ],
             [
              0.7777777777777778,
              "#fb9f3a"
             ],
             [
              0.8888888888888888,
              "#fdca26"
             ],
             [
              1,
              "#f0f921"
             ]
            ],
            "type": "histogram2d"
           }
          ],
          "histogram2dcontour": [
           {
            "colorbar": {
             "outlinewidth": 0,
             "ticks": ""
            },
            "colorscale": [
             [
              0,
              "#0d0887"
             ],
             [
              0.1111111111111111,
              "#46039f"
             ],
             [
              0.2222222222222222,
              "#7201a8"
             ],
             [
              0.3333333333333333,
              "#9c179e"
             ],
             [
              0.4444444444444444,
              "#bd3786"
             ],
             [
              0.5555555555555556,
              "#d8576b"
             ],
             [
              0.6666666666666666,
              "#ed7953"
             ],
             [
              0.7777777777777778,
              "#fb9f3a"
             ],
             [
              0.8888888888888888,
              "#fdca26"
             ],
             [
              1,
              "#f0f921"
             ]
            ],
            "type": "histogram2dcontour"
           }
          ],
          "mesh3d": [
           {
            "colorbar": {
             "outlinewidth": 0,
             "ticks": ""
            },
            "type": "mesh3d"
           }
          ],
          "parcoords": [
           {
            "line": {
             "colorbar": {
              "outlinewidth": 0,
              "ticks": ""
             }
            },
            "type": "parcoords"
           }
          ],
          "pie": [
           {
            "automargin": true,
            "type": "pie"
           }
          ],
          "scatter": [
           {
            "marker": {
             "colorbar": {
              "outlinewidth": 0,
              "ticks": ""
             }
            },
            "type": "scatter"
           }
          ],
          "scatter3d": [
           {
            "line": {
             "colorbar": {
              "outlinewidth": 0,
              "ticks": ""
             }
            },
            "marker": {
             "colorbar": {
              "outlinewidth": 0,
              "ticks": ""
             }
            },
            "type": "scatter3d"
           }
          ],
          "scattercarpet": [
           {
            "marker": {
             "colorbar": {
              "outlinewidth": 0,
              "ticks": ""
             }
            },
            "type": "scattercarpet"
           }
          ],
          "scattergeo": [
           {
            "marker": {
             "colorbar": {
              "outlinewidth": 0,
              "ticks": ""
             }
            },
            "type": "scattergeo"
           }
          ],
          "scattergl": [
           {
            "marker": {
             "colorbar": {
              "outlinewidth": 0,
              "ticks": ""
             }
            },
            "type": "scattergl"
           }
          ],
          "scattermapbox": [
           {
            "marker": {
             "colorbar": {
              "outlinewidth": 0,
              "ticks": ""
             }
            },
            "type": "scattermapbox"
           }
          ],
          "scatterpolar": [
           {
            "marker": {
             "colorbar": {
              "outlinewidth": 0,
              "ticks": ""
             }
            },
            "type": "scatterpolar"
           }
          ],
          "scatterpolargl": [
           {
            "marker": {
             "colorbar": {
              "outlinewidth": 0,
              "ticks": ""
             }
            },
            "type": "scatterpolargl"
           }
          ],
          "scatterternary": [
           {
            "marker": {
             "colorbar": {
              "outlinewidth": 0,
              "ticks": ""
             }
            },
            "type": "scatterternary"
           }
          ],
          "surface": [
           {
            "colorbar": {
             "outlinewidth": 0,
             "ticks": ""
            },
            "colorscale": [
             [
              0,
              "#0d0887"
             ],
             [
              0.1111111111111111,
              "#46039f"
             ],
             [
              0.2222222222222222,
              "#7201a8"
             ],
             [
              0.3333333333333333,
              "#9c179e"
             ],
             [
              0.4444444444444444,
              "#bd3786"
             ],
             [
              0.5555555555555556,
              "#d8576b"
             ],
             [
              0.6666666666666666,
              "#ed7953"
             ],
             [
              0.7777777777777778,
              "#fb9f3a"
             ],
             [
              0.8888888888888888,
              "#fdca26"
             ],
             [
              1,
              "#f0f921"
             ]
            ],
            "type": "surface"
           }
          ],
          "table": [
           {
            "cells": {
             "fill": {
              "color": "#EBF0F8"
             },
             "line": {
              "color": "white"
             }
            },
            "header": {
             "fill": {
              "color": "#C8D4E3"
             },
             "line": {
              "color": "white"
             }
            },
            "type": "table"
           }
          ]
         },
         "layout": {
          "annotationdefaults": {
           "arrowcolor": "#2a3f5f",
           "arrowhead": 0,
           "arrowwidth": 1
          },
          "autotypenumbers": "strict",
          "coloraxis": {
           "colorbar": {
            "outlinewidth": 0,
            "ticks": ""
           }
          },
          "colorscale": {
           "diverging": [
            [
             0,
             "#8e0152"
            ],
            [
             0.1,
             "#c51b7d"
            ],
            [
             0.2,
             "#de77ae"
            ],
            [
             0.3,
             "#f1b6da"
            ],
            [
             0.4,
             "#fde0ef"
            ],
            [
             0.5,
             "#f7f7f7"
            ],
            [
             0.6,
             "#e6f5d0"
            ],
            [
             0.7,
             "#b8e186"
            ],
            [
             0.8,
             "#7fbc41"
            ],
            [
             0.9,
             "#4d9221"
            ],
            [
             1,
             "#276419"
            ]
           ],
           "sequential": [
            [
             0,
             "#0d0887"
            ],
            [
             0.1111111111111111,
             "#46039f"
            ],
            [
             0.2222222222222222,
             "#7201a8"
            ],
            [
             0.3333333333333333,
             "#9c179e"
            ],
            [
             0.4444444444444444,
             "#bd3786"
            ],
            [
             0.5555555555555556,
             "#d8576b"
            ],
            [
             0.6666666666666666,
             "#ed7953"
            ],
            [
             0.7777777777777778,
             "#fb9f3a"
            ],
            [
             0.8888888888888888,
             "#fdca26"
            ],
            [
             1,
             "#f0f921"
            ]
           ],
           "sequentialminus": [
            [
             0,
             "#0d0887"
            ],
            [
             0.1111111111111111,
             "#46039f"
            ],
            [
             0.2222222222222222,
             "#7201a8"
            ],
            [
             0.3333333333333333,
             "#9c179e"
            ],
            [
             0.4444444444444444,
             "#bd3786"
            ],
            [
             0.5555555555555556,
             "#d8576b"
            ],
            [
             0.6666666666666666,
             "#ed7953"
            ],
            [
             0.7777777777777778,
             "#fb9f3a"
            ],
            [
             0.8888888888888888,
             "#fdca26"
            ],
            [
             1,
             "#f0f921"
            ]
           ]
          },
          "colorway": [
           "#636efa",
           "#EF553B",
           "#00cc96",
           "#ab63fa",
           "#FFA15A",
           "#19d3f3",
           "#FF6692",
           "#B6E880",
           "#FF97FF",
           "#FECB52"
          ],
          "font": {
           "color": "#2a3f5f"
          },
          "geo": {
           "bgcolor": "white",
           "lakecolor": "white",
           "landcolor": "#E5ECF6",
           "showlakes": true,
           "showland": true,
           "subunitcolor": "white"
          },
          "hoverlabel": {
           "align": "left"
          },
          "hovermode": "closest",
          "mapbox": {
           "style": "light"
          },
          "paper_bgcolor": "white",
          "plot_bgcolor": "#E5ECF6",
          "polar": {
           "angularaxis": {
            "gridcolor": "white",
            "linecolor": "white",
            "ticks": ""
           },
           "bgcolor": "#E5ECF6",
           "radialaxis": {
            "gridcolor": "white",
            "linecolor": "white",
            "ticks": ""
           }
          },
          "scene": {
           "xaxis": {
            "backgroundcolor": "#E5ECF6",
            "gridcolor": "white",
            "gridwidth": 2,
            "linecolor": "white",
            "showbackground": true,
            "ticks": "",
            "zerolinecolor": "white"
           },
           "yaxis": {
            "backgroundcolor": "#E5ECF6",
            "gridcolor": "white",
            "gridwidth": 2,
            "linecolor": "white",
            "showbackground": true,
            "ticks": "",
            "zerolinecolor": "white"
           },
           "zaxis": {
            "backgroundcolor": "#E5ECF6",
            "gridcolor": "white",
            "gridwidth": 2,
            "linecolor": "white",
            "showbackground": true,
            "ticks": "",
            "zerolinecolor": "white"
           }
          },
          "shapedefaults": {
           "line": {
            "color": "#2a3f5f"
           }
          },
          "ternary": {
           "aaxis": {
            "gridcolor": "white",
            "linecolor": "white",
            "ticks": ""
           },
           "baxis": {
            "gridcolor": "white",
            "linecolor": "white",
            "ticks": ""
           },
           "bgcolor": "#E5ECF6",
           "caxis": {
            "gridcolor": "white",
            "linecolor": "white",
            "ticks": ""
           }
          },
          "title": {
           "x": 0.05
          },
          "xaxis": {
           "automargin": true,
           "gridcolor": "white",
           "linecolor": "white",
           "ticks": "",
           "title": {
            "standoff": 15
           },
           "zerolinecolor": "white",
           "zerolinewidth": 2
          },
          "yaxis": {
           "automargin": true,
           "gridcolor": "white",
           "linecolor": "white",
           "ticks": "",
           "title": {
            "standoff": 15
           },
           "zerolinecolor": "white",
           "zerolinewidth": 2
          }
         }
        },
        "width": 750
       }
      }
     },
     "metadata": {},
     "output_type": "display_data"
    }
   ],
   "source": [
    "calibres = ['4','5','6','7','8','9','10','12','14']\n",
    "\n",
    "fig = go.Figure()\n",
    "fig.add_trace(go.Bar(y = [acerto_4],text = round(acerto_4 ,2),name = 'Calibre 4'))\n",
    "fig.add_trace(go.Bar(y = [acerto_55], text = round(acerto_55,2),name = 'Calibre 5'))\n",
    "fig.add_trace(go.Bar(y = [acerto_66], text = round(acerto_66,2) ,name = 'Calibre 6'))\n",
    "fig.add_trace(go.Bar(y = [acerto_77], text = round(acerto_77,2) ,name = 'Calibre 7'))\n",
    "fig.add_trace(go.Bar(y = [acerto_88], text = round(acerto_88,2) ,name = 'Calibre 8'))\n",
    "fig.add_trace(go.Bar(y = [acerto_99], text = round(acerto_99,2) ,name = 'Calibre 9'))\n",
    "fig.add_trace(go.Bar(y = [acerto_1010], text = round(acerto_1010,2) ,name = 'Calibre 10'))\n",
    "fig.add_trace(go.Bar(y = [acerto_1212], text = round(acerto_1212,2) ,name = 'Calibre 12'))\n",
    "fig.add_trace(go.Bar(y = [acerto_1414], text = round(acerto_1414,2) ,name = 'Calibre 14'))\n",
    "fig.update_traces(marker_line_color = 'rgb(0,0,0)',marker_line_width = 1.5)\n",
    "fig.update_layout(height = 500, width = 750)\n",
    "fig"
   ]
  }
 ],
 "metadata": {
  "kernelspec": {
   "display_name": "Python 3.9.7 ('base')",
   "language": "python",
   "name": "python3"
  },
  "language_info": {
   "codemirror_mode": {
    "name": "ipython",
    "version": 3
   },
   "file_extension": ".py",
   "mimetype": "text/x-python",
   "name": "python",
   "nbconvert_exporter": "python",
   "pygments_lexer": "ipython3",
   "version": "3.9.7"
  },
  "orig_nbformat": 4,
  "vscode": {
   "interpreter": {
    "hash": "ad2bdc8ecc057115af97d19610ffacc2b4e99fae6737bb82f5d7fb13d2f2c186"
   }
  }
 },
 "nbformat": 4,
 "nbformat_minor": 2
}
